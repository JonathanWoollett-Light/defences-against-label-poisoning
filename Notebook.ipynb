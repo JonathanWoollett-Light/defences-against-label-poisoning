{
  "nbformat": 4,
  "nbformat_minor": 0,
  "metadata": {
    "accelerator": "GPU",
    "colab": {
      "name": "Notebook.ipynb",
      "provenance": [],
      "collapsed_sections": [
        "ayXOaYH8cO_7",
        "na1P0wSstgEC",
        "4EDKlsgEp-Qu",
        "hJNQWdZwstcZ"
      ],
      "toc_visible": true
    },
    "kernelspec": {
      "display_name": "Python 3",
      "name": "python3"
    }
  },
  "cells": [
    {
      "cell_type": "markdown",
      "metadata": {
        "id": "DU-1OZxAZvrv"
      },
      "source": [
        "With gpu acceleration a full run takes around 1 hour. You need not rerun this as the results are included.\r\n",
        "Link to hosted Google Colab in case of any trouble: https://colab.research.google.com/drive/1tTG1YImE60EBbeVhmLMeZG2W0gEef3Az?usp=sharing "
      ]
    },
    {
      "cell_type": "markdown",
      "metadata": {
        "id": "7VTVbkqIbVRG"
      },
      "source": [
        "## Imports"
      ]
    },
    {
      "cell_type": "code",
      "metadata": {
        "colab": {
          "base_uri": "https://localhost:8080/"
        },
        "id": "9Mt07y0Dj_iX",
        "outputId": "a9d43a49-0d7c-43d1-f13a-a483258f2493"
      },
      "source": [
        "% pip install -U plotly"
      ],
      "execution_count": null,
      "outputs": [
        {
          "output_type": "stream",
          "text": [
            "Collecting plotly\n",
            "\u001b[?25l  Downloading https://files.pythonhosted.org/packages/c9/09/315462259ab7b60a3d4b7159233ed700733c87d889755bdc00a9fb46d692/plotly-4.14.1-py2.py3-none-any.whl (13.2MB)\n",
            "\u001b[K     |████████████████████████████████| 13.2MB 255kB/s \n",
            "\u001b[?25hRequirement already satisfied, skipping upgrade: retrying>=1.3.3 in /usr/local/lib/python3.6/dist-packages (from plotly) (1.3.3)\n",
            "Requirement already satisfied, skipping upgrade: six in /usr/local/lib/python3.6/dist-packages (from plotly) (1.15.0)\n",
            "Installing collected packages: plotly\n",
            "  Found existing installation: plotly 4.4.1\n",
            "    Uninstalling plotly-4.4.1:\n",
            "      Successfully uninstalled plotly-4.4.1\n",
            "Successfully installed plotly-4.14.1\n"
          ],
          "name": "stdout"
        }
      ]
    },
    {
      "cell_type": "code",
      "metadata": {
        "id": "WoEIdyLPYqFf"
      },
      "source": [
        "import random\n",
        "import time\n",
        "\n",
        "import numpy as np\n",
        "import pandas as pd\n",
        "\n",
        "from tensorflow import keras\n",
        "from tensorflow.keras import layers\n",
        "\n",
        "import plotly.express as px\n",
        "import plotly.graph_objects as go\n",
        "from plotly.subplots import make_subplots\n",
        "\n",
        "import gc"
      ],
      "execution_count": null,
      "outputs": []
    },
    {
      "cell_type": "markdown",
      "metadata": {
        "id": "TwVWECRnpoeR"
      },
      "source": [
        "## Constants"
      ]
    },
    {
      "cell_type": "code",
      "metadata": {
        "id": "FJh4Cam5pnum"
      },
      "source": [
        "BATCH_SIZE = 128\n",
        "epochs = 10\n",
        "STEPS = 8\n",
        "MNIST_CLASSES = 10 # mnist, fashion_mnist, cifar10\n",
        "CIFAR100_CLASSES = 100"
      ],
      "execution_count": null,
      "outputs": []
    },
    {
      "cell_type": "markdown",
      "metadata": {
        "id": "8-IqyqNVZLV7"
      },
      "source": [
        "## Dataset setup"
      ]
    },
    {
      "cell_type": "markdown",
      "metadata": {
        "id": "xjMDIAWlbXDX"
      },
      "source": [
        "### Load datasets"
      ]
    },
    {
      "cell_type": "code",
      "metadata": {
        "id": "ICfS00NWbOXC",
        "colab": {
          "base_uri": "https://localhost:8080/"
        },
        "outputId": "2fb3503f-aae2-4a24-95e8-3ff5f940dde3"
      },
      "source": [
        "# Loads datasets\n",
        "mnist = keras.datasets.mnist.load_data()\n",
        "fashion_mnist = keras.datasets.fashion_mnist.load_data()\n",
        "cifar10 = keras.datasets.cifar10.load_data()\n",
        "cifar100 = keras.datasets.cifar100.load_data()\n",
        "\n",
        "# [x] = dataset, \n",
        "# [x][0] = train, [x][1] = test, \n",
        "# [x][n][0] = data, [x][n][1] = labels\n",
        "immutable_datasets = [mnist,fashion_mnist,cifar10,cifar100]\n",
        "\n",
        "datasets = [] # [(train, test)]\n",
        "for dataset in immutable_datasets:\n",
        "  datasets.append([\n",
        "    [dataset[0][0],dataset[0][1]],\n",
        "    [dataset[1][0],dataset[1][1]]\n",
        "  ])\n",
        "  \n",
        "namelist = [\"mnist\",\"fashion_mnist\",\"cifar10\",\"cifar100\"]"
      ],
      "execution_count": null,
      "outputs": [
        {
          "output_type": "stream",
          "text": [
            "Downloading data from https://storage.googleapis.com/tensorflow/tf-keras-datasets/mnist.npz\n",
            "11493376/11490434 [==============================] - 0s 0us/step\n",
            "Downloading data from https://storage.googleapis.com/tensorflow/tf-keras-datasets/train-labels-idx1-ubyte.gz\n",
            "32768/29515 [=================================] - 0s 0us/step\n",
            "Downloading data from https://storage.googleapis.com/tensorflow/tf-keras-datasets/train-images-idx3-ubyte.gz\n",
            "26427392/26421880 [==============================] - 0s 0us/step\n",
            "Downloading data from https://storage.googleapis.com/tensorflow/tf-keras-datasets/t10k-labels-idx1-ubyte.gz\n",
            "8192/5148 [===============================================] - 0s 0us/step\n",
            "Downloading data from https://storage.googleapis.com/tensorflow/tf-keras-datasets/t10k-images-idx3-ubyte.gz\n",
            "4423680/4422102 [==============================] - 0s 0us/step\n",
            "Downloading data from https://www.cs.toronto.edu/~kriz/cifar-10-python.tar.gz\n",
            "170500096/170498071 [==============================] - 4s 0us/step\n",
            "Downloading data from https://www.cs.toronto.edu/~kriz/cifar-100-python.tar.gz\n",
            "169009152/169001437 [==============================] - 4s 0us/step\n"
          ],
          "name": "stdout"
        }
      ]
    },
    {
      "cell_type": "markdown",
      "metadata": {
        "id": "Kt2jBYW5fHuv"
      },
      "source": [
        "### Format datasets"
      ]
    },
    {
      "cell_type": "code",
      "metadata": {
        "colab": {
          "base_uri": "https://localhost:8080/"
        },
        "id": "ZREdTZxTe83r",
        "outputId": "1f442f66-9983-49f5-c5e5-92a08f9be2cd"
      },
      "source": [
        "labels = [] # [(train labels, test labels)] (this prevents needing to use `np.argmax()` so much)\n",
        "\n",
        "# Formats datasets\n",
        "for i in range(4):\n",
        "  print(namelist[i]+\":\")\n",
        "\n",
        "  classes = MNIST_CLASSES\n",
        "  if i == 3:\n",
        "    classes = CIFAR100_CLASSES\n",
        "    \n",
        "  datasets[i][0][0] = datasets[i][0][0].astype(\"float32\") / 255\n",
        "  datasets[i][1][0] = datasets[i][1][0].astype(\"float32\") / 255\n",
        "\n",
        "  # Adding the unneeded color channel to conform with keras\n",
        "  # For MNIST: (60,000,28,28) -> (60,000,28,28,1) and (10,000,28,28) -> (10,000,28,28,1)\n",
        "  if i == 0 or i == 1:\n",
        "    datasets[i][0][0] = np.expand_dims(datasets[i][0][0], -1)\n",
        "    datasets[i][1][0] = np.expand_dims(datasets[i][1][0], -1)\n",
        "\n",
        "  # Check shapes\n",
        "  print(\"train data:\\t\", datasets[i][0][0].shape)\n",
        "  print(\"test data:\\t\", datasets[i][1][0].shape)\n",
        "\n",
        "  if (i==0 or i==1):\n",
        "    labels.append([datasets[i][0][1].copy(),datasets[i][1][1].copy()])\n",
        "  # For some dumb reason the cifar datasets include their labels as a list \n",
        "  #  of a single int (`[4]`) instead of a single int (4).\n",
        "  else: \n",
        "    labels.append([\n",
        "      np.array([label[0] for label in datasets[i][0][1]]),\n",
        "      np.array([label[0] for label in datasets[i][1][1]])\n",
        "    ])\n",
        "\n",
        "  # Checks shape of just added labels\n",
        "  print(\"labels:\\t\\t\",len(labels[-1]),labels[-1][0].shape,labels[-1][1].shape)\n",
        "\n",
        "  # One-hot encoding (e.g. (2,4) -> [0,0,1,0])\n",
        "  datasets[i][0][1] = keras.utils.to_categorical(datasets[i][0][1], classes)\n",
        "  datasets[i][1][1] = keras.utils.to_categorical(datasets[i][1][1], classes)\n",
        "\n",
        "  print(\"train labels:\\t\", datasets[i][0][1].shape)\n",
        "  print(\"test labels:\\t\", datasets[i][1][1].shape)\n",
        "  print()"
      ],
      "execution_count": null,
      "outputs": [
        {
          "output_type": "stream",
          "text": [
            "mnist:\n",
            "train data:\t (60000, 28, 28, 1)\n",
            "test data:\t (10000, 28, 28, 1)\n",
            "labels:\t\t 2 (60000,) (10000,)\n",
            "train labels:\t (60000, 10)\n",
            "test labels:\t (10000, 10)\n",
            "\n",
            "fashion_mnist:\n",
            "train data:\t (60000, 28, 28, 1)\n",
            "test data:\t (10000, 28, 28, 1)\n",
            "labels:\t\t 2 (60000,) (10000,)\n",
            "train labels:\t (60000, 10)\n",
            "test labels:\t (10000, 10)\n",
            "\n",
            "cifar10:\n",
            "train data:\t (50000, 32, 32, 3)\n",
            "test data:\t (10000, 32, 32, 3)\n",
            "labels:\t\t 2 (50000,) (10000,)\n",
            "train labels:\t (50000, 10)\n",
            "test labels:\t (10000, 10)\n",
            "\n",
            "cifar100:\n",
            "train data:\t (50000, 32, 32, 3)\n",
            "test data:\t (10000, 32, 32, 3)\n",
            "labels:\t\t 2 (50000,) (10000,)\n",
            "train labels:\t (50000, 100)\n",
            "test labels:\t (10000, 100)\n",
            "\n"
          ],
          "name": "stdout"
        }
      ]
    },
    {
      "cell_type": "markdown",
      "metadata": {
        "id": "ayXOaYH8cO_7"
      },
      "source": [
        "## Build models"
      ]
    },
    {
      "cell_type": "code",
      "metadata": {
        "id": "pmKqQX4rbgZM"
      },
      "source": [
        "mnist_conv_model = keras.Sequential([\n",
        "    keras.Input(shape=(28, 28, 1)),\n",
        "    layers.Conv2D(32, kernel_size=(3, 3), activation=\"relu\"),\n",
        "    layers.MaxPooling2D(pool_size=(2, 2)),\n",
        "    layers.Conv2D(64, kernel_size=(3, 3), activation=\"relu\"),\n",
        "    layers.MaxPooling2D(pool_size=(2, 2)),\n",
        "    layers.Flatten(),\n",
        "    layers.Dropout(0.5),\n",
        "    layers.Dense(MNIST_CLASSES, activation=\"softmax\"),\n",
        "])\n",
        "\n",
        "fashion_mnist_conv_model = keras.models.clone_model(mnist_conv_model)\n",
        "\n",
        "cifar10_conv_model = keras.Sequential([\n",
        "        keras.Input(shape=(32, 32, 3)),\n",
        "        layers.Conv2D(32, (3, 3), padding='same', activation='relu'),\n",
        "        layers.Dropout(0.2),\n",
        "\n",
        "        layers.Conv2D(32,(3,3),padding='same', activation='relu'),\n",
        "        layers.MaxPooling2D(pool_size=(2,2)),\n",
        "\n",
        "        layers.Conv2D(64,(3,3),padding='same',activation='relu'),\n",
        "        layers.Dropout(0.2),\n",
        "\n",
        "        layers.Conv2D(64,(3,3),padding='same',activation='relu'),\n",
        "        layers.MaxPooling2D(pool_size=(2,2)),\n",
        "\n",
        "        layers.Conv2D(128,(3,3),padding='same',activation='relu'),\n",
        "        layers.Dropout(0.2),\n",
        "\n",
        "        layers.Conv2D(128,(3,3),padding='same',activation='relu'),\n",
        "        layers.MaxPooling2D(pool_size=(2,2)),\n",
        "\n",
        "        layers.Flatten(),\n",
        "        layers.Dropout(0.2),\n",
        "        layers.Dense(1024,activation='relu'),\n",
        "        layers.Dropout(0.2),\n",
        "        layers.Dense(MNIST_CLASSES, activation='softmax')\n",
        "])\n",
        "\n",
        "cifar100_conv_model = keras.Sequential([\n",
        "        keras.Input(shape=(32, 32, 3)),\n",
        "        layers.Conv2D(32, (3, 3), padding='same', activation='relu'),\n",
        "        layers.Dropout(0.2),\n",
        "    \n",
        "        layers.Conv2D(32,(3,3),padding='same', activation='relu'),\n",
        "        layers.MaxPooling2D(pool_size=(2,2)),\n",
        "    \n",
        "        layers.Conv2D(64,(3,3),padding='same',activation='relu'),\n",
        "        layers.Dropout(0.2),\n",
        "    \n",
        "        layers.Conv2D(64,(3,3),padding='same',activation='relu'),\n",
        "        layers.MaxPooling2D(pool_size=(2,2)),\n",
        "    \n",
        "        layers.Conv2D(128,(3,3),padding='same',activation='relu'),\n",
        "        layers.Dropout(0.2),\n",
        "\n",
        "        layers.Conv2D(128,(3,3),padding='same',activation='relu'),\n",
        "        layers.MaxPooling2D(pool_size=(2,2)),\n",
        "    \n",
        "        layers.Flatten(),\n",
        "        layers.Dropout(0.2),\n",
        "        layers.Dense(1024,activation='relu'),\n",
        "        layers.Dropout(0.2),\n",
        "        layers.Dense(CIFAR100_CLASSES, activation='softmax')\n",
        "])\n",
        "\n",
        "conv_models = [\n",
        "  mnist_conv_model,\n",
        "  fashion_mnist_conv_model,\n",
        "  cifar10_conv_model,\n",
        "  cifar100_conv_model\n",
        "]"
      ],
      "execution_count": null,
      "outputs": []
    },
    {
      "cell_type": "code",
      "metadata": {
        "id": "DMD5eY5jp27G"
      },
      "source": [
        "mnist_dense_model = keras.Sequential([\n",
        "        keras.Input(shape=(28, 28, 1)),\n",
        "        layers.Flatten(),\n",
        "        layers.Dense(2500, activation=\"relu\"),\n",
        "        layers.Dropout(0.5),\n",
        "        layers.Dense(2000, activation=\"relu\"),\n",
        "        layers.Dropout(0.5),\n",
        "        layers.Dense(1500, activation=\"relu\"),\n",
        "        layers.Dropout(0.5),\n",
        "        layers.Dense(1000, activation=\"relu\"),\n",
        "        layers.Dropout(0.5),\n",
        "        layers.Dense(500, activation=\"relu\"),\n",
        "        layers.Dropout(0.5),\n",
        "        layers.Dense(MNIST_CLASSES, activation=\"softmax\"),\n",
        "])\n",
        "\n",
        "fashion_mnist_dense_model = keras.models.clone_model(mnist_dense_model)\n",
        "\n",
        "cifar10_dense_model = keras.Sequential([\n",
        "        keras.Input(shape=(32, 32, 3)),\n",
        "        layers.Flatten(),\n",
        "        layers.Dense(2500, activation=\"relu\"),\n",
        "        layers.Dropout(0.5),\n",
        "        layers.Dense(2000, activation=\"relu\"),\n",
        "        layers.Dropout(0.5),\n",
        "        layers.Dense(1500, activation=\"relu\"),\n",
        "        layers.Dropout(0.5),\n",
        "        layers.Dense(1000, activation=\"relu\"),\n",
        "        layers.Dropout(0.5),\n",
        "        layers.Dense(500, activation=\"relu\"),\n",
        "        layers.Dropout(0.5),\n",
        "        layers.Dense(MNIST_CLASSES, activation=\"softmax\"),\n",
        "])\n",
        "\n",
        "cifar100_dense_model = keras.Sequential([\n",
        "        keras.Input(shape=(32,32,3)),\n",
        "        layers.Flatten(),\n",
        "        layers.Dense(2500, activation=\"relu\"),\n",
        "        layers.Dropout(0.5),\n",
        "        layers.Dense(2000, activation=\"relu\"),\n",
        "        layers.Dropout(0.5),\n",
        "        layers.Dense(1500, activation=\"relu\"),\n",
        "        layers.Dropout(0.5),\n",
        "        layers.Dense(1000, activation=\"relu\"),\n",
        "        layers.Dropout(0.5),\n",
        "        layers.Dense(500, activation=\"relu\"),\n",
        "        layers.Dropout(0.5),\n",
        "        layers.Dense(CIFAR100_CLASSES, activation=\"softmax\"),\n",
        "])\n",
        "\n",
        "dense_models = [\n",
        "  mnist_dense_model, \n",
        "  fashion_mnist_dense_model, \n",
        "  cifar10_dense_model, \n",
        "  cifar100_dense_model\n",
        "]"
      ],
      "execution_count": null,
      "outputs": []
    },
    {
      "cell_type": "code",
      "metadata": {
        "id": "vIElvMXIKNnI"
      },
      "source": [
        "models = [conv_models,dense_models]"
      ],
      "execution_count": null,
      "outputs": []
    },
    {
      "cell_type": "markdown",
      "metadata": {
        "id": "na1P0wSstgEC"
      },
      "source": [
        "## Randomly wrong test labels"
      ]
    },
    {
      "cell_type": "code",
      "metadata": {
        "colab": {
          "base_uri": "https://localhost:8080/"
        },
        "id": "8n9VO829tXM8",
        "outputId": "780741ab-0a9e-4729-fa88-3702b48ff7e5"
      },
      "source": [
        "# Sets of test labels\n",
        "# wrong_labels =[[int],[int],[int],[int]]\n",
        "wrong_labels = [label_set[1].copy() for label_set in labels] \n",
        "\n",
        "# Double checking label sizes\n",
        "print(str(len(wrong_labels))+\":\",\n",
        "    wrong_labels[0].shape,wrong_labels[1].shape,\n",
        "    wrong_labels[2].shape,wrong_labels[3].shape\n",
        ")\n",
        "\n",
        "# For each dataset\n",
        "for i in range(len(wrong_labels)):\n",
        "  classes = datasets[i][1][1].shape[1]\n",
        "\n",
        "  # For each label\n",
        "  for j in range(len(wrong_labels[i])):\n",
        "\n",
        "    # Random pick a new label of the set of possible labels, excluding the correct label\n",
        "    wrong_labels[i][j] = random.choice([k for k in range(classes) if k!=wrong_labels[i][j]])\n",
        "\n",
        "# `wrong_labels` contains semi-random labels that are guranteed to be incorrect"
      ],
      "execution_count": null,
      "outputs": [
        {
          "output_type": "stream",
          "text": [
            "4: (10000,) (10000,) (10000,) (10000,)\n"
          ],
          "name": "stdout"
        }
      ]
    },
    {
      "cell_type": "markdown",
      "metadata": {
        "id": "J4F0Wvl2qE9S"
      },
      "source": [
        "## 0% Random (benchmark)"
      ]
    },
    {
      "cell_type": "code",
      "metadata": {
        "colab": {
          "base_uri": "https://localhost:8080/"
        },
        "id": "ujxyKMr4dpNi",
        "outputId": "76dd1948-fd45-41f6-fbe7-1ad6de6368a0"
      },
      "source": [
        "# Collects conv benchmarks\n",
        "conv_los_benchmarks = []\n",
        "conv_acc_benchmarks = []\n",
        "\n",
        "start = time.time()\n",
        "\n",
        "print(\"[\",end =\" \")\n",
        "# Compiles and fits each convolutional model the respective accurate dataset\n",
        "for (i,(conv_model,dataset)) in enumerate(zip(conv_models,datasets)):\n",
        "  # Compiles and fits convolutional model to accurate datasets\n",
        "  conv_model.compile(loss=\"categorical_crossentropy\", optimizer=\"adam\", metrics=[\"accuracy\"])\n",
        "  conv_model.fit(dataset[0][0], dataset[0][1], batch_size=BATCH_SIZE, epochs=epochs, verbose=0)\n",
        "  los, acc = conv_model.evaluate(dataset[1][0], dataset[1][1], verbose=0)\n",
        "  conv_los_benchmarks.append(los)\n",
        "  conv_acc_benchmarks.append(acc)\n",
        "  # Progress check\n",
        "  print(str(i+1)+\"/\"+str(len(datasets)),end=\" \")\n",
        "\n",
        "# Minutes taken\n",
        "print(\"] {:.2f}\".format((time.time() - start)/60)+\"m\")"
      ],
      "execution_count": null,
      "outputs": [
        {
          "output_type": "stream",
          "text": [
            "[ 1/4 2/4 3/4 4/4 ] 2.22m\n"
          ],
          "name": "stdout"
        }
      ]
    },
    {
      "cell_type": "code",
      "metadata": {
        "colab": {
          "base_uri": "https://localhost:8080/"
        },
        "id": "VwQwziXENOh_",
        "outputId": "07c34d8a-46ee-4c6a-fc97-7ad9e882fb87"
      },
      "source": [
        "# Collects dense benchmarks\n",
        "dense_los_benchmarks = []\n",
        "dense_acc_benchmarks = []\n",
        "\n",
        "start = time.time()\n",
        "\n",
        "print(\"[\",end =\" \")\n",
        "# Compiles and fits each dense model the respective accurate dataset\n",
        "for (i,(dense_model,dataset)) in enumerate(zip(dense_models,datasets)):\n",
        "  dense_model.compile(loss=\"categorical_crossentropy\", optimizer=\"adam\", metrics=[\"accuracy\"])\n",
        "  dense_model.fit(dataset[0][0], dataset[0][1], batch_size=BATCH_SIZE, epochs=epochs, verbose=0)\n",
        "  los, acc = dense_model.evaluate(dataset[1][0], dataset[1][1], verbose=0)\n",
        "  dense_los_benchmarks.append(los)\n",
        "  dense_acc_benchmarks.append(acc)\n",
        "  # Progress check\n",
        "  print(str(i+1)+\"/\"+str(len(datasets)),end=' ')\n",
        "\n",
        "# Minutes taken\n",
        "print(\"] {:.2f}\".format((time.time() - start)/60)+\"m\")"
      ],
      "execution_count": null,
      "outputs": [
        {
          "output_type": "stream",
          "text": [
            "[ 1/4 2/4 3/4 4/4 ] 1.66m\n"
          ],
          "name": "stdout"
        }
      ]
    },
    {
      "cell_type": "code",
      "metadata": {
        "colab": {
          "base_uri": "https://localhost:8080/"
        },
        "id": "UkJszB2KNOEb",
        "outputId": "faefb9e9-b689-4fb5-add4-cbd8fd787efb"
      },
      "source": [
        "los_benchmarks = np.array([conv_los_benchmarks,dense_los_benchmarks])\n",
        "acc_benchmarks = np.array([conv_acc_benchmarks,dense_acc_benchmarks])\n",
        "\n",
        "print(\"los_benchmarks shape:\",los_benchmarks.shape)\n",
        "print(\"acc_benchmarks shape:\",acc_benchmarks.shape)\n",
        "\n",
        "# np.set_printoptions(precision=3)\n",
        "# print(\"los_benchmarks:\\n\",los_benchmarks)\n",
        "# print(\"acc_benchmarks:\\n\",acc_benchmarks)"
      ],
      "execution_count": null,
      "outputs": [
        {
          "output_type": "stream",
          "text": [
            "los_benchmarks shape: (2, 4)\n",
            "acc_benchmarks shape: (2, 4)\n"
          ],
          "name": "stdout"
        }
      ]
    },
    {
      "cell_type": "code",
      "metadata": {
        "colab": {
          "base_uri": "https://localhost:8080/",
          "height": 617
        },
        "id": "AXSrj6xd_-bi",
        "outputId": "643ab88c-d897-4c99-b43b-ee9dc2b08d41"
      },
      "source": [
        "los_benchmarks = np.round(los_benchmarks, 3)\r\n",
        "acc_benchmarks = np.round(acc_benchmarks, 3)\r\n",
        "\r\n",
        "fig = go.Figure(data=[go.Table(\r\n",
        "    header=dict(values=['Dataset','Loss', 'Accuracy']),\r\n",
        "    cells=dict(values=[namelist,los_benchmarks[0], acc_benchmarks[0]])\r\n",
        ")])\r\n",
        "fig.update_layout(height=300, width=500, title_text=\"Conv benchmarks\")\r\n",
        "fig.show()\r\n",
        "\r\n",
        "fig = go.Figure(data=[go.Table(\r\n",
        "    header=dict(values=['Dataset','Loss','Accuracy']),\r\n",
        "    cells=dict(values=[namelist,los_benchmarks[1], acc_benchmarks[1]])\r\n",
        ")])\r\n",
        "fig.update_layout(height=300, width=500,title_text=\"Dense benchmarks\")\r\n",
        "fig.show()"
      ],
      "execution_count": null,
      "outputs": [
        {
          "output_type": "display_data",
          "data": {
            "text/html": [
              "<html>\n",
              "<head><meta charset=\"utf-8\" /></head>\n",
              "<body>\n",
              "    <div>            <script src=\"https://cdnjs.cloudflare.com/ajax/libs/mathjax/2.7.5/MathJax.js?config=TeX-AMS-MML_SVG\"></script><script type=\"text/javascript\">if (window.MathJax) {MathJax.Hub.Config({SVG: {font: \"STIX-Web\"}});}</script>                <script type=\"text/javascript\">window.PlotlyConfig = {MathJaxConfig: 'local'};</script>\n",
              "        <script src=\"https://cdn.plot.ly/plotly-latest.min.js\"></script>                <div id=\"2eb6e80b-b810-406f-b1be-a1df20409636\" class=\"plotly-graph-div\" style=\"height:300px; width:500px;\"></div>            <script type=\"text/javascript\">                                    window.PLOTLYENV=window.PLOTLYENV || {};                                    if (document.getElementById(\"2eb6e80b-b810-406f-b1be-a1df20409636\")) {                    Plotly.newPlot(                        \"2eb6e80b-b810-406f-b1be-a1df20409636\",                        [{\"cells\": {\"values\": [[\"mnist\", \"fashion_mnist\", \"cifar10\", \"cifar100\"], [0.028, 0.281, 0.656, 2.345], [0.99, 0.898, 0.783, 0.414]]}, \"header\": {\"values\": [\"Dataset\", \"Loss\", \"Accuracy\"]}, \"type\": \"table\"}],                        {\"height\": 300, \"template\": {\"data\": {\"bar\": [{\"error_x\": {\"color\": \"#2a3f5f\"}, \"error_y\": {\"color\": \"#2a3f5f\"}, \"marker\": {\"line\": {\"color\": \"#E5ECF6\", \"width\": 0.5}}, \"type\": \"bar\"}], \"barpolar\": [{\"marker\": {\"line\": {\"color\": \"#E5ECF6\", \"width\": 0.5}}, \"type\": \"barpolar\"}], \"carpet\": [{\"aaxis\": {\"endlinecolor\": \"#2a3f5f\", \"gridcolor\": \"white\", \"linecolor\": \"white\", \"minorgridcolor\": \"white\", \"startlinecolor\": \"#2a3f5f\"}, \"baxis\": {\"endlinecolor\": \"#2a3f5f\", \"gridcolor\": \"white\", \"linecolor\": \"white\", \"minorgridcolor\": \"white\", \"startlinecolor\": \"#2a3f5f\"}, \"type\": \"carpet\"}], \"choropleth\": [{\"colorbar\": {\"outlinewidth\": 0, \"ticks\": \"\"}, \"type\": \"choropleth\"}], \"contour\": [{\"colorbar\": {\"outlinewidth\": 0, \"ticks\": \"\"}, \"colorscale\": [[0.0, \"#0d0887\"], [0.1111111111111111, \"#46039f\"], [0.2222222222222222, \"#7201a8\"], [0.3333333333333333, \"#9c179e\"], [0.4444444444444444, \"#bd3786\"], [0.5555555555555556, \"#d8576b\"], [0.6666666666666666, \"#ed7953\"], [0.7777777777777778, \"#fb9f3a\"], [0.8888888888888888, \"#fdca26\"], [1.0, \"#f0f921\"]], \"type\": \"contour\"}], \"contourcarpet\": [{\"colorbar\": {\"outlinewidth\": 0, \"ticks\": \"\"}, \"type\": \"contourcarpet\"}], \"heatmap\": [{\"colorbar\": {\"outlinewidth\": 0, \"ticks\": \"\"}, \"colorscale\": [[0.0, \"#0d0887\"], [0.1111111111111111, \"#46039f\"], [0.2222222222222222, \"#7201a8\"], [0.3333333333333333, \"#9c179e\"], [0.4444444444444444, \"#bd3786\"], [0.5555555555555556, \"#d8576b\"], [0.6666666666666666, \"#ed7953\"], [0.7777777777777778, \"#fb9f3a\"], [0.8888888888888888, \"#fdca26\"], [1.0, \"#f0f921\"]], \"type\": \"heatmap\"}], \"heatmapgl\": [{\"colorbar\": {\"outlinewidth\": 0, \"ticks\": \"\"}, \"colorscale\": [[0.0, \"#0d0887\"], [0.1111111111111111, \"#46039f\"], [0.2222222222222222, \"#7201a8\"], [0.3333333333333333, \"#9c179e\"], [0.4444444444444444, \"#bd3786\"], [0.5555555555555556, \"#d8576b\"], [0.6666666666666666, \"#ed7953\"], [0.7777777777777778, \"#fb9f3a\"], [0.8888888888888888, \"#fdca26\"], [1.0, \"#f0f921\"]], \"type\": \"heatmapgl\"}], \"histogram\": [{\"marker\": {\"colorbar\": {\"outlinewidth\": 0, \"ticks\": \"\"}}, \"type\": \"histogram\"}], \"histogram2d\": [{\"colorbar\": {\"outlinewidth\": 0, \"ticks\": \"\"}, \"colorscale\": [[0.0, \"#0d0887\"], [0.1111111111111111, \"#46039f\"], [0.2222222222222222, \"#7201a8\"], [0.3333333333333333, \"#9c179e\"], [0.4444444444444444, \"#bd3786\"], [0.5555555555555556, \"#d8576b\"], [0.6666666666666666, \"#ed7953\"], [0.7777777777777778, \"#fb9f3a\"], [0.8888888888888888, \"#fdca26\"], [1.0, \"#f0f921\"]], \"type\": \"histogram2d\"}], \"histogram2dcontour\": [{\"colorbar\": {\"outlinewidth\": 0, \"ticks\": \"\"}, \"colorscale\": [[0.0, \"#0d0887\"], [0.1111111111111111, \"#46039f\"], [0.2222222222222222, \"#7201a8\"], [0.3333333333333333, \"#9c179e\"], [0.4444444444444444, \"#bd3786\"], [0.5555555555555556, \"#d8576b\"], [0.6666666666666666, \"#ed7953\"], [0.7777777777777778, \"#fb9f3a\"], [0.8888888888888888, \"#fdca26\"], [1.0, \"#f0f921\"]], \"type\": \"histogram2dcontour\"}], \"mesh3d\": [{\"colorbar\": {\"outlinewidth\": 0, \"ticks\": \"\"}, \"type\": \"mesh3d\"}], \"parcoords\": [{\"line\": {\"colorbar\": {\"outlinewidth\": 0, \"ticks\": \"\"}}, \"type\": \"parcoords\"}], \"pie\": [{\"automargin\": true, \"type\": \"pie\"}], \"scatter\": [{\"marker\": {\"colorbar\": {\"outlinewidth\": 0, \"ticks\": \"\"}}, \"type\": \"scatter\"}], \"scatter3d\": [{\"line\": {\"colorbar\": {\"outlinewidth\": 0, \"ticks\": \"\"}}, \"marker\": {\"colorbar\": {\"outlinewidth\": 0, \"ticks\": \"\"}}, \"type\": \"scatter3d\"}], \"scattercarpet\": [{\"marker\": {\"colorbar\": {\"outlinewidth\": 0, \"ticks\": \"\"}}, \"type\": \"scattercarpet\"}], \"scattergeo\": [{\"marker\": {\"colorbar\": {\"outlinewidth\": 0, \"ticks\": \"\"}}, \"type\": \"scattergeo\"}], \"scattergl\": [{\"marker\": {\"colorbar\": {\"outlinewidth\": 0, \"ticks\": \"\"}}, \"type\": \"scattergl\"}], \"scattermapbox\": [{\"marker\": {\"colorbar\": {\"outlinewidth\": 0, \"ticks\": \"\"}}, \"type\": \"scattermapbox\"}], \"scatterpolar\": [{\"marker\": {\"colorbar\": {\"outlinewidth\": 0, \"ticks\": \"\"}}, \"type\": \"scatterpolar\"}], \"scatterpolargl\": [{\"marker\": {\"colorbar\": {\"outlinewidth\": 0, \"ticks\": \"\"}}, \"type\": \"scatterpolargl\"}], \"scatterternary\": [{\"marker\": {\"colorbar\": {\"outlinewidth\": 0, \"ticks\": \"\"}}, \"type\": \"scatterternary\"}], \"surface\": [{\"colorbar\": {\"outlinewidth\": 0, \"ticks\": \"\"}, \"colorscale\": [[0.0, \"#0d0887\"], [0.1111111111111111, \"#46039f\"], [0.2222222222222222, \"#7201a8\"], [0.3333333333333333, \"#9c179e\"], [0.4444444444444444, \"#bd3786\"], [0.5555555555555556, \"#d8576b\"], [0.6666666666666666, \"#ed7953\"], [0.7777777777777778, \"#fb9f3a\"], [0.8888888888888888, \"#fdca26\"], [1.0, \"#f0f921\"]], \"type\": \"surface\"}], \"table\": [{\"cells\": {\"fill\": {\"color\": \"#EBF0F8\"}, \"line\": {\"color\": \"white\"}}, \"header\": {\"fill\": {\"color\": \"#C8D4E3\"}, \"line\": {\"color\": \"white\"}}, \"type\": \"table\"}]}, \"layout\": {\"annotationdefaults\": {\"arrowcolor\": \"#2a3f5f\", \"arrowhead\": 0, \"arrowwidth\": 1}, \"autotypenumbers\": \"strict\", \"coloraxis\": {\"colorbar\": {\"outlinewidth\": 0, \"ticks\": \"\"}}, \"colorscale\": {\"diverging\": [[0, \"#8e0152\"], [0.1, \"#c51b7d\"], [0.2, \"#de77ae\"], [0.3, \"#f1b6da\"], [0.4, \"#fde0ef\"], [0.5, \"#f7f7f7\"], [0.6, \"#e6f5d0\"], [0.7, \"#b8e186\"], [0.8, \"#7fbc41\"], [0.9, \"#4d9221\"], [1, \"#276419\"]], \"sequential\": [[0.0, \"#0d0887\"], [0.1111111111111111, \"#46039f\"], [0.2222222222222222, \"#7201a8\"], [0.3333333333333333, \"#9c179e\"], [0.4444444444444444, \"#bd3786\"], [0.5555555555555556, \"#d8576b\"], [0.6666666666666666, \"#ed7953\"], [0.7777777777777778, \"#fb9f3a\"], [0.8888888888888888, \"#fdca26\"], [1.0, \"#f0f921\"]], \"sequentialminus\": [[0.0, \"#0d0887\"], [0.1111111111111111, \"#46039f\"], [0.2222222222222222, \"#7201a8\"], [0.3333333333333333, \"#9c179e\"], [0.4444444444444444, \"#bd3786\"], [0.5555555555555556, \"#d8576b\"], [0.6666666666666666, \"#ed7953\"], [0.7777777777777778, \"#fb9f3a\"], [0.8888888888888888, \"#fdca26\"], [1.0, \"#f0f921\"]]}, \"colorway\": [\"#636efa\", \"#EF553B\", \"#00cc96\", \"#ab63fa\", \"#FFA15A\", \"#19d3f3\", \"#FF6692\", \"#B6E880\", \"#FF97FF\", \"#FECB52\"], \"font\": {\"color\": \"#2a3f5f\"}, \"geo\": {\"bgcolor\": \"white\", \"lakecolor\": \"white\", \"landcolor\": \"#E5ECF6\", \"showlakes\": true, \"showland\": true, \"subunitcolor\": \"white\"}, \"hoverlabel\": {\"align\": \"left\"}, \"hovermode\": \"closest\", \"mapbox\": {\"style\": \"light\"}, \"paper_bgcolor\": \"white\", \"plot_bgcolor\": \"#E5ECF6\", \"polar\": {\"angularaxis\": {\"gridcolor\": \"white\", \"linecolor\": \"white\", \"ticks\": \"\"}, \"bgcolor\": \"#E5ECF6\", \"radialaxis\": {\"gridcolor\": \"white\", \"linecolor\": \"white\", \"ticks\": \"\"}}, \"scene\": {\"xaxis\": {\"backgroundcolor\": \"#E5ECF6\", \"gridcolor\": \"white\", \"gridwidth\": 2, \"linecolor\": \"white\", \"showbackground\": true, \"ticks\": \"\", \"zerolinecolor\": \"white\"}, \"yaxis\": {\"backgroundcolor\": \"#E5ECF6\", \"gridcolor\": \"white\", \"gridwidth\": 2, \"linecolor\": \"white\", \"showbackground\": true, \"ticks\": \"\", \"zerolinecolor\": \"white\"}, \"zaxis\": {\"backgroundcolor\": \"#E5ECF6\", \"gridcolor\": \"white\", \"gridwidth\": 2, \"linecolor\": \"white\", \"showbackground\": true, \"ticks\": \"\", \"zerolinecolor\": \"white\"}}, \"shapedefaults\": {\"line\": {\"color\": \"#2a3f5f\"}}, \"ternary\": {\"aaxis\": {\"gridcolor\": \"white\", \"linecolor\": \"white\", \"ticks\": \"\"}, \"baxis\": {\"gridcolor\": \"white\", \"linecolor\": \"white\", \"ticks\": \"\"}, \"bgcolor\": \"#E5ECF6\", \"caxis\": {\"gridcolor\": \"white\", \"linecolor\": \"white\", \"ticks\": \"\"}}, \"title\": {\"x\": 0.05}, \"xaxis\": {\"automargin\": true, \"gridcolor\": \"white\", \"linecolor\": \"white\", \"ticks\": \"\", \"title\": {\"standoff\": 15}, \"zerolinecolor\": \"white\", \"zerolinewidth\": 2}, \"yaxis\": {\"automargin\": true, \"gridcolor\": \"white\", \"linecolor\": \"white\", \"ticks\": \"\", \"title\": {\"standoff\": 15}, \"zerolinecolor\": \"white\", \"zerolinewidth\": 2}}}, \"title\": {\"text\": \"Conv benchmarks\"}, \"width\": 500},                        {\"responsive\": true}                    ).then(function(){\n",
              "                            \n",
              "var gd = document.getElementById('2eb6e80b-b810-406f-b1be-a1df20409636');\n",
              "var x = new MutationObserver(function (mutations, observer) {{\n",
              "        var display = window.getComputedStyle(gd).display;\n",
              "        if (!display || display === 'none') {{\n",
              "            console.log([gd, 'removed!']);\n",
              "            Plotly.purge(gd);\n",
              "            observer.disconnect();\n",
              "        }}\n",
              "}});\n",
              "\n",
              "// Listen for the removal of the full notebook cells\n",
              "var notebookContainer = gd.closest('#notebook-container');\n",
              "if (notebookContainer) {{\n",
              "    x.observe(notebookContainer, {childList: true});\n",
              "}}\n",
              "\n",
              "// Listen for the clearing of the current output cell\n",
              "var outputEl = gd.closest('.output');\n",
              "if (outputEl) {{\n",
              "    x.observe(outputEl, {childList: true});\n",
              "}}\n",
              "\n",
              "                        })                };                            </script>        </div>\n",
              "</body>\n",
              "</html>"
            ]
          },
          "metadata": {
            "tags": []
          }
        },
        {
          "output_type": "display_data",
          "data": {
            "text/html": [
              "<html>\n",
              "<head><meta charset=\"utf-8\" /></head>\n",
              "<body>\n",
              "    <div>            <script src=\"https://cdnjs.cloudflare.com/ajax/libs/mathjax/2.7.5/MathJax.js?config=TeX-AMS-MML_SVG\"></script><script type=\"text/javascript\">if (window.MathJax) {MathJax.Hub.Config({SVG: {font: \"STIX-Web\"}});}</script>                <script type=\"text/javascript\">window.PlotlyConfig = {MathJaxConfig: 'local'};</script>\n",
              "        <script src=\"https://cdn.plot.ly/plotly-latest.min.js\"></script>                <div id=\"4faf354b-3446-448a-a9f0-470355f1bf47\" class=\"plotly-graph-div\" style=\"height:300px; width:500px;\"></div>            <script type=\"text/javascript\">                                    window.PLOTLYENV=window.PLOTLYENV || {};                                    if (document.getElementById(\"4faf354b-3446-448a-a9f0-470355f1bf47\")) {                    Plotly.newPlot(                        \"4faf354b-3446-448a-a9f0-470355f1bf47\",                        [{\"cells\": {\"values\": [[\"mnist\", \"fashion_mnist\", \"cifar10\", \"cifar100\"], [0.088, 0.373, 2.026, 4.441], [0.979, 0.872, 0.245, 0.026]]}, \"header\": {\"values\": [\"Dataset\", \"Loss\", \"Accuracy\"]}, \"type\": \"table\"}],                        {\"height\": 300, \"template\": {\"data\": {\"bar\": [{\"error_x\": {\"color\": \"#2a3f5f\"}, \"error_y\": {\"color\": \"#2a3f5f\"}, \"marker\": {\"line\": {\"color\": \"#E5ECF6\", \"width\": 0.5}}, \"type\": \"bar\"}], \"barpolar\": [{\"marker\": {\"line\": {\"color\": \"#E5ECF6\", \"width\": 0.5}}, \"type\": \"barpolar\"}], \"carpet\": [{\"aaxis\": {\"endlinecolor\": \"#2a3f5f\", \"gridcolor\": \"white\", \"linecolor\": \"white\", \"minorgridcolor\": \"white\", \"startlinecolor\": \"#2a3f5f\"}, \"baxis\": {\"endlinecolor\": \"#2a3f5f\", \"gridcolor\": \"white\", \"linecolor\": \"white\", \"minorgridcolor\": \"white\", \"startlinecolor\": \"#2a3f5f\"}, \"type\": \"carpet\"}], \"choropleth\": [{\"colorbar\": {\"outlinewidth\": 0, \"ticks\": \"\"}, \"type\": \"choropleth\"}], \"contour\": [{\"colorbar\": {\"outlinewidth\": 0, \"ticks\": \"\"}, \"colorscale\": [[0.0, \"#0d0887\"], [0.1111111111111111, \"#46039f\"], [0.2222222222222222, \"#7201a8\"], [0.3333333333333333, \"#9c179e\"], [0.4444444444444444, \"#bd3786\"], [0.5555555555555556, \"#d8576b\"], [0.6666666666666666, \"#ed7953\"], [0.7777777777777778, \"#fb9f3a\"], [0.8888888888888888, \"#fdca26\"], [1.0, \"#f0f921\"]], \"type\": \"contour\"}], \"contourcarpet\": [{\"colorbar\": {\"outlinewidth\": 0, \"ticks\": \"\"}, \"type\": \"contourcarpet\"}], \"heatmap\": [{\"colorbar\": {\"outlinewidth\": 0, \"ticks\": \"\"}, \"colorscale\": [[0.0, \"#0d0887\"], [0.1111111111111111, \"#46039f\"], [0.2222222222222222, \"#7201a8\"], [0.3333333333333333, \"#9c179e\"], [0.4444444444444444, \"#bd3786\"], [0.5555555555555556, \"#d8576b\"], [0.6666666666666666, \"#ed7953\"], [0.7777777777777778, \"#fb9f3a\"], [0.8888888888888888, \"#fdca26\"], [1.0, \"#f0f921\"]], \"type\": \"heatmap\"}], \"heatmapgl\": [{\"colorbar\": {\"outlinewidth\": 0, \"ticks\": \"\"}, \"colorscale\": [[0.0, \"#0d0887\"], [0.1111111111111111, \"#46039f\"], [0.2222222222222222, \"#7201a8\"], [0.3333333333333333, \"#9c179e\"], [0.4444444444444444, \"#bd3786\"], [0.5555555555555556, \"#d8576b\"], [0.6666666666666666, \"#ed7953\"], [0.7777777777777778, \"#fb9f3a\"], [0.8888888888888888, \"#fdca26\"], [1.0, \"#f0f921\"]], \"type\": \"heatmapgl\"}], \"histogram\": [{\"marker\": {\"colorbar\": {\"outlinewidth\": 0, \"ticks\": \"\"}}, \"type\": \"histogram\"}], \"histogram2d\": [{\"colorbar\": {\"outlinewidth\": 0, \"ticks\": \"\"}, \"colorscale\": [[0.0, \"#0d0887\"], [0.1111111111111111, \"#46039f\"], [0.2222222222222222, \"#7201a8\"], [0.3333333333333333, \"#9c179e\"], [0.4444444444444444, \"#bd3786\"], [0.5555555555555556, \"#d8576b\"], [0.6666666666666666, \"#ed7953\"], [0.7777777777777778, \"#fb9f3a\"], [0.8888888888888888, \"#fdca26\"], [1.0, \"#f0f921\"]], \"type\": \"histogram2d\"}], \"histogram2dcontour\": [{\"colorbar\": {\"outlinewidth\": 0, \"ticks\": \"\"}, \"colorscale\": [[0.0, \"#0d0887\"], [0.1111111111111111, \"#46039f\"], [0.2222222222222222, \"#7201a8\"], [0.3333333333333333, \"#9c179e\"], [0.4444444444444444, \"#bd3786\"], [0.5555555555555556, \"#d8576b\"], [0.6666666666666666, \"#ed7953\"], [0.7777777777777778, \"#fb9f3a\"], [0.8888888888888888, \"#fdca26\"], [1.0, \"#f0f921\"]], \"type\": \"histogram2dcontour\"}], \"mesh3d\": [{\"colorbar\": {\"outlinewidth\": 0, \"ticks\": \"\"}, \"type\": \"mesh3d\"}], \"parcoords\": [{\"line\": {\"colorbar\": {\"outlinewidth\": 0, \"ticks\": \"\"}}, \"type\": \"parcoords\"}], \"pie\": [{\"automargin\": true, \"type\": \"pie\"}], \"scatter\": [{\"marker\": {\"colorbar\": {\"outlinewidth\": 0, \"ticks\": \"\"}}, \"type\": \"scatter\"}], \"scatter3d\": [{\"line\": {\"colorbar\": {\"outlinewidth\": 0, \"ticks\": \"\"}}, \"marker\": {\"colorbar\": {\"outlinewidth\": 0, \"ticks\": \"\"}}, \"type\": \"scatter3d\"}], \"scattercarpet\": [{\"marker\": {\"colorbar\": {\"outlinewidth\": 0, \"ticks\": \"\"}}, \"type\": \"scattercarpet\"}], \"scattergeo\": [{\"marker\": {\"colorbar\": {\"outlinewidth\": 0, \"ticks\": \"\"}}, \"type\": \"scattergeo\"}], \"scattergl\": [{\"marker\": {\"colorbar\": {\"outlinewidth\": 0, \"ticks\": \"\"}}, \"type\": \"scattergl\"}], \"scattermapbox\": [{\"marker\": {\"colorbar\": {\"outlinewidth\": 0, \"ticks\": \"\"}}, \"type\": \"scattermapbox\"}], \"scatterpolar\": [{\"marker\": {\"colorbar\": {\"outlinewidth\": 0, \"ticks\": \"\"}}, \"type\": \"scatterpolar\"}], \"scatterpolargl\": [{\"marker\": {\"colorbar\": {\"outlinewidth\": 0, \"ticks\": \"\"}}, \"type\": \"scatterpolargl\"}], \"scatterternary\": [{\"marker\": {\"colorbar\": {\"outlinewidth\": 0, \"ticks\": \"\"}}, \"type\": \"scatterternary\"}], \"surface\": [{\"colorbar\": {\"outlinewidth\": 0, \"ticks\": \"\"}, \"colorscale\": [[0.0, \"#0d0887\"], [0.1111111111111111, \"#46039f\"], [0.2222222222222222, \"#7201a8\"], [0.3333333333333333, \"#9c179e\"], [0.4444444444444444, \"#bd3786\"], [0.5555555555555556, \"#d8576b\"], [0.6666666666666666, \"#ed7953\"], [0.7777777777777778, \"#fb9f3a\"], [0.8888888888888888, \"#fdca26\"], [1.0, \"#f0f921\"]], \"type\": \"surface\"}], \"table\": [{\"cells\": {\"fill\": {\"color\": \"#EBF0F8\"}, \"line\": {\"color\": \"white\"}}, \"header\": {\"fill\": {\"color\": \"#C8D4E3\"}, \"line\": {\"color\": \"white\"}}, \"type\": \"table\"}]}, \"layout\": {\"annotationdefaults\": {\"arrowcolor\": \"#2a3f5f\", \"arrowhead\": 0, \"arrowwidth\": 1}, \"autotypenumbers\": \"strict\", \"coloraxis\": {\"colorbar\": {\"outlinewidth\": 0, \"ticks\": \"\"}}, \"colorscale\": {\"diverging\": [[0, \"#8e0152\"], [0.1, \"#c51b7d\"], [0.2, \"#de77ae\"], [0.3, \"#f1b6da\"], [0.4, \"#fde0ef\"], [0.5, \"#f7f7f7\"], [0.6, \"#e6f5d0\"], [0.7, \"#b8e186\"], [0.8, \"#7fbc41\"], [0.9, \"#4d9221\"], [1, \"#276419\"]], \"sequential\": [[0.0, \"#0d0887\"], [0.1111111111111111, \"#46039f\"], [0.2222222222222222, \"#7201a8\"], [0.3333333333333333, \"#9c179e\"], [0.4444444444444444, \"#bd3786\"], [0.5555555555555556, \"#d8576b\"], [0.6666666666666666, \"#ed7953\"], [0.7777777777777778, \"#fb9f3a\"], [0.8888888888888888, \"#fdca26\"], [1.0, \"#f0f921\"]], \"sequentialminus\": [[0.0, \"#0d0887\"], [0.1111111111111111, \"#46039f\"], [0.2222222222222222, \"#7201a8\"], [0.3333333333333333, \"#9c179e\"], [0.4444444444444444, \"#bd3786\"], [0.5555555555555556, \"#d8576b\"], [0.6666666666666666, \"#ed7953\"], [0.7777777777777778, \"#fb9f3a\"], [0.8888888888888888, \"#fdca26\"], [1.0, \"#f0f921\"]]}, \"colorway\": [\"#636efa\", \"#EF553B\", \"#00cc96\", \"#ab63fa\", \"#FFA15A\", \"#19d3f3\", \"#FF6692\", \"#B6E880\", \"#FF97FF\", \"#FECB52\"], \"font\": {\"color\": \"#2a3f5f\"}, \"geo\": {\"bgcolor\": \"white\", \"lakecolor\": \"white\", \"landcolor\": \"#E5ECF6\", \"showlakes\": true, \"showland\": true, \"subunitcolor\": \"white\"}, \"hoverlabel\": {\"align\": \"left\"}, \"hovermode\": \"closest\", \"mapbox\": {\"style\": \"light\"}, \"paper_bgcolor\": \"white\", \"plot_bgcolor\": \"#E5ECF6\", \"polar\": {\"angularaxis\": {\"gridcolor\": \"white\", \"linecolor\": \"white\", \"ticks\": \"\"}, \"bgcolor\": \"#E5ECF6\", \"radialaxis\": {\"gridcolor\": \"white\", \"linecolor\": \"white\", \"ticks\": \"\"}}, \"scene\": {\"xaxis\": {\"backgroundcolor\": \"#E5ECF6\", \"gridcolor\": \"white\", \"gridwidth\": 2, \"linecolor\": \"white\", \"showbackground\": true, \"ticks\": \"\", \"zerolinecolor\": \"white\"}, \"yaxis\": {\"backgroundcolor\": \"#E5ECF6\", \"gridcolor\": \"white\", \"gridwidth\": 2, \"linecolor\": \"white\", \"showbackground\": true, \"ticks\": \"\", \"zerolinecolor\": \"white\"}, \"zaxis\": {\"backgroundcolor\": \"#E5ECF6\", \"gridcolor\": \"white\", \"gridwidth\": 2, \"linecolor\": \"white\", \"showbackground\": true, \"ticks\": \"\", \"zerolinecolor\": \"white\"}}, \"shapedefaults\": {\"line\": {\"color\": \"#2a3f5f\"}}, \"ternary\": {\"aaxis\": {\"gridcolor\": \"white\", \"linecolor\": \"white\", \"ticks\": \"\"}, \"baxis\": {\"gridcolor\": \"white\", \"linecolor\": \"white\", \"ticks\": \"\"}, \"bgcolor\": \"#E5ECF6\", \"caxis\": {\"gridcolor\": \"white\", \"linecolor\": \"white\", \"ticks\": \"\"}}, \"title\": {\"x\": 0.05}, \"xaxis\": {\"automargin\": true, \"gridcolor\": \"white\", \"linecolor\": \"white\", \"ticks\": \"\", \"title\": {\"standoff\": 15}, \"zerolinecolor\": \"white\", \"zerolinewidth\": 2}, \"yaxis\": {\"automargin\": true, \"gridcolor\": \"white\", \"linecolor\": \"white\", \"ticks\": \"\", \"title\": {\"standoff\": 15}, \"zerolinecolor\": \"white\", \"zerolinewidth\": 2}}}, \"title\": {\"text\": \"Dense benchmarks\"}, \"width\": 500},                        {\"responsive\": true}                    ).then(function(){\n",
              "                            \n",
              "var gd = document.getElementById('4faf354b-3446-448a-a9f0-470355f1bf47');\n",
              "var x = new MutationObserver(function (mutations, observer) {{\n",
              "        var display = window.getComputedStyle(gd).display;\n",
              "        if (!display || display === 'none') {{\n",
              "            console.log([gd, 'removed!']);\n",
              "            Plotly.purge(gd);\n",
              "            observer.disconnect();\n",
              "        }}\n",
              "}});\n",
              "\n",
              "// Listen for the removal of the full notebook cells\n",
              "var notebookContainer = gd.closest('#notebook-container');\n",
              "if (notebookContainer) {{\n",
              "    x.observe(notebookContainer, {childList: true});\n",
              "}}\n",
              "\n",
              "// Listen for the clearing of the current output cell\n",
              "var outputEl = gd.closest('.output');\n",
              "if (outputEl) {{\n",
              "    x.observe(outputEl, {childList: true});\n",
              "}}\n",
              "\n",
              "                        })                };                            </script>        </div>\n",
              "</body>\n",
              "</html>"
            ]
          },
          "metadata": {
            "tags": []
          }
        }
      ]
    },
    {
      "cell_type": "markdown",
      "metadata": {
        "id": "4EDKlsgEp-Qu"
      },
      "source": [
        "## Randomly wrong labelled training data"
      ]
    },
    {
      "cell_type": "markdown",
      "metadata": {
        "id": "bVvgkXl9EY3T"
      },
      "source": [
        "*   Conv nets are very resilient to random data.\n",
        "*   Dense nets are very susceptible to random data.\n",
        "\n",
        "My best guess for the reason is that the more rigid structure of conv nets leads them to focus their learniing on spatial patterns, while dense nets can learn more sparse abstract patterns.\n",
        "\n",
        "In this circumstance the rigidity of the conv net prevents it learning any strong spatial patterns in the randomly labelled data. This minimises the affect randomly labelled data can have.\n",
        "\n",
        "While the dense nets ability to recognize more abstract patterns between seemingly spatially disconnected points unfortuantely allows it a larger degree of freedom to discover and learn patterns in the randomly labelled data."
      ]
    },
    {
      "cell_type": "code",
      "metadata": {
        "colab": {
          "base_uri": "https://localhost:8080/"
        },
        "id": "e6v8FCO5p93S",
        "outputId": "7170523f-d394-49f7-f65e-cca7d8fa67af"
      },
      "source": [
        "gc.collect()\n",
        "\n",
        "conv_loss = [[] for i in conv_models]\n",
        "conv_accuracy = [[] for i in conv_models]\n",
        "\n",
        "rs = []\n",
        "outer_start = time.time()\n",
        "\n",
        "for step in range(STEPS):\n",
        "  r = step * 1 / STEPS\n",
        "  rs.append(r)\n",
        "  start = time.time()\n",
        "  print(\"[\",end =\" \")\n",
        "  # for (model_indx,(conv_model,dense_model,dataset)) in enumerate(zip(conv_models,dense_models,datasets)):\n",
        "  for (model_indx,(conv_model,dataset)) in enumerate(zip(conv_models,datasets)):\n",
        "    # Set dataset\n",
        "    random_training_labels = dataset[0][1].copy()\n",
        "\n",
        "    # Randomise labels\n",
        "    classes = dataset[0][1].shape[1]\n",
        "    number = int(r*len(random_training_labels))\n",
        "    for i in random.sample(range(0, len(random_training_labels)), number):\n",
        "      random_training_labels[i] = [0 for j in range(classes)]\n",
        "      random_training_labels[i][random.randint(0, classes-1)] = 1\n",
        "\n",
        "    # Fit conv model\n",
        "    conv_model.compile(loss=\"categorical_crossentropy\", optimizer=\"adam\", metrics=[\"accuracy\"])\n",
        "    conv_model.fit(dataset[0][0], random_training_labels, batch_size=BATCH_SIZE, epochs=epochs, verbose=0)\n",
        "\n",
        "    # Get evaluations\n",
        "    conv_los, conv_acc = conv_model.evaluate(dataset[1][0], dataset[1][1], verbose=0)\n",
        "\n",
        "    # Append evaluations\n",
        "    conv_loss[model_indx].append(conv_los)\n",
        "    conv_accuracy[model_indx].append(conv_acc)\n",
        "\n",
        "    # Progress check\n",
        "    print(str(model_indx+1)+\"/\"+str(len(datasets)),end =\" \")\n",
        "  # Model minutes\n",
        "  print(\"]\",str(step+1)+\"/\"+str(STEPS),\"{:.2f}\".format((time.time() - start)/60)+\"m\")\n",
        "\n",
        "print()\n",
        "# Total minutes\n",
        "print(\"{:.2f}\".format((time.time() - outer_start) / 60)+\"m\")"
      ],
      "execution_count": null,
      "outputs": [
        {
          "output_type": "stream",
          "text": [
            "[ 1/4 2/4 3/4 4/4 ] 1/8 2.10m\n",
            "[ 1/4 2/4 3/4 4/4 ] 2/8 2.11m\n",
            "[ 1/4 2/4 3/4 4/4 ] 3/8 2.12m\n",
            "[ 1/4 2/4 3/4 4/4 ] 4/8 2.11m\n",
            "[ 1/4 2/4 3/4 4/4 ] 5/8 2.11m\n",
            "[ 1/4 2/4 3/4 4/4 ] 6/8 2.13m\n",
            "[ 1/4 2/4 3/4 4/4 ] 7/8 2.10m\n",
            "[ 1/4 2/4 3/4 4/4 ] 8/8 2.08m\n",
            "\n",
            "16.86m\n"
          ],
          "name": "stdout"
        }
      ]
    },
    {
      "cell_type": "code",
      "metadata": {
        "id": "hAy8iHlNKz4x",
        "colab": {
          "base_uri": "https://localhost:8080/",
          "height": 417
        },
        "outputId": "a8f1b02b-22cf-45fa-c24d-86d924c29134"
      },
      "source": [
        "conv_accuracy_df = pd.DataFrame(data=conv_accuracy,index=namelist,columns=rs)\r\n",
        "# print(conv_loss_df.T)\r\n",
        "fig = px.line(conv_accuracy_df.T,labels={\"value\":\"Accuracy\",\"index\":\"Randomness\",\"variable\":\"Dataset\"})\r\n",
        "fig.update_layout(height=400, width=800, title_text=\"Accuracy Vs Randomness\")\r\n",
        "fig.show()"
      ],
      "execution_count": null,
      "outputs": [
        {
          "output_type": "display_data",
          "data": {
            "text/html": [
              "<html>\n",
              "<head><meta charset=\"utf-8\" /></head>\n",
              "<body>\n",
              "    <div>            <script src=\"https://cdnjs.cloudflare.com/ajax/libs/mathjax/2.7.5/MathJax.js?config=TeX-AMS-MML_SVG\"></script><script type=\"text/javascript\">if (window.MathJax) {MathJax.Hub.Config({SVG: {font: \"STIX-Web\"}});}</script>                <script type=\"text/javascript\">window.PlotlyConfig = {MathJaxConfig: 'local'};</script>\n",
              "        <script src=\"https://cdn.plot.ly/plotly-latest.min.js\"></script>                <div id=\"9771dd99-f199-4cad-8195-4bc209376660\" class=\"plotly-graph-div\" style=\"height:400px; width:800px;\"></div>            <script type=\"text/javascript\">                                    window.PLOTLYENV=window.PLOTLYENV || {};                                    if (document.getElementById(\"9771dd99-f199-4cad-8195-4bc209376660\")) {                    Plotly.newPlot(                        \"9771dd99-f199-4cad-8195-4bc209376660\",                        [{\"hovertemplate\": \"Dataset=mnist<br>Randomness=%{x}<br>Accuracy=%{y}<extra></extra>\", \"legendgroup\": \"mnist\", \"line\": {\"color\": \"#636efa\", \"dash\": \"solid\"}, \"mode\": \"lines\", \"name\": \"mnist\", \"orientation\": \"v\", \"showlegend\": true, \"type\": \"scatter\", \"x\": [0.0, 0.125, 0.25, 0.375, 0.5, 0.625, 0.75, 0.875], \"xaxis\": \"x\", \"y\": [0.9912999868392944, 0.9894000291824341, 0.9894999861717224, 0.9883999824523926, 0.9858999848365784, 0.9846000075340271, 0.980400025844574, 0.954200029373169], \"yaxis\": \"y\"}, {\"hovertemplate\": \"Dataset=fashion_mnist<br>Randomness=%{x}<br>Accuracy=%{y}<extra></extra>\", \"legendgroup\": \"fashion_mnist\", \"line\": {\"color\": \"#EF553B\", \"dash\": \"solid\"}, \"mode\": \"lines\", \"name\": \"fashion_mnist\", \"orientation\": \"v\", \"showlegend\": true, \"type\": \"scatter\", \"x\": [0.0, 0.125, 0.25, 0.375, 0.5, 0.625, 0.75, 0.875], \"xaxis\": \"x\", \"y\": [0.9050999879837036, 0.9052000045776367, 0.9025999903678894, 0.8996000289916992, 0.8910999894142151, 0.8884000182151794, 0.8740000128746033, 0.8458999991416931], \"yaxis\": \"y\"}, {\"hovertemplate\": \"Dataset=cifar10<br>Randomness=%{x}<br>Accuracy=%{y}<extra></extra>\", \"legendgroup\": \"cifar10\", \"line\": {\"color\": \"#00cc96\", \"dash\": \"solid\"}, \"mode\": \"lines\", \"name\": \"cifar10\", \"orientation\": \"v\", \"showlegend\": true, \"type\": \"scatter\", \"x\": [0.0, 0.125, 0.25, 0.375, 0.5, 0.625, 0.75, 0.875], \"xaxis\": \"x\", \"y\": [0.7949000000953674, 0.7524999976158142, 0.7269999980926514, 0.7026000022888184, 0.6590999960899353, 0.6179999709129333, 0.5644000172615051, 0.5260999798774719], \"yaxis\": \"y\"}, {\"hovertemplate\": \"Dataset=cifar100<br>Randomness=%{x}<br>Accuracy=%{y}<extra></extra>\", \"legendgroup\": \"cifar100\", \"line\": {\"color\": \"#ab63fa\", \"dash\": \"solid\"}, \"mode\": \"lines\", \"name\": \"cifar100\", \"orientation\": \"v\", \"showlegend\": true, \"type\": \"scatter\", \"x\": [0.0, 0.125, 0.25, 0.375, 0.5, 0.625, 0.75, 0.875], \"xaxis\": \"x\", \"y\": [0.42309999465942383, 0.375900000333786, 0.3465000092983246, 0.30709999799728394, 0.2770000100135803, 0.2362000048160553, 0.2021999955177307, 0.009999999776482582], \"yaxis\": \"y\"}],                        {\"height\": 400, \"legend\": {\"title\": {\"text\": \"Dataset\"}, \"tracegroupgap\": 0}, \"margin\": {\"t\": 60}, \"template\": {\"data\": {\"bar\": [{\"error_x\": {\"color\": \"#2a3f5f\"}, \"error_y\": {\"color\": \"#2a3f5f\"}, \"marker\": {\"line\": {\"color\": \"#E5ECF6\", \"width\": 0.5}}, \"type\": \"bar\"}], \"barpolar\": [{\"marker\": {\"line\": {\"color\": \"#E5ECF6\", \"width\": 0.5}}, \"type\": \"barpolar\"}], \"carpet\": [{\"aaxis\": {\"endlinecolor\": \"#2a3f5f\", \"gridcolor\": \"white\", \"linecolor\": \"white\", \"minorgridcolor\": \"white\", \"startlinecolor\": \"#2a3f5f\"}, \"baxis\": {\"endlinecolor\": \"#2a3f5f\", \"gridcolor\": \"white\", \"linecolor\": \"white\", \"minorgridcolor\": \"white\", \"startlinecolor\": \"#2a3f5f\"}, \"type\": \"carpet\"}], \"choropleth\": [{\"colorbar\": {\"outlinewidth\": 0, \"ticks\": \"\"}, \"type\": \"choropleth\"}], \"contour\": [{\"colorbar\": {\"outlinewidth\": 0, \"ticks\": \"\"}, \"colorscale\": [[0.0, \"#0d0887\"], [0.1111111111111111, \"#46039f\"], [0.2222222222222222, \"#7201a8\"], [0.3333333333333333, \"#9c179e\"], [0.4444444444444444, \"#bd3786\"], [0.5555555555555556, \"#d8576b\"], [0.6666666666666666, \"#ed7953\"], [0.7777777777777778, \"#fb9f3a\"], [0.8888888888888888, \"#fdca26\"], [1.0, \"#f0f921\"]], \"type\": \"contour\"}], \"contourcarpet\": [{\"colorbar\": {\"outlinewidth\": 0, \"ticks\": \"\"}, \"type\": \"contourcarpet\"}], \"heatmap\": [{\"colorbar\": {\"outlinewidth\": 0, \"ticks\": \"\"}, \"colorscale\": [[0.0, \"#0d0887\"], [0.1111111111111111, \"#46039f\"], [0.2222222222222222, \"#7201a8\"], [0.3333333333333333, \"#9c179e\"], [0.4444444444444444, \"#bd3786\"], [0.5555555555555556, \"#d8576b\"], [0.6666666666666666, \"#ed7953\"], [0.7777777777777778, \"#fb9f3a\"], [0.8888888888888888, \"#fdca26\"], [1.0, \"#f0f921\"]], \"type\": \"heatmap\"}], \"heatmapgl\": [{\"colorbar\": {\"outlinewidth\": 0, \"ticks\": \"\"}, \"colorscale\": [[0.0, \"#0d0887\"], [0.1111111111111111, \"#46039f\"], [0.2222222222222222, \"#7201a8\"], [0.3333333333333333, \"#9c179e\"], [0.4444444444444444, \"#bd3786\"], [0.5555555555555556, \"#d8576b\"], [0.6666666666666666, \"#ed7953\"], [0.7777777777777778, \"#fb9f3a\"], [0.8888888888888888, \"#fdca26\"], [1.0, \"#f0f921\"]], \"type\": \"heatmapgl\"}], \"histogram\": [{\"marker\": {\"colorbar\": {\"outlinewidth\": 0, \"ticks\": \"\"}}, \"type\": \"histogram\"}], \"histogram2d\": [{\"colorbar\": {\"outlinewidth\": 0, \"ticks\": \"\"}, \"colorscale\": [[0.0, \"#0d0887\"], [0.1111111111111111, \"#46039f\"], [0.2222222222222222, \"#7201a8\"], [0.3333333333333333, \"#9c179e\"], [0.4444444444444444, \"#bd3786\"], [0.5555555555555556, \"#d8576b\"], [0.6666666666666666, \"#ed7953\"], [0.7777777777777778, \"#fb9f3a\"], [0.8888888888888888, \"#fdca26\"], [1.0, \"#f0f921\"]], \"type\": \"histogram2d\"}], \"histogram2dcontour\": [{\"colorbar\": {\"outlinewidth\": 0, \"ticks\": \"\"}, \"colorscale\": [[0.0, \"#0d0887\"], [0.1111111111111111, \"#46039f\"], [0.2222222222222222, \"#7201a8\"], [0.3333333333333333, \"#9c179e\"], [0.4444444444444444, \"#bd3786\"], [0.5555555555555556, \"#d8576b\"], [0.6666666666666666, \"#ed7953\"], [0.7777777777777778, \"#fb9f3a\"], [0.8888888888888888, \"#fdca26\"], [1.0, \"#f0f921\"]], \"type\": \"histogram2dcontour\"}], \"mesh3d\": [{\"colorbar\": {\"outlinewidth\": 0, \"ticks\": \"\"}, \"type\": \"mesh3d\"}], \"parcoords\": [{\"line\": {\"colorbar\": {\"outlinewidth\": 0, \"ticks\": \"\"}}, \"type\": \"parcoords\"}], \"pie\": [{\"automargin\": true, \"type\": \"pie\"}], \"scatter\": [{\"marker\": {\"colorbar\": {\"outlinewidth\": 0, \"ticks\": \"\"}}, \"type\": \"scatter\"}], \"scatter3d\": [{\"line\": {\"colorbar\": {\"outlinewidth\": 0, \"ticks\": \"\"}}, \"marker\": {\"colorbar\": {\"outlinewidth\": 0, \"ticks\": \"\"}}, \"type\": \"scatter3d\"}], \"scattercarpet\": [{\"marker\": {\"colorbar\": {\"outlinewidth\": 0, \"ticks\": \"\"}}, \"type\": \"scattercarpet\"}], \"scattergeo\": [{\"marker\": {\"colorbar\": {\"outlinewidth\": 0, \"ticks\": \"\"}}, \"type\": \"scattergeo\"}], \"scattergl\": [{\"marker\": {\"colorbar\": {\"outlinewidth\": 0, \"ticks\": \"\"}}, \"type\": \"scattergl\"}], \"scattermapbox\": [{\"marker\": {\"colorbar\": {\"outlinewidth\": 0, \"ticks\": \"\"}}, \"type\": \"scattermapbox\"}], \"scatterpolar\": [{\"marker\": {\"colorbar\": {\"outlinewidth\": 0, \"ticks\": \"\"}}, \"type\": \"scatterpolar\"}], \"scatterpolargl\": [{\"marker\": {\"colorbar\": {\"outlinewidth\": 0, \"ticks\": \"\"}}, \"type\": \"scatterpolargl\"}], \"scatterternary\": [{\"marker\": {\"colorbar\": {\"outlinewidth\": 0, \"ticks\": \"\"}}, \"type\": \"scatterternary\"}], \"surface\": [{\"colorbar\": {\"outlinewidth\": 0, \"ticks\": \"\"}, \"colorscale\": [[0.0, \"#0d0887\"], [0.1111111111111111, \"#46039f\"], [0.2222222222222222, \"#7201a8\"], [0.3333333333333333, \"#9c179e\"], [0.4444444444444444, \"#bd3786\"], [0.5555555555555556, \"#d8576b\"], [0.6666666666666666, \"#ed7953\"], [0.7777777777777778, \"#fb9f3a\"], [0.8888888888888888, \"#fdca26\"], [1.0, \"#f0f921\"]], \"type\": \"surface\"}], \"table\": [{\"cells\": {\"fill\": {\"color\": \"#EBF0F8\"}, \"line\": {\"color\": \"white\"}}, \"header\": {\"fill\": {\"color\": \"#C8D4E3\"}, \"line\": {\"color\": \"white\"}}, \"type\": \"table\"}]}, \"layout\": {\"annotationdefaults\": {\"arrowcolor\": \"#2a3f5f\", \"arrowhead\": 0, \"arrowwidth\": 1}, \"autotypenumbers\": \"strict\", \"coloraxis\": {\"colorbar\": {\"outlinewidth\": 0, \"ticks\": \"\"}}, \"colorscale\": {\"diverging\": [[0, \"#8e0152\"], [0.1, \"#c51b7d\"], [0.2, \"#de77ae\"], [0.3, \"#f1b6da\"], [0.4, \"#fde0ef\"], [0.5, \"#f7f7f7\"], [0.6, \"#e6f5d0\"], [0.7, \"#b8e186\"], [0.8, \"#7fbc41\"], [0.9, \"#4d9221\"], [1, \"#276419\"]], \"sequential\": [[0.0, \"#0d0887\"], [0.1111111111111111, \"#46039f\"], [0.2222222222222222, \"#7201a8\"], [0.3333333333333333, \"#9c179e\"], [0.4444444444444444, \"#bd3786\"], [0.5555555555555556, \"#d8576b\"], [0.6666666666666666, \"#ed7953\"], [0.7777777777777778, \"#fb9f3a\"], [0.8888888888888888, \"#fdca26\"], [1.0, \"#f0f921\"]], \"sequentialminus\": [[0.0, \"#0d0887\"], [0.1111111111111111, \"#46039f\"], [0.2222222222222222, \"#7201a8\"], [0.3333333333333333, \"#9c179e\"], [0.4444444444444444, \"#bd3786\"], [0.5555555555555556, \"#d8576b\"], [0.6666666666666666, \"#ed7953\"], [0.7777777777777778, \"#fb9f3a\"], [0.8888888888888888, \"#fdca26\"], [1.0, \"#f0f921\"]]}, \"colorway\": [\"#636efa\", \"#EF553B\", \"#00cc96\", \"#ab63fa\", \"#FFA15A\", \"#19d3f3\", \"#FF6692\", \"#B6E880\", \"#FF97FF\", \"#FECB52\"], \"font\": {\"color\": \"#2a3f5f\"}, \"geo\": {\"bgcolor\": \"white\", \"lakecolor\": \"white\", \"landcolor\": \"#E5ECF6\", \"showlakes\": true, \"showland\": true, \"subunitcolor\": \"white\"}, \"hoverlabel\": {\"align\": \"left\"}, \"hovermode\": \"closest\", \"mapbox\": {\"style\": \"light\"}, \"paper_bgcolor\": \"white\", \"plot_bgcolor\": \"#E5ECF6\", \"polar\": {\"angularaxis\": {\"gridcolor\": \"white\", \"linecolor\": \"white\", \"ticks\": \"\"}, \"bgcolor\": \"#E5ECF6\", \"radialaxis\": {\"gridcolor\": \"white\", \"linecolor\": \"white\", \"ticks\": \"\"}}, \"scene\": {\"xaxis\": {\"backgroundcolor\": \"#E5ECF6\", \"gridcolor\": \"white\", \"gridwidth\": 2, \"linecolor\": \"white\", \"showbackground\": true, \"ticks\": \"\", \"zerolinecolor\": \"white\"}, \"yaxis\": {\"backgroundcolor\": \"#E5ECF6\", \"gridcolor\": \"white\", \"gridwidth\": 2, \"linecolor\": \"white\", \"showbackground\": true, \"ticks\": \"\", \"zerolinecolor\": \"white\"}, \"zaxis\": {\"backgroundcolor\": \"#E5ECF6\", \"gridcolor\": \"white\", \"gridwidth\": 2, \"linecolor\": \"white\", \"showbackground\": true, \"ticks\": \"\", \"zerolinecolor\": \"white\"}}, \"shapedefaults\": {\"line\": {\"color\": \"#2a3f5f\"}}, \"ternary\": {\"aaxis\": {\"gridcolor\": \"white\", \"linecolor\": \"white\", \"ticks\": \"\"}, \"baxis\": {\"gridcolor\": \"white\", \"linecolor\": \"white\", \"ticks\": \"\"}, \"bgcolor\": \"#E5ECF6\", \"caxis\": {\"gridcolor\": \"white\", \"linecolor\": \"white\", \"ticks\": \"\"}}, \"title\": {\"x\": 0.05}, \"xaxis\": {\"automargin\": true, \"gridcolor\": \"white\", \"linecolor\": \"white\", \"ticks\": \"\", \"title\": {\"standoff\": 15}, \"zerolinecolor\": \"white\", \"zerolinewidth\": 2}, \"yaxis\": {\"automargin\": true, \"gridcolor\": \"white\", \"linecolor\": \"white\", \"ticks\": \"\", \"title\": {\"standoff\": 15}, \"zerolinecolor\": \"white\", \"zerolinewidth\": 2}}}, \"title\": {\"text\": \"Accuracy Vs Randomness\"}, \"width\": 800, \"xaxis\": {\"anchor\": \"y\", \"domain\": [0.0, 1.0], \"title\": {\"text\": \"Randomness\"}}, \"yaxis\": {\"anchor\": \"x\", \"domain\": [0.0, 1.0], \"title\": {\"text\": \"Accuracy\"}}},                        {\"responsive\": true}                    ).then(function(){\n",
              "                            \n",
              "var gd = document.getElementById('9771dd99-f199-4cad-8195-4bc209376660');\n",
              "var x = new MutationObserver(function (mutations, observer) {{\n",
              "        var display = window.getComputedStyle(gd).display;\n",
              "        if (!display || display === 'none') {{\n",
              "            console.log([gd, 'removed!']);\n",
              "            Plotly.purge(gd);\n",
              "            observer.disconnect();\n",
              "        }}\n",
              "}});\n",
              "\n",
              "// Listen for the removal of the full notebook cells\n",
              "var notebookContainer = gd.closest('#notebook-container');\n",
              "if (notebookContainer) {{\n",
              "    x.observe(notebookContainer, {childList: true});\n",
              "}}\n",
              "\n",
              "// Listen for the clearing of the current output cell\n",
              "var outputEl = gd.closest('.output');\n",
              "if (outputEl) {{\n",
              "    x.observe(outputEl, {childList: true});\n",
              "}}\n",
              "\n",
              "                        })                };                            </script>        </div>\n",
              "</body>\n",
              "</html>"
            ]
          },
          "metadata": {
            "tags": []
          }
        }
      ]
    },
    {
      "cell_type": "markdown",
      "metadata": {
        "id": "ueCUdCS8wD-Q"
      },
      "source": [
        "## Checking by difference"
      ]
    },
    {
      "cell_type": "markdown",
      "metadata": {
        "id": "_k07YFKstiVu"
      },
      "source": [
        "### Difference curve\r\n",
        "\r\n",
        "In difference checking, we care far more about differences ~0 rather than differences ~1, as such we want a large number more samples near 0 than near 1. Here `d_curve(step)=differnece`, in the lower range of steps `d_curve(step)` are closely grouped, while has `step` increases the range between values increases, until eventually hitting 1 at `STEPS`."
      ]
    },
    {
      "cell_type": "code",
      "metadata": {
        "id": "DXz04DPv87Je"
      },
      "source": [
        "# Difference checking steps do not involve fiting models are as such are much cheaper\r\n",
        "DC_STEPS = 100*STEPS"
      ],
      "execution_count": null,
      "outputs": []
    },
    {
      "cell_type": "code",
      "metadata": {
        "id": "FstqGPxHqnaM"
      },
      "source": [
        "b = 5 # Steepness of the curve, higher=more small samples\n",
        "a = (1/pow(DC_STEPS,b)) # Multiplier to ensure `d_curve(STEPS)==1`\n",
        "def d_curve(step):\n",
        "  global a,b\n",
        "  return a*pow(step,b)"
      ],
      "execution_count": null,
      "outputs": []
    },
    {
      "cell_type": "code",
      "metadata": {
        "colab": {
          "base_uri": "https://localhost:8080/"
        },
        "id": "iR1aZcIH7GA2",
        "outputId": "95d654ca-1af2-4978-909d-af6904f36b87"
      },
      "source": [
        "x = np.arange(DC_STEPS)\r\n",
        "fig = go.Figure(data=go.Scatter(x=x, y=d_curve(x)))\r\n",
        "fig.update_layout(height=400, width=800, title_text=\"Difference at each step\")\r\n",
        "fig.show()"
      ],
      "execution_count": null,
      "outputs": [
        {
          "output_type": "display_data",
          "data": {
            "text/html": [
              "<html>\n",
              "<head><meta charset=\"utf-8\" /></head>\n",
              "<body>\n",
              "    <div>            <script src=\"https://cdnjs.cloudflare.com/ajax/libs/mathjax/2.7.5/MathJax.js?config=TeX-AMS-MML_SVG\"></script><script type=\"text/javascript\">if (window.MathJax) {MathJax.Hub.Config({SVG: {font: \"STIX-Web\"}});}</script>                <script type=\"text/javascript\">window.PlotlyConfig = {MathJaxConfig: 'local'};</script>\n",
              "        <script src=\"https://cdn.plot.ly/plotly-latest.min.js\"></script>                <div id=\"037e974b-f80d-442b-a500-781f97ad12ec\" class=\"plotly-graph-div\" style=\"height:400px; width:800px;\"></div>            <script type=\"text/javascript\">                                    window.PLOTLYENV=window.PLOTLYENV || {};                                    if (document.getElementById(\"037e974b-f80d-442b-a500-781f97ad12ec\")) {                    Plotly.newPlot(                        \"037e974b-f80d-442b-a500-781f97ad12ec\",                        [{\"type\": \"scatter\", \"x\": [0, 1, 2, 3, 4, 5, 6, 7, 8, 9, 10, 11, 12, 13, 14, 15, 16, 17, 18, 19, 20, 21, 22, 23, 24, 25, 26, 27, 28, 29, 30, 31, 32, 33, 34, 35, 36, 37, 38, 39, 40, 41, 42, 43, 44, 45, 46, 47, 48, 49, 50, 51, 52, 53, 54, 55, 56, 57, 58, 59, 60, 61, 62, 63, 64, 65, 66, 67, 68, 69, 70, 71, 72, 73, 74, 75, 76, 77, 78, 79, 80, 81, 82, 83, 84, 85, 86, 87, 88, 89, 90, 91, 92, 93, 94, 95, 96, 97, 98, 99, 100, 101, 102, 103, 104, 105, 106, 107, 108, 109, 110, 111, 112, 113, 114, 115, 116, 117, 118, 119, 120, 121, 122, 123, 124, 125, 126, 127, 128, 129, 130, 131, 132, 133, 134, 135, 136, 137, 138, 139, 140, 141, 142, 143, 144, 145, 146, 147, 148, 149, 150, 151, 152, 153, 154, 155, 156, 157, 158, 159, 160, 161, 162, 163, 164, 165, 166, 167, 168, 169, 170, 171, 172, 173, 174, 175, 176, 177, 178, 179, 180, 181, 182, 183, 184, 185, 186, 187, 188, 189, 190, 191, 192, 193, 194, 195, 196, 197, 198, 199, 200, 201, 202, 203, 204, 205, 206, 207, 208, 209, 210, 211, 212, 213, 214, 215, 216, 217, 218, 219, 220, 221, 222, 223, 224, 225, 226, 227, 228, 229, 230, 231, 232, 233, 234, 235, 236, 237, 238, 239, 240, 241, 242, 243, 244, 245, 246, 247, 248, 249, 250, 251, 252, 253, 254, 255, 256, 257, 258, 259, 260, 261, 262, 263, 264, 265, 266, 267, 268, 269, 270, 271, 272, 273, 274, 275, 276, 277, 278, 279, 280, 281, 282, 283, 284, 285, 286, 287, 288, 289, 290, 291, 292, 293, 294, 295, 296, 297, 298, 299, 300, 301, 302, 303, 304, 305, 306, 307, 308, 309, 310, 311, 312, 313, 314, 315, 316, 317, 318, 319, 320, 321, 322, 323, 324, 325, 326, 327, 328, 329, 330, 331, 332, 333, 334, 335, 336, 337, 338, 339, 340, 341, 342, 343, 344, 345, 346, 347, 348, 349, 350, 351, 352, 353, 354, 355, 356, 357, 358, 359, 360, 361, 362, 363, 364, 365, 366, 367, 368, 369, 370, 371, 372, 373, 374, 375, 376, 377, 378, 379, 380, 381, 382, 383, 384, 385, 386, 387, 388, 389, 390, 391, 392, 393, 394, 395, 396, 397, 398, 399, 400, 401, 402, 403, 404, 405, 406, 407, 408, 409, 410, 411, 412, 413, 414, 415, 416, 417, 418, 419, 420, 421, 422, 423, 424, 425, 426, 427, 428, 429, 430, 431, 432, 433, 434, 435, 436, 437, 438, 439, 440, 441, 442, 443, 444, 445, 446, 447, 448, 449, 450, 451, 452, 453, 454, 455, 456, 457, 458, 459, 460, 461, 462, 463, 464, 465, 466, 467, 468, 469, 470, 471, 472, 473, 474, 475, 476, 477, 478, 479, 480, 481, 482, 483, 484, 485, 486, 487, 488, 489, 490, 491, 492, 493, 494, 495, 496, 497, 498, 499, 500, 501, 502, 503, 504, 505, 506, 507, 508, 509, 510, 511, 512, 513, 514, 515, 516, 517, 518, 519, 520, 521, 522, 523, 524, 525, 526, 527, 528, 529, 530, 531, 532, 533, 534, 535, 536, 537, 538, 539, 540, 541, 542, 543, 544, 545, 546, 547, 548, 549, 550, 551, 552, 553, 554, 555, 556, 557, 558, 559, 560, 561, 562, 563, 564, 565, 566, 567, 568, 569, 570, 571, 572, 573, 574, 575, 576, 577, 578, 579, 580, 581, 582, 583, 584, 585, 586, 587, 588, 589, 590, 591, 592, 593, 594, 595, 596, 597, 598, 599, 600, 601, 602, 603, 604, 605, 606, 607, 608, 609, 610, 611, 612, 613, 614, 615, 616, 617, 618, 619, 620, 621, 622, 623, 624, 625, 626, 627, 628, 629, 630, 631, 632, 633, 634, 635, 636, 637, 638, 639, 640, 641, 642, 643, 644, 645, 646, 647, 648, 649, 650, 651, 652, 653, 654, 655, 656, 657, 658, 659, 660, 661, 662, 663, 664, 665, 666, 667, 668, 669, 670, 671, 672, 673, 674, 675, 676, 677, 678, 679, 680, 681, 682, 683, 684, 685, 686, 687, 688, 689, 690, 691, 692, 693, 694, 695, 696, 697, 698, 699, 700, 701, 702, 703, 704, 705, 706, 707, 708, 709, 710, 711, 712, 713, 714, 715, 716, 717, 718, 719, 720, 721, 722, 723, 724, 725, 726, 727, 728, 729, 730, 731, 732, 733, 734, 735, 736, 737, 738, 739, 740, 741, 742, 743, 744, 745, 746, 747, 748, 749, 750, 751, 752, 753, 754, 755, 756, 757, 758, 759, 760, 761, 762, 763, 764, 765, 766, 767, 768, 769, 770, 771, 772, 773, 774, 775, 776, 777, 778, 779, 780, 781, 782, 783, 784, 785, 786, 787, 788, 789, 790, 791, 792, 793, 794, 795, 796, 797, 798, 799], \"y\": [0.0, 3.0517578125e-15, 9.765625e-14, 7.415771484375001e-13, 3.125e-12, 9.5367431640625e-12, 2.3730468750000002e-11, 5.12908935546875e-11, 1e-10, 1.802032470703125e-10, 3.0517578125e-10, 4.914886474609375e-10, 7.593750000000001e-10, 1.1330963134765626e-09, 1.64130859375e-09, 2.3174285888671878e-09, 3.2e-09, 4.333059692382813e-09, 5.76650390625e-09, 7.556454467773438e-09, 9.765625e-09, 1.2463687133789064e-08, 1.572763671875e-08, 1.9642160034179688e-08, 2.4300000000000003e-08, 2.9802322387695312e-08, 3.6259082031250004e-08, 4.378938903808594e-08, 5.2521875e-08, 6.259505920410156e-08, 7.415771484375001e-08, 8.73692352294922e-08, 1.024e-07, 1.1943174133300782e-07, 1.3865791015625e-07, 1.6028404235839843e-07, 1.84528125e-07, 2.1162096252441407e-07, 2.4180654296875e-07, 2.753424041748047e-07, 3.125e-07, 3.5356506652832034e-07, 3.9883798828125003e-07, 4.4863416442871093e-07, 5.03284375e-07, 5.631351470947266e-07, 6.2854912109375e-07, 6.999054168701173e-07, 7.776000000000001e-07, 8.620460479736328e-07, 9.5367431640625e-07, 1.0529335052490235e-06, 1.1602906250000001e-06, 1.2762313629150391e-06, 1.40126044921875e-06, 1.5359020233154298e-06, 1.6807e-06, 1.8362184356689453e-06, 2.00304189453125e-06, 2.181775814819336e-06, 2.3730468750000003e-06, 2.5775033599853516e-06, 2.79581552734375e-06, 3.028675973510742e-06, 3.2768e-06, 3.540925979614258e-06, 3.82181572265625e-06, 4.120254843139649e-06, 4.437053125e-06, 4.773044888305665e-06, 5.12908935546875e-06, 5.506071017456055e-06, 5.9049e-06, 6.326512429809571e-06, 6.77187080078125e-06, 7.241964340209961e-06, 7.737809375e-06, 8.260449697875977e-06, 8.81095693359375e-06, 9.390430905151367e-06, 1e-05, 1.0640821536254882e-05, 1.1314082128906251e-05, 1.2020998056030274e-05, 1.2762815625000001e-05, 1.354081153869629e-05, 1.435629326171875e-05, 1.521059938659668e-05, 1.61051e-05, 1.7041197048950197e-05, 1.8020324707031252e-05, 1.9043949740600587e-05, 2.0113571875e-05, 2.12307241607666e-05, 2.2396973339843752e-05, 2.3613920211791992e-05, 2.4883200000000003e-05, 2.6206482717895508e-05, 2.758547353515625e-05, 2.90219131439209e-05, 3.0517578125e-05, 3.207428131408692e-05, 3.369387216796875e-05, 3.537823713073731e-05, 3.7129300000000004e-05, 3.8949022293090824e-05, 4.083940361328125e-05, 4.280248201599121e-05, 4.4840334375e-05, 4.695507674865723e-05, 4.914886474609375e-05, 5.142389389343262e-05, 5.37824e-05, 5.622665952453613e-05, 5.875898994140625e-05, 6.138175010681153e-05, 6.4097340625e-05, 6.690820421447754e-05, 6.981682607421875e-05, 7.282573424987793e-05, 7.593750000000001e-05, 7.915473816223145e-05, 8.248010751953125e-05, 8.591631116638184e-05, 8.9466096875e-05, 9.313225746154785e-05, 9.691763115234375e-05, 0.00010082510195007325, 0.0001048576, 0.00010901810195617676, 0.00011330963134765625, 0.00011773525894470216, 0.000122298103125, 0.00012700133023986818, 0.00013184815498046875, 0.00013684184074401855, 0.0001419857, 0.00014728309465637207, 0.00015273743642578127, 0.00015835218719177248, 0.000164130859375, 0.00017007701629943847, 0.00017619427255859376, 0.00018248629438171387, 0.0001889568, 0.00019560956001281739, 0.00020244839775390627, 0.00020947718965759279, 0.000216699865625, 0.0002241204093902588, 0.00023174285888671875, 0.00023957130661315918, 0.0002476099, 0.0002558628417755127, 0.00026433439033203126, 0.0002730288600921631, 0.000281950621875, 0.0002911041032623291, 0.00030049378896484374, 0.0003101242211883545, 0.00032, 0.00033012578369445803, 0.00034050628916015624, 0.0003511462922454834, 0.00036205062812500003, 0.0003732241916656494, 0.00038467193779296877, 0.0003963988818572998, 0.00040841010000000004, 0.0004207107295196533, 0.00043330596923828125, 0.0004462010798675537, 0.000459401384375, 0.00047291226835021973, 0.00048673918037109374, 0.0005008876323699951, 0.0005153632, 0.0005301715230010987, 0.0005453183055664063, 0.000560809316708374, 0.0005766503906250001, 0.0005928474270660401, 0.0006094063916992188, 0.0006263333164764404, 0.0006436343, 0.000661315507888794, 0.0006793831731445312, 0.0006978435965179444, 0.0007167031468750001, 0.0007359682615631104, 0.0007556454467773437, 0.0007757412779266357, 0.0007962624000000001, 0.0008172155279327392, 0.0008386074469726563, 0.0008604450130462646, 0.000882735153125, 0.0009054848655914307, 0.0009287012206054688, 0.0009523913604705811, 0.0009765625, 0.0010012219268829346, 0.0010263770020507814, 0.001052035160043335, 0.001078203909375, 0.001104890832901001, 0.0011321035881835938, 0.0011598499078582763, 0.0011881376000000001, 0.00121697454848938, 0.0012463687133789064, 0.0012763281312591554, 0.001306860915625, 0.0013379752572418213, 0.0013696794245117187, 0.0014019817638397218, 0.0014348907, 0.0014684147365020752, 0.0015025624559570313, 0.0015373425204437256, 0.001572763671875, 0.0016088347323638917, 0.0016455646045898439, 0.001682962272164917, 0.0017210368, 0.0017597973346710205, 0.0017992531047851563, 0.001839413421347046, 0.001880287678125, 0.001921885352017212, 0.001964216003417969, 0.0020072892765838624, 0.0020511149, 0.002095702686746216, 0.0021410625348632813, 0.002187204427719116, 0.002234138434375, 0.0022818747099517824, 0.002330423495996094, 0.0023797951208465577, 0.0024300000000000003, 0.0024810486364776614, 0.0025329516211914063, 0.002585719633309937, 0.002639363440625, 0.002693893899917603, 0.002749321957324219, 0.002805658648703003, 0.0028629151, 0.0029211025276153564, 0.0029802322387695312, 0.003040315631869507, 0.003101364196875, 0.003163389515664673, 0.003226403262402344, 0.0032904172039031985, 0.0033554432, 0.003421493203909302, 0.003488579262597656, 0.003556713517147827, 0.003625908203125, 0.0036961756509429934, 0.003767528286230469, 0.0038399786301971436, 0.0039135393, 0.003988223009109497, 0.004064042567675782, 0.0041410108828948975, 0.004219140959375, 0.004298445899502563, 0.004378938903808594, 0.0044606332713348395, 0.0045435424, 0.004627679786965943, 0.004713059029003906, 0.004799693822860718, 0.004887597965625001, 0.004976785355093384, 0.005067269990136719, 0.005159065971066285, 0.0052521875, 0.005346648881228638, 0.005442464521582031, 0.005539648930795288, 0.0056382167218750005, 0.005738182611465454, 0.005839561420214844, 0.00594236807314148, 0.0060466176, 0.006152325135647584, 0.006259505920410156, 0.006368175300448609, 0.0064783487281250005, 0.0065900417623687745, 0.006703270069042969, 0.006818049421310425, 0.0069343957, 0.007052324893972778, 0.0071718531004882815, 0.007292996525570679, 0.007415771484375, 0.007540194401553345, 0.007666281811621094, 0.00779405035932312, 0.0079235168, 0.008054697999954223, 0.008187610936816407, 0.008322272699911499, 0.008458700490625, 0.008596911622769165, 0.00873692352294922, 0.008878753730929567, 0.0090224199, 0.00916793979734192, 0.009315331304394532, 0.00946461241722107, 0.009615801246875, 0.009768916019766236, 0.009923975078027345, 0.010080996879879761, 0.01024, 0.010401003129885865, 0.010564025078222657, 0.01072908477124939, 0.010896201253125, 0.011065393686294556, 0.011236681351855468, 0.011410083649923707, 0.011585620100000001, 0.01176331034133606, 0.011943174133300781, 0.01212523135574646, 0.012309502009375, 0.012496006216104126, 0.012684764219433594, 0.012875796384811402, 0.013069123200000001, 0.013264765275442505, 0.013462743344628906, 0.01366307826446228, 0.013865791015625, 0.014070902702944947, 0.01427843455576172, 0.014488407928292847, 0.0147008443, 0.0149157652759552, 0.015133192587207031, 0.015353148091146851, 0.015575653771875, 0.015800731740567016, 0.016028404235839844, 0.016258693624118043, 0.0164916224, 0.016727213186624144, 0.016965488736035157, 0.01720647192955017, 0.017450185778125002, 0.017696653422720338, 0.01794589813466797, 0.01819794331603699, 0.018452812500000002, 0.01871052935119934, 0.018971117666113282, 0.01923460137342224, 0.019501004534375, 0.01977035134315491, 0.020042666127246093, 0.020317973347799684, 0.0205962976, 0.020877663613430786, 0.021162096252441406, 0.02144962051651306, 0.021740261540625, 0.02203404459562073, 0.02233099508857422, 0.022631138563156128, 0.022934500700000002, 0.023241107317068483, 0.023550984370019533, 0.023864157952572632, 0.024180654296875, 0.024500499773867798, 0.024823720893652344, 0.025150344305856324, 0.025480396800000003, 0.025813905305862427, 0.026150896893847655, 0.026491398775350953, 0.026835438303125, 0.02718304297164612, 0.02753424041748047, 0.02788905841965027, 0.0282475249, 0.028609667923562624, 0.028975515698925782, 0.029345096578598025, 0.029718439059375, 0.03009557178270569, 0.030476523535058597, 0.030861323248287966, 0.03125, 0.03164258301391907, 0.03203910166025391, 0.032439585456063846, 0.032844064065625005, 0.03325256730079651, 0.03366512512138672, 0.034081767635519414, 0.0345025251, 0.034927427920681764, 0.035356506652832034, 0.03578979200149841, 0.036227314821875, 0.03666910611966858, 0.03711519705146484, 0.03756561892509461, 0.038020403200000004, 0.03847958148760071, 0.03894318555166016, 0.03941124730865173, 0.039883798828125004, 0.0403608723330719, 0.040842500200292974, 0.041328714960763555, 0.0418195493, 0.0423150360584259, 0.04281520823173828, 0.043320098971273806, 0.043829741584375, 0.04434416953475647, 0.0448634164428711, 0.045387516086276246, 0.0459165024, 0.04645040947690735, 0.046989271568066406, 0.04753312308311462, 0.048081998590625, 0.04863593281847229, 0.04919496065419922, 0.04975911714538269, 0.0503284375, 0.05090295708679505, 0.051482711435644535, 0.0520677362379242, 0.052658067346875004, 0.05325374077796936, 0.053854792709277344, 0.05446125948183289, 0.0550731776, 0.055690583731838994, 0.056313514709472656, 0.05694200752945252, 0.057576099353125, 0.058215827506997685, 0.05886122948310547, 0.059512342939376836, 0.0601692057, 0.060831855755789185, 0.06150033126455078, 0.06217467055144959, 0.06285491210937501, 0.06354109459930725, 0.0642332568506836, 0.06493143786176453, 0.0656356768, 0.06634601300239563, 0.06706248597587891, 0.06778513539766541, 0.068514001115625, 0.06924912314864808, 0.06999054168701171, 0.07073829709274597, 0.0714924299, 0.07225298081540833, 0.07301999071845704, 0.07379350066184998, 0.074573551871875, 0.07536018574877014, 0.07615344386708985, 0.07695336797607116, 0.07776000000000001, 0.07857338203857728, 0.07939355636728516, 0.0802205654377533, 0.081054451878125, 0.08189525849342347, 0.08274302826591798, 0.08359780435549012, 0.0844596301, 0.08532854901565247, 0.08620460479736329, 0.08708784131912536, 0.087978302634375, 0.08887603297635803, 0.0897810767584961, 0.09069347857475281, 0.0916132832, 0.09254053559038392, 0.0934752808836914, 0.09441756439971619, 0.095367431640625, 0.09632492829132386, 0.09729010021982422, 0.09826299347760925, 0.0992436543, 0.10023212910652161, 0.10122846450126953, 0.10223270727327576, 0.103244904396875, 0.10426510303207093, 0.10529335052490235, 0.10632969440780946, 0.1073741824, 0.10842686240781556, 0.10948778252509767, 0.11055699103355408, 0.111634536403125, 0.11272046729234925, 0.11381483254873047, 0.1149176812091034, 0.1160290625, 0.11714902583801576, 0.11827762083017579, 0.11941489727430116, 0.12056090515937501, 0.12171569466590881, 0.1228793161663086, 0.1240518202252411, 0.1252332576, 0.1264236792408722, 0.1276231362915039, 0.12883168008926696, 0.13004936216562502, 0.13127623424649965, 0.13251234825263672, 0.13375775629997255, 0.1350125107, 0.13627666396013488, 0.13755026878408202, 0.13883337807220153, 0.140126044921875, 0.14142832262787172, 0.14274026468271486, 0.14406192477704774, 0.1453933568, 0.14673461483955383, 0.14808575318291017, 0.14944682631685485, 0.150817888928125, 0.15219899590377503, 0.15359020233154297, 0.15499156350021667, 0.15640313490000002, 0.15782497222287903, 0.15925713136298827, 0.16069966841697694, 0.16215263968437502, 0.1636161016679596, 0.1650901110741211, 0.16657472481322938, 0.16807, 0.16957599395386047, 0.1710927641993164, 0.17262036846631776, 0.174158864690625, 0.17570831101417542, 0.17726876578544923, 0.17884028755983583, 0.18042293510000001, 0.18201676737624817, 0.18362184356689454, 0.18523822305862733, 0.186865965446875, 0.1885051305361725, 0.19015577834052735, 0.191817969083786, 0.1934917632, 0.19517722133379212, 0.19687440434072268, 0.19858337328765566, 0.200304189453125, 0.20203691432770082, 0.20378160961435549, 0.20553833722882997, 0.20730715930000002, 0.20908813817024233, 0.21088133639580078, 0.21268681674715273, 0.214504642209375, 0.2163348759825104, 0.2181775814819336, 0.22003282233871765, 0.2219006624, 0.22378116572934875, 0.2256743966071289, 0.22758041953086855, 0.229499299215625, 0.2314311005943512, 0.23337588881826174, 0.23533372925719911, 0.2373046875, 0.23928882935486145, 0.24128622084970705, 0.2432969282325531, 0.245321017971875, 0.24735855675697327, 0.24940961149833984, 0.2514742493280243, 0.2535525376, 0.25564454389053043, 0.25775033599853514, 0.25986998194595645, 0.262003549978125, 0.2641511085641266, 0.26631272639716796, 0.2684884723949432, 0.2706784157, 0.27288262568010563, 0.2751011719286133, 0.2773341242648285, 0.279581552734375, 0.28184352760956116, 0.28412011938974613, 0.28641139880170596, 0.2887174368, 0.29103830456733704, 0.29337407351494144, 0.29572481528291933, 0.298090601740625, 0.300471504987027, 0.3028675973510742, 0.3052789513920624, 0.3077056399, 0.3101477358959747, 0.31260531263251956, 0.3150784435939789, 0.31756720249687503, 0.32007166329027403, 0.32259190015615236, 0.3251279875097626, 0.32768, 0.3302480125097687, 0.3328321001563477, 0.3354323382917572, 0.338048802503125, 0.3406815686130524, 0.3433307126799805, 0.34599631099855654, 0.3486784401, 0.3513771767524689, 0.3540925979614258, 0.3568247809700043, 0.359573803259375, 0.36233974254911194, 0.3651226767975586, 0.3679226842021942, 0.37073984320000003, 0.37357423246782534, 0.3764259309227539, 0.3792950177224701, 0.382181572265625, 0.3850856741922028, 0.38800740338388673, 0.3909468399644257, 0.3939040643, 0.39687915699958803, 0.39987219891533204, 0.4028832711429047, 0.405912455021875, 0.40895983213607484, 0.41202548431396485, 0.41510949362900085, 0.41821194240000004, 0.42133291319150695, 0.42447248881416016, 0.427630752325058, 0.430807787028125, 0.4340036764744782, 0.437218504462793, 0.44045235503966984, 0.4437053125, 0.4469774613873322, 0.4502688864942383, 0.4535796728626801, 0.456909905784375, 0.46025967080116276, 0.4636290537053711, 0.46701814054018254, 0.4704270176, 0.4738557714308136, 0.4773044888305664, 0.4807732568495209, 0.484262162790625, 0.4877712942098786, 0.49130073891669923, 0.49485058497428897, 0.4984209207, 0.5020118346657013, 0.5056234156981445, 0.5092557528793304, 0.512908935546875, 0.5165830532943756, 0.5202781959717774, 0.5239944536857392, 0.5277319168, 0.5314906759357453, 0.5352708219719726, 0.5390724460458588, 0.542895639553125, 0.546740494148404, 0.5506071017456055, 0.5544955545182831, 0.5584059449000001, 0.5623383655846954, 0.5662929095270508, 0.5702696699428559, 0.574268740309375, 0.5782902143657135, 0.5823341861131837, 0.5864007498156708, 0.5904900000000001, 0.5946020314563019, 0.5987369392383789, 0.6028948186640717, 0.607075765315625, 0.6112798750400543, 0.6155072439495117, 0.6197579684216522, 0.6240321451, 0.6283298708943146, 0.6326512429809571, 0.6369963588032562, 0.641365316071875, 0.6457582127651764, 0.6501751471295899, 0.6546162176799775, 0.6590815232, 0.6635711627424835, 0.6680852356297852, 0.6726238414541595, 0.677187080078125, 0.6817750516348298, 0.6863878565284179, 0.6910255954343963, 0.6956883693, 0.7003762793445587, 0.7050894270598633, 0.7098279142105316, 0.714591842834375, 0.7193813152427643, 0.7241964340209961, 0.7290373020286591, 0.7339040224000001, 0.7387966985442902, 0.7437154341461915, 0.7486603331661225, 0.753631499840625, 0.7586290386827301, 0.7636530544823242, 0.7687036523065155, 0.7737809375, 0.7788850156854279, 0.7840159927637695, 0.789173974914682, 0.794359068596875, 0.7995713805484772, 0.8048110177874024, 0.8100780876117157, 0.8153726976000001, 0.8206949556117218, 0.8260449697875977, 0.8314228485499604, 0.836828700603125, 0.8422626349337555, 0.8477247608112305, 0.8532151877880096, 0.8587340257, 0.8642813846669221, 0.8698573750926758, 0.8754621076657074, 0.881095693359375, 0.8867582434323151, 0.8924498694288087, 0.8981706831791474, 0.9039207968, 0.9097003226947785, 0.915509373554004, 0.9213480623556732, 0.927216502365625, 0.933114807137906, 0.9390430905151368, 0.9450014666288789, 0.9509900499, 0.9570089550390412, 0.9630582970465821, 0.9691381912136078, 0.9752487531218751, 0.981390098644278, 0.9875623439452149, 0.993765605480954]}],                        {\"height\": 400, \"template\": {\"data\": {\"bar\": [{\"error_x\": {\"color\": \"#2a3f5f\"}, \"error_y\": {\"color\": \"#2a3f5f\"}, \"marker\": {\"line\": {\"color\": \"#E5ECF6\", \"width\": 0.5}}, \"type\": \"bar\"}], \"barpolar\": [{\"marker\": {\"line\": {\"color\": \"#E5ECF6\", \"width\": 0.5}}, \"type\": \"barpolar\"}], \"carpet\": [{\"aaxis\": {\"endlinecolor\": \"#2a3f5f\", \"gridcolor\": \"white\", \"linecolor\": \"white\", \"minorgridcolor\": \"white\", \"startlinecolor\": \"#2a3f5f\"}, \"baxis\": {\"endlinecolor\": \"#2a3f5f\", \"gridcolor\": \"white\", \"linecolor\": \"white\", \"minorgridcolor\": \"white\", \"startlinecolor\": \"#2a3f5f\"}, \"type\": \"carpet\"}], \"choropleth\": [{\"colorbar\": {\"outlinewidth\": 0, \"ticks\": \"\"}, \"type\": \"choropleth\"}], \"contour\": [{\"colorbar\": {\"outlinewidth\": 0, \"ticks\": \"\"}, \"colorscale\": [[0.0, \"#0d0887\"], [0.1111111111111111, \"#46039f\"], [0.2222222222222222, \"#7201a8\"], [0.3333333333333333, \"#9c179e\"], [0.4444444444444444, \"#bd3786\"], [0.5555555555555556, \"#d8576b\"], [0.6666666666666666, \"#ed7953\"], [0.7777777777777778, \"#fb9f3a\"], [0.8888888888888888, \"#fdca26\"], [1.0, \"#f0f921\"]], \"type\": \"contour\"}], \"contourcarpet\": [{\"colorbar\": {\"outlinewidth\": 0, \"ticks\": \"\"}, \"type\": \"contourcarpet\"}], \"heatmap\": [{\"colorbar\": {\"outlinewidth\": 0, \"ticks\": \"\"}, \"colorscale\": [[0.0, \"#0d0887\"], [0.1111111111111111, \"#46039f\"], [0.2222222222222222, \"#7201a8\"], [0.3333333333333333, \"#9c179e\"], [0.4444444444444444, \"#bd3786\"], [0.5555555555555556, \"#d8576b\"], [0.6666666666666666, \"#ed7953\"], [0.7777777777777778, \"#fb9f3a\"], [0.8888888888888888, \"#fdca26\"], [1.0, \"#f0f921\"]], \"type\": \"heatmap\"}], \"heatmapgl\": [{\"colorbar\": {\"outlinewidth\": 0, \"ticks\": \"\"}, \"colorscale\": [[0.0, \"#0d0887\"], [0.1111111111111111, \"#46039f\"], [0.2222222222222222, \"#7201a8\"], [0.3333333333333333, \"#9c179e\"], [0.4444444444444444, \"#bd3786\"], [0.5555555555555556, \"#d8576b\"], [0.6666666666666666, \"#ed7953\"], [0.7777777777777778, \"#fb9f3a\"], [0.8888888888888888, \"#fdca26\"], [1.0, \"#f0f921\"]], \"type\": \"heatmapgl\"}], \"histogram\": [{\"marker\": {\"colorbar\": {\"outlinewidth\": 0, \"ticks\": \"\"}}, \"type\": \"histogram\"}], \"histogram2d\": [{\"colorbar\": {\"outlinewidth\": 0, \"ticks\": \"\"}, \"colorscale\": [[0.0, \"#0d0887\"], [0.1111111111111111, \"#46039f\"], [0.2222222222222222, \"#7201a8\"], [0.3333333333333333, \"#9c179e\"], [0.4444444444444444, \"#bd3786\"], [0.5555555555555556, \"#d8576b\"], [0.6666666666666666, \"#ed7953\"], [0.7777777777777778, \"#fb9f3a\"], [0.8888888888888888, \"#fdca26\"], [1.0, \"#f0f921\"]], \"type\": \"histogram2d\"}], \"histogram2dcontour\": [{\"colorbar\": {\"outlinewidth\": 0, \"ticks\": \"\"}, \"colorscale\": [[0.0, \"#0d0887\"], [0.1111111111111111, \"#46039f\"], [0.2222222222222222, \"#7201a8\"], [0.3333333333333333, \"#9c179e\"], [0.4444444444444444, \"#bd3786\"], [0.5555555555555556, \"#d8576b\"], [0.6666666666666666, \"#ed7953\"], [0.7777777777777778, \"#fb9f3a\"], [0.8888888888888888, \"#fdca26\"], [1.0, \"#f0f921\"]], \"type\": \"histogram2dcontour\"}], \"mesh3d\": [{\"colorbar\": {\"outlinewidth\": 0, \"ticks\": \"\"}, \"type\": \"mesh3d\"}], \"parcoords\": [{\"line\": {\"colorbar\": {\"outlinewidth\": 0, \"ticks\": \"\"}}, \"type\": \"parcoords\"}], \"pie\": [{\"automargin\": true, \"type\": \"pie\"}], \"scatter\": [{\"marker\": {\"colorbar\": {\"outlinewidth\": 0, \"ticks\": \"\"}}, \"type\": \"scatter\"}], \"scatter3d\": [{\"line\": {\"colorbar\": {\"outlinewidth\": 0, \"ticks\": \"\"}}, \"marker\": {\"colorbar\": {\"outlinewidth\": 0, \"ticks\": \"\"}}, \"type\": \"scatter3d\"}], \"scattercarpet\": [{\"marker\": {\"colorbar\": {\"outlinewidth\": 0, \"ticks\": \"\"}}, \"type\": \"scattercarpet\"}], \"scattergeo\": [{\"marker\": {\"colorbar\": {\"outlinewidth\": 0, \"ticks\": \"\"}}, \"type\": \"scattergeo\"}], \"scattergl\": [{\"marker\": {\"colorbar\": {\"outlinewidth\": 0, \"ticks\": \"\"}}, \"type\": \"scattergl\"}], \"scattermapbox\": [{\"marker\": {\"colorbar\": {\"outlinewidth\": 0, \"ticks\": \"\"}}, \"type\": \"scattermapbox\"}], \"scatterpolar\": [{\"marker\": {\"colorbar\": {\"outlinewidth\": 0, \"ticks\": \"\"}}, \"type\": \"scatterpolar\"}], \"scatterpolargl\": [{\"marker\": {\"colorbar\": {\"outlinewidth\": 0, \"ticks\": \"\"}}, \"type\": \"scatterpolargl\"}], \"scatterternary\": [{\"marker\": {\"colorbar\": {\"outlinewidth\": 0, \"ticks\": \"\"}}, \"type\": \"scatterternary\"}], \"surface\": [{\"colorbar\": {\"outlinewidth\": 0, \"ticks\": \"\"}, \"colorscale\": [[0.0, \"#0d0887\"], [0.1111111111111111, \"#46039f\"], [0.2222222222222222, \"#7201a8\"], [0.3333333333333333, \"#9c179e\"], [0.4444444444444444, \"#bd3786\"], [0.5555555555555556, \"#d8576b\"], [0.6666666666666666, \"#ed7953\"], [0.7777777777777778, \"#fb9f3a\"], [0.8888888888888888, \"#fdca26\"], [1.0, \"#f0f921\"]], \"type\": \"surface\"}], \"table\": [{\"cells\": {\"fill\": {\"color\": \"#EBF0F8\"}, \"line\": {\"color\": \"white\"}}, \"header\": {\"fill\": {\"color\": \"#C8D4E3\"}, \"line\": {\"color\": \"white\"}}, \"type\": \"table\"}]}, \"layout\": {\"annotationdefaults\": {\"arrowcolor\": \"#2a3f5f\", \"arrowhead\": 0, \"arrowwidth\": 1}, \"autotypenumbers\": \"strict\", \"coloraxis\": {\"colorbar\": {\"outlinewidth\": 0, \"ticks\": \"\"}}, \"colorscale\": {\"diverging\": [[0, \"#8e0152\"], [0.1, \"#c51b7d\"], [0.2, \"#de77ae\"], [0.3, \"#f1b6da\"], [0.4, \"#fde0ef\"], [0.5, \"#f7f7f7\"], [0.6, \"#e6f5d0\"], [0.7, \"#b8e186\"], [0.8, \"#7fbc41\"], [0.9, \"#4d9221\"], [1, \"#276419\"]], \"sequential\": [[0.0, \"#0d0887\"], [0.1111111111111111, \"#46039f\"], [0.2222222222222222, \"#7201a8\"], [0.3333333333333333, \"#9c179e\"], [0.4444444444444444, \"#bd3786\"], [0.5555555555555556, \"#d8576b\"], [0.6666666666666666, \"#ed7953\"], [0.7777777777777778, \"#fb9f3a\"], [0.8888888888888888, \"#fdca26\"], [1.0, \"#f0f921\"]], \"sequentialminus\": [[0.0, \"#0d0887\"], [0.1111111111111111, \"#46039f\"], [0.2222222222222222, \"#7201a8\"], [0.3333333333333333, \"#9c179e\"], [0.4444444444444444, \"#bd3786\"], [0.5555555555555556, \"#d8576b\"], [0.6666666666666666, \"#ed7953\"], [0.7777777777777778, \"#fb9f3a\"], [0.8888888888888888, \"#fdca26\"], [1.0, \"#f0f921\"]]}, \"colorway\": [\"#636efa\", \"#EF553B\", \"#00cc96\", \"#ab63fa\", \"#FFA15A\", \"#19d3f3\", \"#FF6692\", \"#B6E880\", \"#FF97FF\", \"#FECB52\"], \"font\": {\"color\": \"#2a3f5f\"}, \"geo\": {\"bgcolor\": \"white\", \"lakecolor\": \"white\", \"landcolor\": \"#E5ECF6\", \"showlakes\": true, \"showland\": true, \"subunitcolor\": \"white\"}, \"hoverlabel\": {\"align\": \"left\"}, \"hovermode\": \"closest\", \"mapbox\": {\"style\": \"light\"}, \"paper_bgcolor\": \"white\", \"plot_bgcolor\": \"#E5ECF6\", \"polar\": {\"angularaxis\": {\"gridcolor\": \"white\", \"linecolor\": \"white\", \"ticks\": \"\"}, \"bgcolor\": \"#E5ECF6\", \"radialaxis\": {\"gridcolor\": \"white\", \"linecolor\": \"white\", \"ticks\": \"\"}}, \"scene\": {\"xaxis\": {\"backgroundcolor\": \"#E5ECF6\", \"gridcolor\": \"white\", \"gridwidth\": 2, \"linecolor\": \"white\", \"showbackground\": true, \"ticks\": \"\", \"zerolinecolor\": \"white\"}, \"yaxis\": {\"backgroundcolor\": \"#E5ECF6\", \"gridcolor\": \"white\", \"gridwidth\": 2, \"linecolor\": \"white\", \"showbackground\": true, \"ticks\": \"\", \"zerolinecolor\": \"white\"}, \"zaxis\": {\"backgroundcolor\": \"#E5ECF6\", \"gridcolor\": \"white\", \"gridwidth\": 2, \"linecolor\": \"white\", \"showbackground\": true, \"ticks\": \"\", \"zerolinecolor\": \"white\"}}, \"shapedefaults\": {\"line\": {\"color\": \"#2a3f5f\"}}, \"ternary\": {\"aaxis\": {\"gridcolor\": \"white\", \"linecolor\": \"white\", \"ticks\": \"\"}, \"baxis\": {\"gridcolor\": \"white\", \"linecolor\": \"white\", \"ticks\": \"\"}, \"bgcolor\": \"#E5ECF6\", \"caxis\": {\"gridcolor\": \"white\", \"linecolor\": \"white\", \"ticks\": \"\"}}, \"title\": {\"x\": 0.05}, \"xaxis\": {\"automargin\": true, \"gridcolor\": \"white\", \"linecolor\": \"white\", \"ticks\": \"\", \"title\": {\"standoff\": 15}, \"zerolinecolor\": \"white\", \"zerolinewidth\": 2}, \"yaxis\": {\"automargin\": true, \"gridcolor\": \"white\", \"linecolor\": \"white\", \"ticks\": \"\", \"title\": {\"standoff\": 15}, \"zerolinecolor\": \"white\", \"zerolinewidth\": 2}}}, \"title\": {\"text\": \"Difference at each step\"}, \"width\": 800},                        {\"responsive\": true}                    ).then(function(){\n",
              "                            \n",
              "var gd = document.getElementById('037e974b-f80d-442b-a500-781f97ad12ec');\n",
              "var x = new MutationObserver(function (mutations, observer) {{\n",
              "        var display = window.getComputedStyle(gd).display;\n",
              "        if (!display || display === 'none') {{\n",
              "            console.log([gd, 'removed!']);\n",
              "            Plotly.purge(gd);\n",
              "            observer.disconnect();\n",
              "        }}\n",
              "}});\n",
              "\n",
              "// Listen for the removal of the full notebook cells\n",
              "var notebookContainer = gd.closest('#notebook-container');\n",
              "if (notebookContainer) {{\n",
              "    x.observe(notebookContainer, {childList: true});\n",
              "}}\n",
              "\n",
              "// Listen for the clearing of the current output cell\n",
              "var outputEl = gd.closest('.output');\n",
              "if (outputEl) {{\n",
              "    x.observe(outputEl, {childList: true});\n",
              "}}\n",
              "\n",
              "                        })                };                            </script>        </div>\n",
              "</body>\n",
              "</html>"
            ]
          },
          "metadata": {
            "tags": []
          }
        }
      ]
    },
    {
      "cell_type": "markdown",
      "metadata": {
        "id": "PDnw92OxtrLH"
      },
      "source": [
        "### Average prediction outputs"
      ]
    },
    {
      "cell_type": "code",
      "metadata": {
        "colab": {
          "base_uri": "https://localhost:8080/"
        },
        "id": "J1qLGTNWwKy7",
        "outputId": "bd502f1e-05cf-41df-b797-e3cbd4373c91"
      },
      "source": [
        "gc.collect()\n",
        "\n",
        "# Sets start time\n",
        "start = time.time()\n",
        "\n",
        "averages = []\n",
        "test_predictions = [] # Prediction results of test sets\n",
        "\n",
        "# Fit each model to each dataset, then average the predicted outputs for each class\n",
        "for (i,(conv_model,dataset,label_set)) in enumerate(zip(conv_models,datasets,labels)):\n",
        "  # Fits models\n",
        "  conv_model.compile(loss=\"categorical_crossentropy\", optimizer=\"adam\", metrics=[\"accuracy\"])\n",
        "  conv_model.fit(dataset[0][0], dataset[0][1], batch_size=BATCH_SIZE, epochs=epochs, verbose=0)\n",
        "\n",
        "  # Gets training set predictions\n",
        "  train_predictions = conv_model.predict(dataset[0][0])\n",
        "\n",
        "  # totals = NxN (where N=number of classes)\n",
        "  classes = dataset[0][1].shape[1]\n",
        "  totals = np.zeros((classes, classes))\n",
        "  counts = np.zeros(classes)\n",
        "\n",
        "  print(totals.shape,counts.shape,end=' ') # Check\n",
        "\n",
        "  # Sets average predictions by class\n",
        "  # label = actual label\n",
        "  # p = one-hot encoded predictions\n",
        "  for label,p in zip(label_set[0],train_predictions):\n",
        "    totals[label] += p\n",
        "    counts[label] += 1\n",
        "\n",
        "  averages.append([t/c for (t,c) in zip(totals,counts)])\n",
        "\n",
        "  test_predictions.append(conv_model.predict(dataset[1][0]))\n",
        "\n",
        "  print(str(i+1)+\"/\"+str(len(datasets)))\n",
        "\n",
        "# Minutes taken\n",
        "print()\n",
        "print(\"{:.2f}\".format((time.time() - start) / 60)+\"m\")"
      ],
      "execution_count": null,
      "outputs": [
        {
          "output_type": "stream",
          "text": [
            "(10, 10) (10,) 1/4\n",
            "(10, 10) (10,) 2/4\n",
            "(10, 10) (10,) 3/4\n",
            "(100, 100) (100,) 4/4\n",
            "\n",
            "2.19m\n"
          ],
          "name": "stdout"
        }
      ]
    },
    {
      "cell_type": "code",
      "metadata": {
        "colab": {
          "base_uri": "https://localhost:8080/"
        },
        "id": "k3u7N9Ui0ePT",
        "outputId": "d0e45716-a30e-479c-9d8b-6b3a3dd5ab3a"
      },
      "source": [
        "print(len(averages),end=' ')\r\n",
        "print(\r\n",
        "    np.array(averages[0]).shape,np.array(averages[1]).shape,\r\n",
        "    np.array(averages[2]).shape,np.array(averages[3]).shape\r\n",
        ")"
      ],
      "execution_count": null,
      "outputs": [
        {
          "output_type": "stream",
          "text": [
            "4 (10, 10) (10, 10) (10, 10) (100, 100)\n"
          ],
          "name": "stdout"
        }
      ]
    },
    {
      "cell_type": "markdown",
      "metadata": {
        "id": "rM1-UajVt7-2"
      },
      "source": [
        "### Running difference checking"
      ]
    },
    {
      "cell_type": "code",
      "metadata": {
        "id": "lWz0z7dbymYo",
        "colab": {
          "base_uri": "https://localhost:8080/"
        },
        "outputId": "86c94040-dec6-4f79-ddc0-c15c75f440e2"
      },
      "source": [
        "gc.collect()\n",
        "\n",
        "# Sets start time\n",
        "start = time.time()\n",
        "\n",
        "# Number of correctly labelled examples, discarded\n",
        "# (When an example is correctly labelled, yet the systems check discards it)\n",
        "falsely_thrown_out = np.zeros((len(datasets),DC_STEPS))\n",
        "\n",
        "# Number of wrongly labelled examples, accepted\n",
        "# (When an example is incorrectly labelled, yet the systems check fails to discard it)\n",
        "falsely_let_in = np.zeros((len(datasets),DC_STEPS))\n",
        "\n",
        "# difference allowed\n",
        "ds = [d_curve(step) for step in range(DC_STEPS)]\n",
        "\n",
        "# Differences between predictions and accurate one-hot encoded classes\n",
        "correct_differences = [\n",
        "    [abs(p-averages[i][l]) for (p,l) in zip(test_predictions[i],labels[i][1])]\n",
        "    for i in range(len(datasets))\n",
        "]\n",
        "# Differences between predictions and inaccurate one-hot encoded classes\n",
        "incorrect_differences = [\n",
        "    [abs(p-averages[i][l]) for (p,l) in zip(test_predictions[i],wrong_labels[i])]\n",
        "    for i in range(len(datasets))\n",
        "]\n",
        "\n",
        "#check\n",
        "print(np.array(correct_differences).shape,np.array(incorrect_differences).shape)\n",
        "\n",
        "for (step,d) in enumerate(ds):\n",
        "  \n",
        "  for i in range(len(datasets)):\n",
        "    falsely_thrown_out_temp = 0\n",
        "    falsely_let_in_temp = 0\n",
        "\n",
        "    for (ce_diff,ie_diff) in zip(correct_differences[i],incorrect_differences[i]):\n",
        "      if np.greater(ce_diff,d).all():\n",
        "        falsely_thrown_out_temp += 1\n",
        "\n",
        "      if np.less(ie_diff,d).all():\n",
        "        falsely_let_in_temp += 1\n",
        "\n",
        "    # falsely_thrown_out[i].append(falsely_thrown_out_temp)\n",
        "    falsely_thrown_out[i][step] = falsely_thrown_out_temp\n",
        "    \n",
        "    #falsely_let_in[i].append(falsely_let_in_temp)\n",
        "    falsely_let_in[i][step] = falsely_let_in_temp\n",
        "\n",
        "  #print(str(step+1),end =\" \")\n",
        "  if (step+1)%10 == 0:\n",
        "    print(\"{:4d}\".format(step+1),end =\" \")\n",
        "    if (step+1)%100 == 0:\n",
        "      print()\n",
        "\n",
        "# Prints time taken\n",
        "print()\n",
        "print(\"{:.2f}\".format((time.time() - start) / 60)+\"m\")"
      ],
      "execution_count": null,
      "outputs": [
        {
          "output_type": "stream",
          "text": [
            "/usr/local/lib/python3.6/dist-packages/ipykernel_launcher.py:29: VisibleDeprecationWarning:\n",
            "\n",
            "Creating an ndarray from ragged nested sequences (which is a list-or-tuple of lists-or-tuples-or ndarrays with different lengths or shapes) is deprecated. If you meant to do this, you must specify 'dtype=object' when creating the ndarray\n",
            "\n"
          ],
          "name": "stderr"
        },
        {
          "output_type": "stream",
          "text": [
            "(4, 10000) (4, 10000)\n",
            "  10   20   30   40   50   60   70   80   90  100 \n",
            " 110  120  130  140  150  160  170  180  190  200 \n",
            " 210  220  230  240  250  260  270  280  290  300 \n",
            " 310  320  330  340  350  360  370  380  390  400 \n",
            " 410  420  430  440  450  460  470  480  490  500 \n",
            " 510  520  530  540  550  560  570  580  590  600 \n",
            " 610  620  630  640  650  660  670  680  690  700 \n",
            " 710  720  730  740  750  760  770  780  790  800 \n",
            "\n",
            "2.19m\n"
          ],
          "name": "stdout"
        }
      ]
    },
    {
      "cell_type": "markdown",
      "metadata": {
        "id": "ohtSgFb62poK"
      },
      "source": [
        "### Graphs"
      ]
    },
    {
      "cell_type": "code",
      "metadata": {
        "id": "pb8gJlqND5WC",
        "colab": {
          "base_uri": "https://localhost:8080/",
          "height": 817
        },
        "outputId": "d8592db3-293f-48a7-e260-ac95196bd8fa"
      },
      "source": [
        "falsely_thrown_out_df = pd.DataFrame(\r\n",
        "    data=falsely_thrown_out,\r\n",
        "    index=namelist,\r\n",
        "    columns=ds\r\n",
        ")\r\n",
        "#print(falsely_thrown_out.T)\r\n",
        "fig = px.line(\r\n",
        "    falsely_thrown_out_df.T.head(250),\r\n",
        "    labels={\"value\":\"Discarded\",\"index\":\"Difference\",\"variable\":\"Dataset\"}\r\n",
        ")\r\n",
        "fig.update_layout(height=400, width=800, title_text=\"Accurate examples discarded\")\r\n",
        "fig.show()\r\n",
        "\r\n",
        "falsely_let_in_df = pd.DataFrame(\r\n",
        "    data=falsely_let_in,\r\n",
        "    index=namelist,\r\n",
        "    columns=ds\r\n",
        ")\r\n",
        "#print(falsely_let_in_df.T)\r\n",
        "fig = px.line(\r\n",
        "    falsely_let_in_df.T,\r\n",
        "    labels={\"value\":\"Accepted\",\"index\":\"Difference\",\"variable\":\"Dataset\"}\r\n",
        ")\r\n",
        "fig.update_layout(height=400, width=800, title_text=\"Inaccurate examples accepted\")\r\n",
        "fig.show()"
      ],
      "execution_count": null,
      "outputs": [
        {
          "output_type": "display_data",
          "data": {
            "text/html": [
              "<html>\n",
              "<head><meta charset=\"utf-8\" /></head>\n",
              "<body>\n",
              "    <div>            <script src=\"https://cdnjs.cloudflare.com/ajax/libs/mathjax/2.7.5/MathJax.js?config=TeX-AMS-MML_SVG\"></script><script type=\"text/javascript\">if (window.MathJax) {MathJax.Hub.Config({SVG: {font: \"STIX-Web\"}});}</script>                <script type=\"text/javascript\">window.PlotlyConfig = {MathJaxConfig: 'local'};</script>\n",
              "        <script src=\"https://cdn.plot.ly/plotly-latest.min.js\"></script>                <div id=\"4a87cb6d-e409-4ff4-b624-8263b65b21b1\" class=\"plotly-graph-div\" style=\"height:400px; width:800px;\"></div>            <script type=\"text/javascript\">                                    window.PLOTLYENV=window.PLOTLYENV || {};                                    if (document.getElementById(\"4a87cb6d-e409-4ff4-b624-8263b65b21b1\")) {                    Plotly.newPlot(                        \"4a87cb6d-e409-4ff4-b624-8263b65b21b1\",                        [{\"hovertemplate\": \"Dataset=mnist<br>Difference=%{x}<br>Discarded=%{y}<extra></extra>\", \"legendgroup\": \"mnist\", \"line\": {\"color\": \"#636efa\", \"dash\": \"solid\"}, \"mode\": \"lines\", \"name\": \"mnist\", \"orientation\": \"v\", \"showlegend\": true, \"type\": \"scatter\", \"x\": [0.0, 3.0517578125e-15, 9.765625e-14, 7.415771484375001e-13, 3.125e-12, 9.5367431640625e-12, 2.3730468750000002e-11, 5.12908935546875e-11, 1e-10, 1.802032470703125e-10, 3.0517578125e-10, 4.914886474609375e-10, 7.593750000000001e-10, 1.1330963134765626e-09, 1.64130859375e-09, 2.3174285888671878e-09, 3.2e-09, 4.333059692382813e-09, 5.76650390625e-09, 7.556454467773438e-09, 9.765625e-09, 1.2463687133789064e-08, 1.572763671875e-08, 1.9642160034179688e-08, 2.4300000000000003e-08, 2.9802322387695312e-08, 3.6259082031250004e-08, 4.378938903808594e-08, 5.2521875e-08, 6.259505920410156e-08, 7.415771484375001e-08, 8.73692352294922e-08, 1.024e-07, 1.1943174133300782e-07, 1.3865791015625e-07, 1.6028404235839843e-07, 1.84528125e-07, 2.1162096252441407e-07, 2.4180654296875e-07, 2.753424041748047e-07, 3.125e-07, 3.5356506652832034e-07, 3.9883798828125003e-07, 4.4863416442871093e-07, 5.03284375e-07, 5.631351470947266e-07, 6.2854912109375e-07, 6.999054168701173e-07, 7.776000000000001e-07, 8.620460479736328e-07, 9.5367431640625e-07, 1.0529335052490235e-06, 1.1602906250000001e-06, 1.2762313629150391e-06, 1.40126044921875e-06, 1.5359020233154298e-06, 1.6807e-06, 1.8362184356689453e-06, 2.00304189453125e-06, 2.181775814819336e-06, 2.3730468750000003e-06, 2.5775033599853516e-06, 2.79581552734375e-06, 3.028675973510742e-06, 3.2768e-06, 3.540925979614258e-06, 3.82181572265625e-06, 4.120254843139649e-06, 4.437053125e-06, 4.773044888305665e-06, 5.12908935546875e-06, 5.506071017456055e-06, 5.9049e-06, 6.326512429809571e-06, 6.77187080078125e-06, 7.241964340209961e-06, 7.737809375e-06, 8.260449697875977e-06, 8.81095693359375e-06, 9.390430905151367e-06, 1e-05, 1.0640821536254882e-05, 1.1314082128906251e-05, 1.2020998056030274e-05, 1.2762815625000001e-05, 1.354081153869629e-05, 1.435629326171875e-05, 1.521059938659668e-05, 1.61051e-05, 1.7041197048950197e-05, 1.8020324707031252e-05, 1.9043949740600587e-05, 2.0113571875e-05, 2.12307241607666e-05, 2.2396973339843752e-05, 2.3613920211791992e-05, 2.4883200000000003e-05, 2.6206482717895508e-05, 2.758547353515625e-05, 2.90219131439209e-05, 3.0517578125e-05, 3.207428131408692e-05, 3.369387216796875e-05, 3.537823713073731e-05, 3.7129300000000004e-05, 3.8949022293090824e-05, 4.083940361328125e-05, 4.280248201599121e-05, 4.4840334375e-05, 4.695507674865723e-05, 4.914886474609375e-05, 5.142389389343262e-05, 5.37824e-05, 5.622665952453613e-05, 5.875898994140625e-05, 6.138175010681153e-05, 6.4097340625e-05, 6.690820421447754e-05, 6.981682607421875e-05, 7.282573424987793e-05, 7.593750000000001e-05, 7.915473816223145e-05, 8.248010751953125e-05, 8.591631116638184e-05, 8.9466096875e-05, 9.313225746154785e-05, 9.691763115234375e-05, 0.00010082510195007325, 0.0001048576, 0.00010901810195617676, 0.00011330963134765625, 0.00011773525894470216, 0.000122298103125, 0.00012700133023986818, 0.00013184815498046875, 0.00013684184074401855, 0.0001419857, 0.00014728309465637207, 0.00015273743642578127, 0.00015835218719177248, 0.000164130859375, 0.00017007701629943847, 0.00017619427255859376, 0.00018248629438171387, 0.0001889568, 0.00019560956001281739, 0.00020244839775390627, 0.00020947718965759279, 0.000216699865625, 0.0002241204093902588, 0.00023174285888671875, 0.00023957130661315918, 0.0002476099, 0.0002558628417755127, 0.00026433439033203126, 0.0002730288600921631, 0.000281950621875, 0.0002911041032623291, 0.00030049378896484374, 0.0003101242211883545, 0.00032, 0.00033012578369445803, 0.00034050628916015624, 0.0003511462922454834, 0.00036205062812500003, 0.0003732241916656494, 0.00038467193779296877, 0.0003963988818572998, 0.00040841010000000004, 0.0004207107295196533, 0.00043330596923828125, 0.0004462010798675537, 0.000459401384375, 0.00047291226835021973, 0.00048673918037109374, 0.0005008876323699951, 0.0005153632, 0.0005301715230010987, 0.0005453183055664063, 0.000560809316708374, 0.0005766503906250001, 0.0005928474270660401, 0.0006094063916992188, 0.0006263333164764404, 0.0006436343, 0.000661315507888794, 0.0006793831731445312, 0.0006978435965179444, 0.0007167031468750001, 0.0007359682615631104, 0.0007556454467773437, 0.0007757412779266357, 0.0007962624000000001, 0.0008172155279327392, 0.0008386074469726563, 0.0008604450130462646, 0.000882735153125, 0.0009054848655914307, 0.0009287012206054688, 0.0009523913604705811, 0.0009765625, 0.0010012219268829346, 0.0010263770020507814, 0.001052035160043335, 0.001078203909375, 0.001104890832901001, 0.0011321035881835938, 0.0011598499078582763, 0.0011881376000000001, 0.00121697454848938, 0.0012463687133789064, 0.0012763281312591554, 0.001306860915625, 0.0013379752572418213, 0.0013696794245117187, 0.0014019817638397218, 0.0014348907, 0.0014684147365020752, 0.0015025624559570313, 0.0015373425204437256, 0.001572763671875, 0.0016088347323638917, 0.0016455646045898439, 0.001682962272164917, 0.0017210368, 0.0017597973346710205, 0.0017992531047851563, 0.001839413421347046, 0.001880287678125, 0.001921885352017212, 0.001964216003417969, 0.0020072892765838624, 0.0020511149, 0.002095702686746216, 0.0021410625348632813, 0.002187204427719116, 0.002234138434375, 0.0022818747099517824, 0.002330423495996094, 0.0023797951208465577, 0.0024300000000000003, 0.0024810486364776614, 0.0025329516211914063, 0.002585719633309937, 0.002639363440625, 0.002693893899917603, 0.002749321957324219, 0.002805658648703003, 0.0028629151, 0.0029211025276153564], \"xaxis\": \"x\", \"y\": [10000.0, 10000.0, 10000.0, 10000.0, 10000.0, 10000.0, 10000.0, 10000.0, 10000.0, 10000.0, 10000.0, 10000.0, 10000.0, 10000.0, 10000.0, 10000.0, 10000.0, 10000.0, 10000.0, 10000.0, 10000.0, 10000.0, 10000.0, 10000.0, 10000.0, 10000.0, 10000.0, 9999.0, 9999.0, 9998.0, 9997.0, 9993.0, 9991.0, 9991.0, 9990.0, 9988.0, 9986.0, 9985.0, 9983.0, 9981.0, 9978.0, 9975.0, 9974.0, 9971.0, 9968.0, 9950.0, 9022.0, 9013.0, 8981.0, 8021.0, 8019.0, 8016.0, 8013.0, 8011.0, 8007.0, 8004.0, 8004.0, 7997.0, 7987.0, 7980.0, 7969.0, 6996.0, 6993.0, 6988.0, 6986.0, 6981.0, 6974.0, 6972.0, 6965.0, 6954.0, 6950.0, 6943.0, 6933.0, 6925.0, 6919.0, 6908.0, 6886.0, 6871.0, 6780.0, 5912.0, 5030.0, 5026.0, 5023.0, 5017.0, 5013.0, 5009.0, 5000.0, 4995.0, 4986.0, 4982.0, 4977.0, 4970.0, 4962.0, 4950.0, 4934.0, 4921.0, 4905.0, 4886.0, 3925.0, 3911.0, 3051.0, 3043.0, 3030.0, 3009.0, 2972.0, 2926.0, 2821.0, 2008.0, 1999.0, 1994.0, 1989.0, 1976.0, 992.0, 992.0, 991.0, 990.0, 980.0, 979.0, 977.0, 975.0, 975.0, 974.0, 970.0, 965.0, 962.0, 959.0, 957.0, 954.0, 950.0, 937.0, 18.0, 18.0, 18.0, 18.0, 17.0, 15.0, 15.0, 14.0, 14.0, 14.0, 13.0, 11.0, 11.0, 11.0, 11.0, 9.0, 9.0, 9.0, 9.0, 9.0, 9.0, 9.0, 8.0, 8.0, 8.0, 8.0, 8.0, 8.0, 8.0, 7.0, 7.0, 7.0, 7.0, 7.0, 6.0, 6.0, 6.0, 6.0, 6.0, 4.0, 4.0, 4.0, 3.0, 2.0, 2.0, 1.0, 1.0, 1.0, 1.0, 1.0, 1.0, 1.0, 1.0, 1.0, 1.0, 1.0, 0.0, 0.0, 0.0, 0.0, 0.0, 0.0, 0.0, 0.0, 0.0, 0.0, 0.0, 0.0, 0.0, 0.0, 0.0, 0.0, 0.0, 0.0, 0.0, 0.0, 0.0, 0.0, 0.0, 0.0, 0.0, 0.0, 0.0, 0.0, 0.0, 0.0, 0.0, 0.0, 0.0, 0.0, 0.0, 0.0, 0.0, 0.0, 0.0, 0.0, 0.0, 0.0, 0.0, 0.0, 0.0, 0.0, 0.0, 0.0, 0.0, 0.0, 0.0, 0.0, 0.0, 0.0, 0.0, 0.0, 0.0, 0.0, 0.0, 0.0, 0.0, 0.0, 0.0, 0.0], \"yaxis\": \"y\"}, {\"hovertemplate\": \"Dataset=fashion_mnist<br>Difference=%{x}<br>Discarded=%{y}<extra></extra>\", \"legendgroup\": \"fashion_mnist\", \"line\": {\"color\": \"#EF553B\", \"dash\": \"solid\"}, \"mode\": \"lines\", \"name\": \"fashion_mnist\", \"orientation\": \"v\", \"showlegend\": true, \"type\": \"scatter\", \"x\": [0.0, 3.0517578125e-15, 9.765625e-14, 7.415771484375001e-13, 3.125e-12, 9.5367431640625e-12, 2.3730468750000002e-11, 5.12908935546875e-11, 1e-10, 1.802032470703125e-10, 3.0517578125e-10, 4.914886474609375e-10, 7.593750000000001e-10, 1.1330963134765626e-09, 1.64130859375e-09, 2.3174285888671878e-09, 3.2e-09, 4.333059692382813e-09, 5.76650390625e-09, 7.556454467773438e-09, 9.765625e-09, 1.2463687133789064e-08, 1.572763671875e-08, 1.9642160034179688e-08, 2.4300000000000003e-08, 2.9802322387695312e-08, 3.6259082031250004e-08, 4.378938903808594e-08, 5.2521875e-08, 6.259505920410156e-08, 7.415771484375001e-08, 8.73692352294922e-08, 1.024e-07, 1.1943174133300782e-07, 1.3865791015625e-07, 1.6028404235839843e-07, 1.84528125e-07, 2.1162096252441407e-07, 2.4180654296875e-07, 2.753424041748047e-07, 3.125e-07, 3.5356506652832034e-07, 3.9883798828125003e-07, 4.4863416442871093e-07, 5.03284375e-07, 5.631351470947266e-07, 6.2854912109375e-07, 6.999054168701173e-07, 7.776000000000001e-07, 8.620460479736328e-07, 9.5367431640625e-07, 1.0529335052490235e-06, 1.1602906250000001e-06, 1.2762313629150391e-06, 1.40126044921875e-06, 1.5359020233154298e-06, 1.6807e-06, 1.8362184356689453e-06, 2.00304189453125e-06, 2.181775814819336e-06, 2.3730468750000003e-06, 2.5775033599853516e-06, 2.79581552734375e-06, 3.028675973510742e-06, 3.2768e-06, 3.540925979614258e-06, 3.82181572265625e-06, 4.120254843139649e-06, 4.437053125e-06, 4.773044888305665e-06, 5.12908935546875e-06, 5.506071017456055e-06, 5.9049e-06, 6.326512429809571e-06, 6.77187080078125e-06, 7.241964340209961e-06, 7.737809375e-06, 8.260449697875977e-06, 8.81095693359375e-06, 9.390430905151367e-06, 1e-05, 1.0640821536254882e-05, 1.1314082128906251e-05, 1.2020998056030274e-05, 1.2762815625000001e-05, 1.354081153869629e-05, 1.435629326171875e-05, 1.521059938659668e-05, 1.61051e-05, 1.7041197048950197e-05, 1.8020324707031252e-05, 1.9043949740600587e-05, 2.0113571875e-05, 2.12307241607666e-05, 2.2396973339843752e-05, 2.3613920211791992e-05, 2.4883200000000003e-05, 2.6206482717895508e-05, 2.758547353515625e-05, 2.90219131439209e-05, 3.0517578125e-05, 3.207428131408692e-05, 3.369387216796875e-05, 3.537823713073731e-05, 3.7129300000000004e-05, 3.8949022293090824e-05, 4.083940361328125e-05, 4.280248201599121e-05, 4.4840334375e-05, 4.695507674865723e-05, 4.914886474609375e-05, 5.142389389343262e-05, 5.37824e-05, 5.622665952453613e-05, 5.875898994140625e-05, 6.138175010681153e-05, 6.4097340625e-05, 6.690820421447754e-05, 6.981682607421875e-05, 7.282573424987793e-05, 7.593750000000001e-05, 7.915473816223145e-05, 8.248010751953125e-05, 8.591631116638184e-05, 8.9466096875e-05, 9.313225746154785e-05, 9.691763115234375e-05, 0.00010082510195007325, 0.0001048576, 0.00010901810195617676, 0.00011330963134765625, 0.00011773525894470216, 0.000122298103125, 0.00012700133023986818, 0.00013184815498046875, 0.00013684184074401855, 0.0001419857, 0.00014728309465637207, 0.00015273743642578127, 0.00015835218719177248, 0.000164130859375, 0.00017007701629943847, 0.00017619427255859376, 0.00018248629438171387, 0.0001889568, 0.00019560956001281739, 0.00020244839775390627, 0.00020947718965759279, 0.000216699865625, 0.0002241204093902588, 0.00023174285888671875, 0.00023957130661315918, 0.0002476099, 0.0002558628417755127, 0.00026433439033203126, 0.0002730288600921631, 0.000281950621875, 0.0002911041032623291, 0.00030049378896484374, 0.0003101242211883545, 0.00032, 0.00033012578369445803, 0.00034050628916015624, 0.0003511462922454834, 0.00036205062812500003, 0.0003732241916656494, 0.00038467193779296877, 0.0003963988818572998, 0.00040841010000000004, 0.0004207107295196533, 0.00043330596923828125, 0.0004462010798675537, 0.000459401384375, 0.00047291226835021973, 0.00048673918037109374, 0.0005008876323699951, 0.0005153632, 0.0005301715230010987, 0.0005453183055664063, 0.000560809316708374, 0.0005766503906250001, 0.0005928474270660401, 0.0006094063916992188, 0.0006263333164764404, 0.0006436343, 0.000661315507888794, 0.0006793831731445312, 0.0006978435965179444, 0.0007167031468750001, 0.0007359682615631104, 0.0007556454467773437, 0.0007757412779266357, 0.0007962624000000001, 0.0008172155279327392, 0.0008386074469726563, 0.0008604450130462646, 0.000882735153125, 0.0009054848655914307, 0.0009287012206054688, 0.0009523913604705811, 0.0009765625, 0.0010012219268829346, 0.0010263770020507814, 0.001052035160043335, 0.001078203909375, 0.001104890832901001, 0.0011321035881835938, 0.0011598499078582763, 0.0011881376000000001, 0.00121697454848938, 0.0012463687133789064, 0.0012763281312591554, 0.001306860915625, 0.0013379752572418213, 0.0013696794245117187, 0.0014019817638397218, 0.0014348907, 0.0014684147365020752, 0.0015025624559570313, 0.0015373425204437256, 0.001572763671875, 0.0016088347323638917, 0.0016455646045898439, 0.001682962272164917, 0.0017210368, 0.0017597973346710205, 0.0017992531047851563, 0.001839413421347046, 0.001880287678125, 0.001921885352017212, 0.001964216003417969, 0.0020072892765838624, 0.0020511149, 0.002095702686746216, 0.0021410625348632813, 0.002187204427719116, 0.002234138434375, 0.0022818747099517824, 0.002330423495996094, 0.0023797951208465577, 0.0024300000000000003, 0.0024810486364776614, 0.0025329516211914063, 0.002585719633309937, 0.002639363440625, 0.002693893899917603, 0.002749321957324219, 0.002805658648703003, 0.0028629151, 0.0029211025276153564], \"xaxis\": \"x\", \"y\": [10000.0, 10000.0, 10000.0, 10000.0, 10000.0, 10000.0, 10000.0, 10000.0, 10000.0, 10000.0, 10000.0, 10000.0, 10000.0, 10000.0, 10000.0, 10000.0, 10000.0, 9999.0, 9998.0, 9998.0, 9998.0, 9998.0, 9998.0, 9998.0, 9997.0, 9997.0, 9997.0, 9997.0, 9997.0, 9994.0, 9993.0, 9990.0, 9984.0, 9981.0, 9978.0, 9974.0, 9973.0, 9970.0, 9964.0, 9959.0, 9955.0, 9947.0, 9941.0, 9936.0, 9928.0, 9919.0, 9913.0, 9906.0, 9898.0, 9888.0, 9873.0, 9861.0, 9845.0, 9835.0, 9820.0, 9801.0, 9789.0, 9773.0, 9757.0, 9737.0, 9720.0, 9695.0, 9666.0, 9642.0, 9622.0, 9596.0, 9574.0, 9544.0, 9500.0, 9456.0, 9401.0, 9335.0, 9286.0, 9211.0, 9119.0, 8991.0, 8637.0, 7566.0, 7521.0, 7479.0, 7427.0, 7353.0, 7145.0, 6383.0, 6327.0, 6268.0, 6185.0, 6070.0, 5330.0, 5271.0, 5195.0, 5089.0, 4237.0, 4082.0, 3516.0, 3460.0, 3387.0, 3241.0, 2783.0, 2765.0, 2742.0, 2716.0, 2690.0, 2662.0, 2626.0, 2585.0, 2503.0, 2343.0, 1867.0, 1855.0, 1837.0, 1823.0, 1810.0, 1794.0, 1773.0, 1756.0, 1730.0, 1699.0, 1662.0, 1629.0, 1572.0, 1474.0, 1250.0, 1042.0, 1036.0, 1030.0, 1027.0, 1022.0, 1016.0, 1009.0, 1005.0, 998.0, 992.0, 985.0, 977.0, 971.0, 964.0, 955.0, 948.0, 933.0, 926.0, 911.0, 896.0, 868.0, 837.0, 765.0, 61.0, 58.0, 55.0, 55.0, 54.0, 51.0, 46.0, 46.0, 45.0, 43.0, 42.0, 40.0, 38.0, 32.0, 31.0, 30.0, 27.0, 26.0, 25.0, 25.0, 23.0, 23.0, 23.0, 23.0, 23.0, 22.0, 21.0, 20.0, 19.0, 17.0, 16.0, 16.0, 16.0, 16.0, 14.0, 14.0, 14.0, 14.0, 14.0, 12.0, 12.0, 12.0, 11.0, 10.0, 9.0, 9.0, 9.0, 9.0, 8.0, 8.0, 8.0, 8.0, 8.0, 8.0, 8.0, 6.0, 6.0, 6.0, 6.0, 5.0, 5.0, 5.0, 5.0, 4.0, 4.0, 3.0, 3.0, 3.0, 3.0, 3.0, 3.0, 3.0, 3.0, 3.0, 3.0, 3.0, 3.0, 3.0, 3.0, 3.0, 3.0, 3.0, 3.0, 3.0, 3.0, 3.0, 2.0, 2.0, 0.0, 0.0, 0.0, 0.0, 0.0, 0.0, 0.0, 0.0, 0.0, 0.0, 0.0, 0.0, 0.0, 0.0, 0.0, 0.0], \"yaxis\": \"y\"}, {\"hovertemplate\": \"Dataset=cifar10<br>Difference=%{x}<br>Discarded=%{y}<extra></extra>\", \"legendgroup\": \"cifar10\", \"line\": {\"color\": \"#00cc96\", \"dash\": \"solid\"}, \"mode\": \"lines\", \"name\": \"cifar10\", \"orientation\": \"v\", \"showlegend\": true, \"type\": \"scatter\", \"x\": [0.0, 3.0517578125e-15, 9.765625e-14, 7.415771484375001e-13, 3.125e-12, 9.5367431640625e-12, 2.3730468750000002e-11, 5.12908935546875e-11, 1e-10, 1.802032470703125e-10, 3.0517578125e-10, 4.914886474609375e-10, 7.593750000000001e-10, 1.1330963134765626e-09, 1.64130859375e-09, 2.3174285888671878e-09, 3.2e-09, 4.333059692382813e-09, 5.76650390625e-09, 7.556454467773438e-09, 9.765625e-09, 1.2463687133789064e-08, 1.572763671875e-08, 1.9642160034179688e-08, 2.4300000000000003e-08, 2.9802322387695312e-08, 3.6259082031250004e-08, 4.378938903808594e-08, 5.2521875e-08, 6.259505920410156e-08, 7.415771484375001e-08, 8.73692352294922e-08, 1.024e-07, 1.1943174133300782e-07, 1.3865791015625e-07, 1.6028404235839843e-07, 1.84528125e-07, 2.1162096252441407e-07, 2.4180654296875e-07, 2.753424041748047e-07, 3.125e-07, 3.5356506652832034e-07, 3.9883798828125003e-07, 4.4863416442871093e-07, 5.03284375e-07, 5.631351470947266e-07, 6.2854912109375e-07, 6.999054168701173e-07, 7.776000000000001e-07, 8.620460479736328e-07, 9.5367431640625e-07, 1.0529335052490235e-06, 1.1602906250000001e-06, 1.2762313629150391e-06, 1.40126044921875e-06, 1.5359020233154298e-06, 1.6807e-06, 1.8362184356689453e-06, 2.00304189453125e-06, 2.181775814819336e-06, 2.3730468750000003e-06, 2.5775033599853516e-06, 2.79581552734375e-06, 3.028675973510742e-06, 3.2768e-06, 3.540925979614258e-06, 3.82181572265625e-06, 4.120254843139649e-06, 4.437053125e-06, 4.773044888305665e-06, 5.12908935546875e-06, 5.506071017456055e-06, 5.9049e-06, 6.326512429809571e-06, 6.77187080078125e-06, 7.241964340209961e-06, 7.737809375e-06, 8.260449697875977e-06, 8.81095693359375e-06, 9.390430905151367e-06, 1e-05, 1.0640821536254882e-05, 1.1314082128906251e-05, 1.2020998056030274e-05, 1.2762815625000001e-05, 1.354081153869629e-05, 1.435629326171875e-05, 1.521059938659668e-05, 1.61051e-05, 1.7041197048950197e-05, 1.8020324707031252e-05, 1.9043949740600587e-05, 2.0113571875e-05, 2.12307241607666e-05, 2.2396973339843752e-05, 2.3613920211791992e-05, 2.4883200000000003e-05, 2.6206482717895508e-05, 2.758547353515625e-05, 2.90219131439209e-05, 3.0517578125e-05, 3.207428131408692e-05, 3.369387216796875e-05, 3.537823713073731e-05, 3.7129300000000004e-05, 3.8949022293090824e-05, 4.083940361328125e-05, 4.280248201599121e-05, 4.4840334375e-05, 4.695507674865723e-05, 4.914886474609375e-05, 5.142389389343262e-05, 5.37824e-05, 5.622665952453613e-05, 5.875898994140625e-05, 6.138175010681153e-05, 6.4097340625e-05, 6.690820421447754e-05, 6.981682607421875e-05, 7.282573424987793e-05, 7.593750000000001e-05, 7.915473816223145e-05, 8.248010751953125e-05, 8.591631116638184e-05, 8.9466096875e-05, 9.313225746154785e-05, 9.691763115234375e-05, 0.00010082510195007325, 0.0001048576, 0.00010901810195617676, 0.00011330963134765625, 0.00011773525894470216, 0.000122298103125, 0.00012700133023986818, 0.00013184815498046875, 0.00013684184074401855, 0.0001419857, 0.00014728309465637207, 0.00015273743642578127, 0.00015835218719177248, 0.000164130859375, 0.00017007701629943847, 0.00017619427255859376, 0.00018248629438171387, 0.0001889568, 0.00019560956001281739, 0.00020244839775390627, 0.00020947718965759279, 0.000216699865625, 0.0002241204093902588, 0.00023174285888671875, 0.00023957130661315918, 0.0002476099, 0.0002558628417755127, 0.00026433439033203126, 0.0002730288600921631, 0.000281950621875, 0.0002911041032623291, 0.00030049378896484374, 0.0003101242211883545, 0.00032, 0.00033012578369445803, 0.00034050628916015624, 0.0003511462922454834, 0.00036205062812500003, 0.0003732241916656494, 0.00038467193779296877, 0.0003963988818572998, 0.00040841010000000004, 0.0004207107295196533, 0.00043330596923828125, 0.0004462010798675537, 0.000459401384375, 0.00047291226835021973, 0.00048673918037109374, 0.0005008876323699951, 0.0005153632, 0.0005301715230010987, 0.0005453183055664063, 0.000560809316708374, 0.0005766503906250001, 0.0005928474270660401, 0.0006094063916992188, 0.0006263333164764404, 0.0006436343, 0.000661315507888794, 0.0006793831731445312, 0.0006978435965179444, 0.0007167031468750001, 0.0007359682615631104, 0.0007556454467773437, 0.0007757412779266357, 0.0007962624000000001, 0.0008172155279327392, 0.0008386074469726563, 0.0008604450130462646, 0.000882735153125, 0.0009054848655914307, 0.0009287012206054688, 0.0009523913604705811, 0.0009765625, 0.0010012219268829346, 0.0010263770020507814, 0.001052035160043335, 0.001078203909375, 0.001104890832901001, 0.0011321035881835938, 0.0011598499078582763, 0.0011881376000000001, 0.00121697454848938, 0.0012463687133789064, 0.0012763281312591554, 0.001306860915625, 0.0013379752572418213, 0.0013696794245117187, 0.0014019817638397218, 0.0014348907, 0.0014684147365020752, 0.0015025624559570313, 0.0015373425204437256, 0.001572763671875, 0.0016088347323638917, 0.0016455646045898439, 0.001682962272164917, 0.0017210368, 0.0017597973346710205, 0.0017992531047851563, 0.001839413421347046, 0.001880287678125, 0.001921885352017212, 0.001964216003417969, 0.0020072892765838624, 0.0020511149, 0.002095702686746216, 0.0021410625348632813, 0.002187204427719116, 0.002234138434375, 0.0022818747099517824, 0.002330423495996094, 0.0023797951208465577, 0.0024300000000000003, 0.0024810486364776614, 0.0025329516211914063, 0.002585719633309937, 0.002639363440625, 0.002693893899917603, 0.002749321957324219, 0.002805658648703003, 0.0028629151, 0.0029211025276153564], \"xaxis\": \"x\", \"y\": [10000.0, 10000.0, 10000.0, 10000.0, 10000.0, 10000.0, 10000.0, 10000.0, 10000.0, 10000.0, 10000.0, 10000.0, 10000.0, 10000.0, 10000.0, 10000.0, 10000.0, 10000.0, 10000.0, 10000.0, 10000.0, 10000.0, 10000.0, 10000.0, 10000.0, 10000.0, 10000.0, 10000.0, 10000.0, 10000.0, 10000.0, 10000.0, 10000.0, 10000.0, 10000.0, 10000.0, 10000.0, 10000.0, 10000.0, 10000.0, 10000.0, 10000.0, 10000.0, 10000.0, 9999.0, 9999.0, 9999.0, 9999.0, 9998.0, 9998.0, 9998.0, 9998.0, 9997.0, 9996.0, 9996.0, 9996.0, 9995.0, 9995.0, 9994.0, 9992.0, 9990.0, 9985.0, 9983.0, 9982.0, 9982.0, 9981.0, 9980.0, 9978.0, 9977.0, 9974.0, 9974.0, 9972.0, 9968.0, 9967.0, 9967.0, 9966.0, 9964.0, 9961.0, 9961.0, 9958.0, 9954.0, 9952.0, 9950.0, 9950.0, 9947.0, 9946.0, 9940.0, 9933.0, 9929.0, 9924.0, 9918.0, 9917.0, 9908.0, 9902.0, 9890.0, 9882.0, 9879.0, 9872.0, 9865.0, 9856.0, 9852.0, 9841.0, 9832.0, 9827.0, 9818.0, 9812.0, 9803.0, 9795.0, 9782.0, 9776.0, 9769.0, 9759.0, 9753.0, 9744.0, 9723.0, 9713.0, 9696.0, 9683.0, 9670.0, 9651.0, 9631.0, 9615.0, 9597.0, 9573.0, 9552.0, 9541.0, 9528.0, 9511.0, 9496.0, 9476.0, 9454.0, 9439.0, 9413.0, 9392.0, 9368.0, 9332.0, 9312.0, 9289.0, 9257.0, 9225.0, 9183.0, 9152.0, 9116.0, 9064.0, 9003.0, 8859.0, 8292.0, 8262.0, 8237.0, 8213.0, 8184.0, 8155.0, 8129.0, 8098.0, 8058.0, 8015.0, 7955.0, 7856.0, 7207.0, 7162.0, 7097.0, 6381.0, 6346.0, 6302.0, 6244.0, 6115.0, 5554.0, 5528.0, 5497.0, 5452.0, 5409.0, 4614.0, 4589.0, 4564.0, 4542.0, 4511.0, 4498.0, 4478.0, 4453.0, 4421.0, 4399.0, 4367.0, 4331.0, 4297.0, 4253.0, 4202.0, 4140.0, 4032.0, 3482.0, 3458.0, 3424.0, 3380.0, 3308.0, 3025.0, 2582.0, 2535.0, 2507.0, 2446.0, 2174.0, 1905.0, 1890.0, 1869.0, 1861.0, 1851.0, 1834.0, 1817.0, 1804.0, 1796.0, 1785.0, 1766.0, 1744.0, 1729.0, 1715.0, 1697.0, 1684.0, 1664.0, 1648.0, 1638.0, 1625.0, 1610.0, 1593.0, 1573.0, 1535.0, 1499.0, 1418.0, 782.0, 753.0, 711.0, 236.0, 224.0, 218.0, 207.0, 187.0, 186.0, 176.0, 169.0, 166.0, 165.0, 161.0, 155.0, 153.0, 149.0, 144.0, 140.0, 138.0, 134.0, 131.0, 125.0, 124.0, 120.0], \"yaxis\": \"y\"}, {\"hovertemplate\": \"Dataset=cifar100<br>Difference=%{x}<br>Discarded=%{y}<extra></extra>\", \"legendgroup\": \"cifar100\", \"line\": {\"color\": \"#ab63fa\", \"dash\": \"solid\"}, \"mode\": \"lines\", \"name\": \"cifar100\", \"orientation\": \"v\", \"showlegend\": true, \"type\": \"scatter\", \"x\": [0.0, 3.0517578125e-15, 9.765625e-14, 7.415771484375001e-13, 3.125e-12, 9.5367431640625e-12, 2.3730468750000002e-11, 5.12908935546875e-11, 1e-10, 1.802032470703125e-10, 3.0517578125e-10, 4.914886474609375e-10, 7.593750000000001e-10, 1.1330963134765626e-09, 1.64130859375e-09, 2.3174285888671878e-09, 3.2e-09, 4.333059692382813e-09, 5.76650390625e-09, 7.556454467773438e-09, 9.765625e-09, 1.2463687133789064e-08, 1.572763671875e-08, 1.9642160034179688e-08, 2.4300000000000003e-08, 2.9802322387695312e-08, 3.6259082031250004e-08, 4.378938903808594e-08, 5.2521875e-08, 6.259505920410156e-08, 7.415771484375001e-08, 8.73692352294922e-08, 1.024e-07, 1.1943174133300782e-07, 1.3865791015625e-07, 1.6028404235839843e-07, 1.84528125e-07, 2.1162096252441407e-07, 2.4180654296875e-07, 2.753424041748047e-07, 3.125e-07, 3.5356506652832034e-07, 3.9883798828125003e-07, 4.4863416442871093e-07, 5.03284375e-07, 5.631351470947266e-07, 6.2854912109375e-07, 6.999054168701173e-07, 7.776000000000001e-07, 8.620460479736328e-07, 9.5367431640625e-07, 1.0529335052490235e-06, 1.1602906250000001e-06, 1.2762313629150391e-06, 1.40126044921875e-06, 1.5359020233154298e-06, 1.6807e-06, 1.8362184356689453e-06, 2.00304189453125e-06, 2.181775814819336e-06, 2.3730468750000003e-06, 2.5775033599853516e-06, 2.79581552734375e-06, 3.028675973510742e-06, 3.2768e-06, 3.540925979614258e-06, 3.82181572265625e-06, 4.120254843139649e-06, 4.437053125e-06, 4.773044888305665e-06, 5.12908935546875e-06, 5.506071017456055e-06, 5.9049e-06, 6.326512429809571e-06, 6.77187080078125e-06, 7.241964340209961e-06, 7.737809375e-06, 8.260449697875977e-06, 8.81095693359375e-06, 9.390430905151367e-06, 1e-05, 1.0640821536254882e-05, 1.1314082128906251e-05, 1.2020998056030274e-05, 1.2762815625000001e-05, 1.354081153869629e-05, 1.435629326171875e-05, 1.521059938659668e-05, 1.61051e-05, 1.7041197048950197e-05, 1.8020324707031252e-05, 1.9043949740600587e-05, 2.0113571875e-05, 2.12307241607666e-05, 2.2396973339843752e-05, 2.3613920211791992e-05, 2.4883200000000003e-05, 2.6206482717895508e-05, 2.758547353515625e-05, 2.90219131439209e-05, 3.0517578125e-05, 3.207428131408692e-05, 3.369387216796875e-05, 3.537823713073731e-05, 3.7129300000000004e-05, 3.8949022293090824e-05, 4.083940361328125e-05, 4.280248201599121e-05, 4.4840334375e-05, 4.695507674865723e-05, 4.914886474609375e-05, 5.142389389343262e-05, 5.37824e-05, 5.622665952453613e-05, 5.875898994140625e-05, 6.138175010681153e-05, 6.4097340625e-05, 6.690820421447754e-05, 6.981682607421875e-05, 7.282573424987793e-05, 7.593750000000001e-05, 7.915473816223145e-05, 8.248010751953125e-05, 8.591631116638184e-05, 8.9466096875e-05, 9.313225746154785e-05, 9.691763115234375e-05, 0.00010082510195007325, 0.0001048576, 0.00010901810195617676, 0.00011330963134765625, 0.00011773525894470216, 0.000122298103125, 0.00012700133023986818, 0.00013184815498046875, 0.00013684184074401855, 0.0001419857, 0.00014728309465637207, 0.00015273743642578127, 0.00015835218719177248, 0.000164130859375, 0.00017007701629943847, 0.00017619427255859376, 0.00018248629438171387, 0.0001889568, 0.00019560956001281739, 0.00020244839775390627, 0.00020947718965759279, 0.000216699865625, 0.0002241204093902588, 0.00023174285888671875, 0.00023957130661315918, 0.0002476099, 0.0002558628417755127, 0.00026433439033203126, 0.0002730288600921631, 0.000281950621875, 0.0002911041032623291, 0.00030049378896484374, 0.0003101242211883545, 0.00032, 0.00033012578369445803, 0.00034050628916015624, 0.0003511462922454834, 0.00036205062812500003, 0.0003732241916656494, 0.00038467193779296877, 0.0003963988818572998, 0.00040841010000000004, 0.0004207107295196533, 0.00043330596923828125, 0.0004462010798675537, 0.000459401384375, 0.00047291226835021973, 0.00048673918037109374, 0.0005008876323699951, 0.0005153632, 0.0005301715230010987, 0.0005453183055664063, 0.000560809316708374, 0.0005766503906250001, 0.0005928474270660401, 0.0006094063916992188, 0.0006263333164764404, 0.0006436343, 0.000661315507888794, 0.0006793831731445312, 0.0006978435965179444, 0.0007167031468750001, 0.0007359682615631104, 0.0007556454467773437, 0.0007757412779266357, 0.0007962624000000001, 0.0008172155279327392, 0.0008386074469726563, 0.0008604450130462646, 0.000882735153125, 0.0009054848655914307, 0.0009287012206054688, 0.0009523913604705811, 0.0009765625, 0.0010012219268829346, 0.0010263770020507814, 0.001052035160043335, 0.001078203909375, 0.001104890832901001, 0.0011321035881835938, 0.0011598499078582763, 0.0011881376000000001, 0.00121697454848938, 0.0012463687133789064, 0.0012763281312591554, 0.001306860915625, 0.0013379752572418213, 0.0013696794245117187, 0.0014019817638397218, 0.0014348907, 0.0014684147365020752, 0.0015025624559570313, 0.0015373425204437256, 0.001572763671875, 0.0016088347323638917, 0.0016455646045898439, 0.001682962272164917, 0.0017210368, 0.0017597973346710205, 0.0017992531047851563, 0.001839413421347046, 0.001880287678125, 0.001921885352017212, 0.001964216003417969, 0.0020072892765838624, 0.0020511149, 0.002095702686746216, 0.0021410625348632813, 0.002187204427719116, 0.002234138434375, 0.0022818747099517824, 0.002330423495996094, 0.0023797951208465577, 0.0024300000000000003, 0.0024810486364776614, 0.0025329516211914063, 0.002585719633309937, 0.002639363440625, 0.002693893899917603, 0.002749321957324219, 0.002805658648703003, 0.0028629151, 0.0029211025276153564], \"xaxis\": \"x\", \"y\": [0.0, 0.0, 0.0, 0.0, 0.0, 0.0, 0.0, 0.0, 0.0, 0.0, 0.0, 0.0, 0.0, 0.0, 0.0, 0.0, 0.0, 0.0, 0.0, 0.0, 0.0, 0.0, 0.0, 0.0, 0.0, 0.0, 0.0, 0.0, 0.0, 0.0, 0.0, 0.0, 0.0, 0.0, 0.0, 0.0, 0.0, 0.0, 0.0, 0.0, 0.0, 0.0, 0.0, 0.0, 0.0, 0.0, 0.0, 0.0, 0.0, 0.0, 0.0, 0.0, 0.0, 0.0, 0.0, 0.0, 0.0, 0.0, 0.0, 0.0, 0.0, 0.0, 0.0, 0.0, 0.0, 0.0, 0.0, 0.0, 0.0, 0.0, 0.0, 0.0, 0.0, 0.0, 0.0, 0.0, 0.0, 0.0, 0.0, 0.0, 0.0, 0.0, 0.0, 0.0, 0.0, 0.0, 0.0, 0.0, 0.0, 0.0, 0.0, 0.0, 0.0, 0.0, 0.0, 0.0, 0.0, 0.0, 0.0, 0.0, 0.0, 0.0, 0.0, 0.0, 0.0, 0.0, 0.0, 0.0, 0.0, 0.0, 0.0, 0.0, 0.0, 0.0, 0.0, 0.0, 0.0, 0.0, 0.0, 0.0, 0.0, 0.0, 0.0, 0.0, 0.0, 0.0, 0.0, 0.0, 0.0, 0.0, 0.0, 0.0, 0.0, 0.0, 0.0, 0.0, 0.0, 0.0, 0.0, 0.0, 0.0, 0.0, 0.0, 0.0, 0.0, 0.0, 0.0, 0.0, 0.0, 0.0, 0.0, 0.0, 0.0, 0.0, 0.0, 0.0, 0.0, 0.0, 0.0, 0.0, 0.0, 0.0, 0.0, 0.0, 0.0, 0.0, 0.0, 0.0, 0.0, 0.0, 0.0, 0.0, 0.0, 0.0, 0.0, 0.0, 0.0, 0.0, 0.0, 0.0, 0.0, 0.0, 0.0, 0.0, 0.0, 0.0, 0.0, 0.0, 0.0, 0.0, 0.0, 0.0, 0.0, 0.0, 0.0, 0.0, 0.0, 0.0, 0.0, 0.0, 0.0, 0.0, 0.0, 0.0, 0.0, 0.0, 0.0, 0.0, 0.0, 0.0, 0.0, 0.0, 0.0, 0.0, 0.0, 0.0, 0.0, 0.0, 0.0, 0.0, 0.0, 0.0, 0.0, 0.0, 0.0, 0.0, 0.0, 0.0, 0.0, 0.0, 0.0, 0.0, 0.0, 0.0, 0.0, 0.0, 0.0, 0.0, 0.0, 0.0, 0.0, 0.0, 0.0, 0.0, 0.0, 0.0, 0.0, 0.0, 0.0, 0.0], \"yaxis\": \"y\"}],                        {\"height\": 400, \"legend\": {\"title\": {\"text\": \"Dataset\"}, \"tracegroupgap\": 0}, \"margin\": {\"t\": 60}, \"template\": {\"data\": {\"bar\": [{\"error_x\": {\"color\": \"#2a3f5f\"}, \"error_y\": {\"color\": \"#2a3f5f\"}, \"marker\": {\"line\": {\"color\": \"#E5ECF6\", \"width\": 0.5}}, \"type\": \"bar\"}], \"barpolar\": [{\"marker\": {\"line\": {\"color\": \"#E5ECF6\", \"width\": 0.5}}, \"type\": \"barpolar\"}], \"carpet\": [{\"aaxis\": {\"endlinecolor\": \"#2a3f5f\", \"gridcolor\": \"white\", \"linecolor\": \"white\", \"minorgridcolor\": \"white\", \"startlinecolor\": \"#2a3f5f\"}, \"baxis\": {\"endlinecolor\": \"#2a3f5f\", \"gridcolor\": \"white\", \"linecolor\": \"white\", \"minorgridcolor\": \"white\", \"startlinecolor\": \"#2a3f5f\"}, \"type\": \"carpet\"}], \"choropleth\": [{\"colorbar\": {\"outlinewidth\": 0, \"ticks\": \"\"}, \"type\": \"choropleth\"}], \"contour\": [{\"colorbar\": {\"outlinewidth\": 0, \"ticks\": \"\"}, \"colorscale\": [[0.0, \"#0d0887\"], [0.1111111111111111, \"#46039f\"], [0.2222222222222222, \"#7201a8\"], [0.3333333333333333, \"#9c179e\"], [0.4444444444444444, \"#bd3786\"], [0.5555555555555556, \"#d8576b\"], [0.6666666666666666, \"#ed7953\"], [0.7777777777777778, \"#fb9f3a\"], [0.8888888888888888, \"#fdca26\"], [1.0, \"#f0f921\"]], \"type\": \"contour\"}], \"contourcarpet\": [{\"colorbar\": {\"outlinewidth\": 0, \"ticks\": \"\"}, \"type\": \"contourcarpet\"}], \"heatmap\": [{\"colorbar\": {\"outlinewidth\": 0, \"ticks\": \"\"}, \"colorscale\": [[0.0, \"#0d0887\"], [0.1111111111111111, \"#46039f\"], [0.2222222222222222, \"#7201a8\"], [0.3333333333333333, \"#9c179e\"], [0.4444444444444444, \"#bd3786\"], [0.5555555555555556, \"#d8576b\"], [0.6666666666666666, \"#ed7953\"], [0.7777777777777778, \"#fb9f3a\"], [0.8888888888888888, \"#fdca26\"], [1.0, \"#f0f921\"]], \"type\": \"heatmap\"}], \"heatmapgl\": [{\"colorbar\": {\"outlinewidth\": 0, \"ticks\": \"\"}, \"colorscale\": [[0.0, \"#0d0887\"], [0.1111111111111111, \"#46039f\"], [0.2222222222222222, \"#7201a8\"], [0.3333333333333333, \"#9c179e\"], [0.4444444444444444, \"#bd3786\"], [0.5555555555555556, \"#d8576b\"], [0.6666666666666666, \"#ed7953\"], [0.7777777777777778, \"#fb9f3a\"], [0.8888888888888888, \"#fdca26\"], [1.0, \"#f0f921\"]], \"type\": \"heatmapgl\"}], \"histogram\": [{\"marker\": {\"colorbar\": {\"outlinewidth\": 0, \"ticks\": \"\"}}, \"type\": \"histogram\"}], \"histogram2d\": [{\"colorbar\": {\"outlinewidth\": 0, \"ticks\": \"\"}, \"colorscale\": [[0.0, \"#0d0887\"], [0.1111111111111111, \"#46039f\"], [0.2222222222222222, \"#7201a8\"], [0.3333333333333333, \"#9c179e\"], [0.4444444444444444, \"#bd3786\"], [0.5555555555555556, \"#d8576b\"], [0.6666666666666666, \"#ed7953\"], [0.7777777777777778, \"#fb9f3a\"], [0.8888888888888888, \"#fdca26\"], [1.0, \"#f0f921\"]], \"type\": \"histogram2d\"}], \"histogram2dcontour\": [{\"colorbar\": {\"outlinewidth\": 0, \"ticks\": \"\"}, \"colorscale\": [[0.0, \"#0d0887\"], [0.1111111111111111, \"#46039f\"], [0.2222222222222222, \"#7201a8\"], [0.3333333333333333, \"#9c179e\"], [0.4444444444444444, \"#bd3786\"], [0.5555555555555556, \"#d8576b\"], [0.6666666666666666, \"#ed7953\"], [0.7777777777777778, \"#fb9f3a\"], [0.8888888888888888, \"#fdca26\"], [1.0, \"#f0f921\"]], \"type\": \"histogram2dcontour\"}], \"mesh3d\": [{\"colorbar\": {\"outlinewidth\": 0, \"ticks\": \"\"}, \"type\": \"mesh3d\"}], \"parcoords\": [{\"line\": {\"colorbar\": {\"outlinewidth\": 0, \"ticks\": \"\"}}, \"type\": \"parcoords\"}], \"pie\": [{\"automargin\": true, \"type\": \"pie\"}], \"scatter\": [{\"marker\": {\"colorbar\": {\"outlinewidth\": 0, \"ticks\": \"\"}}, \"type\": \"scatter\"}], \"scatter3d\": [{\"line\": {\"colorbar\": {\"outlinewidth\": 0, \"ticks\": \"\"}}, \"marker\": {\"colorbar\": {\"outlinewidth\": 0, \"ticks\": \"\"}}, \"type\": \"scatter3d\"}], \"scattercarpet\": [{\"marker\": {\"colorbar\": {\"outlinewidth\": 0, \"ticks\": \"\"}}, \"type\": \"scattercarpet\"}], \"scattergeo\": [{\"marker\": {\"colorbar\": {\"outlinewidth\": 0, \"ticks\": \"\"}}, \"type\": \"scattergeo\"}], \"scattergl\": [{\"marker\": {\"colorbar\": {\"outlinewidth\": 0, \"ticks\": \"\"}}, \"type\": \"scattergl\"}], \"scattermapbox\": [{\"marker\": {\"colorbar\": {\"outlinewidth\": 0, \"ticks\": \"\"}}, \"type\": \"scattermapbox\"}], \"scatterpolar\": [{\"marker\": {\"colorbar\": {\"outlinewidth\": 0, \"ticks\": \"\"}}, \"type\": \"scatterpolar\"}], \"scatterpolargl\": [{\"marker\": {\"colorbar\": {\"outlinewidth\": 0, \"ticks\": \"\"}}, \"type\": \"scatterpolargl\"}], \"scatterternary\": [{\"marker\": {\"colorbar\": {\"outlinewidth\": 0, \"ticks\": \"\"}}, \"type\": \"scatterternary\"}], \"surface\": [{\"colorbar\": {\"outlinewidth\": 0, \"ticks\": \"\"}, \"colorscale\": [[0.0, \"#0d0887\"], [0.1111111111111111, \"#46039f\"], [0.2222222222222222, \"#7201a8\"], [0.3333333333333333, \"#9c179e\"], [0.4444444444444444, \"#bd3786\"], [0.5555555555555556, \"#d8576b\"], [0.6666666666666666, \"#ed7953\"], [0.7777777777777778, \"#fb9f3a\"], [0.8888888888888888, \"#fdca26\"], [1.0, \"#f0f921\"]], \"type\": \"surface\"}], \"table\": [{\"cells\": {\"fill\": {\"color\": \"#EBF0F8\"}, \"line\": {\"color\": \"white\"}}, \"header\": {\"fill\": {\"color\": \"#C8D4E3\"}, \"line\": {\"color\": \"white\"}}, \"type\": \"table\"}]}, \"layout\": {\"annotationdefaults\": {\"arrowcolor\": \"#2a3f5f\", \"arrowhead\": 0, \"arrowwidth\": 1}, \"autotypenumbers\": \"strict\", \"coloraxis\": {\"colorbar\": {\"outlinewidth\": 0, \"ticks\": \"\"}}, \"colorscale\": {\"diverging\": [[0, \"#8e0152\"], [0.1, \"#c51b7d\"], [0.2, \"#de77ae\"], [0.3, \"#f1b6da\"], [0.4, \"#fde0ef\"], [0.5, \"#f7f7f7\"], [0.6, \"#e6f5d0\"], [0.7, \"#b8e186\"], [0.8, \"#7fbc41\"], [0.9, \"#4d9221\"], [1, \"#276419\"]], \"sequential\": [[0.0, \"#0d0887\"], [0.1111111111111111, \"#46039f\"], [0.2222222222222222, \"#7201a8\"], [0.3333333333333333, \"#9c179e\"], [0.4444444444444444, \"#bd3786\"], [0.5555555555555556, \"#d8576b\"], [0.6666666666666666, \"#ed7953\"], [0.7777777777777778, \"#fb9f3a\"], [0.8888888888888888, \"#fdca26\"], [1.0, \"#f0f921\"]], \"sequentialminus\": [[0.0, \"#0d0887\"], [0.1111111111111111, \"#46039f\"], [0.2222222222222222, \"#7201a8\"], [0.3333333333333333, \"#9c179e\"], [0.4444444444444444, \"#bd3786\"], [0.5555555555555556, \"#d8576b\"], [0.6666666666666666, \"#ed7953\"], [0.7777777777777778, \"#fb9f3a\"], [0.8888888888888888, \"#fdca26\"], [1.0, \"#f0f921\"]]}, \"colorway\": [\"#636efa\", \"#EF553B\", \"#00cc96\", \"#ab63fa\", \"#FFA15A\", \"#19d3f3\", \"#FF6692\", \"#B6E880\", \"#FF97FF\", \"#FECB52\"], \"font\": {\"color\": \"#2a3f5f\"}, \"geo\": {\"bgcolor\": \"white\", \"lakecolor\": \"white\", \"landcolor\": \"#E5ECF6\", \"showlakes\": true, \"showland\": true, \"subunitcolor\": \"white\"}, \"hoverlabel\": {\"align\": \"left\"}, \"hovermode\": \"closest\", \"mapbox\": {\"style\": \"light\"}, \"paper_bgcolor\": \"white\", \"plot_bgcolor\": \"#E5ECF6\", \"polar\": {\"angularaxis\": {\"gridcolor\": \"white\", \"linecolor\": \"white\", \"ticks\": \"\"}, \"bgcolor\": \"#E5ECF6\", \"radialaxis\": {\"gridcolor\": \"white\", \"linecolor\": \"white\", \"ticks\": \"\"}}, \"scene\": {\"xaxis\": {\"backgroundcolor\": \"#E5ECF6\", \"gridcolor\": \"white\", \"gridwidth\": 2, \"linecolor\": \"white\", \"showbackground\": true, \"ticks\": \"\", \"zerolinecolor\": \"white\"}, \"yaxis\": {\"backgroundcolor\": \"#E5ECF6\", \"gridcolor\": \"white\", \"gridwidth\": 2, \"linecolor\": \"white\", \"showbackground\": true, \"ticks\": \"\", \"zerolinecolor\": \"white\"}, \"zaxis\": {\"backgroundcolor\": \"#E5ECF6\", \"gridcolor\": \"white\", \"gridwidth\": 2, \"linecolor\": \"white\", \"showbackground\": true, \"ticks\": \"\", \"zerolinecolor\": \"white\"}}, \"shapedefaults\": {\"line\": {\"color\": \"#2a3f5f\"}}, \"ternary\": {\"aaxis\": {\"gridcolor\": \"white\", \"linecolor\": \"white\", \"ticks\": \"\"}, \"baxis\": {\"gridcolor\": \"white\", \"linecolor\": \"white\", \"ticks\": \"\"}, \"bgcolor\": \"#E5ECF6\", \"caxis\": {\"gridcolor\": \"white\", \"linecolor\": \"white\", \"ticks\": \"\"}}, \"title\": {\"x\": 0.05}, \"xaxis\": {\"automargin\": true, \"gridcolor\": \"white\", \"linecolor\": \"white\", \"ticks\": \"\", \"title\": {\"standoff\": 15}, \"zerolinecolor\": \"white\", \"zerolinewidth\": 2}, \"yaxis\": {\"automargin\": true, \"gridcolor\": \"white\", \"linecolor\": \"white\", \"ticks\": \"\", \"title\": {\"standoff\": 15}, \"zerolinecolor\": \"white\", \"zerolinewidth\": 2}}}, \"title\": {\"text\": \"Accurate examples discarded\"}, \"width\": 800, \"xaxis\": {\"anchor\": \"y\", \"domain\": [0.0, 1.0], \"title\": {\"text\": \"Difference\"}}, \"yaxis\": {\"anchor\": \"x\", \"domain\": [0.0, 1.0], \"title\": {\"text\": \"Discarded\"}}},                        {\"responsive\": true}                    ).then(function(){\n",
              "                            \n",
              "var gd = document.getElementById('4a87cb6d-e409-4ff4-b624-8263b65b21b1');\n",
              "var x = new MutationObserver(function (mutations, observer) {{\n",
              "        var display = window.getComputedStyle(gd).display;\n",
              "        if (!display || display === 'none') {{\n",
              "            console.log([gd, 'removed!']);\n",
              "            Plotly.purge(gd);\n",
              "            observer.disconnect();\n",
              "        }}\n",
              "}});\n",
              "\n",
              "// Listen for the removal of the full notebook cells\n",
              "var notebookContainer = gd.closest('#notebook-container');\n",
              "if (notebookContainer) {{\n",
              "    x.observe(notebookContainer, {childList: true});\n",
              "}}\n",
              "\n",
              "// Listen for the clearing of the current output cell\n",
              "var outputEl = gd.closest('.output');\n",
              "if (outputEl) {{\n",
              "    x.observe(outputEl, {childList: true});\n",
              "}}\n",
              "\n",
              "                        })                };                            </script>        </div>\n",
              "</body>\n",
              "</html>"
            ]
          },
          "metadata": {
            "tags": []
          }
        },
        {
          "output_type": "display_data",
          "data": {
            "text/html": [
              "<html>\n",
              "<head><meta charset=\"utf-8\" /></head>\n",
              "<body>\n",
              "    <div>            <script src=\"https://cdnjs.cloudflare.com/ajax/libs/mathjax/2.7.5/MathJax.js?config=TeX-AMS-MML_SVG\"></script><script type=\"text/javascript\">if (window.MathJax) {MathJax.Hub.Config({SVG: {font: \"STIX-Web\"}});}</script>                <script type=\"text/javascript\">window.PlotlyConfig = {MathJaxConfig: 'local'};</script>\n",
              "        <script src=\"https://cdn.plot.ly/plotly-latest.min.js\"></script>                <div id=\"6750b2e9-75a9-41e1-baaa-123dea54246c\" class=\"plotly-graph-div\" style=\"height:400px; width:800px;\"></div>            <script type=\"text/javascript\">                                    window.PLOTLYENV=window.PLOTLYENV || {};                                    if (document.getElementById(\"6750b2e9-75a9-41e1-baaa-123dea54246c\")) {                    Plotly.newPlot(                        \"6750b2e9-75a9-41e1-baaa-123dea54246c\",                        [{\"hovertemplate\": \"Dataset=mnist<br>Difference=%{x}<br>Accepted=%{y}<extra></extra>\", \"legendgroup\": \"mnist\", \"line\": {\"color\": \"#636efa\", \"dash\": \"solid\"}, \"mode\": \"lines\", \"name\": \"mnist\", \"showlegend\": true, \"type\": \"scattergl\", \"x\": [0.0, 3.0517578125e-15, 9.765625e-14, 7.415771484375001e-13, 3.125e-12, 9.5367431640625e-12, 2.3730468750000002e-11, 5.12908935546875e-11, 1e-10, 1.802032470703125e-10, 3.0517578125e-10, 4.914886474609375e-10, 7.593750000000001e-10, 1.1330963134765626e-09, 1.64130859375e-09, 2.3174285888671878e-09, 3.2e-09, 4.333059692382813e-09, 5.76650390625e-09, 7.556454467773438e-09, 9.765625e-09, 1.2463687133789064e-08, 1.572763671875e-08, 1.9642160034179688e-08, 2.4300000000000003e-08, 2.9802322387695312e-08, 3.6259082031250004e-08, 4.378938903808594e-08, 5.2521875e-08, 6.259505920410156e-08, 7.415771484375001e-08, 8.73692352294922e-08, 1.024e-07, 1.1943174133300782e-07, 1.3865791015625e-07, 1.6028404235839843e-07, 1.84528125e-07, 2.1162096252441407e-07, 2.4180654296875e-07, 2.753424041748047e-07, 3.125e-07, 3.5356506652832034e-07, 3.9883798828125003e-07, 4.4863416442871093e-07, 5.03284375e-07, 5.631351470947266e-07, 6.2854912109375e-07, 6.999054168701173e-07, 7.776000000000001e-07, 8.620460479736328e-07, 9.5367431640625e-07, 1.0529335052490235e-06, 1.1602906250000001e-06, 1.2762313629150391e-06, 1.40126044921875e-06, 1.5359020233154298e-06, 1.6807e-06, 1.8362184356689453e-06, 2.00304189453125e-06, 2.181775814819336e-06, 2.3730468750000003e-06, 2.5775033599853516e-06, 2.79581552734375e-06, 3.028675973510742e-06, 3.2768e-06, 3.540925979614258e-06, 3.82181572265625e-06, 4.120254843139649e-06, 4.437053125e-06, 4.773044888305665e-06, 5.12908935546875e-06, 5.506071017456055e-06, 5.9049e-06, 6.326512429809571e-06, 6.77187080078125e-06, 7.241964340209961e-06, 7.737809375e-06, 8.260449697875977e-06, 8.81095693359375e-06, 9.390430905151367e-06, 1e-05, 1.0640821536254882e-05, 1.1314082128906251e-05, 1.2020998056030274e-05, 1.2762815625000001e-05, 1.354081153869629e-05, 1.435629326171875e-05, 1.521059938659668e-05, 1.61051e-05, 1.7041197048950197e-05, 1.8020324707031252e-05, 1.9043949740600587e-05, 2.0113571875e-05, 2.12307241607666e-05, 2.2396973339843752e-05, 2.3613920211791992e-05, 2.4883200000000003e-05, 2.6206482717895508e-05, 2.758547353515625e-05, 2.90219131439209e-05, 3.0517578125e-05, 3.207428131408692e-05, 3.369387216796875e-05, 3.537823713073731e-05, 3.7129300000000004e-05, 3.8949022293090824e-05, 4.083940361328125e-05, 4.280248201599121e-05, 4.4840334375e-05, 4.695507674865723e-05, 4.914886474609375e-05, 5.142389389343262e-05, 5.37824e-05, 5.622665952453613e-05, 5.875898994140625e-05, 6.138175010681153e-05, 6.4097340625e-05, 6.690820421447754e-05, 6.981682607421875e-05, 7.282573424987793e-05, 7.593750000000001e-05, 7.915473816223145e-05, 8.248010751953125e-05, 8.591631116638184e-05, 8.9466096875e-05, 9.313225746154785e-05, 9.691763115234375e-05, 0.00010082510195007325, 0.0001048576, 0.00010901810195617676, 0.00011330963134765625, 0.00011773525894470216, 0.000122298103125, 0.00012700133023986818, 0.00013184815498046875, 0.00013684184074401855, 0.0001419857, 0.00014728309465637207, 0.00015273743642578127, 0.00015835218719177248, 0.000164130859375, 0.00017007701629943847, 0.00017619427255859376, 0.00018248629438171387, 0.0001889568, 0.00019560956001281739, 0.00020244839775390627, 0.00020947718965759279, 0.000216699865625, 0.0002241204093902588, 0.00023174285888671875, 0.00023957130661315918, 0.0002476099, 0.0002558628417755127, 0.00026433439033203126, 0.0002730288600921631, 0.000281950621875, 0.0002911041032623291, 0.00030049378896484374, 0.0003101242211883545, 0.00032, 0.00033012578369445803, 0.00034050628916015624, 0.0003511462922454834, 0.00036205062812500003, 0.0003732241916656494, 0.00038467193779296877, 0.0003963988818572998, 0.00040841010000000004, 0.0004207107295196533, 0.00043330596923828125, 0.0004462010798675537, 0.000459401384375, 0.00047291226835021973, 0.00048673918037109374, 0.0005008876323699951, 0.0005153632, 0.0005301715230010987, 0.0005453183055664063, 0.000560809316708374, 0.0005766503906250001, 0.0005928474270660401, 0.0006094063916992188, 0.0006263333164764404, 0.0006436343, 0.000661315507888794, 0.0006793831731445312, 0.0006978435965179444, 0.0007167031468750001, 0.0007359682615631104, 0.0007556454467773437, 0.0007757412779266357, 0.0007962624000000001, 0.0008172155279327392, 0.0008386074469726563, 0.0008604450130462646, 0.000882735153125, 0.0009054848655914307, 0.0009287012206054688, 0.0009523913604705811, 0.0009765625, 0.0010012219268829346, 0.0010263770020507814, 0.001052035160043335, 0.001078203909375, 0.001104890832901001, 0.0011321035881835938, 0.0011598499078582763, 0.0011881376000000001, 0.00121697454848938, 0.0012463687133789064, 0.0012763281312591554, 0.001306860915625, 0.0013379752572418213, 0.0013696794245117187, 0.0014019817638397218, 0.0014348907, 0.0014684147365020752, 0.0015025624559570313, 0.0015373425204437256, 0.001572763671875, 0.0016088347323638917, 0.0016455646045898439, 0.001682962272164917, 0.0017210368, 0.0017597973346710205, 0.0017992531047851563, 0.001839413421347046, 0.001880287678125, 0.001921885352017212, 0.001964216003417969, 0.0020072892765838624, 0.0020511149, 0.002095702686746216, 0.0021410625348632813, 0.002187204427719116, 0.002234138434375, 0.0022818747099517824, 0.002330423495996094, 0.0023797951208465577, 0.0024300000000000003, 0.0024810486364776614, 0.0025329516211914063, 0.002585719633309937, 0.002639363440625, 0.002693893899917603, 0.002749321957324219, 0.002805658648703003, 0.0028629151, 0.0029211025276153564, 0.0029802322387695312, 0.003040315631869507, 0.003101364196875, 0.003163389515664673, 0.003226403262402344, 0.0032904172039031985, 0.0033554432, 0.003421493203909302, 0.003488579262597656, 0.003556713517147827, 0.003625908203125, 0.0036961756509429934, 0.003767528286230469, 0.0038399786301971436, 0.0039135393, 0.003988223009109497, 0.004064042567675782, 0.0041410108828948975, 0.004219140959375, 0.004298445899502563, 0.004378938903808594, 0.0044606332713348395, 0.0045435424, 0.004627679786965943, 0.004713059029003906, 0.004799693822860718, 0.004887597965625001, 0.004976785355093384, 0.005067269990136719, 0.005159065971066285, 0.0052521875, 0.005346648881228638, 0.005442464521582031, 0.005539648930795288, 0.0056382167218750005, 0.005738182611465454, 0.005839561420214844, 0.00594236807314148, 0.0060466176, 0.006152325135647584, 0.006259505920410156, 0.006368175300448609, 0.0064783487281250005, 0.0065900417623687745, 0.006703270069042969, 0.006818049421310425, 0.0069343957, 0.007052324893972778, 0.0071718531004882815, 0.007292996525570679, 0.007415771484375, 0.007540194401553345, 0.007666281811621094, 0.00779405035932312, 0.0079235168, 0.008054697999954223, 0.008187610936816407, 0.008322272699911499, 0.008458700490625, 0.008596911622769165, 0.00873692352294922, 0.008878753730929567, 0.0090224199, 0.00916793979734192, 0.009315331304394532, 0.00946461241722107, 0.009615801246875, 0.009768916019766236, 0.009923975078027345, 0.010080996879879761, 0.01024, 0.010401003129885865, 0.010564025078222657, 0.01072908477124939, 0.010896201253125, 0.011065393686294556, 0.011236681351855468, 0.011410083649923707, 0.011585620100000001, 0.01176331034133606, 0.011943174133300781, 0.01212523135574646, 0.012309502009375, 0.012496006216104126, 0.012684764219433594, 0.012875796384811402, 0.013069123200000001, 0.013264765275442505, 0.013462743344628906, 0.01366307826446228, 0.013865791015625, 0.014070902702944947, 0.01427843455576172, 0.014488407928292847, 0.0147008443, 0.0149157652759552, 0.015133192587207031, 0.015353148091146851, 0.015575653771875, 0.015800731740567016, 0.016028404235839844, 0.016258693624118043, 0.0164916224, 0.016727213186624144, 0.016965488736035157, 0.01720647192955017, 0.017450185778125002, 0.017696653422720338, 0.01794589813466797, 0.01819794331603699, 0.018452812500000002, 0.01871052935119934, 0.018971117666113282, 0.01923460137342224, 0.019501004534375, 0.01977035134315491, 0.020042666127246093, 0.020317973347799684, 0.0205962976, 0.020877663613430786, 0.021162096252441406, 0.02144962051651306, 0.021740261540625, 0.02203404459562073, 0.02233099508857422, 0.022631138563156128, 0.022934500700000002, 0.023241107317068483, 0.023550984370019533, 0.023864157952572632, 0.024180654296875, 0.024500499773867798, 0.024823720893652344, 0.025150344305856324, 0.025480396800000003, 0.025813905305862427, 0.026150896893847655, 0.026491398775350953, 0.026835438303125, 0.02718304297164612, 0.02753424041748047, 0.02788905841965027, 0.0282475249, 0.028609667923562624, 0.028975515698925782, 0.029345096578598025, 0.029718439059375, 0.03009557178270569, 0.030476523535058597, 0.030861323248287966, 0.03125, 0.03164258301391907, 0.03203910166025391, 0.032439585456063846, 0.032844064065625005, 0.03325256730079651, 0.03366512512138672, 0.034081767635519414, 0.0345025251, 0.034927427920681764, 0.035356506652832034, 0.03578979200149841, 0.036227314821875, 0.03666910611966858, 0.03711519705146484, 0.03756561892509461, 0.038020403200000004, 0.03847958148760071, 0.03894318555166016, 0.03941124730865173, 0.039883798828125004, 0.0403608723330719, 0.040842500200292974, 0.041328714960763555, 0.0418195493, 0.0423150360584259, 0.04281520823173828, 0.043320098971273806, 0.043829741584375, 0.04434416953475647, 0.0448634164428711, 0.045387516086276246, 0.0459165024, 0.04645040947690735, 0.046989271568066406, 0.04753312308311462, 0.048081998590625, 0.04863593281847229, 0.04919496065419922, 0.04975911714538269, 0.0503284375, 0.05090295708679505, 0.051482711435644535, 0.0520677362379242, 0.052658067346875004, 0.05325374077796936, 0.053854792709277344, 0.05446125948183289, 0.0550731776, 0.055690583731838994, 0.056313514709472656, 0.05694200752945252, 0.057576099353125, 0.058215827506997685, 0.05886122948310547, 0.059512342939376836, 0.0601692057, 0.060831855755789185, 0.06150033126455078, 0.06217467055144959, 0.06285491210937501, 0.06354109459930725, 0.0642332568506836, 0.06493143786176453, 0.0656356768, 0.06634601300239563, 0.06706248597587891, 0.06778513539766541, 0.068514001115625, 0.06924912314864808, 0.06999054168701171, 0.07073829709274597, 0.0714924299, 0.07225298081540833, 0.07301999071845704, 0.07379350066184998, 0.074573551871875, 0.07536018574877014, 0.07615344386708985, 0.07695336797607116, 0.07776000000000001, 0.07857338203857728, 0.07939355636728516, 0.0802205654377533, 0.081054451878125, 0.08189525849342347, 0.08274302826591798, 0.08359780435549012, 0.0844596301, 0.08532854901565247, 0.08620460479736329, 0.08708784131912536, 0.087978302634375, 0.08887603297635803, 0.0897810767584961, 0.09069347857475281, 0.0916132832, 0.09254053559038392, 0.0934752808836914, 0.09441756439971619, 0.095367431640625, 0.09632492829132386, 0.09729010021982422, 0.09826299347760925, 0.0992436543, 0.10023212910652161, 0.10122846450126953, 0.10223270727327576, 0.103244904396875, 0.10426510303207093, 0.10529335052490235, 0.10632969440780946, 0.1073741824, 0.10842686240781556, 0.10948778252509767, 0.11055699103355408, 0.111634536403125, 0.11272046729234925, 0.11381483254873047, 0.1149176812091034, 0.1160290625, 0.11714902583801576, 0.11827762083017579, 0.11941489727430116, 0.12056090515937501, 0.12171569466590881, 0.1228793161663086, 0.1240518202252411, 0.1252332576, 0.1264236792408722, 0.1276231362915039, 0.12883168008926696, 0.13004936216562502, 0.13127623424649965, 0.13251234825263672, 0.13375775629997255, 0.1350125107, 0.13627666396013488, 0.13755026878408202, 0.13883337807220153, 0.140126044921875, 0.14142832262787172, 0.14274026468271486, 0.14406192477704774, 0.1453933568, 0.14673461483955383, 0.14808575318291017, 0.14944682631685485, 0.150817888928125, 0.15219899590377503, 0.15359020233154297, 0.15499156350021667, 0.15640313490000002, 0.15782497222287903, 0.15925713136298827, 0.16069966841697694, 0.16215263968437502, 0.1636161016679596, 0.1650901110741211, 0.16657472481322938, 0.16807, 0.16957599395386047, 0.1710927641993164, 0.17262036846631776, 0.174158864690625, 0.17570831101417542, 0.17726876578544923, 0.17884028755983583, 0.18042293510000001, 0.18201676737624817, 0.18362184356689454, 0.18523822305862733, 0.186865965446875, 0.1885051305361725, 0.19015577834052735, 0.191817969083786, 0.1934917632, 0.19517722133379212, 0.19687440434072268, 0.19858337328765566, 0.200304189453125, 0.20203691432770082, 0.20378160961435549, 0.20553833722882997, 0.20730715930000002, 0.20908813817024233, 0.21088133639580078, 0.21268681674715273, 0.214504642209375, 0.2163348759825104, 0.2181775814819336, 0.22003282233871765, 0.2219006624, 0.22378116572934875, 0.2256743966071289, 0.22758041953086855, 0.229499299215625, 0.2314311005943512, 0.23337588881826174, 0.23533372925719911, 0.2373046875, 0.23928882935486145, 0.24128622084970705, 0.2432969282325531, 0.245321017971875, 0.24735855675697327, 0.24940961149833984, 0.2514742493280243, 0.2535525376, 0.25564454389053043, 0.25775033599853514, 0.25986998194595645, 0.262003549978125, 0.2641511085641266, 0.26631272639716796, 0.2684884723949432, 0.2706784157, 0.27288262568010563, 0.2751011719286133, 0.2773341242648285, 0.279581552734375, 0.28184352760956116, 0.28412011938974613, 0.28641139880170596, 0.2887174368, 0.29103830456733704, 0.29337407351494144, 0.29572481528291933, 0.298090601740625, 0.300471504987027, 0.3028675973510742, 0.3052789513920624, 0.3077056399, 0.3101477358959747, 0.31260531263251956, 0.3150784435939789, 0.31756720249687503, 0.32007166329027403, 0.32259190015615236, 0.3251279875097626, 0.32768, 0.3302480125097687, 0.3328321001563477, 0.3354323382917572, 0.338048802503125, 0.3406815686130524, 0.3433307126799805, 0.34599631099855654, 0.3486784401, 0.3513771767524689, 0.3540925979614258, 0.3568247809700043, 0.359573803259375, 0.36233974254911194, 0.3651226767975586, 0.3679226842021942, 0.37073984320000003, 0.37357423246782534, 0.3764259309227539, 0.3792950177224701, 0.382181572265625, 0.3850856741922028, 0.38800740338388673, 0.3909468399644257, 0.3939040643, 0.39687915699958803, 0.39987219891533204, 0.4028832711429047, 0.405912455021875, 0.40895983213607484, 0.41202548431396485, 0.41510949362900085, 0.41821194240000004, 0.42133291319150695, 0.42447248881416016, 0.427630752325058, 0.430807787028125, 0.4340036764744782, 0.437218504462793, 0.44045235503966984, 0.4437053125, 0.4469774613873322, 0.4502688864942383, 0.4535796728626801, 0.456909905784375, 0.46025967080116276, 0.4636290537053711, 0.46701814054018254, 0.4704270176, 0.4738557714308136, 0.4773044888305664, 0.4807732568495209, 0.484262162790625, 0.4877712942098786, 0.49130073891669923, 0.49485058497428897, 0.4984209207, 0.5020118346657013, 0.5056234156981445, 0.5092557528793304, 0.512908935546875, 0.5165830532943756, 0.5202781959717774, 0.5239944536857392, 0.5277319168, 0.5314906759357453, 0.5352708219719726, 0.5390724460458588, 0.542895639553125, 0.546740494148404, 0.5506071017456055, 0.5544955545182831, 0.5584059449000001, 0.5623383655846954, 0.5662929095270508, 0.5702696699428559, 0.574268740309375, 0.5782902143657135, 0.5823341861131837, 0.5864007498156708, 0.5904900000000001, 0.5946020314563019, 0.5987369392383789, 0.6028948186640717, 0.607075765315625, 0.6112798750400543, 0.6155072439495117, 0.6197579684216522, 0.6240321451, 0.6283298708943146, 0.6326512429809571, 0.6369963588032562, 0.641365316071875, 0.6457582127651764, 0.6501751471295899, 0.6546162176799775, 0.6590815232, 0.6635711627424835, 0.6680852356297852, 0.6726238414541595, 0.677187080078125, 0.6817750516348298, 0.6863878565284179, 0.6910255954343963, 0.6956883693, 0.7003762793445587, 0.7050894270598633, 0.7098279142105316, 0.714591842834375, 0.7193813152427643, 0.7241964340209961, 0.7290373020286591, 0.7339040224000001, 0.7387966985442902, 0.7437154341461915, 0.7486603331661225, 0.753631499840625, 0.7586290386827301, 0.7636530544823242, 0.7687036523065155, 0.7737809375, 0.7788850156854279, 0.7840159927637695, 0.789173974914682, 0.794359068596875, 0.7995713805484772, 0.8048110177874024, 0.8100780876117157, 0.8153726976000001, 0.8206949556117218, 0.8260449697875977, 0.8314228485499604, 0.836828700603125, 0.8422626349337555, 0.8477247608112305, 0.8532151877880096, 0.8587340257, 0.8642813846669221, 0.8698573750926758, 0.8754621076657074, 0.881095693359375, 0.8867582434323151, 0.8924498694288087, 0.8981706831791474, 0.9039207968, 0.9097003226947785, 0.915509373554004, 0.9213480623556732, 0.927216502365625, 0.933114807137906, 0.9390430905151368, 0.9450014666288789, 0.9509900499, 0.9570089550390412, 0.9630582970465821, 0.9691381912136078, 0.9752487531218751, 0.981390098644278, 0.9875623439452149, 0.993765605480954], \"xaxis\": \"x\", \"y\": [0.0, 0.0, 0.0, 0.0, 0.0, 0.0, 0.0, 0.0, 0.0, 0.0, 0.0, 0.0, 0.0, 0.0, 0.0, 0.0, 0.0, 0.0, 0.0, 0.0, 0.0, 0.0, 0.0, 0.0, 0.0, 0.0, 0.0, 0.0, 0.0, 0.0, 0.0, 0.0, 0.0, 0.0, 0.0, 0.0, 0.0, 0.0, 0.0, 0.0, 0.0, 0.0, 0.0, 0.0, 0.0, 0.0, 0.0, 0.0, 0.0, 0.0, 0.0, 0.0, 0.0, 0.0, 0.0, 0.0, 0.0, 0.0, 0.0, 0.0, 0.0, 0.0, 0.0, 0.0, 0.0, 0.0, 0.0, 0.0, 0.0, 0.0, 0.0, 0.0, 0.0, 0.0, 0.0, 0.0, 0.0, 0.0, 0.0, 0.0, 0.0, 0.0, 0.0, 0.0, 0.0, 0.0, 0.0, 0.0, 0.0, 0.0, 0.0, 0.0, 0.0, 0.0, 0.0, 0.0, 0.0, 0.0, 0.0, 0.0, 0.0, 0.0, 0.0, 0.0, 0.0, 0.0, 0.0, 0.0, 0.0, 0.0, 0.0, 0.0, 0.0, 0.0, 0.0, 0.0, 0.0, 0.0, 0.0, 0.0, 0.0, 0.0, 0.0, 0.0, 0.0, 0.0, 0.0, 0.0, 0.0, 0.0, 0.0, 0.0, 0.0, 0.0, 0.0, 0.0, 0.0, 0.0, 0.0, 0.0, 0.0, 0.0, 0.0, 0.0, 0.0, 0.0, 0.0, 0.0, 0.0, 0.0, 0.0, 0.0, 0.0, 0.0, 0.0, 0.0, 0.0, 0.0, 0.0, 0.0, 0.0, 0.0, 0.0, 0.0, 0.0, 0.0, 0.0, 0.0, 0.0, 0.0, 0.0, 0.0, 0.0, 0.0, 0.0, 0.0, 0.0, 0.0, 0.0, 0.0, 0.0, 0.0, 0.0, 0.0, 0.0, 0.0, 0.0, 0.0, 0.0, 0.0, 0.0, 0.0, 0.0, 0.0, 0.0, 0.0, 0.0, 0.0, 0.0, 0.0, 0.0, 0.0, 0.0, 0.0, 0.0, 0.0, 0.0, 0.0, 0.0, 0.0, 0.0, 0.0, 0.0, 0.0, 0.0, 0.0, 0.0, 0.0, 0.0, 0.0, 0.0, 0.0, 0.0, 0.0, 0.0, 0.0, 0.0, 0.0, 0.0, 0.0, 0.0, 0.0, 0.0, 0.0, 0.0, 0.0, 0.0, 0.0, 0.0, 0.0, 0.0, 0.0, 0.0, 0.0, 0.0, 0.0, 0.0, 0.0, 0.0, 0.0, 0.0, 0.0, 0.0, 0.0, 0.0, 0.0, 0.0, 0.0, 0.0, 0.0, 0.0, 0.0, 0.0, 0.0, 0.0, 0.0, 0.0, 0.0, 0.0, 0.0, 0.0, 0.0, 0.0, 0.0, 0.0, 0.0, 0.0, 0.0, 0.0, 0.0, 0.0, 0.0, 0.0, 0.0, 0.0, 0.0, 0.0, 0.0, 0.0, 0.0, 0.0, 0.0, 0.0, 0.0, 0.0, 0.0, 0.0, 0.0, 0.0, 0.0, 0.0, 0.0, 0.0, 0.0, 0.0, 0.0, 0.0, 0.0, 0.0, 0.0, 0.0, 0.0, 0.0, 0.0, 0.0, 0.0, 0.0, 0.0, 0.0, 0.0, 0.0, 0.0, 0.0, 0.0, 0.0, 0.0, 0.0, 0.0, 0.0, 0.0, 0.0, 0.0, 0.0, 0.0, 0.0, 1.0, 1.0, 1.0, 1.0, 1.0, 1.0, 1.0, 1.0, 1.0, 1.0, 1.0, 1.0, 1.0, 1.0, 1.0, 1.0, 1.0, 1.0, 1.0, 1.0, 1.0, 1.0, 1.0, 1.0, 1.0, 1.0, 1.0, 1.0, 1.0, 1.0, 1.0, 1.0, 1.0, 1.0, 1.0, 1.0, 1.0, 1.0, 1.0, 1.0, 1.0, 1.0, 1.0, 1.0, 1.0, 1.0, 1.0, 1.0, 1.0, 1.0, 1.0, 1.0, 1.0, 1.0, 1.0, 1.0, 1.0, 1.0, 1.0, 1.0, 1.0, 1.0, 1.0, 1.0, 1.0, 1.0, 1.0, 1.0, 1.0, 1.0, 1.0, 1.0, 1.0, 1.0, 1.0, 1.0, 1.0, 1.0, 1.0, 1.0, 1.0, 1.0, 1.0, 1.0, 1.0, 1.0, 1.0, 1.0, 1.0, 1.0, 1.0, 1.0, 1.0, 1.0, 1.0, 1.0, 1.0, 1.0, 1.0, 1.0, 1.0, 1.0, 1.0, 1.0, 1.0, 1.0, 1.0, 1.0, 1.0, 1.0, 1.0, 1.0, 1.0, 1.0, 1.0, 1.0, 1.0, 1.0, 1.0, 1.0, 1.0, 1.0, 1.0, 1.0, 1.0, 1.0, 1.0, 1.0, 1.0, 1.0, 1.0, 1.0, 1.0, 1.0, 1.0, 1.0, 1.0, 1.0, 1.0, 1.0, 1.0, 1.0, 1.0, 1.0, 1.0, 1.0, 1.0, 1.0, 1.0, 1.0, 1.0, 1.0, 1.0, 1.0, 1.0, 1.0, 1.0, 1.0, 1.0, 1.0, 1.0, 1.0, 1.0, 1.0, 1.0, 1.0, 1.0, 1.0, 1.0, 1.0, 1.0, 1.0, 1.0, 1.0, 1.0, 1.0, 1.0, 1.0, 2.0, 2.0, 2.0, 2.0, 2.0, 2.0, 2.0, 2.0, 2.0, 2.0, 2.0, 2.0, 2.0, 2.0, 2.0, 2.0, 2.0, 2.0, 2.0, 2.0, 2.0, 2.0, 2.0, 2.0, 2.0, 2.0, 2.0, 2.0, 2.0, 2.0, 2.0, 2.0, 2.0, 2.0, 2.0, 2.0, 2.0, 2.0, 2.0, 2.0, 2.0, 2.0, 2.0, 2.0, 2.0, 2.0, 2.0, 2.0, 2.0, 2.0, 2.0, 2.0, 2.0, 2.0, 2.0, 2.0, 2.0, 2.0, 2.0, 2.0, 2.0, 2.0, 2.0, 2.0, 2.0, 2.0, 2.0, 2.0, 2.0, 2.0, 2.0, 2.0, 2.0, 2.0, 2.0, 2.0, 2.0, 2.0, 2.0, 2.0, 2.0, 2.0, 2.0, 2.0, 2.0, 2.0, 3.0, 3.0, 3.0, 3.0, 3.0, 3.0, 3.0, 3.0, 3.0, 4.0, 4.0, 4.0, 4.0, 4.0, 4.0, 4.0, 4.0, 4.0, 4.0, 4.0, 4.0, 4.0, 4.0, 4.0, 4.0, 4.0, 4.0, 4.0, 4.0, 4.0, 4.0, 4.0, 4.0, 4.0, 5.0, 5.0, 5.0, 5.0, 5.0, 5.0, 6.0, 6.0, 6.0, 6.0, 6.0, 6.0, 6.0, 6.0, 6.0, 6.0, 6.0, 6.0, 6.0, 6.0, 6.0, 6.0, 6.0, 6.0, 6.0, 6.0, 6.0, 6.0, 6.0, 6.0, 6.0, 6.0, 6.0, 6.0, 6.0, 6.0, 6.0, 6.0, 6.0, 6.0, 6.0, 6.0, 6.0, 6.0, 7.0, 7.0, 7.0, 7.0, 7.0, 7.0, 7.0, 7.0, 7.0, 7.0, 7.0, 7.0, 7.0, 7.0, 7.0, 7.0, 7.0, 7.0, 7.0, 7.0, 8.0, 8.0, 8.0, 8.0, 8.0, 8.0, 8.0, 8.0, 8.0, 8.0, 8.0, 8.0, 8.0, 8.0, 8.0, 8.0, 8.0, 8.0, 8.0, 8.0, 8.0, 8.0, 8.0, 8.0, 8.0, 8.0, 8.0, 8.0, 8.0, 8.0, 8.0, 8.0, 8.0, 8.0, 8.0, 9.0, 9.0, 9.0, 9.0, 9.0, 9.0, 9.0, 9.0, 9.0, 9.0, 9.0, 9.0, 9.0, 9.0, 9.0, 9.0, 9.0, 9.0, 9.0, 9.0, 9.0, 9.0, 9.0, 9.0, 10.0, 10.0, 10.0, 11.0, 11.0, 12.0, 12.0, 13.0, 13.0, 14.0, 14.0, 14.0, 15.0, 16.0, 16.0, 16.0, 16.0, 16.0, 16.0, 16.0, 16.0, 16.0, 18.0, 18.0, 19.0, 19.0, 20.0, 20.0, 20.0, 20.0, 20.0, 23.0, 23.0, 23.0, 23.0, 27.0, 27.0, 30.0, 33.0, 36.0, 39.0, 49.0, 65.0, 221.0], \"yaxis\": \"y\"}, {\"hovertemplate\": \"Dataset=fashion_mnist<br>Difference=%{x}<br>Accepted=%{y}<extra></extra>\", \"legendgroup\": \"fashion_mnist\", \"line\": {\"color\": \"#EF553B\", \"dash\": \"solid\"}, \"mode\": \"lines\", \"name\": \"fashion_mnist\", \"showlegend\": true, \"type\": \"scattergl\", \"x\": [0.0, 3.0517578125e-15, 9.765625e-14, 7.415771484375001e-13, 3.125e-12, 9.5367431640625e-12, 2.3730468750000002e-11, 5.12908935546875e-11, 1e-10, 1.802032470703125e-10, 3.0517578125e-10, 4.914886474609375e-10, 7.593750000000001e-10, 1.1330963134765626e-09, 1.64130859375e-09, 2.3174285888671878e-09, 3.2e-09, 4.333059692382813e-09, 5.76650390625e-09, 7.556454467773438e-09, 9.765625e-09, 1.2463687133789064e-08, 1.572763671875e-08, 1.9642160034179688e-08, 2.4300000000000003e-08, 2.9802322387695312e-08, 3.6259082031250004e-08, 4.378938903808594e-08, 5.2521875e-08, 6.259505920410156e-08, 7.415771484375001e-08, 8.73692352294922e-08, 1.024e-07, 1.1943174133300782e-07, 1.3865791015625e-07, 1.6028404235839843e-07, 1.84528125e-07, 2.1162096252441407e-07, 2.4180654296875e-07, 2.753424041748047e-07, 3.125e-07, 3.5356506652832034e-07, 3.9883798828125003e-07, 4.4863416442871093e-07, 5.03284375e-07, 5.631351470947266e-07, 6.2854912109375e-07, 6.999054168701173e-07, 7.776000000000001e-07, 8.620460479736328e-07, 9.5367431640625e-07, 1.0529335052490235e-06, 1.1602906250000001e-06, 1.2762313629150391e-06, 1.40126044921875e-06, 1.5359020233154298e-06, 1.6807e-06, 1.8362184356689453e-06, 2.00304189453125e-06, 2.181775814819336e-06, 2.3730468750000003e-06, 2.5775033599853516e-06, 2.79581552734375e-06, 3.028675973510742e-06, 3.2768e-06, 3.540925979614258e-06, 3.82181572265625e-06, 4.120254843139649e-06, 4.437053125e-06, 4.773044888305665e-06, 5.12908935546875e-06, 5.506071017456055e-06, 5.9049e-06, 6.326512429809571e-06, 6.77187080078125e-06, 7.241964340209961e-06, 7.737809375e-06, 8.260449697875977e-06, 8.81095693359375e-06, 9.390430905151367e-06, 1e-05, 1.0640821536254882e-05, 1.1314082128906251e-05, 1.2020998056030274e-05, 1.2762815625000001e-05, 1.354081153869629e-05, 1.435629326171875e-05, 1.521059938659668e-05, 1.61051e-05, 1.7041197048950197e-05, 1.8020324707031252e-05, 1.9043949740600587e-05, 2.0113571875e-05, 2.12307241607666e-05, 2.2396973339843752e-05, 2.3613920211791992e-05, 2.4883200000000003e-05, 2.6206482717895508e-05, 2.758547353515625e-05, 2.90219131439209e-05, 3.0517578125e-05, 3.207428131408692e-05, 3.369387216796875e-05, 3.537823713073731e-05, 3.7129300000000004e-05, 3.8949022293090824e-05, 4.083940361328125e-05, 4.280248201599121e-05, 4.4840334375e-05, 4.695507674865723e-05, 4.914886474609375e-05, 5.142389389343262e-05, 5.37824e-05, 5.622665952453613e-05, 5.875898994140625e-05, 6.138175010681153e-05, 6.4097340625e-05, 6.690820421447754e-05, 6.981682607421875e-05, 7.282573424987793e-05, 7.593750000000001e-05, 7.915473816223145e-05, 8.248010751953125e-05, 8.591631116638184e-05, 8.9466096875e-05, 9.313225746154785e-05, 9.691763115234375e-05, 0.00010082510195007325, 0.0001048576, 0.00010901810195617676, 0.00011330963134765625, 0.00011773525894470216, 0.000122298103125, 0.00012700133023986818, 0.00013184815498046875, 0.00013684184074401855, 0.0001419857, 0.00014728309465637207, 0.00015273743642578127, 0.00015835218719177248, 0.000164130859375, 0.00017007701629943847, 0.00017619427255859376, 0.00018248629438171387, 0.0001889568, 0.00019560956001281739, 0.00020244839775390627, 0.00020947718965759279, 0.000216699865625, 0.0002241204093902588, 0.00023174285888671875, 0.00023957130661315918, 0.0002476099, 0.0002558628417755127, 0.00026433439033203126, 0.0002730288600921631, 0.000281950621875, 0.0002911041032623291, 0.00030049378896484374, 0.0003101242211883545, 0.00032, 0.00033012578369445803, 0.00034050628916015624, 0.0003511462922454834, 0.00036205062812500003, 0.0003732241916656494, 0.00038467193779296877, 0.0003963988818572998, 0.00040841010000000004, 0.0004207107295196533, 0.00043330596923828125, 0.0004462010798675537, 0.000459401384375, 0.00047291226835021973, 0.00048673918037109374, 0.0005008876323699951, 0.0005153632, 0.0005301715230010987, 0.0005453183055664063, 0.000560809316708374, 0.0005766503906250001, 0.0005928474270660401, 0.0006094063916992188, 0.0006263333164764404, 0.0006436343, 0.000661315507888794, 0.0006793831731445312, 0.0006978435965179444, 0.0007167031468750001, 0.0007359682615631104, 0.0007556454467773437, 0.0007757412779266357, 0.0007962624000000001, 0.0008172155279327392, 0.0008386074469726563, 0.0008604450130462646, 0.000882735153125, 0.0009054848655914307, 0.0009287012206054688, 0.0009523913604705811, 0.0009765625, 0.0010012219268829346, 0.0010263770020507814, 0.001052035160043335, 0.001078203909375, 0.001104890832901001, 0.0011321035881835938, 0.0011598499078582763, 0.0011881376000000001, 0.00121697454848938, 0.0012463687133789064, 0.0012763281312591554, 0.001306860915625, 0.0013379752572418213, 0.0013696794245117187, 0.0014019817638397218, 0.0014348907, 0.0014684147365020752, 0.0015025624559570313, 0.0015373425204437256, 0.001572763671875, 0.0016088347323638917, 0.0016455646045898439, 0.001682962272164917, 0.0017210368, 0.0017597973346710205, 0.0017992531047851563, 0.001839413421347046, 0.001880287678125, 0.001921885352017212, 0.001964216003417969, 0.0020072892765838624, 0.0020511149, 0.002095702686746216, 0.0021410625348632813, 0.002187204427719116, 0.002234138434375, 0.0022818747099517824, 0.002330423495996094, 0.0023797951208465577, 0.0024300000000000003, 0.0024810486364776614, 0.0025329516211914063, 0.002585719633309937, 0.002639363440625, 0.002693893899917603, 0.002749321957324219, 0.002805658648703003, 0.0028629151, 0.0029211025276153564, 0.0029802322387695312, 0.003040315631869507, 0.003101364196875, 0.003163389515664673, 0.003226403262402344, 0.0032904172039031985, 0.0033554432, 0.003421493203909302, 0.003488579262597656, 0.003556713517147827, 0.003625908203125, 0.0036961756509429934, 0.003767528286230469, 0.0038399786301971436, 0.0039135393, 0.003988223009109497, 0.004064042567675782, 0.0041410108828948975, 0.004219140959375, 0.004298445899502563, 0.004378938903808594, 0.0044606332713348395, 0.0045435424, 0.004627679786965943, 0.004713059029003906, 0.004799693822860718, 0.004887597965625001, 0.004976785355093384, 0.005067269990136719, 0.005159065971066285, 0.0052521875, 0.005346648881228638, 0.005442464521582031, 0.005539648930795288, 0.0056382167218750005, 0.005738182611465454, 0.005839561420214844, 0.00594236807314148, 0.0060466176, 0.006152325135647584, 0.006259505920410156, 0.006368175300448609, 0.0064783487281250005, 0.0065900417623687745, 0.006703270069042969, 0.006818049421310425, 0.0069343957, 0.007052324893972778, 0.0071718531004882815, 0.007292996525570679, 0.007415771484375, 0.007540194401553345, 0.007666281811621094, 0.00779405035932312, 0.0079235168, 0.008054697999954223, 0.008187610936816407, 0.008322272699911499, 0.008458700490625, 0.008596911622769165, 0.00873692352294922, 0.008878753730929567, 0.0090224199, 0.00916793979734192, 0.009315331304394532, 0.00946461241722107, 0.009615801246875, 0.009768916019766236, 0.009923975078027345, 0.010080996879879761, 0.01024, 0.010401003129885865, 0.010564025078222657, 0.01072908477124939, 0.010896201253125, 0.011065393686294556, 0.011236681351855468, 0.011410083649923707, 0.011585620100000001, 0.01176331034133606, 0.011943174133300781, 0.01212523135574646, 0.012309502009375, 0.012496006216104126, 0.012684764219433594, 0.012875796384811402, 0.013069123200000001, 0.013264765275442505, 0.013462743344628906, 0.01366307826446228, 0.013865791015625, 0.014070902702944947, 0.01427843455576172, 0.014488407928292847, 0.0147008443, 0.0149157652759552, 0.015133192587207031, 0.015353148091146851, 0.015575653771875, 0.015800731740567016, 0.016028404235839844, 0.016258693624118043, 0.0164916224, 0.016727213186624144, 0.016965488736035157, 0.01720647192955017, 0.017450185778125002, 0.017696653422720338, 0.01794589813466797, 0.01819794331603699, 0.018452812500000002, 0.01871052935119934, 0.018971117666113282, 0.01923460137342224, 0.019501004534375, 0.01977035134315491, 0.020042666127246093, 0.020317973347799684, 0.0205962976, 0.020877663613430786, 0.021162096252441406, 0.02144962051651306, 0.021740261540625, 0.02203404459562073, 0.02233099508857422, 0.022631138563156128, 0.022934500700000002, 0.023241107317068483, 0.023550984370019533, 0.023864157952572632, 0.024180654296875, 0.024500499773867798, 0.024823720893652344, 0.025150344305856324, 0.025480396800000003, 0.025813905305862427, 0.026150896893847655, 0.026491398775350953, 0.026835438303125, 0.02718304297164612, 0.02753424041748047, 0.02788905841965027, 0.0282475249, 0.028609667923562624, 0.028975515698925782, 0.029345096578598025, 0.029718439059375, 0.03009557178270569, 0.030476523535058597, 0.030861323248287966, 0.03125, 0.03164258301391907, 0.03203910166025391, 0.032439585456063846, 0.032844064065625005, 0.03325256730079651, 0.03366512512138672, 0.034081767635519414, 0.0345025251, 0.034927427920681764, 0.035356506652832034, 0.03578979200149841, 0.036227314821875, 0.03666910611966858, 0.03711519705146484, 0.03756561892509461, 0.038020403200000004, 0.03847958148760071, 0.03894318555166016, 0.03941124730865173, 0.039883798828125004, 0.0403608723330719, 0.040842500200292974, 0.041328714960763555, 0.0418195493, 0.0423150360584259, 0.04281520823173828, 0.043320098971273806, 0.043829741584375, 0.04434416953475647, 0.0448634164428711, 0.045387516086276246, 0.0459165024, 0.04645040947690735, 0.046989271568066406, 0.04753312308311462, 0.048081998590625, 0.04863593281847229, 0.04919496065419922, 0.04975911714538269, 0.0503284375, 0.05090295708679505, 0.051482711435644535, 0.0520677362379242, 0.052658067346875004, 0.05325374077796936, 0.053854792709277344, 0.05446125948183289, 0.0550731776, 0.055690583731838994, 0.056313514709472656, 0.05694200752945252, 0.057576099353125, 0.058215827506997685, 0.05886122948310547, 0.059512342939376836, 0.0601692057, 0.060831855755789185, 0.06150033126455078, 0.06217467055144959, 0.06285491210937501, 0.06354109459930725, 0.0642332568506836, 0.06493143786176453, 0.0656356768, 0.06634601300239563, 0.06706248597587891, 0.06778513539766541, 0.068514001115625, 0.06924912314864808, 0.06999054168701171, 0.07073829709274597, 0.0714924299, 0.07225298081540833, 0.07301999071845704, 0.07379350066184998, 0.074573551871875, 0.07536018574877014, 0.07615344386708985, 0.07695336797607116, 0.07776000000000001, 0.07857338203857728, 0.07939355636728516, 0.0802205654377533, 0.081054451878125, 0.08189525849342347, 0.08274302826591798, 0.08359780435549012, 0.0844596301, 0.08532854901565247, 0.08620460479736329, 0.08708784131912536, 0.087978302634375, 0.08887603297635803, 0.0897810767584961, 0.09069347857475281, 0.0916132832, 0.09254053559038392, 0.0934752808836914, 0.09441756439971619, 0.095367431640625, 0.09632492829132386, 0.09729010021982422, 0.09826299347760925, 0.0992436543, 0.10023212910652161, 0.10122846450126953, 0.10223270727327576, 0.103244904396875, 0.10426510303207093, 0.10529335052490235, 0.10632969440780946, 0.1073741824, 0.10842686240781556, 0.10948778252509767, 0.11055699103355408, 0.111634536403125, 0.11272046729234925, 0.11381483254873047, 0.1149176812091034, 0.1160290625, 0.11714902583801576, 0.11827762083017579, 0.11941489727430116, 0.12056090515937501, 0.12171569466590881, 0.1228793161663086, 0.1240518202252411, 0.1252332576, 0.1264236792408722, 0.1276231362915039, 0.12883168008926696, 0.13004936216562502, 0.13127623424649965, 0.13251234825263672, 0.13375775629997255, 0.1350125107, 0.13627666396013488, 0.13755026878408202, 0.13883337807220153, 0.140126044921875, 0.14142832262787172, 0.14274026468271486, 0.14406192477704774, 0.1453933568, 0.14673461483955383, 0.14808575318291017, 0.14944682631685485, 0.150817888928125, 0.15219899590377503, 0.15359020233154297, 0.15499156350021667, 0.15640313490000002, 0.15782497222287903, 0.15925713136298827, 0.16069966841697694, 0.16215263968437502, 0.1636161016679596, 0.1650901110741211, 0.16657472481322938, 0.16807, 0.16957599395386047, 0.1710927641993164, 0.17262036846631776, 0.174158864690625, 0.17570831101417542, 0.17726876578544923, 0.17884028755983583, 0.18042293510000001, 0.18201676737624817, 0.18362184356689454, 0.18523822305862733, 0.186865965446875, 0.1885051305361725, 0.19015577834052735, 0.191817969083786, 0.1934917632, 0.19517722133379212, 0.19687440434072268, 0.19858337328765566, 0.200304189453125, 0.20203691432770082, 0.20378160961435549, 0.20553833722882997, 0.20730715930000002, 0.20908813817024233, 0.21088133639580078, 0.21268681674715273, 0.214504642209375, 0.2163348759825104, 0.2181775814819336, 0.22003282233871765, 0.2219006624, 0.22378116572934875, 0.2256743966071289, 0.22758041953086855, 0.229499299215625, 0.2314311005943512, 0.23337588881826174, 0.23533372925719911, 0.2373046875, 0.23928882935486145, 0.24128622084970705, 0.2432969282325531, 0.245321017971875, 0.24735855675697327, 0.24940961149833984, 0.2514742493280243, 0.2535525376, 0.25564454389053043, 0.25775033599853514, 0.25986998194595645, 0.262003549978125, 0.2641511085641266, 0.26631272639716796, 0.2684884723949432, 0.2706784157, 0.27288262568010563, 0.2751011719286133, 0.2773341242648285, 0.279581552734375, 0.28184352760956116, 0.28412011938974613, 0.28641139880170596, 0.2887174368, 0.29103830456733704, 0.29337407351494144, 0.29572481528291933, 0.298090601740625, 0.300471504987027, 0.3028675973510742, 0.3052789513920624, 0.3077056399, 0.3101477358959747, 0.31260531263251956, 0.3150784435939789, 0.31756720249687503, 0.32007166329027403, 0.32259190015615236, 0.3251279875097626, 0.32768, 0.3302480125097687, 0.3328321001563477, 0.3354323382917572, 0.338048802503125, 0.3406815686130524, 0.3433307126799805, 0.34599631099855654, 0.3486784401, 0.3513771767524689, 0.3540925979614258, 0.3568247809700043, 0.359573803259375, 0.36233974254911194, 0.3651226767975586, 0.3679226842021942, 0.37073984320000003, 0.37357423246782534, 0.3764259309227539, 0.3792950177224701, 0.382181572265625, 0.3850856741922028, 0.38800740338388673, 0.3909468399644257, 0.3939040643, 0.39687915699958803, 0.39987219891533204, 0.4028832711429047, 0.405912455021875, 0.40895983213607484, 0.41202548431396485, 0.41510949362900085, 0.41821194240000004, 0.42133291319150695, 0.42447248881416016, 0.427630752325058, 0.430807787028125, 0.4340036764744782, 0.437218504462793, 0.44045235503966984, 0.4437053125, 0.4469774613873322, 0.4502688864942383, 0.4535796728626801, 0.456909905784375, 0.46025967080116276, 0.4636290537053711, 0.46701814054018254, 0.4704270176, 0.4738557714308136, 0.4773044888305664, 0.4807732568495209, 0.484262162790625, 0.4877712942098786, 0.49130073891669923, 0.49485058497428897, 0.4984209207, 0.5020118346657013, 0.5056234156981445, 0.5092557528793304, 0.512908935546875, 0.5165830532943756, 0.5202781959717774, 0.5239944536857392, 0.5277319168, 0.5314906759357453, 0.5352708219719726, 0.5390724460458588, 0.542895639553125, 0.546740494148404, 0.5506071017456055, 0.5544955545182831, 0.5584059449000001, 0.5623383655846954, 0.5662929095270508, 0.5702696699428559, 0.574268740309375, 0.5782902143657135, 0.5823341861131837, 0.5864007498156708, 0.5904900000000001, 0.5946020314563019, 0.5987369392383789, 0.6028948186640717, 0.607075765315625, 0.6112798750400543, 0.6155072439495117, 0.6197579684216522, 0.6240321451, 0.6283298708943146, 0.6326512429809571, 0.6369963588032562, 0.641365316071875, 0.6457582127651764, 0.6501751471295899, 0.6546162176799775, 0.6590815232, 0.6635711627424835, 0.6680852356297852, 0.6726238414541595, 0.677187080078125, 0.6817750516348298, 0.6863878565284179, 0.6910255954343963, 0.6956883693, 0.7003762793445587, 0.7050894270598633, 0.7098279142105316, 0.714591842834375, 0.7193813152427643, 0.7241964340209961, 0.7290373020286591, 0.7339040224000001, 0.7387966985442902, 0.7437154341461915, 0.7486603331661225, 0.753631499840625, 0.7586290386827301, 0.7636530544823242, 0.7687036523065155, 0.7737809375, 0.7788850156854279, 0.7840159927637695, 0.789173974914682, 0.794359068596875, 0.7995713805484772, 0.8048110177874024, 0.8100780876117157, 0.8153726976000001, 0.8206949556117218, 0.8260449697875977, 0.8314228485499604, 0.836828700603125, 0.8422626349337555, 0.8477247608112305, 0.8532151877880096, 0.8587340257, 0.8642813846669221, 0.8698573750926758, 0.8754621076657074, 0.881095693359375, 0.8867582434323151, 0.8924498694288087, 0.8981706831791474, 0.9039207968, 0.9097003226947785, 0.915509373554004, 0.9213480623556732, 0.927216502365625, 0.933114807137906, 0.9390430905151368, 0.9450014666288789, 0.9509900499, 0.9570089550390412, 0.9630582970465821, 0.9691381912136078, 0.9752487531218751, 0.981390098644278, 0.9875623439452149, 0.993765605480954], \"xaxis\": \"x\", \"y\": [0.0, 0.0, 0.0, 0.0, 0.0, 0.0, 0.0, 0.0, 0.0, 0.0, 0.0, 0.0, 0.0, 0.0, 0.0, 0.0, 0.0, 0.0, 0.0, 0.0, 0.0, 0.0, 0.0, 0.0, 0.0, 0.0, 0.0, 0.0, 0.0, 0.0, 0.0, 0.0, 0.0, 0.0, 0.0, 0.0, 0.0, 0.0, 0.0, 0.0, 0.0, 0.0, 0.0, 0.0, 0.0, 0.0, 0.0, 0.0, 0.0, 0.0, 0.0, 0.0, 0.0, 0.0, 0.0, 0.0, 0.0, 0.0, 0.0, 0.0, 0.0, 0.0, 0.0, 0.0, 0.0, 0.0, 0.0, 0.0, 0.0, 0.0, 0.0, 0.0, 0.0, 0.0, 0.0, 0.0, 0.0, 0.0, 0.0, 0.0, 0.0, 0.0, 0.0, 0.0, 0.0, 0.0, 0.0, 0.0, 0.0, 0.0, 0.0, 0.0, 0.0, 0.0, 0.0, 0.0, 0.0, 0.0, 0.0, 0.0, 0.0, 0.0, 0.0, 0.0, 0.0, 0.0, 0.0, 0.0, 0.0, 0.0, 0.0, 0.0, 0.0, 0.0, 0.0, 0.0, 0.0, 0.0, 0.0, 0.0, 0.0, 0.0, 0.0, 0.0, 0.0, 0.0, 0.0, 0.0, 0.0, 0.0, 0.0, 0.0, 0.0, 0.0, 0.0, 0.0, 0.0, 0.0, 0.0, 0.0, 0.0, 0.0, 0.0, 0.0, 0.0, 0.0, 0.0, 0.0, 0.0, 0.0, 0.0, 0.0, 0.0, 0.0, 0.0, 0.0, 0.0, 0.0, 0.0, 0.0, 0.0, 0.0, 0.0, 0.0, 0.0, 0.0, 0.0, 0.0, 0.0, 0.0, 0.0, 0.0, 0.0, 0.0, 0.0, 0.0, 0.0, 0.0, 0.0, 0.0, 0.0, 0.0, 0.0, 0.0, 0.0, 0.0, 0.0, 0.0, 0.0, 0.0, 0.0, 0.0, 0.0, 0.0, 0.0, 0.0, 0.0, 0.0, 0.0, 0.0, 0.0, 0.0, 0.0, 0.0, 0.0, 0.0, 0.0, 0.0, 0.0, 0.0, 0.0, 0.0, 0.0, 0.0, 0.0, 0.0, 0.0, 0.0, 0.0, 0.0, 0.0, 0.0, 0.0, 0.0, 0.0, 0.0, 0.0, 0.0, 0.0, 0.0, 0.0, 0.0, 0.0, 0.0, 0.0, 0.0, 0.0, 0.0, 0.0, 0.0, 0.0, 0.0, 0.0, 0.0, 0.0, 0.0, 0.0, 0.0, 0.0, 0.0, 0.0, 0.0, 0.0, 0.0, 0.0, 0.0, 0.0, 0.0, 0.0, 0.0, 0.0, 0.0, 0.0, 0.0, 0.0, 0.0, 0.0, 0.0, 0.0, 0.0, 0.0, 0.0, 0.0, 0.0, 0.0, 0.0, 0.0, 0.0, 0.0, 0.0, 0.0, 0.0, 0.0, 0.0, 0.0, 0.0, 0.0, 0.0, 0.0, 0.0, 0.0, 0.0, 0.0, 0.0, 0.0, 0.0, 0.0, 0.0, 0.0, 0.0, 0.0, 0.0, 0.0, 0.0, 0.0, 0.0, 0.0, 0.0, 0.0, 0.0, 0.0, 0.0, 0.0, 0.0, 0.0, 0.0, 0.0, 0.0, 0.0, 0.0, 0.0, 0.0, 0.0, 0.0, 0.0, 0.0, 0.0, 0.0, 0.0, 0.0, 0.0, 0.0, 0.0, 0.0, 0.0, 0.0, 0.0, 0.0, 0.0, 0.0, 0.0, 0.0, 0.0, 0.0, 0.0, 0.0, 0.0, 0.0, 0.0, 0.0, 0.0, 0.0, 0.0, 0.0, 0.0, 0.0, 0.0, 0.0, 0.0, 0.0, 0.0, 0.0, 0.0, 0.0, 0.0, 0.0, 0.0, 0.0, 0.0, 0.0, 0.0, 0.0, 0.0, 0.0, 0.0, 0.0, 0.0, 1.0, 1.0, 1.0, 1.0, 1.0, 1.0, 1.0, 1.0, 1.0, 1.0, 1.0, 1.0, 1.0, 1.0, 2.0, 2.0, 2.0, 2.0, 2.0, 2.0, 2.0, 2.0, 2.0, 2.0, 2.0, 3.0, 3.0, 3.0, 3.0, 3.0, 3.0, 3.0, 3.0, 3.0, 4.0, 4.0, 4.0, 4.0, 4.0, 4.0, 4.0, 4.0, 4.0, 6.0, 6.0, 6.0, 6.0, 6.0, 6.0, 6.0, 6.0, 6.0, 6.0, 6.0, 6.0, 6.0, 6.0, 6.0, 6.0, 6.0, 6.0, 6.0, 6.0, 6.0, 6.0, 6.0, 6.0, 6.0, 6.0, 6.0, 6.0, 6.0, 7.0, 7.0, 7.0, 7.0, 7.0, 7.0, 7.0, 7.0, 7.0, 7.0, 7.0, 7.0, 8.0, 8.0, 8.0, 8.0, 8.0, 8.0, 8.0, 8.0, 8.0, 8.0, 8.0, 8.0, 8.0, 8.0, 8.0, 8.0, 8.0, 9.0, 10.0, 10.0, 10.0, 10.0, 10.0, 10.0, 10.0, 10.0, 10.0, 10.0, 10.0, 10.0, 10.0, 10.0, 11.0, 11.0, 11.0, 11.0, 11.0, 11.0, 11.0, 11.0, 11.0, 12.0, 12.0, 12.0, 13.0, 13.0, 13.0, 13.0, 13.0, 13.0, 13.0, 13.0, 14.0, 14.0, 14.0, 14.0, 14.0, 15.0, 15.0, 15.0, 15.0, 16.0, 17.0, 18.0, 18.0, 18.0, 18.0, 18.0, 19.0, 19.0, 20.0, 20.0, 21.0, 22.0, 22.0, 22.0, 22.0, 22.0, 23.0, 23.0, 23.0, 23.0, 23.0, 23.0, 24.0, 25.0, 25.0, 25.0, 25.0, 25.0, 26.0, 26.0, 26.0, 26.0, 27.0, 27.0, 28.0, 28.0, 28.0, 29.0, 29.0, 29.0, 29.0, 29.0, 29.0, 30.0, 31.0, 31.0, 31.0, 31.0, 31.0, 31.0, 31.0, 31.0, 31.0, 31.0, 31.0, 31.0, 31.0, 31.0, 31.0, 32.0, 32.0, 32.0, 33.0, 34.0, 35.0, 37.0, 38.0, 38.0, 38.0, 38.0, 38.0, 38.0, 38.0, 38.0, 38.0, 39.0, 39.0, 40.0, 40.0, 40.0, 40.0, 41.0, 41.0, 41.0, 41.0, 41.0, 41.0, 41.0, 41.0, 42.0, 42.0, 42.0, 42.0, 43.0, 43.0, 45.0, 45.0, 45.0, 45.0, 45.0, 45.0, 45.0, 45.0, 45.0, 45.0, 45.0, 45.0, 45.0, 46.0, 46.0, 47.0, 47.0, 47.0, 47.0, 51.0, 51.0, 51.0, 52.0, 52.0, 52.0, 53.0, 53.0, 55.0, 55.0, 55.0, 55.0, 55.0, 55.0, 55.0, 56.0, 57.0, 58.0, 59.0, 60.0, 61.0, 61.0, 62.0, 62.0, 63.0, 64.0, 64.0, 65.0, 65.0, 66.0, 67.0, 67.0, 68.0, 68.0, 70.0, 74.0, 76.0, 76.0, 76.0, 77.0, 79.0, 80.0, 80.0, 83.0, 85.0, 86.0, 87.0, 88.0, 89.0, 90.0, 92.0, 93.0, 93.0, 98.0, 101.0, 101.0, 101.0, 103.0, 103.0, 103.0, 103.0, 105.0, 105.0, 105.0, 107.0, 107.0, 108.0, 112.0, 112.0, 113.0, 115.0, 117.0, 120.0, 123.0, 126.0, 127.0, 128.0, 129.0, 129.0, 132.0, 136.0, 139.0, 141.0, 142.0, 143.0, 145.0, 149.0, 150.0, 153.0, 156.0, 158.0, 160.0, 162.0, 164.0, 168.0, 172.0, 177.0, 181.0, 190.0, 194.0, 200.0, 208.0, 212.0, 224.0, 231.0, 236.0, 245.0, 254.0, 261.0, 279.0, 281.0, 286.0, 291.0, 297.0, 301.0, 309.0, 316.0, 327.0, 335.0, 342.0, 352.0, 363.0, 370.0, 388.0, 467.0, 475.0, 487.0, 497.0, 509.0, 526.0, 533.0, 548.0, 561.0, 583.0, 597.0, 614.0, 639.0, 666.0, 704.0, 764.0, 885.0, 943.0, 1062.0, 1097.0, 1130.0, 1183.0, 1385.0, 1434.0, 1495.0, 1540.0, 1595.0, 1637.0, 1687.0, 1743.0, 1802.0, 1882.0, 2315.0, 2523.0, 2682.0, 3236.0, 3505.0, 4809.0, 6025.0], \"yaxis\": \"y\"}, {\"hovertemplate\": \"Dataset=cifar10<br>Difference=%{x}<br>Accepted=%{y}<extra></extra>\", \"legendgroup\": \"cifar10\", \"line\": {\"color\": \"#00cc96\", \"dash\": \"solid\"}, \"mode\": \"lines\", \"name\": \"cifar10\", \"showlegend\": true, \"type\": \"scattergl\", \"x\": [0.0, 3.0517578125e-15, 9.765625e-14, 7.415771484375001e-13, 3.125e-12, 9.5367431640625e-12, 2.3730468750000002e-11, 5.12908935546875e-11, 1e-10, 1.802032470703125e-10, 3.0517578125e-10, 4.914886474609375e-10, 7.593750000000001e-10, 1.1330963134765626e-09, 1.64130859375e-09, 2.3174285888671878e-09, 3.2e-09, 4.333059692382813e-09, 5.76650390625e-09, 7.556454467773438e-09, 9.765625e-09, 1.2463687133789064e-08, 1.572763671875e-08, 1.9642160034179688e-08, 2.4300000000000003e-08, 2.9802322387695312e-08, 3.6259082031250004e-08, 4.378938903808594e-08, 5.2521875e-08, 6.259505920410156e-08, 7.415771484375001e-08, 8.73692352294922e-08, 1.024e-07, 1.1943174133300782e-07, 1.3865791015625e-07, 1.6028404235839843e-07, 1.84528125e-07, 2.1162096252441407e-07, 2.4180654296875e-07, 2.753424041748047e-07, 3.125e-07, 3.5356506652832034e-07, 3.9883798828125003e-07, 4.4863416442871093e-07, 5.03284375e-07, 5.631351470947266e-07, 6.2854912109375e-07, 6.999054168701173e-07, 7.776000000000001e-07, 8.620460479736328e-07, 9.5367431640625e-07, 1.0529335052490235e-06, 1.1602906250000001e-06, 1.2762313629150391e-06, 1.40126044921875e-06, 1.5359020233154298e-06, 1.6807e-06, 1.8362184356689453e-06, 2.00304189453125e-06, 2.181775814819336e-06, 2.3730468750000003e-06, 2.5775033599853516e-06, 2.79581552734375e-06, 3.028675973510742e-06, 3.2768e-06, 3.540925979614258e-06, 3.82181572265625e-06, 4.120254843139649e-06, 4.437053125e-06, 4.773044888305665e-06, 5.12908935546875e-06, 5.506071017456055e-06, 5.9049e-06, 6.326512429809571e-06, 6.77187080078125e-06, 7.241964340209961e-06, 7.737809375e-06, 8.260449697875977e-06, 8.81095693359375e-06, 9.390430905151367e-06, 1e-05, 1.0640821536254882e-05, 1.1314082128906251e-05, 1.2020998056030274e-05, 1.2762815625000001e-05, 1.354081153869629e-05, 1.435629326171875e-05, 1.521059938659668e-05, 1.61051e-05, 1.7041197048950197e-05, 1.8020324707031252e-05, 1.9043949740600587e-05, 2.0113571875e-05, 2.12307241607666e-05, 2.2396973339843752e-05, 2.3613920211791992e-05, 2.4883200000000003e-05, 2.6206482717895508e-05, 2.758547353515625e-05, 2.90219131439209e-05, 3.0517578125e-05, 3.207428131408692e-05, 3.369387216796875e-05, 3.537823713073731e-05, 3.7129300000000004e-05, 3.8949022293090824e-05, 4.083940361328125e-05, 4.280248201599121e-05, 4.4840334375e-05, 4.695507674865723e-05, 4.914886474609375e-05, 5.142389389343262e-05, 5.37824e-05, 5.622665952453613e-05, 5.875898994140625e-05, 6.138175010681153e-05, 6.4097340625e-05, 6.690820421447754e-05, 6.981682607421875e-05, 7.282573424987793e-05, 7.593750000000001e-05, 7.915473816223145e-05, 8.248010751953125e-05, 8.591631116638184e-05, 8.9466096875e-05, 9.313225746154785e-05, 9.691763115234375e-05, 0.00010082510195007325, 0.0001048576, 0.00010901810195617676, 0.00011330963134765625, 0.00011773525894470216, 0.000122298103125, 0.00012700133023986818, 0.00013184815498046875, 0.00013684184074401855, 0.0001419857, 0.00014728309465637207, 0.00015273743642578127, 0.00015835218719177248, 0.000164130859375, 0.00017007701629943847, 0.00017619427255859376, 0.00018248629438171387, 0.0001889568, 0.00019560956001281739, 0.00020244839775390627, 0.00020947718965759279, 0.000216699865625, 0.0002241204093902588, 0.00023174285888671875, 0.00023957130661315918, 0.0002476099, 0.0002558628417755127, 0.00026433439033203126, 0.0002730288600921631, 0.000281950621875, 0.0002911041032623291, 0.00030049378896484374, 0.0003101242211883545, 0.00032, 0.00033012578369445803, 0.00034050628916015624, 0.0003511462922454834, 0.00036205062812500003, 0.0003732241916656494, 0.00038467193779296877, 0.0003963988818572998, 0.00040841010000000004, 0.0004207107295196533, 0.00043330596923828125, 0.0004462010798675537, 0.000459401384375, 0.00047291226835021973, 0.00048673918037109374, 0.0005008876323699951, 0.0005153632, 0.0005301715230010987, 0.0005453183055664063, 0.000560809316708374, 0.0005766503906250001, 0.0005928474270660401, 0.0006094063916992188, 0.0006263333164764404, 0.0006436343, 0.000661315507888794, 0.0006793831731445312, 0.0006978435965179444, 0.0007167031468750001, 0.0007359682615631104, 0.0007556454467773437, 0.0007757412779266357, 0.0007962624000000001, 0.0008172155279327392, 0.0008386074469726563, 0.0008604450130462646, 0.000882735153125, 0.0009054848655914307, 0.0009287012206054688, 0.0009523913604705811, 0.0009765625, 0.0010012219268829346, 0.0010263770020507814, 0.001052035160043335, 0.001078203909375, 0.001104890832901001, 0.0011321035881835938, 0.0011598499078582763, 0.0011881376000000001, 0.00121697454848938, 0.0012463687133789064, 0.0012763281312591554, 0.001306860915625, 0.0013379752572418213, 0.0013696794245117187, 0.0014019817638397218, 0.0014348907, 0.0014684147365020752, 0.0015025624559570313, 0.0015373425204437256, 0.001572763671875, 0.0016088347323638917, 0.0016455646045898439, 0.001682962272164917, 0.0017210368, 0.0017597973346710205, 0.0017992531047851563, 0.001839413421347046, 0.001880287678125, 0.001921885352017212, 0.001964216003417969, 0.0020072892765838624, 0.0020511149, 0.002095702686746216, 0.0021410625348632813, 0.002187204427719116, 0.002234138434375, 0.0022818747099517824, 0.002330423495996094, 0.0023797951208465577, 0.0024300000000000003, 0.0024810486364776614, 0.0025329516211914063, 0.002585719633309937, 0.002639363440625, 0.002693893899917603, 0.002749321957324219, 0.002805658648703003, 0.0028629151, 0.0029211025276153564, 0.0029802322387695312, 0.003040315631869507, 0.003101364196875, 0.003163389515664673, 0.003226403262402344, 0.0032904172039031985, 0.0033554432, 0.003421493203909302, 0.003488579262597656, 0.003556713517147827, 0.003625908203125, 0.0036961756509429934, 0.003767528286230469, 0.0038399786301971436, 0.0039135393, 0.003988223009109497, 0.004064042567675782, 0.0041410108828948975, 0.004219140959375, 0.004298445899502563, 0.004378938903808594, 0.0044606332713348395, 0.0045435424, 0.004627679786965943, 0.004713059029003906, 0.004799693822860718, 0.004887597965625001, 0.004976785355093384, 0.005067269990136719, 0.005159065971066285, 0.0052521875, 0.005346648881228638, 0.005442464521582031, 0.005539648930795288, 0.0056382167218750005, 0.005738182611465454, 0.005839561420214844, 0.00594236807314148, 0.0060466176, 0.006152325135647584, 0.006259505920410156, 0.006368175300448609, 0.0064783487281250005, 0.0065900417623687745, 0.006703270069042969, 0.006818049421310425, 0.0069343957, 0.007052324893972778, 0.0071718531004882815, 0.007292996525570679, 0.007415771484375, 0.007540194401553345, 0.007666281811621094, 0.00779405035932312, 0.0079235168, 0.008054697999954223, 0.008187610936816407, 0.008322272699911499, 0.008458700490625, 0.008596911622769165, 0.00873692352294922, 0.008878753730929567, 0.0090224199, 0.00916793979734192, 0.009315331304394532, 0.00946461241722107, 0.009615801246875, 0.009768916019766236, 0.009923975078027345, 0.010080996879879761, 0.01024, 0.010401003129885865, 0.010564025078222657, 0.01072908477124939, 0.010896201253125, 0.011065393686294556, 0.011236681351855468, 0.011410083649923707, 0.011585620100000001, 0.01176331034133606, 0.011943174133300781, 0.01212523135574646, 0.012309502009375, 0.012496006216104126, 0.012684764219433594, 0.012875796384811402, 0.013069123200000001, 0.013264765275442505, 0.013462743344628906, 0.01366307826446228, 0.013865791015625, 0.014070902702944947, 0.01427843455576172, 0.014488407928292847, 0.0147008443, 0.0149157652759552, 0.015133192587207031, 0.015353148091146851, 0.015575653771875, 0.015800731740567016, 0.016028404235839844, 0.016258693624118043, 0.0164916224, 0.016727213186624144, 0.016965488736035157, 0.01720647192955017, 0.017450185778125002, 0.017696653422720338, 0.01794589813466797, 0.01819794331603699, 0.018452812500000002, 0.01871052935119934, 0.018971117666113282, 0.01923460137342224, 0.019501004534375, 0.01977035134315491, 0.020042666127246093, 0.020317973347799684, 0.0205962976, 0.020877663613430786, 0.021162096252441406, 0.02144962051651306, 0.021740261540625, 0.02203404459562073, 0.02233099508857422, 0.022631138563156128, 0.022934500700000002, 0.023241107317068483, 0.023550984370019533, 0.023864157952572632, 0.024180654296875, 0.024500499773867798, 0.024823720893652344, 0.025150344305856324, 0.025480396800000003, 0.025813905305862427, 0.026150896893847655, 0.026491398775350953, 0.026835438303125, 0.02718304297164612, 0.02753424041748047, 0.02788905841965027, 0.0282475249, 0.028609667923562624, 0.028975515698925782, 0.029345096578598025, 0.029718439059375, 0.03009557178270569, 0.030476523535058597, 0.030861323248287966, 0.03125, 0.03164258301391907, 0.03203910166025391, 0.032439585456063846, 0.032844064065625005, 0.03325256730079651, 0.03366512512138672, 0.034081767635519414, 0.0345025251, 0.034927427920681764, 0.035356506652832034, 0.03578979200149841, 0.036227314821875, 0.03666910611966858, 0.03711519705146484, 0.03756561892509461, 0.038020403200000004, 0.03847958148760071, 0.03894318555166016, 0.03941124730865173, 0.039883798828125004, 0.0403608723330719, 0.040842500200292974, 0.041328714960763555, 0.0418195493, 0.0423150360584259, 0.04281520823173828, 0.043320098971273806, 0.043829741584375, 0.04434416953475647, 0.0448634164428711, 0.045387516086276246, 0.0459165024, 0.04645040947690735, 0.046989271568066406, 0.04753312308311462, 0.048081998590625, 0.04863593281847229, 0.04919496065419922, 0.04975911714538269, 0.0503284375, 0.05090295708679505, 0.051482711435644535, 0.0520677362379242, 0.052658067346875004, 0.05325374077796936, 0.053854792709277344, 0.05446125948183289, 0.0550731776, 0.055690583731838994, 0.056313514709472656, 0.05694200752945252, 0.057576099353125, 0.058215827506997685, 0.05886122948310547, 0.059512342939376836, 0.0601692057, 0.060831855755789185, 0.06150033126455078, 0.06217467055144959, 0.06285491210937501, 0.06354109459930725, 0.0642332568506836, 0.06493143786176453, 0.0656356768, 0.06634601300239563, 0.06706248597587891, 0.06778513539766541, 0.068514001115625, 0.06924912314864808, 0.06999054168701171, 0.07073829709274597, 0.0714924299, 0.07225298081540833, 0.07301999071845704, 0.07379350066184998, 0.074573551871875, 0.07536018574877014, 0.07615344386708985, 0.07695336797607116, 0.07776000000000001, 0.07857338203857728, 0.07939355636728516, 0.0802205654377533, 0.081054451878125, 0.08189525849342347, 0.08274302826591798, 0.08359780435549012, 0.0844596301, 0.08532854901565247, 0.08620460479736329, 0.08708784131912536, 0.087978302634375, 0.08887603297635803, 0.0897810767584961, 0.09069347857475281, 0.0916132832, 0.09254053559038392, 0.0934752808836914, 0.09441756439971619, 0.095367431640625, 0.09632492829132386, 0.09729010021982422, 0.09826299347760925, 0.0992436543, 0.10023212910652161, 0.10122846450126953, 0.10223270727327576, 0.103244904396875, 0.10426510303207093, 0.10529335052490235, 0.10632969440780946, 0.1073741824, 0.10842686240781556, 0.10948778252509767, 0.11055699103355408, 0.111634536403125, 0.11272046729234925, 0.11381483254873047, 0.1149176812091034, 0.1160290625, 0.11714902583801576, 0.11827762083017579, 0.11941489727430116, 0.12056090515937501, 0.12171569466590881, 0.1228793161663086, 0.1240518202252411, 0.1252332576, 0.1264236792408722, 0.1276231362915039, 0.12883168008926696, 0.13004936216562502, 0.13127623424649965, 0.13251234825263672, 0.13375775629997255, 0.1350125107, 0.13627666396013488, 0.13755026878408202, 0.13883337807220153, 0.140126044921875, 0.14142832262787172, 0.14274026468271486, 0.14406192477704774, 0.1453933568, 0.14673461483955383, 0.14808575318291017, 0.14944682631685485, 0.150817888928125, 0.15219899590377503, 0.15359020233154297, 0.15499156350021667, 0.15640313490000002, 0.15782497222287903, 0.15925713136298827, 0.16069966841697694, 0.16215263968437502, 0.1636161016679596, 0.1650901110741211, 0.16657472481322938, 0.16807, 0.16957599395386047, 0.1710927641993164, 0.17262036846631776, 0.174158864690625, 0.17570831101417542, 0.17726876578544923, 0.17884028755983583, 0.18042293510000001, 0.18201676737624817, 0.18362184356689454, 0.18523822305862733, 0.186865965446875, 0.1885051305361725, 0.19015577834052735, 0.191817969083786, 0.1934917632, 0.19517722133379212, 0.19687440434072268, 0.19858337328765566, 0.200304189453125, 0.20203691432770082, 0.20378160961435549, 0.20553833722882997, 0.20730715930000002, 0.20908813817024233, 0.21088133639580078, 0.21268681674715273, 0.214504642209375, 0.2163348759825104, 0.2181775814819336, 0.22003282233871765, 0.2219006624, 0.22378116572934875, 0.2256743966071289, 0.22758041953086855, 0.229499299215625, 0.2314311005943512, 0.23337588881826174, 0.23533372925719911, 0.2373046875, 0.23928882935486145, 0.24128622084970705, 0.2432969282325531, 0.245321017971875, 0.24735855675697327, 0.24940961149833984, 0.2514742493280243, 0.2535525376, 0.25564454389053043, 0.25775033599853514, 0.25986998194595645, 0.262003549978125, 0.2641511085641266, 0.26631272639716796, 0.2684884723949432, 0.2706784157, 0.27288262568010563, 0.2751011719286133, 0.2773341242648285, 0.279581552734375, 0.28184352760956116, 0.28412011938974613, 0.28641139880170596, 0.2887174368, 0.29103830456733704, 0.29337407351494144, 0.29572481528291933, 0.298090601740625, 0.300471504987027, 0.3028675973510742, 0.3052789513920624, 0.3077056399, 0.3101477358959747, 0.31260531263251956, 0.3150784435939789, 0.31756720249687503, 0.32007166329027403, 0.32259190015615236, 0.3251279875097626, 0.32768, 0.3302480125097687, 0.3328321001563477, 0.3354323382917572, 0.338048802503125, 0.3406815686130524, 0.3433307126799805, 0.34599631099855654, 0.3486784401, 0.3513771767524689, 0.3540925979614258, 0.3568247809700043, 0.359573803259375, 0.36233974254911194, 0.3651226767975586, 0.3679226842021942, 0.37073984320000003, 0.37357423246782534, 0.3764259309227539, 0.3792950177224701, 0.382181572265625, 0.3850856741922028, 0.38800740338388673, 0.3909468399644257, 0.3939040643, 0.39687915699958803, 0.39987219891533204, 0.4028832711429047, 0.405912455021875, 0.40895983213607484, 0.41202548431396485, 0.41510949362900085, 0.41821194240000004, 0.42133291319150695, 0.42447248881416016, 0.427630752325058, 0.430807787028125, 0.4340036764744782, 0.437218504462793, 0.44045235503966984, 0.4437053125, 0.4469774613873322, 0.4502688864942383, 0.4535796728626801, 0.456909905784375, 0.46025967080116276, 0.4636290537053711, 0.46701814054018254, 0.4704270176, 0.4738557714308136, 0.4773044888305664, 0.4807732568495209, 0.484262162790625, 0.4877712942098786, 0.49130073891669923, 0.49485058497428897, 0.4984209207, 0.5020118346657013, 0.5056234156981445, 0.5092557528793304, 0.512908935546875, 0.5165830532943756, 0.5202781959717774, 0.5239944536857392, 0.5277319168, 0.5314906759357453, 0.5352708219719726, 0.5390724460458588, 0.542895639553125, 0.546740494148404, 0.5506071017456055, 0.5544955545182831, 0.5584059449000001, 0.5623383655846954, 0.5662929095270508, 0.5702696699428559, 0.574268740309375, 0.5782902143657135, 0.5823341861131837, 0.5864007498156708, 0.5904900000000001, 0.5946020314563019, 0.5987369392383789, 0.6028948186640717, 0.607075765315625, 0.6112798750400543, 0.6155072439495117, 0.6197579684216522, 0.6240321451, 0.6283298708943146, 0.6326512429809571, 0.6369963588032562, 0.641365316071875, 0.6457582127651764, 0.6501751471295899, 0.6546162176799775, 0.6590815232, 0.6635711627424835, 0.6680852356297852, 0.6726238414541595, 0.677187080078125, 0.6817750516348298, 0.6863878565284179, 0.6910255954343963, 0.6956883693, 0.7003762793445587, 0.7050894270598633, 0.7098279142105316, 0.714591842834375, 0.7193813152427643, 0.7241964340209961, 0.7290373020286591, 0.7339040224000001, 0.7387966985442902, 0.7437154341461915, 0.7486603331661225, 0.753631499840625, 0.7586290386827301, 0.7636530544823242, 0.7687036523065155, 0.7737809375, 0.7788850156854279, 0.7840159927637695, 0.789173974914682, 0.794359068596875, 0.7995713805484772, 0.8048110177874024, 0.8100780876117157, 0.8153726976000001, 0.8206949556117218, 0.8260449697875977, 0.8314228485499604, 0.836828700603125, 0.8422626349337555, 0.8477247608112305, 0.8532151877880096, 0.8587340257, 0.8642813846669221, 0.8698573750926758, 0.8754621076657074, 0.881095693359375, 0.8867582434323151, 0.8924498694288087, 0.8981706831791474, 0.9039207968, 0.9097003226947785, 0.915509373554004, 0.9213480623556732, 0.927216502365625, 0.933114807137906, 0.9390430905151368, 0.9450014666288789, 0.9509900499, 0.9570089550390412, 0.9630582970465821, 0.9691381912136078, 0.9752487531218751, 0.981390098644278, 0.9875623439452149, 0.993765605480954], \"xaxis\": \"x\", \"y\": [0.0, 0.0, 0.0, 0.0, 0.0, 0.0, 0.0, 0.0, 0.0, 0.0, 0.0, 0.0, 0.0, 0.0, 0.0, 0.0, 0.0, 0.0, 0.0, 0.0, 0.0, 0.0, 0.0, 0.0, 0.0, 0.0, 0.0, 0.0, 0.0, 0.0, 0.0, 0.0, 0.0, 0.0, 0.0, 0.0, 0.0, 0.0, 0.0, 0.0, 0.0, 0.0, 0.0, 0.0, 0.0, 0.0, 0.0, 0.0, 0.0, 0.0, 0.0, 0.0, 0.0, 0.0, 0.0, 0.0, 0.0, 0.0, 0.0, 0.0, 0.0, 0.0, 0.0, 0.0, 0.0, 0.0, 0.0, 0.0, 0.0, 0.0, 0.0, 0.0, 0.0, 0.0, 0.0, 0.0, 0.0, 0.0, 0.0, 0.0, 0.0, 0.0, 0.0, 0.0, 0.0, 0.0, 0.0, 0.0, 0.0, 0.0, 0.0, 0.0, 0.0, 0.0, 0.0, 0.0, 0.0, 0.0, 0.0, 0.0, 0.0, 0.0, 0.0, 0.0, 0.0, 0.0, 0.0, 0.0, 0.0, 0.0, 0.0, 0.0, 0.0, 0.0, 0.0, 0.0, 0.0, 0.0, 0.0, 0.0, 0.0, 0.0, 0.0, 0.0, 0.0, 0.0, 0.0, 0.0, 0.0, 0.0, 0.0, 0.0, 0.0, 0.0, 0.0, 0.0, 0.0, 0.0, 0.0, 0.0, 0.0, 0.0, 0.0, 0.0, 0.0, 0.0, 0.0, 0.0, 0.0, 0.0, 0.0, 0.0, 0.0, 0.0, 0.0, 0.0, 0.0, 0.0, 0.0, 0.0, 0.0, 0.0, 0.0, 0.0, 0.0, 0.0, 0.0, 0.0, 0.0, 0.0, 0.0, 0.0, 0.0, 0.0, 0.0, 0.0, 0.0, 0.0, 0.0, 0.0, 0.0, 0.0, 0.0, 0.0, 0.0, 0.0, 0.0, 0.0, 0.0, 0.0, 0.0, 0.0, 0.0, 0.0, 0.0, 0.0, 0.0, 0.0, 0.0, 0.0, 0.0, 0.0, 0.0, 0.0, 0.0, 0.0, 0.0, 0.0, 0.0, 0.0, 0.0, 0.0, 0.0, 0.0, 0.0, 0.0, 0.0, 0.0, 0.0, 0.0, 0.0, 0.0, 0.0, 0.0, 0.0, 0.0, 0.0, 0.0, 0.0, 0.0, 0.0, 0.0, 0.0, 0.0, 0.0, 0.0, 0.0, 0.0, 0.0, 0.0, 0.0, 0.0, 0.0, 0.0, 0.0, 0.0, 0.0, 0.0, 0.0, 0.0, 0.0, 0.0, 0.0, 0.0, 0.0, 0.0, 0.0, 0.0, 0.0, 0.0, 0.0, 0.0, 0.0, 0.0, 0.0, 0.0, 0.0, 0.0, 0.0, 0.0, 0.0, 0.0, 0.0, 0.0, 0.0, 0.0, 0.0, 0.0, 0.0, 0.0, 0.0, 0.0, 0.0, 0.0, 0.0, 0.0, 0.0, 0.0, 0.0, 0.0, 0.0, 0.0, 0.0, 0.0, 0.0, 0.0, 0.0, 0.0, 0.0, 0.0, 0.0, 0.0, 0.0, 0.0, 0.0, 0.0, 0.0, 0.0, 0.0, 0.0, 0.0, 0.0, 0.0, 0.0, 0.0, 0.0, 0.0, 0.0, 0.0, 1.0, 1.0, 1.0, 1.0, 1.0, 1.0, 1.0, 1.0, 1.0, 1.0, 1.0, 1.0, 1.0, 1.0, 1.0, 1.0, 1.0, 1.0, 1.0, 1.0, 1.0, 1.0, 1.0, 1.0, 1.0, 1.0, 1.0, 1.0, 1.0, 1.0, 2.0, 2.0, 2.0, 2.0, 2.0, 2.0, 3.0, 3.0, 3.0, 3.0, 3.0, 3.0, 3.0, 3.0, 3.0, 3.0, 4.0, 4.0, 4.0, 4.0, 4.0, 4.0, 4.0, 5.0, 6.0, 6.0, 6.0, 7.0, 7.0, 7.0, 9.0, 9.0, 9.0, 9.0, 9.0, 10.0, 10.0, 10.0, 10.0, 10.0, 10.0, 10.0, 11.0, 11.0, 11.0, 12.0, 12.0, 13.0, 14.0, 14.0, 14.0, 14.0, 15.0, 15.0, 15.0, 16.0, 16.0, 17.0, 17.0, 18.0, 20.0, 21.0, 21.0, 21.0, 22.0, 22.0, 22.0, 22.0, 23.0, 23.0, 26.0, 26.0, 28.0, 29.0, 29.0, 30.0, 31.0, 32.0, 34.0, 34.0, 34.0, 34.0, 34.0, 35.0, 37.0, 37.0, 37.0, 39.0, 40.0, 41.0, 42.0, 42.0, 43.0, 43.0, 45.0, 47.0, 47.0, 47.0, 47.0, 48.0, 49.0, 49.0, 51.0, 51.0, 51.0, 52.0, 53.0, 53.0, 53.0, 54.0, 54.0, 55.0, 57.0, 58.0, 58.0, 58.0, 60.0, 62.0, 63.0, 63.0, 63.0, 64.0, 64.0, 64.0, 64.0, 64.0, 67.0, 67.0, 68.0, 68.0, 68.0, 68.0, 68.0, 68.0, 69.0, 69.0, 69.0, 71.0, 71.0, 71.0, 72.0, 72.0, 72.0, 72.0, 72.0, 72.0, 72.0, 72.0, 72.0, 72.0, 73.0, 73.0, 73.0, 73.0, 73.0, 73.0, 73.0, 73.0, 73.0, 74.0, 75.0, 75.0, 75.0, 75.0, 75.0, 75.0, 75.0, 75.0, 75.0, 76.0, 76.0, 76.0, 76.0, 76.0, 76.0, 77.0, 77.0, 79.0, 79.0, 79.0, 80.0, 80.0, 80.0, 80.0, 81.0, 81.0, 81.0, 81.0, 81.0, 81.0, 82.0, 84.0, 85.0, 85.0, 85.0, 85.0, 85.0, 85.0, 85.0, 85.0, 86.0, 87.0, 87.0, 88.0, 88.0, 89.0, 90.0, 90.0, 90.0, 90.0, 91.0, 92.0, 93.0, 93.0, 93.0, 94.0, 95.0, 95.0, 95.0, 96.0, 96.0, 96.0, 96.0, 96.0, 97.0, 97.0, 98.0, 98.0, 99.0, 100.0, 101.0, 101.0, 101.0, 102.0, 102.0, 102.0, 102.0, 102.0, 103.0, 104.0, 104.0, 104.0, 104.0, 104.0, 104.0, 104.0, 105.0, 105.0, 105.0, 105.0, 107.0, 107.0, 108.0, 109.0, 109.0, 110.0, 110.0, 113.0, 113.0, 114.0, 114.0, 115.0, 115.0, 116.0, 117.0, 118.0, 119.0, 119.0, 119.0, 119.0, 119.0, 119.0, 121.0, 123.0, 123.0, 124.0, 125.0, 127.0, 128.0, 128.0, 130.0, 130.0, 131.0, 131.0, 132.0, 134.0, 134.0, 134.0, 134.0, 134.0, 136.0, 137.0, 139.0, 139.0, 140.0, 140.0, 142.0, 144.0, 147.0, 147.0, 148.0, 150.0, 150.0, 151.0, 153.0, 156.0, 158.0, 158.0, 159.0, 160.0, 160.0, 162.0, 163.0, 163.0, 164.0, 166.0, 169.0, 169.0, 170.0, 170.0, 172.0, 174.0, 176.0, 176.0, 176.0, 177.0, 180.0, 181.0, 182.0, 184.0, 188.0, 190.0, 192.0, 193.0, 193.0, 193.0, 193.0, 194.0, 195.0, 195.0, 196.0, 199.0, 202.0, 203.0, 204.0, 205.0, 210.0, 215.0, 216.0, 216.0, 217.0, 219.0, 222.0, 223.0, 223.0, 225.0, 227.0, 229.0, 230.0, 235.0, 237.0, 237.0, 240.0, 243.0, 246.0, 250.0, 251.0, 252.0, 253.0, 257.0, 260.0, 266.0, 269.0, 271.0, 273.0, 277.0, 279.0, 281.0, 282.0, 285.0, 293.0, 299.0, 300.0, 309.0, 313.0, 316.0, 324.0, 329.0, 334.0, 336.0, 345.0, 351.0, 357.0, 363.0, 367.0, 375.0, 380.0, 388.0, 394.0, 400.0, 404.0, 415.0, 424.0, 428.0, 431.0, 440.0, 446.0, 453.0, 463.0, 475.0, 484.0, 493.0, 502.0, 513.0, 522.0, 535.0, 548.0, 563.0, 572.0, 582.0, 599.0, 617.0, 638.0, 661.0, 683.0, 707.0, 732.0, 767.0, 803.0, 867.0, 988.0, 1035.0, 1072.0, 1116.0, 1181.0, 1254.0, 1379.0, 1593.0, 1710.0, 1890.0, 2236.0, 2546.0, 2685.0, 3414.0, 4199.0, 4355.0, 4561.0, 4871.0, 5723.0, 6539.0, 7377.0], \"yaxis\": \"y\"}, {\"hovertemplate\": \"Dataset=cifar100<br>Difference=%{x}<br>Accepted=%{y}<extra></extra>\", \"legendgroup\": \"cifar100\", \"line\": {\"color\": \"#ab63fa\", \"dash\": \"solid\"}, \"mode\": \"lines\", \"name\": \"cifar100\", \"showlegend\": true, \"type\": \"scattergl\", \"x\": [0.0, 3.0517578125e-15, 9.765625e-14, 7.415771484375001e-13, 3.125e-12, 9.5367431640625e-12, 2.3730468750000002e-11, 5.12908935546875e-11, 1e-10, 1.802032470703125e-10, 3.0517578125e-10, 4.914886474609375e-10, 7.593750000000001e-10, 1.1330963134765626e-09, 1.64130859375e-09, 2.3174285888671878e-09, 3.2e-09, 4.333059692382813e-09, 5.76650390625e-09, 7.556454467773438e-09, 9.765625e-09, 1.2463687133789064e-08, 1.572763671875e-08, 1.9642160034179688e-08, 2.4300000000000003e-08, 2.9802322387695312e-08, 3.6259082031250004e-08, 4.378938903808594e-08, 5.2521875e-08, 6.259505920410156e-08, 7.415771484375001e-08, 8.73692352294922e-08, 1.024e-07, 1.1943174133300782e-07, 1.3865791015625e-07, 1.6028404235839843e-07, 1.84528125e-07, 2.1162096252441407e-07, 2.4180654296875e-07, 2.753424041748047e-07, 3.125e-07, 3.5356506652832034e-07, 3.9883798828125003e-07, 4.4863416442871093e-07, 5.03284375e-07, 5.631351470947266e-07, 6.2854912109375e-07, 6.999054168701173e-07, 7.776000000000001e-07, 8.620460479736328e-07, 9.5367431640625e-07, 1.0529335052490235e-06, 1.1602906250000001e-06, 1.2762313629150391e-06, 1.40126044921875e-06, 1.5359020233154298e-06, 1.6807e-06, 1.8362184356689453e-06, 2.00304189453125e-06, 2.181775814819336e-06, 2.3730468750000003e-06, 2.5775033599853516e-06, 2.79581552734375e-06, 3.028675973510742e-06, 3.2768e-06, 3.540925979614258e-06, 3.82181572265625e-06, 4.120254843139649e-06, 4.437053125e-06, 4.773044888305665e-06, 5.12908935546875e-06, 5.506071017456055e-06, 5.9049e-06, 6.326512429809571e-06, 6.77187080078125e-06, 7.241964340209961e-06, 7.737809375e-06, 8.260449697875977e-06, 8.81095693359375e-06, 9.390430905151367e-06, 1e-05, 1.0640821536254882e-05, 1.1314082128906251e-05, 1.2020998056030274e-05, 1.2762815625000001e-05, 1.354081153869629e-05, 1.435629326171875e-05, 1.521059938659668e-05, 1.61051e-05, 1.7041197048950197e-05, 1.8020324707031252e-05, 1.9043949740600587e-05, 2.0113571875e-05, 2.12307241607666e-05, 2.2396973339843752e-05, 2.3613920211791992e-05, 2.4883200000000003e-05, 2.6206482717895508e-05, 2.758547353515625e-05, 2.90219131439209e-05, 3.0517578125e-05, 3.207428131408692e-05, 3.369387216796875e-05, 3.537823713073731e-05, 3.7129300000000004e-05, 3.8949022293090824e-05, 4.083940361328125e-05, 4.280248201599121e-05, 4.4840334375e-05, 4.695507674865723e-05, 4.914886474609375e-05, 5.142389389343262e-05, 5.37824e-05, 5.622665952453613e-05, 5.875898994140625e-05, 6.138175010681153e-05, 6.4097340625e-05, 6.690820421447754e-05, 6.981682607421875e-05, 7.282573424987793e-05, 7.593750000000001e-05, 7.915473816223145e-05, 8.248010751953125e-05, 8.591631116638184e-05, 8.9466096875e-05, 9.313225746154785e-05, 9.691763115234375e-05, 0.00010082510195007325, 0.0001048576, 0.00010901810195617676, 0.00011330963134765625, 0.00011773525894470216, 0.000122298103125, 0.00012700133023986818, 0.00013184815498046875, 0.00013684184074401855, 0.0001419857, 0.00014728309465637207, 0.00015273743642578127, 0.00015835218719177248, 0.000164130859375, 0.00017007701629943847, 0.00017619427255859376, 0.00018248629438171387, 0.0001889568, 0.00019560956001281739, 0.00020244839775390627, 0.00020947718965759279, 0.000216699865625, 0.0002241204093902588, 0.00023174285888671875, 0.00023957130661315918, 0.0002476099, 0.0002558628417755127, 0.00026433439033203126, 0.0002730288600921631, 0.000281950621875, 0.0002911041032623291, 0.00030049378896484374, 0.0003101242211883545, 0.00032, 0.00033012578369445803, 0.00034050628916015624, 0.0003511462922454834, 0.00036205062812500003, 0.0003732241916656494, 0.00038467193779296877, 0.0003963988818572998, 0.00040841010000000004, 0.0004207107295196533, 0.00043330596923828125, 0.0004462010798675537, 0.000459401384375, 0.00047291226835021973, 0.00048673918037109374, 0.0005008876323699951, 0.0005153632, 0.0005301715230010987, 0.0005453183055664063, 0.000560809316708374, 0.0005766503906250001, 0.0005928474270660401, 0.0006094063916992188, 0.0006263333164764404, 0.0006436343, 0.000661315507888794, 0.0006793831731445312, 0.0006978435965179444, 0.0007167031468750001, 0.0007359682615631104, 0.0007556454467773437, 0.0007757412779266357, 0.0007962624000000001, 0.0008172155279327392, 0.0008386074469726563, 0.0008604450130462646, 0.000882735153125, 0.0009054848655914307, 0.0009287012206054688, 0.0009523913604705811, 0.0009765625, 0.0010012219268829346, 0.0010263770020507814, 0.001052035160043335, 0.001078203909375, 0.001104890832901001, 0.0011321035881835938, 0.0011598499078582763, 0.0011881376000000001, 0.00121697454848938, 0.0012463687133789064, 0.0012763281312591554, 0.001306860915625, 0.0013379752572418213, 0.0013696794245117187, 0.0014019817638397218, 0.0014348907, 0.0014684147365020752, 0.0015025624559570313, 0.0015373425204437256, 0.001572763671875, 0.0016088347323638917, 0.0016455646045898439, 0.001682962272164917, 0.0017210368, 0.0017597973346710205, 0.0017992531047851563, 0.001839413421347046, 0.001880287678125, 0.001921885352017212, 0.001964216003417969, 0.0020072892765838624, 0.0020511149, 0.002095702686746216, 0.0021410625348632813, 0.002187204427719116, 0.002234138434375, 0.0022818747099517824, 0.002330423495996094, 0.0023797951208465577, 0.0024300000000000003, 0.0024810486364776614, 0.0025329516211914063, 0.002585719633309937, 0.002639363440625, 0.002693893899917603, 0.002749321957324219, 0.002805658648703003, 0.0028629151, 0.0029211025276153564, 0.0029802322387695312, 0.003040315631869507, 0.003101364196875, 0.003163389515664673, 0.003226403262402344, 0.0032904172039031985, 0.0033554432, 0.003421493203909302, 0.003488579262597656, 0.003556713517147827, 0.003625908203125, 0.0036961756509429934, 0.003767528286230469, 0.0038399786301971436, 0.0039135393, 0.003988223009109497, 0.004064042567675782, 0.0041410108828948975, 0.004219140959375, 0.004298445899502563, 0.004378938903808594, 0.0044606332713348395, 0.0045435424, 0.004627679786965943, 0.004713059029003906, 0.004799693822860718, 0.004887597965625001, 0.004976785355093384, 0.005067269990136719, 0.005159065971066285, 0.0052521875, 0.005346648881228638, 0.005442464521582031, 0.005539648930795288, 0.0056382167218750005, 0.005738182611465454, 0.005839561420214844, 0.00594236807314148, 0.0060466176, 0.006152325135647584, 0.006259505920410156, 0.006368175300448609, 0.0064783487281250005, 0.0065900417623687745, 0.006703270069042969, 0.006818049421310425, 0.0069343957, 0.007052324893972778, 0.0071718531004882815, 0.007292996525570679, 0.007415771484375, 0.007540194401553345, 0.007666281811621094, 0.00779405035932312, 0.0079235168, 0.008054697999954223, 0.008187610936816407, 0.008322272699911499, 0.008458700490625, 0.008596911622769165, 0.00873692352294922, 0.008878753730929567, 0.0090224199, 0.00916793979734192, 0.009315331304394532, 0.00946461241722107, 0.009615801246875, 0.009768916019766236, 0.009923975078027345, 0.010080996879879761, 0.01024, 0.010401003129885865, 0.010564025078222657, 0.01072908477124939, 0.010896201253125, 0.011065393686294556, 0.011236681351855468, 0.011410083649923707, 0.011585620100000001, 0.01176331034133606, 0.011943174133300781, 0.01212523135574646, 0.012309502009375, 0.012496006216104126, 0.012684764219433594, 0.012875796384811402, 0.013069123200000001, 0.013264765275442505, 0.013462743344628906, 0.01366307826446228, 0.013865791015625, 0.014070902702944947, 0.01427843455576172, 0.014488407928292847, 0.0147008443, 0.0149157652759552, 0.015133192587207031, 0.015353148091146851, 0.015575653771875, 0.015800731740567016, 0.016028404235839844, 0.016258693624118043, 0.0164916224, 0.016727213186624144, 0.016965488736035157, 0.01720647192955017, 0.017450185778125002, 0.017696653422720338, 0.01794589813466797, 0.01819794331603699, 0.018452812500000002, 0.01871052935119934, 0.018971117666113282, 0.01923460137342224, 0.019501004534375, 0.01977035134315491, 0.020042666127246093, 0.020317973347799684, 0.0205962976, 0.020877663613430786, 0.021162096252441406, 0.02144962051651306, 0.021740261540625, 0.02203404459562073, 0.02233099508857422, 0.022631138563156128, 0.022934500700000002, 0.023241107317068483, 0.023550984370019533, 0.023864157952572632, 0.024180654296875, 0.024500499773867798, 0.024823720893652344, 0.025150344305856324, 0.025480396800000003, 0.025813905305862427, 0.026150896893847655, 0.026491398775350953, 0.026835438303125, 0.02718304297164612, 0.02753424041748047, 0.02788905841965027, 0.0282475249, 0.028609667923562624, 0.028975515698925782, 0.029345096578598025, 0.029718439059375, 0.03009557178270569, 0.030476523535058597, 0.030861323248287966, 0.03125, 0.03164258301391907, 0.03203910166025391, 0.032439585456063846, 0.032844064065625005, 0.03325256730079651, 0.03366512512138672, 0.034081767635519414, 0.0345025251, 0.034927427920681764, 0.035356506652832034, 0.03578979200149841, 0.036227314821875, 0.03666910611966858, 0.03711519705146484, 0.03756561892509461, 0.038020403200000004, 0.03847958148760071, 0.03894318555166016, 0.03941124730865173, 0.039883798828125004, 0.0403608723330719, 0.040842500200292974, 0.041328714960763555, 0.0418195493, 0.0423150360584259, 0.04281520823173828, 0.043320098971273806, 0.043829741584375, 0.04434416953475647, 0.0448634164428711, 0.045387516086276246, 0.0459165024, 0.04645040947690735, 0.046989271568066406, 0.04753312308311462, 0.048081998590625, 0.04863593281847229, 0.04919496065419922, 0.04975911714538269, 0.0503284375, 0.05090295708679505, 0.051482711435644535, 0.0520677362379242, 0.052658067346875004, 0.05325374077796936, 0.053854792709277344, 0.05446125948183289, 0.0550731776, 0.055690583731838994, 0.056313514709472656, 0.05694200752945252, 0.057576099353125, 0.058215827506997685, 0.05886122948310547, 0.059512342939376836, 0.0601692057, 0.060831855755789185, 0.06150033126455078, 0.06217467055144959, 0.06285491210937501, 0.06354109459930725, 0.0642332568506836, 0.06493143786176453, 0.0656356768, 0.06634601300239563, 0.06706248597587891, 0.06778513539766541, 0.068514001115625, 0.06924912314864808, 0.06999054168701171, 0.07073829709274597, 0.0714924299, 0.07225298081540833, 0.07301999071845704, 0.07379350066184998, 0.074573551871875, 0.07536018574877014, 0.07615344386708985, 0.07695336797607116, 0.07776000000000001, 0.07857338203857728, 0.07939355636728516, 0.0802205654377533, 0.081054451878125, 0.08189525849342347, 0.08274302826591798, 0.08359780435549012, 0.0844596301, 0.08532854901565247, 0.08620460479736329, 0.08708784131912536, 0.087978302634375, 0.08887603297635803, 0.0897810767584961, 0.09069347857475281, 0.0916132832, 0.09254053559038392, 0.0934752808836914, 0.09441756439971619, 0.095367431640625, 0.09632492829132386, 0.09729010021982422, 0.09826299347760925, 0.0992436543, 0.10023212910652161, 0.10122846450126953, 0.10223270727327576, 0.103244904396875, 0.10426510303207093, 0.10529335052490235, 0.10632969440780946, 0.1073741824, 0.10842686240781556, 0.10948778252509767, 0.11055699103355408, 0.111634536403125, 0.11272046729234925, 0.11381483254873047, 0.1149176812091034, 0.1160290625, 0.11714902583801576, 0.11827762083017579, 0.11941489727430116, 0.12056090515937501, 0.12171569466590881, 0.1228793161663086, 0.1240518202252411, 0.1252332576, 0.1264236792408722, 0.1276231362915039, 0.12883168008926696, 0.13004936216562502, 0.13127623424649965, 0.13251234825263672, 0.13375775629997255, 0.1350125107, 0.13627666396013488, 0.13755026878408202, 0.13883337807220153, 0.140126044921875, 0.14142832262787172, 0.14274026468271486, 0.14406192477704774, 0.1453933568, 0.14673461483955383, 0.14808575318291017, 0.14944682631685485, 0.150817888928125, 0.15219899590377503, 0.15359020233154297, 0.15499156350021667, 0.15640313490000002, 0.15782497222287903, 0.15925713136298827, 0.16069966841697694, 0.16215263968437502, 0.1636161016679596, 0.1650901110741211, 0.16657472481322938, 0.16807, 0.16957599395386047, 0.1710927641993164, 0.17262036846631776, 0.174158864690625, 0.17570831101417542, 0.17726876578544923, 0.17884028755983583, 0.18042293510000001, 0.18201676737624817, 0.18362184356689454, 0.18523822305862733, 0.186865965446875, 0.1885051305361725, 0.19015577834052735, 0.191817969083786, 0.1934917632, 0.19517722133379212, 0.19687440434072268, 0.19858337328765566, 0.200304189453125, 0.20203691432770082, 0.20378160961435549, 0.20553833722882997, 0.20730715930000002, 0.20908813817024233, 0.21088133639580078, 0.21268681674715273, 0.214504642209375, 0.2163348759825104, 0.2181775814819336, 0.22003282233871765, 0.2219006624, 0.22378116572934875, 0.2256743966071289, 0.22758041953086855, 0.229499299215625, 0.2314311005943512, 0.23337588881826174, 0.23533372925719911, 0.2373046875, 0.23928882935486145, 0.24128622084970705, 0.2432969282325531, 0.245321017971875, 0.24735855675697327, 0.24940961149833984, 0.2514742493280243, 0.2535525376, 0.25564454389053043, 0.25775033599853514, 0.25986998194595645, 0.262003549978125, 0.2641511085641266, 0.26631272639716796, 0.2684884723949432, 0.2706784157, 0.27288262568010563, 0.2751011719286133, 0.2773341242648285, 0.279581552734375, 0.28184352760956116, 0.28412011938974613, 0.28641139880170596, 0.2887174368, 0.29103830456733704, 0.29337407351494144, 0.29572481528291933, 0.298090601740625, 0.300471504987027, 0.3028675973510742, 0.3052789513920624, 0.3077056399, 0.3101477358959747, 0.31260531263251956, 0.3150784435939789, 0.31756720249687503, 0.32007166329027403, 0.32259190015615236, 0.3251279875097626, 0.32768, 0.3302480125097687, 0.3328321001563477, 0.3354323382917572, 0.338048802503125, 0.3406815686130524, 0.3433307126799805, 0.34599631099855654, 0.3486784401, 0.3513771767524689, 0.3540925979614258, 0.3568247809700043, 0.359573803259375, 0.36233974254911194, 0.3651226767975586, 0.3679226842021942, 0.37073984320000003, 0.37357423246782534, 0.3764259309227539, 0.3792950177224701, 0.382181572265625, 0.3850856741922028, 0.38800740338388673, 0.3909468399644257, 0.3939040643, 0.39687915699958803, 0.39987219891533204, 0.4028832711429047, 0.405912455021875, 0.40895983213607484, 0.41202548431396485, 0.41510949362900085, 0.41821194240000004, 0.42133291319150695, 0.42447248881416016, 0.427630752325058, 0.430807787028125, 0.4340036764744782, 0.437218504462793, 0.44045235503966984, 0.4437053125, 0.4469774613873322, 0.4502688864942383, 0.4535796728626801, 0.456909905784375, 0.46025967080116276, 0.4636290537053711, 0.46701814054018254, 0.4704270176, 0.4738557714308136, 0.4773044888305664, 0.4807732568495209, 0.484262162790625, 0.4877712942098786, 0.49130073891669923, 0.49485058497428897, 0.4984209207, 0.5020118346657013, 0.5056234156981445, 0.5092557528793304, 0.512908935546875, 0.5165830532943756, 0.5202781959717774, 0.5239944536857392, 0.5277319168, 0.5314906759357453, 0.5352708219719726, 0.5390724460458588, 0.542895639553125, 0.546740494148404, 0.5506071017456055, 0.5544955545182831, 0.5584059449000001, 0.5623383655846954, 0.5662929095270508, 0.5702696699428559, 0.574268740309375, 0.5782902143657135, 0.5823341861131837, 0.5864007498156708, 0.5904900000000001, 0.5946020314563019, 0.5987369392383789, 0.6028948186640717, 0.607075765315625, 0.6112798750400543, 0.6155072439495117, 0.6197579684216522, 0.6240321451, 0.6283298708943146, 0.6326512429809571, 0.6369963588032562, 0.641365316071875, 0.6457582127651764, 0.6501751471295899, 0.6546162176799775, 0.6590815232, 0.6635711627424835, 0.6680852356297852, 0.6726238414541595, 0.677187080078125, 0.6817750516348298, 0.6863878565284179, 0.6910255954343963, 0.6956883693, 0.7003762793445587, 0.7050894270598633, 0.7098279142105316, 0.714591842834375, 0.7193813152427643, 0.7241964340209961, 0.7290373020286591, 0.7339040224000001, 0.7387966985442902, 0.7437154341461915, 0.7486603331661225, 0.753631499840625, 0.7586290386827301, 0.7636530544823242, 0.7687036523065155, 0.7737809375, 0.7788850156854279, 0.7840159927637695, 0.789173974914682, 0.794359068596875, 0.7995713805484772, 0.8048110177874024, 0.8100780876117157, 0.8153726976000001, 0.8206949556117218, 0.8260449697875977, 0.8314228485499604, 0.836828700603125, 0.8422626349337555, 0.8477247608112305, 0.8532151877880096, 0.8587340257, 0.8642813846669221, 0.8698573750926758, 0.8754621076657074, 0.881095693359375, 0.8867582434323151, 0.8924498694288087, 0.8981706831791474, 0.9039207968, 0.9097003226947785, 0.915509373554004, 0.9213480623556732, 0.927216502365625, 0.933114807137906, 0.9390430905151368, 0.9450014666288789, 0.9509900499, 0.9570089550390412, 0.9630582970465821, 0.9691381912136078, 0.9752487531218751, 0.981390098644278, 0.9875623439452149, 0.993765605480954], \"xaxis\": \"x\", \"y\": [0.0, 10000.0, 10000.0, 10000.0, 10000.0, 10000.0, 10000.0, 10000.0, 10000.0, 10000.0, 10000.0, 10000.0, 10000.0, 10000.0, 10000.0, 10000.0, 10000.0, 10000.0, 10000.0, 10000.0, 10000.0, 10000.0, 10000.0, 10000.0, 10000.0, 10000.0, 10000.0, 10000.0, 10000.0, 10000.0, 10000.0, 10000.0, 10000.0, 10000.0, 10000.0, 10000.0, 10000.0, 10000.0, 10000.0, 10000.0, 10000.0, 10000.0, 10000.0, 10000.0, 10000.0, 10000.0, 10000.0, 10000.0, 10000.0, 10000.0, 10000.0, 10000.0, 10000.0, 10000.0, 10000.0, 10000.0, 10000.0, 10000.0, 10000.0, 10000.0, 10000.0, 10000.0, 10000.0, 10000.0, 10000.0, 10000.0, 10000.0, 10000.0, 10000.0, 10000.0, 10000.0, 10000.0, 10000.0, 10000.0, 10000.0, 10000.0, 10000.0, 10000.0, 10000.0, 10000.0, 10000.0, 10000.0, 10000.0, 10000.0, 10000.0, 10000.0, 10000.0, 10000.0, 10000.0, 10000.0, 10000.0, 10000.0, 10000.0, 10000.0, 10000.0, 10000.0, 10000.0, 10000.0, 10000.0, 10000.0, 10000.0, 10000.0, 10000.0, 10000.0, 10000.0, 10000.0, 10000.0, 10000.0, 10000.0, 10000.0, 10000.0, 10000.0, 10000.0, 10000.0, 10000.0, 10000.0, 10000.0, 10000.0, 10000.0, 10000.0, 10000.0, 10000.0, 10000.0, 10000.0, 10000.0, 10000.0, 10000.0, 10000.0, 10000.0, 10000.0, 10000.0, 10000.0, 10000.0, 10000.0, 10000.0, 10000.0, 10000.0, 10000.0, 10000.0, 10000.0, 10000.0, 10000.0, 10000.0, 10000.0, 10000.0, 10000.0, 10000.0, 10000.0, 10000.0, 10000.0, 10000.0, 10000.0, 10000.0, 10000.0, 10000.0, 10000.0, 10000.0, 10000.0, 10000.0, 10000.0, 10000.0, 10000.0, 10000.0, 10000.0, 10000.0, 10000.0, 10000.0, 10000.0, 10000.0, 10000.0, 10000.0, 10000.0, 10000.0, 10000.0, 10000.0, 10000.0, 10000.0, 10000.0, 10000.0, 10000.0, 10000.0, 10000.0, 10000.0, 10000.0, 10000.0, 10000.0, 10000.0, 10000.0, 10000.0, 10000.0, 10000.0, 10000.0, 10000.0, 10000.0, 10000.0, 10000.0, 10000.0, 10000.0, 10000.0, 10000.0, 10000.0, 10000.0, 10000.0, 10000.0, 10000.0, 10000.0, 10000.0, 10000.0, 10000.0, 10000.0, 10000.0, 10000.0, 10000.0, 10000.0, 10000.0, 10000.0, 10000.0, 10000.0, 10000.0, 10000.0, 10000.0, 10000.0, 10000.0, 10000.0, 10000.0, 10000.0, 10000.0, 10000.0, 10000.0, 10000.0, 10000.0, 10000.0, 10000.0, 10000.0, 10000.0, 10000.0, 10000.0, 10000.0, 10000.0, 10000.0, 10000.0, 10000.0, 10000.0, 10000.0, 10000.0, 10000.0, 10000.0, 10000.0, 10000.0, 10000.0, 10000.0, 10000.0, 10000.0, 10000.0, 10000.0, 10000.0, 10000.0, 10000.0, 10000.0, 10000.0, 10000.0, 10000.0, 10000.0, 10000.0, 10000.0, 10000.0, 10000.0, 10000.0, 10000.0, 10000.0, 10000.0, 10000.0, 10000.0, 10000.0, 10000.0, 10000.0, 10000.0, 10000.0, 10000.0, 10000.0, 10000.0, 10000.0, 10000.0, 10000.0, 10000.0, 10000.0, 10000.0, 10000.0, 10000.0, 10000.0, 10000.0, 10000.0, 10000.0, 10000.0, 10000.0, 10000.0, 10000.0, 10000.0, 10000.0, 10000.0, 10000.0, 10000.0, 10000.0, 10000.0, 10000.0, 10000.0, 10000.0, 10000.0, 10000.0, 10000.0, 10000.0, 10000.0, 10000.0, 10000.0, 10000.0, 10000.0, 10000.0, 10000.0, 10000.0, 10000.0, 10000.0, 10000.0, 10000.0, 10000.0, 10000.0, 10000.0, 10000.0, 10000.0, 10000.0, 10000.0, 10000.0, 10000.0, 10000.0, 10000.0, 10000.0, 10000.0, 10000.0, 10000.0, 10000.0, 10000.0, 10000.0, 10000.0, 10000.0, 10000.0, 10000.0, 10000.0, 10000.0, 10000.0, 10000.0, 10000.0, 10000.0, 10000.0, 10000.0, 10000.0, 10000.0, 10000.0, 10000.0, 10000.0, 10000.0, 10000.0, 10000.0, 10000.0, 10000.0, 10000.0, 10000.0, 10000.0, 10000.0, 10000.0, 10000.0, 10000.0, 10000.0, 10000.0, 10000.0, 10000.0, 10000.0, 10000.0, 10000.0, 10000.0, 10000.0, 10000.0, 10000.0, 10000.0, 10000.0, 10000.0, 10000.0, 10000.0, 10000.0, 10000.0, 10000.0, 10000.0, 10000.0, 10000.0, 10000.0, 10000.0, 10000.0, 10000.0, 10000.0, 10000.0, 10000.0, 10000.0, 10000.0, 10000.0, 10000.0, 10000.0, 10000.0, 10000.0, 10000.0, 10000.0, 10000.0, 10000.0, 10000.0, 10000.0, 10000.0, 10000.0, 10000.0, 10000.0, 10000.0, 10000.0, 10000.0, 10000.0, 10000.0, 10000.0, 10000.0, 10000.0, 10000.0, 10000.0, 10000.0, 10000.0, 10000.0, 10000.0, 10000.0, 10000.0, 10000.0, 10000.0, 10000.0, 10000.0, 10000.0, 10000.0, 10000.0, 10000.0, 10000.0, 10000.0, 10000.0, 10000.0, 10000.0, 10000.0, 10000.0, 10000.0, 10000.0, 10000.0, 10000.0, 10000.0, 10000.0, 10000.0, 10000.0, 10000.0, 10000.0, 10000.0, 10000.0, 10000.0, 10000.0, 10000.0, 10000.0, 10000.0, 10000.0, 10000.0, 10000.0, 10000.0, 10000.0, 10000.0, 10000.0, 10000.0, 10000.0, 10000.0, 10000.0, 10000.0, 10000.0, 10000.0, 10000.0, 10000.0, 10000.0, 10000.0, 10000.0, 10000.0, 10000.0, 10000.0, 10000.0, 10000.0, 10000.0, 10000.0, 10000.0, 10000.0, 10000.0, 10000.0, 10000.0, 10000.0, 10000.0, 10000.0, 10000.0, 10000.0, 10000.0, 10000.0, 10000.0, 10000.0, 10000.0, 10000.0, 10000.0, 10000.0, 10000.0, 10000.0, 10000.0, 10000.0, 10000.0, 10000.0, 10000.0, 10000.0, 10000.0, 10000.0, 10000.0, 10000.0, 10000.0, 10000.0, 10000.0, 10000.0, 10000.0, 10000.0, 10000.0, 10000.0, 10000.0, 10000.0, 10000.0, 10000.0, 10000.0, 10000.0, 10000.0, 10000.0, 10000.0, 10000.0, 10000.0, 10000.0, 10000.0, 10000.0, 10000.0, 10000.0, 10000.0, 10000.0, 10000.0, 10000.0, 10000.0, 10000.0, 10000.0, 10000.0, 10000.0, 10000.0, 10000.0, 10000.0, 10000.0, 10000.0, 10000.0, 10000.0, 10000.0, 10000.0, 10000.0, 10000.0, 10000.0, 10000.0, 10000.0, 10000.0, 10000.0, 10000.0, 10000.0, 10000.0, 10000.0, 10000.0, 10000.0, 10000.0, 10000.0, 10000.0, 10000.0, 10000.0, 10000.0, 10000.0, 10000.0, 10000.0, 10000.0, 10000.0, 10000.0, 10000.0, 10000.0, 10000.0, 10000.0, 10000.0, 10000.0, 10000.0, 10000.0, 10000.0, 10000.0, 10000.0, 10000.0, 10000.0, 10000.0, 10000.0, 10000.0, 10000.0, 10000.0, 10000.0, 10000.0, 10000.0, 10000.0, 10000.0, 10000.0, 10000.0, 10000.0, 10000.0, 10000.0, 10000.0, 10000.0, 10000.0, 10000.0, 10000.0, 10000.0, 10000.0, 10000.0, 10000.0, 10000.0, 10000.0, 10000.0, 10000.0, 10000.0, 10000.0, 10000.0, 10000.0, 10000.0, 10000.0, 10000.0, 10000.0, 10000.0, 10000.0, 10000.0, 10000.0, 10000.0, 10000.0, 10000.0, 10000.0, 10000.0, 10000.0, 10000.0, 10000.0, 10000.0, 10000.0, 10000.0, 10000.0, 10000.0, 10000.0, 10000.0, 10000.0, 10000.0, 10000.0, 10000.0, 10000.0, 10000.0, 10000.0, 10000.0, 10000.0, 10000.0, 10000.0, 10000.0, 10000.0, 10000.0, 10000.0, 10000.0, 10000.0, 10000.0, 10000.0, 10000.0, 10000.0, 10000.0, 10000.0, 10000.0, 10000.0, 10000.0, 10000.0, 10000.0, 10000.0, 10000.0, 10000.0, 10000.0, 10000.0, 10000.0, 10000.0, 10000.0, 10000.0, 10000.0, 10000.0, 10000.0, 10000.0, 10000.0, 10000.0, 10000.0, 10000.0, 10000.0, 10000.0, 10000.0, 10000.0, 10000.0, 10000.0, 10000.0, 10000.0, 10000.0, 10000.0, 10000.0, 10000.0, 10000.0, 10000.0, 10000.0, 10000.0, 10000.0, 10000.0, 10000.0, 10000.0, 10000.0, 10000.0, 10000.0, 10000.0, 10000.0, 10000.0, 10000.0, 10000.0, 10000.0, 10000.0, 10000.0, 10000.0, 10000.0, 10000.0, 10000.0, 10000.0, 10000.0, 10000.0, 10000.0, 10000.0, 10000.0, 10000.0, 10000.0, 10000.0, 10000.0, 10000.0, 10000.0, 10000.0, 10000.0, 10000.0, 10000.0, 10000.0, 10000.0, 10000.0, 10000.0, 10000.0, 10000.0, 10000.0, 10000.0, 10000.0, 10000.0, 10000.0, 10000.0, 10000.0, 10000.0, 10000.0, 10000.0, 10000.0, 10000.0, 10000.0, 10000.0, 10000.0, 10000.0, 10000.0, 10000.0, 10000.0, 10000.0, 10000.0, 10000.0, 10000.0, 10000.0, 10000.0, 10000.0, 10000.0, 10000.0, 10000.0, 10000.0, 10000.0, 10000.0, 10000.0, 10000.0, 10000.0, 10000.0, 10000.0, 10000.0, 10000.0, 10000.0, 10000.0, 10000.0, 10000.0], \"yaxis\": \"y\"}],                        {\"height\": 400, \"legend\": {\"title\": {\"text\": \"Dataset\"}, \"tracegroupgap\": 0}, \"margin\": {\"t\": 60}, \"template\": {\"data\": {\"bar\": [{\"error_x\": {\"color\": \"#2a3f5f\"}, \"error_y\": {\"color\": \"#2a3f5f\"}, \"marker\": {\"line\": {\"color\": \"#E5ECF6\", \"width\": 0.5}}, \"type\": \"bar\"}], \"barpolar\": [{\"marker\": {\"line\": {\"color\": \"#E5ECF6\", \"width\": 0.5}}, \"type\": \"barpolar\"}], \"carpet\": [{\"aaxis\": {\"endlinecolor\": \"#2a3f5f\", \"gridcolor\": \"white\", \"linecolor\": \"white\", \"minorgridcolor\": \"white\", \"startlinecolor\": \"#2a3f5f\"}, \"baxis\": {\"endlinecolor\": \"#2a3f5f\", \"gridcolor\": \"white\", \"linecolor\": \"white\", \"minorgridcolor\": \"white\", \"startlinecolor\": \"#2a3f5f\"}, \"type\": \"carpet\"}], \"choropleth\": [{\"colorbar\": {\"outlinewidth\": 0, \"ticks\": \"\"}, \"type\": \"choropleth\"}], \"contour\": [{\"colorbar\": {\"outlinewidth\": 0, \"ticks\": \"\"}, \"colorscale\": [[0.0, \"#0d0887\"], [0.1111111111111111, \"#46039f\"], [0.2222222222222222, \"#7201a8\"], [0.3333333333333333, \"#9c179e\"], [0.4444444444444444, \"#bd3786\"], [0.5555555555555556, \"#d8576b\"], [0.6666666666666666, \"#ed7953\"], [0.7777777777777778, \"#fb9f3a\"], [0.8888888888888888, \"#fdca26\"], [1.0, \"#f0f921\"]], \"type\": \"contour\"}], \"contourcarpet\": [{\"colorbar\": {\"outlinewidth\": 0, \"ticks\": \"\"}, \"type\": \"contourcarpet\"}], \"heatmap\": [{\"colorbar\": {\"outlinewidth\": 0, \"ticks\": \"\"}, \"colorscale\": [[0.0, \"#0d0887\"], [0.1111111111111111, \"#46039f\"], [0.2222222222222222, \"#7201a8\"], [0.3333333333333333, \"#9c179e\"], [0.4444444444444444, \"#bd3786\"], [0.5555555555555556, \"#d8576b\"], [0.6666666666666666, \"#ed7953\"], [0.7777777777777778, \"#fb9f3a\"], [0.8888888888888888, \"#fdca26\"], [1.0, \"#f0f921\"]], \"type\": \"heatmap\"}], \"heatmapgl\": [{\"colorbar\": {\"outlinewidth\": 0, \"ticks\": \"\"}, \"colorscale\": [[0.0, \"#0d0887\"], [0.1111111111111111, \"#46039f\"], [0.2222222222222222, \"#7201a8\"], [0.3333333333333333, \"#9c179e\"], [0.4444444444444444, \"#bd3786\"], [0.5555555555555556, \"#d8576b\"], [0.6666666666666666, \"#ed7953\"], [0.7777777777777778, \"#fb9f3a\"], [0.8888888888888888, \"#fdca26\"], [1.0, \"#f0f921\"]], \"type\": \"heatmapgl\"}], \"histogram\": [{\"marker\": {\"colorbar\": {\"outlinewidth\": 0, \"ticks\": \"\"}}, \"type\": \"histogram\"}], \"histogram2d\": [{\"colorbar\": {\"outlinewidth\": 0, \"ticks\": \"\"}, \"colorscale\": [[0.0, \"#0d0887\"], [0.1111111111111111, \"#46039f\"], [0.2222222222222222, \"#7201a8\"], [0.3333333333333333, \"#9c179e\"], [0.4444444444444444, \"#bd3786\"], [0.5555555555555556, \"#d8576b\"], [0.6666666666666666, \"#ed7953\"], [0.7777777777777778, \"#fb9f3a\"], [0.8888888888888888, \"#fdca26\"], [1.0, \"#f0f921\"]], \"type\": \"histogram2d\"}], \"histogram2dcontour\": [{\"colorbar\": {\"outlinewidth\": 0, \"ticks\": \"\"}, \"colorscale\": [[0.0, \"#0d0887\"], [0.1111111111111111, \"#46039f\"], [0.2222222222222222, \"#7201a8\"], [0.3333333333333333, \"#9c179e\"], [0.4444444444444444, \"#bd3786\"], [0.5555555555555556, \"#d8576b\"], [0.6666666666666666, \"#ed7953\"], [0.7777777777777778, \"#fb9f3a\"], [0.8888888888888888, \"#fdca26\"], [1.0, \"#f0f921\"]], \"type\": \"histogram2dcontour\"}], \"mesh3d\": [{\"colorbar\": {\"outlinewidth\": 0, \"ticks\": \"\"}, \"type\": \"mesh3d\"}], \"parcoords\": [{\"line\": {\"colorbar\": {\"outlinewidth\": 0, \"ticks\": \"\"}}, \"type\": \"parcoords\"}], \"pie\": [{\"automargin\": true, \"type\": \"pie\"}], \"scatter\": [{\"marker\": {\"colorbar\": {\"outlinewidth\": 0, \"ticks\": \"\"}}, \"type\": \"scatter\"}], \"scatter3d\": [{\"line\": {\"colorbar\": {\"outlinewidth\": 0, \"ticks\": \"\"}}, \"marker\": {\"colorbar\": {\"outlinewidth\": 0, \"ticks\": \"\"}}, \"type\": \"scatter3d\"}], \"scattercarpet\": [{\"marker\": {\"colorbar\": {\"outlinewidth\": 0, \"ticks\": \"\"}}, \"type\": \"scattercarpet\"}], \"scattergeo\": [{\"marker\": {\"colorbar\": {\"outlinewidth\": 0, \"ticks\": \"\"}}, \"type\": \"scattergeo\"}], \"scattergl\": [{\"marker\": {\"colorbar\": {\"outlinewidth\": 0, \"ticks\": \"\"}}, \"type\": \"scattergl\"}], \"scattermapbox\": [{\"marker\": {\"colorbar\": {\"outlinewidth\": 0, \"ticks\": \"\"}}, \"type\": \"scattermapbox\"}], \"scatterpolar\": [{\"marker\": {\"colorbar\": {\"outlinewidth\": 0, \"ticks\": \"\"}}, \"type\": \"scatterpolar\"}], \"scatterpolargl\": [{\"marker\": {\"colorbar\": {\"outlinewidth\": 0, \"ticks\": \"\"}}, \"type\": \"scatterpolargl\"}], \"scatterternary\": [{\"marker\": {\"colorbar\": {\"outlinewidth\": 0, \"ticks\": \"\"}}, \"type\": \"scatterternary\"}], \"surface\": [{\"colorbar\": {\"outlinewidth\": 0, \"ticks\": \"\"}, \"colorscale\": [[0.0, \"#0d0887\"], [0.1111111111111111, \"#46039f\"], [0.2222222222222222, \"#7201a8\"], [0.3333333333333333, \"#9c179e\"], [0.4444444444444444, \"#bd3786\"], [0.5555555555555556, \"#d8576b\"], [0.6666666666666666, \"#ed7953\"], [0.7777777777777778, \"#fb9f3a\"], [0.8888888888888888, \"#fdca26\"], [1.0, \"#f0f921\"]], \"type\": \"surface\"}], \"table\": [{\"cells\": {\"fill\": {\"color\": \"#EBF0F8\"}, \"line\": {\"color\": \"white\"}}, \"header\": {\"fill\": {\"color\": \"#C8D4E3\"}, \"line\": {\"color\": \"white\"}}, \"type\": \"table\"}]}, \"layout\": {\"annotationdefaults\": {\"arrowcolor\": \"#2a3f5f\", \"arrowhead\": 0, \"arrowwidth\": 1}, \"autotypenumbers\": \"strict\", \"coloraxis\": {\"colorbar\": {\"outlinewidth\": 0, \"ticks\": \"\"}}, \"colorscale\": {\"diverging\": [[0, \"#8e0152\"], [0.1, \"#c51b7d\"], [0.2, \"#de77ae\"], [0.3, \"#f1b6da\"], [0.4, \"#fde0ef\"], [0.5, \"#f7f7f7\"], [0.6, \"#e6f5d0\"], [0.7, \"#b8e186\"], [0.8, \"#7fbc41\"], [0.9, \"#4d9221\"], [1, \"#276419\"]], \"sequential\": [[0.0, \"#0d0887\"], [0.1111111111111111, \"#46039f\"], [0.2222222222222222, \"#7201a8\"], [0.3333333333333333, \"#9c179e\"], [0.4444444444444444, \"#bd3786\"], [0.5555555555555556, \"#d8576b\"], [0.6666666666666666, \"#ed7953\"], [0.7777777777777778, \"#fb9f3a\"], [0.8888888888888888, \"#fdca26\"], [1.0, \"#f0f921\"]], \"sequentialminus\": [[0.0, \"#0d0887\"], [0.1111111111111111, \"#46039f\"], [0.2222222222222222, \"#7201a8\"], [0.3333333333333333, \"#9c179e\"], [0.4444444444444444, \"#bd3786\"], [0.5555555555555556, \"#d8576b\"], [0.6666666666666666, \"#ed7953\"], [0.7777777777777778, \"#fb9f3a\"], [0.8888888888888888, \"#fdca26\"], [1.0, \"#f0f921\"]]}, \"colorway\": [\"#636efa\", \"#EF553B\", \"#00cc96\", \"#ab63fa\", \"#FFA15A\", \"#19d3f3\", \"#FF6692\", \"#B6E880\", \"#FF97FF\", \"#FECB52\"], \"font\": {\"color\": \"#2a3f5f\"}, \"geo\": {\"bgcolor\": \"white\", \"lakecolor\": \"white\", \"landcolor\": \"#E5ECF6\", \"showlakes\": true, \"showland\": true, \"subunitcolor\": \"white\"}, \"hoverlabel\": {\"align\": \"left\"}, \"hovermode\": \"closest\", \"mapbox\": {\"style\": \"light\"}, \"paper_bgcolor\": \"white\", \"plot_bgcolor\": \"#E5ECF6\", \"polar\": {\"angularaxis\": {\"gridcolor\": \"white\", \"linecolor\": \"white\", \"ticks\": \"\"}, \"bgcolor\": \"#E5ECF6\", \"radialaxis\": {\"gridcolor\": \"white\", \"linecolor\": \"white\", \"ticks\": \"\"}}, \"scene\": {\"xaxis\": {\"backgroundcolor\": \"#E5ECF6\", \"gridcolor\": \"white\", \"gridwidth\": 2, \"linecolor\": \"white\", \"showbackground\": true, \"ticks\": \"\", \"zerolinecolor\": \"white\"}, \"yaxis\": {\"backgroundcolor\": \"#E5ECF6\", \"gridcolor\": \"white\", \"gridwidth\": 2, \"linecolor\": \"white\", \"showbackground\": true, \"ticks\": \"\", \"zerolinecolor\": \"white\"}, \"zaxis\": {\"backgroundcolor\": \"#E5ECF6\", \"gridcolor\": \"white\", \"gridwidth\": 2, \"linecolor\": \"white\", \"showbackground\": true, \"ticks\": \"\", \"zerolinecolor\": \"white\"}}, \"shapedefaults\": {\"line\": {\"color\": \"#2a3f5f\"}}, \"ternary\": {\"aaxis\": {\"gridcolor\": \"white\", \"linecolor\": \"white\", \"ticks\": \"\"}, \"baxis\": {\"gridcolor\": \"white\", \"linecolor\": \"white\", \"ticks\": \"\"}, \"bgcolor\": \"#E5ECF6\", \"caxis\": {\"gridcolor\": \"white\", \"linecolor\": \"white\", \"ticks\": \"\"}}, \"title\": {\"x\": 0.05}, \"xaxis\": {\"automargin\": true, \"gridcolor\": \"white\", \"linecolor\": \"white\", \"ticks\": \"\", \"title\": {\"standoff\": 15}, \"zerolinecolor\": \"white\", \"zerolinewidth\": 2}, \"yaxis\": {\"automargin\": true, \"gridcolor\": \"white\", \"linecolor\": \"white\", \"ticks\": \"\", \"title\": {\"standoff\": 15}, \"zerolinecolor\": \"white\", \"zerolinewidth\": 2}}}, \"title\": {\"text\": \"Inaccurate examples accepted\"}, \"width\": 800, \"xaxis\": {\"anchor\": \"y\", \"domain\": [0.0, 1.0], \"title\": {\"text\": \"Difference\"}}, \"yaxis\": {\"anchor\": \"x\", \"domain\": [0.0, 1.0], \"title\": {\"text\": \"Accepted\"}}},                        {\"responsive\": true}                    ).then(function(){\n",
              "                            \n",
              "var gd = document.getElementById('6750b2e9-75a9-41e1-baaa-123dea54246c');\n",
              "var x = new MutationObserver(function (mutations, observer) {{\n",
              "        var display = window.getComputedStyle(gd).display;\n",
              "        if (!display || display === 'none') {{\n",
              "            console.log([gd, 'removed!']);\n",
              "            Plotly.purge(gd);\n",
              "            observer.disconnect();\n",
              "        }}\n",
              "}});\n",
              "\n",
              "// Listen for the removal of the full notebook cells\n",
              "var notebookContainer = gd.closest('#notebook-container');\n",
              "if (notebookContainer) {{\n",
              "    x.observe(notebookContainer, {childList: true});\n",
              "}}\n",
              "\n",
              "// Listen for the clearing of the current output cell\n",
              "var outputEl = gd.closest('.output');\n",
              "if (outputEl) {{\n",
              "    x.observe(outputEl, {childList: true});\n",
              "}}\n",
              "\n",
              "                        })                };                            </script>        </div>\n",
              "</body>\n",
              "</html>"
            ]
          },
          "metadata": {
            "tags": []
          }
        }
      ]
    },
    {
      "cell_type": "markdown",
      "metadata": {
        "id": "B70Lr08plgNc"
      },
      "source": [
        "### Crossing points"
      ]
    },
    {
      "cell_type": "code",
      "metadata": {
        "id": "Wh9s_lYplbts"
      },
      "source": [
        "# minimum difference where `falsely_let_in >= falsely_thrown_out`\r\n",
        "crossing_points = np.zeros((len(datasets),3))\r\n",
        "\r\n",
        "for i in range(len(datasets)):\r\n",
        "  for (step,d) in enumerate(ds):\r\n",
        "    if falsely_let_in[i][step] >= falsely_thrown_out[i][step]:\r\n",
        "      crossing_points[i][0] = d\r\n",
        "      crossing_points[i][1] = falsely_let_in[i][step]\r\n",
        "      crossing_points[i][2] = falsely_thrown_out[i][step]\r\n",
        "      break;\r\n",
        "\r\n",
        "# print(crossing_points)"
      ],
      "execution_count": null,
      "outputs": []
    },
    {
      "cell_type": "code",
      "metadata": {
        "id": "9M4nqiSD7tzi",
        "colab": {
          "base_uri": "https://localhost:8080/",
          "height": 317
        },
        "outputId": "8fca0569-5844-4e71-9b0e-1fc747d2e353"
      },
      "source": [
        "crossing_points = np.round(crossing_points,7)\r\n",
        "\r\n",
        "fig = go.Figure(data=[go.Table(\r\n",
        "    header=dict(values=[\"Dataset\",\"Difference\",\"Accepted\",\"Discarded\"]),\r\n",
        "    cells=dict(values=[namelist,crossing_points[:,0],crossing_points[:,1],crossing_points[:,2]])\r\n",
        ")])\r\n",
        "fig.update_layout(height=300, width=600, title_text=\"Crossing points\")\r\n",
        "fig.show()"
      ],
      "execution_count": null,
      "outputs": [
        {
          "output_type": "display_data",
          "data": {
            "text/html": [
              "<html>\n",
              "<head><meta charset=\"utf-8\" /></head>\n",
              "<body>\n",
              "    <div>            <script src=\"https://cdnjs.cloudflare.com/ajax/libs/mathjax/2.7.5/MathJax.js?config=TeX-AMS-MML_SVG\"></script><script type=\"text/javascript\">if (window.MathJax) {MathJax.Hub.Config({SVG: {font: \"STIX-Web\"}});}</script>                <script type=\"text/javascript\">window.PlotlyConfig = {MathJaxConfig: 'local'};</script>\n",
              "        <script src=\"https://cdn.plot.ly/plotly-latest.min.js\"></script>                <div id=\"1d3ab701-1c75-4b74-b1ff-e56dfb9459d7\" class=\"plotly-graph-div\" style=\"height:300px; width:600px;\"></div>            <script type=\"text/javascript\">                                    window.PLOTLYENV=window.PLOTLYENV || {};                                    if (document.getElementById(\"1d3ab701-1c75-4b74-b1ff-e56dfb9459d7\")) {                    Plotly.newPlot(                        \"1d3ab701-1c75-4b74-b1ff-e56dfb9459d7\",                        [{\"cells\": {\"values\": [[\"mnist\", \"fashion_mnist\", \"cifar10\", \"cifar100\"], [0.0006794, 0.0021411, 0.0197704, 0.0], [0.0, 0.0, 4.0, 0.0], [0.0, 0.0, 4.0, 0.0]]}, \"header\": {\"values\": [\"Dataset\", \"Difference\", \"Accepted\", \"Discarded\"]}, \"type\": \"table\"}],                        {\"height\": 300, \"template\": {\"data\": {\"bar\": [{\"error_x\": {\"color\": \"#2a3f5f\"}, \"error_y\": {\"color\": \"#2a3f5f\"}, \"marker\": {\"line\": {\"color\": \"#E5ECF6\", \"width\": 0.5}}, \"type\": \"bar\"}], \"barpolar\": [{\"marker\": {\"line\": {\"color\": \"#E5ECF6\", \"width\": 0.5}}, \"type\": \"barpolar\"}], \"carpet\": [{\"aaxis\": {\"endlinecolor\": \"#2a3f5f\", \"gridcolor\": \"white\", \"linecolor\": \"white\", \"minorgridcolor\": \"white\", \"startlinecolor\": \"#2a3f5f\"}, \"baxis\": {\"endlinecolor\": \"#2a3f5f\", \"gridcolor\": \"white\", \"linecolor\": \"white\", \"minorgridcolor\": \"white\", \"startlinecolor\": \"#2a3f5f\"}, \"type\": \"carpet\"}], \"choropleth\": [{\"colorbar\": {\"outlinewidth\": 0, \"ticks\": \"\"}, \"type\": \"choropleth\"}], \"contour\": [{\"colorbar\": {\"outlinewidth\": 0, \"ticks\": \"\"}, \"colorscale\": [[0.0, \"#0d0887\"], [0.1111111111111111, \"#46039f\"], [0.2222222222222222, \"#7201a8\"], [0.3333333333333333, \"#9c179e\"], [0.4444444444444444, \"#bd3786\"], [0.5555555555555556, \"#d8576b\"], [0.6666666666666666, \"#ed7953\"], [0.7777777777777778, \"#fb9f3a\"], [0.8888888888888888, \"#fdca26\"], [1.0, \"#f0f921\"]], \"type\": \"contour\"}], \"contourcarpet\": [{\"colorbar\": {\"outlinewidth\": 0, \"ticks\": \"\"}, \"type\": \"contourcarpet\"}], \"heatmap\": [{\"colorbar\": {\"outlinewidth\": 0, \"ticks\": \"\"}, \"colorscale\": [[0.0, \"#0d0887\"], [0.1111111111111111, \"#46039f\"], [0.2222222222222222, \"#7201a8\"], [0.3333333333333333, \"#9c179e\"], [0.4444444444444444, \"#bd3786\"], [0.5555555555555556, \"#d8576b\"], [0.6666666666666666, \"#ed7953\"], [0.7777777777777778, \"#fb9f3a\"], [0.8888888888888888, \"#fdca26\"], [1.0, \"#f0f921\"]], \"type\": \"heatmap\"}], \"heatmapgl\": [{\"colorbar\": {\"outlinewidth\": 0, \"ticks\": \"\"}, \"colorscale\": [[0.0, \"#0d0887\"], [0.1111111111111111, \"#46039f\"], [0.2222222222222222, \"#7201a8\"], [0.3333333333333333, \"#9c179e\"], [0.4444444444444444, \"#bd3786\"], [0.5555555555555556, \"#d8576b\"], [0.6666666666666666, \"#ed7953\"], [0.7777777777777778, \"#fb9f3a\"], [0.8888888888888888, \"#fdca26\"], [1.0, \"#f0f921\"]], \"type\": \"heatmapgl\"}], \"histogram\": [{\"marker\": {\"colorbar\": {\"outlinewidth\": 0, \"ticks\": \"\"}}, \"type\": \"histogram\"}], \"histogram2d\": [{\"colorbar\": {\"outlinewidth\": 0, \"ticks\": \"\"}, \"colorscale\": [[0.0, \"#0d0887\"], [0.1111111111111111, \"#46039f\"], [0.2222222222222222, \"#7201a8\"], [0.3333333333333333, \"#9c179e\"], [0.4444444444444444, \"#bd3786\"], [0.5555555555555556, \"#d8576b\"], [0.6666666666666666, \"#ed7953\"], [0.7777777777777778, \"#fb9f3a\"], [0.8888888888888888, \"#fdca26\"], [1.0, \"#f0f921\"]], \"type\": \"histogram2d\"}], \"histogram2dcontour\": [{\"colorbar\": {\"outlinewidth\": 0, \"ticks\": \"\"}, \"colorscale\": [[0.0, \"#0d0887\"], [0.1111111111111111, \"#46039f\"], [0.2222222222222222, \"#7201a8\"], [0.3333333333333333, \"#9c179e\"], [0.4444444444444444, \"#bd3786\"], [0.5555555555555556, \"#d8576b\"], [0.6666666666666666, \"#ed7953\"], [0.7777777777777778, \"#fb9f3a\"], [0.8888888888888888, \"#fdca26\"], [1.0, \"#f0f921\"]], \"type\": \"histogram2dcontour\"}], \"mesh3d\": [{\"colorbar\": {\"outlinewidth\": 0, \"ticks\": \"\"}, \"type\": \"mesh3d\"}], \"parcoords\": [{\"line\": {\"colorbar\": {\"outlinewidth\": 0, \"ticks\": \"\"}}, \"type\": \"parcoords\"}], \"pie\": [{\"automargin\": true, \"type\": \"pie\"}], \"scatter\": [{\"marker\": {\"colorbar\": {\"outlinewidth\": 0, \"ticks\": \"\"}}, \"type\": \"scatter\"}], \"scatter3d\": [{\"line\": {\"colorbar\": {\"outlinewidth\": 0, \"ticks\": \"\"}}, \"marker\": {\"colorbar\": {\"outlinewidth\": 0, \"ticks\": \"\"}}, \"type\": \"scatter3d\"}], \"scattercarpet\": [{\"marker\": {\"colorbar\": {\"outlinewidth\": 0, \"ticks\": \"\"}}, \"type\": \"scattercarpet\"}], \"scattergeo\": [{\"marker\": {\"colorbar\": {\"outlinewidth\": 0, \"ticks\": \"\"}}, \"type\": \"scattergeo\"}], \"scattergl\": [{\"marker\": {\"colorbar\": {\"outlinewidth\": 0, \"ticks\": \"\"}}, \"type\": \"scattergl\"}], \"scattermapbox\": [{\"marker\": {\"colorbar\": {\"outlinewidth\": 0, \"ticks\": \"\"}}, \"type\": \"scattermapbox\"}], \"scatterpolar\": [{\"marker\": {\"colorbar\": {\"outlinewidth\": 0, \"ticks\": \"\"}}, \"type\": \"scatterpolar\"}], \"scatterpolargl\": [{\"marker\": {\"colorbar\": {\"outlinewidth\": 0, \"ticks\": \"\"}}, \"type\": \"scatterpolargl\"}], \"scatterternary\": [{\"marker\": {\"colorbar\": {\"outlinewidth\": 0, \"ticks\": \"\"}}, \"type\": \"scatterternary\"}], \"surface\": [{\"colorbar\": {\"outlinewidth\": 0, \"ticks\": \"\"}, \"colorscale\": [[0.0, \"#0d0887\"], [0.1111111111111111, \"#46039f\"], [0.2222222222222222, \"#7201a8\"], [0.3333333333333333, \"#9c179e\"], [0.4444444444444444, \"#bd3786\"], [0.5555555555555556, \"#d8576b\"], [0.6666666666666666, \"#ed7953\"], [0.7777777777777778, \"#fb9f3a\"], [0.8888888888888888, \"#fdca26\"], [1.0, \"#f0f921\"]], \"type\": \"surface\"}], \"table\": [{\"cells\": {\"fill\": {\"color\": \"#EBF0F8\"}, \"line\": {\"color\": \"white\"}}, \"header\": {\"fill\": {\"color\": \"#C8D4E3\"}, \"line\": {\"color\": \"white\"}}, \"type\": \"table\"}]}, \"layout\": {\"annotationdefaults\": {\"arrowcolor\": \"#2a3f5f\", \"arrowhead\": 0, \"arrowwidth\": 1}, \"autotypenumbers\": \"strict\", \"coloraxis\": {\"colorbar\": {\"outlinewidth\": 0, \"ticks\": \"\"}}, \"colorscale\": {\"diverging\": [[0, \"#8e0152\"], [0.1, \"#c51b7d\"], [0.2, \"#de77ae\"], [0.3, \"#f1b6da\"], [0.4, \"#fde0ef\"], [0.5, \"#f7f7f7\"], [0.6, \"#e6f5d0\"], [0.7, \"#b8e186\"], [0.8, \"#7fbc41\"], [0.9, \"#4d9221\"], [1, \"#276419\"]], \"sequential\": [[0.0, \"#0d0887\"], [0.1111111111111111, \"#46039f\"], [0.2222222222222222, \"#7201a8\"], [0.3333333333333333, \"#9c179e\"], [0.4444444444444444, \"#bd3786\"], [0.5555555555555556, \"#d8576b\"], [0.6666666666666666, \"#ed7953\"], [0.7777777777777778, \"#fb9f3a\"], [0.8888888888888888, \"#fdca26\"], [1.0, \"#f0f921\"]], \"sequentialminus\": [[0.0, \"#0d0887\"], [0.1111111111111111, \"#46039f\"], [0.2222222222222222, \"#7201a8\"], [0.3333333333333333, \"#9c179e\"], [0.4444444444444444, \"#bd3786\"], [0.5555555555555556, \"#d8576b\"], [0.6666666666666666, \"#ed7953\"], [0.7777777777777778, \"#fb9f3a\"], [0.8888888888888888, \"#fdca26\"], [1.0, \"#f0f921\"]]}, \"colorway\": [\"#636efa\", \"#EF553B\", \"#00cc96\", \"#ab63fa\", \"#FFA15A\", \"#19d3f3\", \"#FF6692\", \"#B6E880\", \"#FF97FF\", \"#FECB52\"], \"font\": {\"color\": \"#2a3f5f\"}, \"geo\": {\"bgcolor\": \"white\", \"lakecolor\": \"white\", \"landcolor\": \"#E5ECF6\", \"showlakes\": true, \"showland\": true, \"subunitcolor\": \"white\"}, \"hoverlabel\": {\"align\": \"left\"}, \"hovermode\": \"closest\", \"mapbox\": {\"style\": \"light\"}, \"paper_bgcolor\": \"white\", \"plot_bgcolor\": \"#E5ECF6\", \"polar\": {\"angularaxis\": {\"gridcolor\": \"white\", \"linecolor\": \"white\", \"ticks\": \"\"}, \"bgcolor\": \"#E5ECF6\", \"radialaxis\": {\"gridcolor\": \"white\", \"linecolor\": \"white\", \"ticks\": \"\"}}, \"scene\": {\"xaxis\": {\"backgroundcolor\": \"#E5ECF6\", \"gridcolor\": \"white\", \"gridwidth\": 2, \"linecolor\": \"white\", \"showbackground\": true, \"ticks\": \"\", \"zerolinecolor\": \"white\"}, \"yaxis\": {\"backgroundcolor\": \"#E5ECF6\", \"gridcolor\": \"white\", \"gridwidth\": 2, \"linecolor\": \"white\", \"showbackground\": true, \"ticks\": \"\", \"zerolinecolor\": \"white\"}, \"zaxis\": {\"backgroundcolor\": \"#E5ECF6\", \"gridcolor\": \"white\", \"gridwidth\": 2, \"linecolor\": \"white\", \"showbackground\": true, \"ticks\": \"\", \"zerolinecolor\": \"white\"}}, \"shapedefaults\": {\"line\": {\"color\": \"#2a3f5f\"}}, \"ternary\": {\"aaxis\": {\"gridcolor\": \"white\", \"linecolor\": \"white\", \"ticks\": \"\"}, \"baxis\": {\"gridcolor\": \"white\", \"linecolor\": \"white\", \"ticks\": \"\"}, \"bgcolor\": \"#E5ECF6\", \"caxis\": {\"gridcolor\": \"white\", \"linecolor\": \"white\", \"ticks\": \"\"}}, \"title\": {\"x\": 0.05}, \"xaxis\": {\"automargin\": true, \"gridcolor\": \"white\", \"linecolor\": \"white\", \"ticks\": \"\", \"title\": {\"standoff\": 15}, \"zerolinecolor\": \"white\", \"zerolinewidth\": 2}, \"yaxis\": {\"automargin\": true, \"gridcolor\": \"white\", \"linecolor\": \"white\", \"ticks\": \"\", \"title\": {\"standoff\": 15}, \"zerolinecolor\": \"white\", \"zerolinewidth\": 2}}}, \"title\": {\"text\": \"Crossing points\"}, \"width\": 600},                        {\"responsive\": true}                    ).then(function(){\n",
              "                            \n",
              "var gd = document.getElementById('1d3ab701-1c75-4b74-b1ff-e56dfb9459d7');\n",
              "var x = new MutationObserver(function (mutations, observer) {{\n",
              "        var display = window.getComputedStyle(gd).display;\n",
              "        if (!display || display === 'none') {{\n",
              "            console.log([gd, 'removed!']);\n",
              "            Plotly.purge(gd);\n",
              "            observer.disconnect();\n",
              "        }}\n",
              "}});\n",
              "\n",
              "// Listen for the removal of the full notebook cells\n",
              "var notebookContainer = gd.closest('#notebook-container');\n",
              "if (notebookContainer) {{\n",
              "    x.observe(notebookContainer, {childList: true});\n",
              "}}\n",
              "\n",
              "// Listen for the clearing of the current output cell\n",
              "var outputEl = gd.closest('.output');\n",
              "if (outputEl) {{\n",
              "    x.observe(outputEl, {childList: true});\n",
              "}}\n",
              "\n",
              "                        })                };                            </script>        </div>\n",
              "</body>\n",
              "</html>"
            ]
          },
          "metadata": {
            "tags": []
          }
        }
      ]
    },
    {
      "cell_type": "markdown",
      "metadata": {
        "id": "auzlKJBWtVQ5"
      },
      "source": [
        "## Checking by committee"
      ]
    },
    {
      "cell_type": "markdown",
      "metadata": {
        "id": "IiS7sZCHJFiK"
      },
      "source": [
        "### Checking function"
      ]
    },
    {
      "cell_type": "code",
      "metadata": {
        "id": "8ds6rt4qJFKS"
      },
      "source": [
        "def committee_check(\r\n",
        "    committee, # models\r\n",
        "    predictions, # models * examples\r\n",
        "    right_labels, # datasets * 2 * examples (2=train and test sets respectively)\r\n",
        "    wrong_labels # datasets * examples (just test set labels)\r\n",
        "):\r\n",
        "  num_models = len(committee);\r\n",
        "  # Number of correctly labelled examples, discarded\r\n",
        "  # (When an example is correctly labelled, yet the systems check discards it)\r\n",
        "  falsely_thrown_out = np.zeros(num_models)\r\n",
        "\r\n",
        "  # Number of wrongly labelled examples, accepted\r\n",
        "  # (When an example is incorrectly labelled, yet the systems check fails to discard it)\r\n",
        "  falsely_let_in = np.zeros(num_models)\r\n",
        "\r\n",
        "  votes = [v for v in range(1,num_models+1)] # votes required\r\n",
        "\r\n",
        "  for votes_required in votes:\r\n",
        "      falsely_thrown_out_temp = 0\r\n",
        "      falsely_let_in_temp = 0\r\n",
        "\r\n",
        "      for j in range(right_labels[1].shape[0]): # Iterating across test examples\r\n",
        "        # Counts number of committee members which classified example as correct label\r\n",
        "        correct = 0\r\n",
        "        # Counts number of committee members which classified example as incorrect label\r\n",
        "        wrong = 0\r\n",
        "        for k in range(num_models):\r\n",
        "          if predictions[k][j] == right_labels[1][j]:\r\n",
        "            correct += 1\r\n",
        "          # since `wrong_labels[a][b][c] != labels[1][j]` this can be else to avoid uneeded comp\r\n",
        "          elif predictions[k][j] == wrong_labels[j]:\r\n",
        "            wrong += 1\r\n",
        "\r\n",
        "        if correct < votes_required:\r\n",
        "          falsely_thrown_out_temp += 1\r\n",
        "        if wrong >= votes_required:\r\n",
        "          falsely_let_in_temp += 1\r\n",
        "\r\n",
        "      falsely_thrown_out[votes_required-1] = falsely_thrown_out_temp\r\n",
        "      falsely_let_in[votes_required-1] = falsely_let_in_temp\r\n",
        "\r\n",
        "  return (falsely_thrown_out,falsely_let_in)"
      ],
      "execution_count": null,
      "outputs": []
    },
    {
      "cell_type": "markdown",
      "metadata": {
        "id": "fZUBOfEmMqZg"
      },
      "source": [
        "### Running checking by commitee\n"
      ]
    },
    {
      "cell_type": "code",
      "metadata": {
        "id": "uXIo_YRxs5bS",
        "colab": {
          "base_uri": "https://localhost:8080/"
        },
        "outputId": "c76cd42d-2a0e-4b2d-e888-bc00f3e7952b"
      },
      "source": [
        "gc.collect()\n",
        "\n",
        "# Sets start time\n",
        "outer_start = time.time()\n",
        "\n",
        "max_committee_size =  9 # committee_size % 2 == 1\n",
        "\n",
        "nets = 4 * np.sum([s for s in range(1,max_committee_size+1,2)])\n",
        "print(\"nets:\",nets)\n",
        "\n",
        "total_stats = []\n",
        "\n",
        "for committee_size in range(1,max_committee_size+1,2):\n",
        "  start = time.time()\n",
        "  print(\"[\",end =\" \")\n",
        "\n",
        "  stats = []\n",
        "  for (conv_model,dataset,l,wl) in zip(conv_models,datasets,labels,wrong_labels):\n",
        "    committee = [keras.models.clone_model(conv_model) for i in range(committee_size)]\n",
        "    gc.collect()\n",
        "\n",
        "    test_prediction = []\n",
        "\n",
        "    print(\"{\",end =\" \")\n",
        "\n",
        "    for i in range(committee_size):\n",
        "      committee[i].compile(loss=\"categorical_crossentropy\", optimizer=\"adam\", metrics=[\"accuracy\"])\n",
        "      committee[i].fit(dataset[0][0], dataset[0][1], batch_size=BATCH_SIZE, epochs=epochs, verbose=0)\n",
        "      test_prediction.append(np.argmax(committee[i].predict(dataset[1][0]),1))\n",
        "      print(str(i+1),end=\" \")\n",
        "\n",
        "    stats.append(committee_check(committee,test_prediction,l,wl))\n",
        "\n",
        "    print(\"}\",end=\" \")\n",
        "  total_stats.append(np.array(stats))\n",
        "  print(\"]\",str(committee_size)+\"/\"+str(max_committee_size),\"{:.2f}\".format((time.time() - start)/60)+\"m\")\n",
        "# prints time taken\n",
        "print()\n",
        "print(\"{:.2f}\".format((time.time() - outer_start) / 60)+\"m\")"
      ],
      "execution_count": null,
      "outputs": [
        {
          "output_type": "stream",
          "text": [
            "nets: 100\n",
            "[ { 1 } { 1 } { 1 } { 1 } ] 1/9 2.11m\n",
            "[ { 1 2 3 } { 1 2 3 } { 1 2 3 } { 1 2 3 } ] 3/9 6.29m\n",
            "[ { 1 2 3 4 5 } { 1 2 3 4 5 } { 1 2 3 4 5 } { 1 2 3 4 5 } ] 5/9 10.45m\n",
            "[ { 1 2 3 4 5 6 7 } { 1 2 3 4 5 6 7 } { 1 2 3 4 5 6 7 } { 1 2 3 4 5 6 7 } ] 7/9 14.67m\n",
            "[ { 1 2 3 4 5 6 7 8 9 } { 1 2 3 4 5 6 7 8 9 } { 1 2 3 4 5 6 7 8 9 } { 1 2 3 4 5 6 7 8 9 } ] 9/9 18.95m\n",
            "\n",
            "52.47m\n"
          ],
          "name": "stdout"
        }
      ]
    },
    {
      "cell_type": "code",
      "metadata": {
        "id": "U4btbkLSPpaF",
        "colab": {
          "base_uri": "https://localhost:8080/"
        },
        "outputId": "2c15b393-73bb-4bdf-945b-b2ff14829686"
      },
      "source": [
        "for i in range(len(total_stats)):\r\n",
        "  print(np.array(total_stats[i]).shape)"
      ],
      "execution_count": null,
      "outputs": [
        {
          "output_type": "stream",
          "text": [
            "(4, 2, 1)\n",
            "(4, 2, 3)\n",
            "(4, 2, 5)\n",
            "(4, 2, 7)\n",
            "(4, 2, 9)\n"
          ],
          "name": "stdout"
        }
      ]
    },
    {
      "cell_type": "markdown",
      "metadata": {
        "id": "X79wpVw-M0k3"
      },
      "source": [
        "### Graphs"
      ]
    },
    {
      "cell_type": "code",
      "metadata": {
        "id": "c1s1TSPoQx9k",
        "colab": {
          "base_uri": "https://localhost:8080/",
          "height": 1000
        },
        "outputId": "7d2caf7b-4941-49b5-c0ff-626276ed5f7e"
      },
      "source": [
        "gc.collect()\r\n",
        "\r\n",
        "votes = [v+1 for v in range(max_committee_size)]\r\n",
        "\r\n",
        "import plotly.graph_objects as go\r\n",
        "\r\n",
        "# Falsely accepted\r\n",
        "fig_out = make_subplots(\r\n",
        "    rows=1, \r\n",
        "    cols=len(total_stats),\r\n",
        "    horizontal_spacing = 0.01,\r\n",
        "    shared_yaxes=True\r\n",
        ")\r\n",
        "# Falsely discarded\r\n",
        "fig_in = make_subplots(\r\n",
        "    rows=1, \r\n",
        "    cols=len(total_stats),\r\n",
        "    horizontal_spacing = 0.01,\r\n",
        "    shared_yaxes=True\r\n",
        ")\r\n",
        "# Combined\r\n",
        "fig_com = make_subplots(\r\n",
        "    rows=1, \r\n",
        "    cols=len(total_stats),\r\n",
        "    horizontal_spacing = 0.01,\r\n",
        "    shared_yaxes=True\r\n",
        ")\r\n",
        "\r\n",
        "# Default plotly colors\r\n",
        "colors = [\r\n",
        "    '#1f77b4',  # muted blue\r\n",
        "    '#ff7f0e',  # safety orange\r\n",
        "    '#2ca02c',  # cooked asparagus green\r\n",
        "    '#d62728',  # brick red\r\n",
        "    '#9467bd',  # muted purple\r\n",
        "    '#8c564b',  # chestnut brown\r\n",
        "    '#e377c2',  # raspberry yogurt pink\r\n",
        "    '#7f7f7f',  # middle gray\r\n",
        "    '#bcbd22',  # curry yellow-green\r\n",
        "    '#17becf'   # blue-teal\r\n",
        "]\r\n",
        "\r\n",
        "for (i,stat) in enumerate(total_stats):\r\n",
        "  #print(falsely_thrown_out.T)\r\n",
        "  for j in range(stat[:,0,:].shape[0]):\r\n",
        "    fig_out.add_trace(\r\n",
        "        go.Scatter(\r\n",
        "            x=votes[0:2*i+1],\r\n",
        "            y=stat[:,0,:][j],\r\n",
        "            name=namelist[j],\r\n",
        "            line_color=colors[j],\r\n",
        "            showlegend = True if i==0 else False\r\n",
        "        ),\r\n",
        "        row=1,col=i+1\r\n",
        "    )\r\n",
        "\r\n",
        "    fig_in.add_trace(\r\n",
        "        go.Scatter(\r\n",
        "            x=votes[0:2*i+1],\r\n",
        "            y=stat[:,1,:][j],\r\n",
        "            name=namelist[j],\r\n",
        "            line_color=colors[j],\r\n",
        "            showlegend = True if i==0 else False\r\n",
        "        ),\r\n",
        "        row=1,col=i+1\r\n",
        "    )\r\n",
        "    fig_com.add_trace(\r\n",
        "        go.Scatter(\r\n",
        "            x=votes[0:2*i+1],\r\n",
        "            y=np.array(stat[:,0,:][j])+np.array(stat[:,1,:][j]),\r\n",
        "            name=namelist[j],\r\n",
        "            line_color=colors[j],\r\n",
        "            showlegend = True if i==0 else False\r\n",
        "        ),\r\n",
        "        row=1,col=i+1\r\n",
        "    )\r\n",
        "\r\n",
        "fig_out.update_layout(height=400, width=1100, title_text=\"Accurate examples discarded\")\r\n",
        "fig_out.update_xaxes(type='category')\r\n",
        "fig_out.show()\r\n",
        "\r\n",
        "fig_in.update_layout(height=400, width=1100, title_text=\"Inaccurate examples accepted\")\r\n",
        "fig_in.update_xaxes(type='category')\r\n",
        "fig_in.show()\r\n",
        "\r\n",
        "fig_com.update_layout(height=400, width=1100, title_text=\"Combined\")\r\n",
        "fig_com.update_xaxes(type='category')\r\n",
        "fig_com.show()"
      ],
      "execution_count": null,
      "outputs": [
        {
          "output_type": "display_data",
          "data": {
            "text/html": [
              "<html>\n",
              "<head><meta charset=\"utf-8\" /></head>\n",
              "<body>\n",
              "    <div>            <script src=\"https://cdnjs.cloudflare.com/ajax/libs/mathjax/2.7.5/MathJax.js?config=TeX-AMS-MML_SVG\"></script><script type=\"text/javascript\">if (window.MathJax) {MathJax.Hub.Config({SVG: {font: \"STIX-Web\"}});}</script>                <script type=\"text/javascript\">window.PlotlyConfig = {MathJaxConfig: 'local'};</script>\n",
              "        <script src=\"https://cdn.plot.ly/plotly-latest.min.js\"></script>                <div id=\"49385b11-909e-4e7a-b8e3-b4c1ee4a0fbe\" class=\"plotly-graph-div\" style=\"height:400px; width:1100px;\"></div>            <script type=\"text/javascript\">                                    window.PLOTLYENV=window.PLOTLYENV || {};                                    if (document.getElementById(\"49385b11-909e-4e7a-b8e3-b4c1ee4a0fbe\")) {                    Plotly.newPlot(                        \"49385b11-909e-4e7a-b8e3-b4c1ee4a0fbe\",                        [{\"line\": {\"color\": \"#1f77b4\"}, \"name\": \"mnist\", \"showlegend\": true, \"type\": \"scatter\", \"x\": [1], \"xaxis\": \"x\", \"y\": [93.0], \"yaxis\": \"y\"}, {\"line\": {\"color\": \"#ff7f0e\"}, \"name\": \"fashion_mnist\", \"showlegend\": true, \"type\": \"scatter\", \"x\": [1], \"xaxis\": \"x\", \"y\": [1023.0], \"yaxis\": \"y\"}, {\"line\": {\"color\": \"#2ca02c\"}, \"name\": \"cifar10\", \"showlegend\": true, \"type\": \"scatter\", \"x\": [1], \"xaxis\": \"x\", \"y\": [2236.0], \"yaxis\": \"y\"}, {\"line\": {\"color\": \"#d62728\"}, \"name\": \"cifar100\", \"showlegend\": true, \"type\": \"scatter\", \"x\": [1], \"xaxis\": \"x\", \"y\": [5798.0], \"yaxis\": \"y\"}, {\"line\": {\"color\": \"#1f77b4\"}, \"name\": \"mnist\", \"showlegend\": false, \"type\": \"scatter\", \"x\": [1, 2, 3], \"xaxis\": \"x2\", \"y\": [49.0, 86.0, 141.0], \"yaxis\": \"y2\"}, {\"line\": {\"color\": \"#ff7f0e\"}, \"name\": \"fashion_mnist\", \"showlegend\": false, \"type\": \"scatter\", \"x\": [1, 2, 3], \"xaxis\": \"x2\", \"y\": [768.0, 1002.0, 1328.0], \"yaxis\": \"y2\"}, {\"line\": {\"color\": \"#2ca02c\"}, \"name\": \"cifar10\", \"showlegend\": false, \"type\": \"scatter\", \"x\": [1, 2, 3], \"xaxis\": \"x2\", \"y\": [1040.0, 1961.0, 3364.0], \"yaxis\": \"y2\"}, {\"line\": {\"color\": \"#d62728\"}, \"name\": \"cifar100\", \"showlegend\": false, \"type\": \"scatter\", \"x\": [1, 2, 3], \"xaxis\": \"x2\", \"y\": [4136.0, 5897.0, 7405.0], \"yaxis\": \"y2\"}, {\"line\": {\"color\": \"#1f77b4\"}, \"name\": \"mnist\", \"showlegend\": false, \"type\": \"scatter\", \"x\": [1, 2, 3, 4, 5], \"xaxis\": \"x3\", \"y\": [44.0, 65.0, 93.0, 110.0, 152.0], \"yaxis\": \"y3\"}, {\"line\": {\"color\": \"#ff7f0e\"}, \"name\": \"fashion_mnist\", \"showlegend\": false, \"type\": \"scatter\", \"x\": [1, 2, 3, 4, 5], \"xaxis\": \"x3\", \"y\": [627.0, 817.0, 983.0, 1184.0, 1490.0], \"yaxis\": \"y3\"}, {\"line\": {\"color\": \"#2ca02c\"}, \"name\": \"cifar10\", \"showlegend\": false, \"type\": \"scatter\", \"x\": [1, 2, 3, 4, 5], \"xaxis\": \"x3\", \"y\": [778.0, 1340.0, 1925.0, 2675.0, 3865.0], \"yaxis\": \"y3\"}, {\"line\": {\"color\": \"#d62728\"}, \"name\": \"cifar100\", \"showlegend\": false, \"type\": \"scatter\", \"x\": [1, 2, 3, 4, 5], \"xaxis\": \"x3\", \"y\": [3469.0, 4873.0, 5932.0, 6902.0, 7911.0], \"yaxis\": \"y3\"}, {\"line\": {\"color\": \"#1f77b4\"}, \"name\": \"mnist\", \"showlegend\": false, \"type\": \"scatter\", \"x\": [1, 2, 3, 4, 5, 6, 7], \"xaxis\": \"x4\", \"y\": [28.0, 40.0, 65.0, 87.0, 111.0, 132.0, 187.0], \"yaxis\": \"y4\"}, {\"line\": {\"color\": \"#ff7f0e\"}, \"name\": \"fashion_mnist\", \"showlegend\": false, \"type\": \"scatter\", \"x\": [1, 2, 3, 4, 5, 6, 7], \"xaxis\": \"x4\", \"y\": [611.0, 740.0, 870.0, 991.0, 1131.0, 1290.0, 1548.0], \"yaxis\": \"y4\"}, {\"line\": {\"color\": \"#2ca02c\"}, \"name\": \"cifar10\", \"showlegend\": false, \"type\": \"scatter\", \"x\": [1, 2, 3, 4, 5, 6, 7], \"xaxis\": \"x4\", \"y\": [585.0, 1041.0, 1431.0, 1851.0, 2360.0, 3028.0, 4130.0], \"yaxis\": \"y4\"}, {\"line\": {\"color\": \"#d62728\"}, \"name\": \"cifar100\", \"showlegend\": false, \"type\": \"scatter\", \"x\": [1, 2, 3, 4, 5, 6, 7], \"xaxis\": \"x4\", \"y\": [2957.0, 4255.0, 5202.0, 5973.0, 6679.0, 7399.0, 8278.0], \"yaxis\": \"y4\"}, {\"line\": {\"color\": \"#1f77b4\"}, \"name\": \"mnist\", \"showlegend\": false, \"type\": \"scatter\", \"x\": [1, 2, 3, 4, 5, 6, 7, 8, 9], \"xaxis\": \"x5\", \"y\": [24.0, 40.0, 56.0, 76.0, 91.0, 103.0, 117.0, 134.0, 181.0], \"yaxis\": \"y5\"}, {\"line\": {\"color\": \"#ff7f0e\"}, \"name\": \"fashion_mnist\", \"showlegend\": false, \"type\": \"scatter\", \"x\": [1, 2, 3, 4, 5, 6, 7, 8, 9], \"xaxis\": \"x5\", \"y\": [524.0, 694.0, 811.0, 919.0, 1016.0, 1101.0, 1192.0, 1361.0, 1717.0], \"yaxis\": \"y5\"}, {\"line\": {\"color\": \"#2ca02c\"}, \"name\": \"cifar10\", \"showlegend\": false, \"type\": \"scatter\", \"x\": [1, 2, 3, 4, 5, 6, 7, 8, 9], \"xaxis\": \"x5\", \"y\": [536.0, 885.0, 1211.0, 1546.0, 1876.0, 2309.0, 2811.0, 3442.0, 4569.0], \"yaxis\": \"y5\"}, {\"line\": {\"color\": \"#d62728\"}, \"name\": \"cifar100\", \"showlegend\": false, \"type\": \"scatter\", \"x\": [1, 2, 3, 4, 5, 6, 7, 8, 9], \"xaxis\": \"x5\", \"y\": [2743.0, 3846.0, 4650.0, 5347.0, 5970.0, 6485.0, 7081.0, 7685.0, 8447.0], \"yaxis\": \"y5\"}],                        {\"height\": 400, \"template\": {\"data\": {\"bar\": [{\"error_x\": {\"color\": \"#2a3f5f\"}, \"error_y\": {\"color\": \"#2a3f5f\"}, \"marker\": {\"line\": {\"color\": \"#E5ECF6\", \"width\": 0.5}}, \"type\": \"bar\"}], \"barpolar\": [{\"marker\": {\"line\": {\"color\": \"#E5ECF6\", \"width\": 0.5}}, \"type\": \"barpolar\"}], \"carpet\": [{\"aaxis\": {\"endlinecolor\": \"#2a3f5f\", \"gridcolor\": \"white\", \"linecolor\": \"white\", \"minorgridcolor\": \"white\", \"startlinecolor\": \"#2a3f5f\"}, \"baxis\": {\"endlinecolor\": \"#2a3f5f\", \"gridcolor\": \"white\", \"linecolor\": \"white\", \"minorgridcolor\": \"white\", \"startlinecolor\": \"#2a3f5f\"}, \"type\": \"carpet\"}], \"choropleth\": [{\"colorbar\": {\"outlinewidth\": 0, \"ticks\": \"\"}, \"type\": \"choropleth\"}], \"contour\": [{\"colorbar\": {\"outlinewidth\": 0, \"ticks\": \"\"}, \"colorscale\": [[0.0, \"#0d0887\"], [0.1111111111111111, \"#46039f\"], [0.2222222222222222, \"#7201a8\"], [0.3333333333333333, \"#9c179e\"], [0.4444444444444444, \"#bd3786\"], [0.5555555555555556, \"#d8576b\"], [0.6666666666666666, \"#ed7953\"], [0.7777777777777778, \"#fb9f3a\"], [0.8888888888888888, \"#fdca26\"], [1.0, \"#f0f921\"]], \"type\": \"contour\"}], \"contourcarpet\": [{\"colorbar\": {\"outlinewidth\": 0, \"ticks\": \"\"}, \"type\": \"contourcarpet\"}], \"heatmap\": [{\"colorbar\": {\"outlinewidth\": 0, \"ticks\": \"\"}, \"colorscale\": [[0.0, \"#0d0887\"], [0.1111111111111111, \"#46039f\"], [0.2222222222222222, \"#7201a8\"], [0.3333333333333333, \"#9c179e\"], [0.4444444444444444, \"#bd3786\"], [0.5555555555555556, \"#d8576b\"], [0.6666666666666666, \"#ed7953\"], [0.7777777777777778, \"#fb9f3a\"], [0.8888888888888888, \"#fdca26\"], [1.0, \"#f0f921\"]], \"type\": \"heatmap\"}], \"heatmapgl\": [{\"colorbar\": {\"outlinewidth\": 0, \"ticks\": \"\"}, \"colorscale\": [[0.0, \"#0d0887\"], [0.1111111111111111, \"#46039f\"], [0.2222222222222222, \"#7201a8\"], [0.3333333333333333, \"#9c179e\"], [0.4444444444444444, \"#bd3786\"], [0.5555555555555556, \"#d8576b\"], [0.6666666666666666, \"#ed7953\"], [0.7777777777777778, \"#fb9f3a\"], [0.8888888888888888, \"#fdca26\"], [1.0, \"#f0f921\"]], \"type\": \"heatmapgl\"}], \"histogram\": [{\"marker\": {\"colorbar\": {\"outlinewidth\": 0, \"ticks\": \"\"}}, \"type\": \"histogram\"}], \"histogram2d\": [{\"colorbar\": {\"outlinewidth\": 0, \"ticks\": \"\"}, \"colorscale\": [[0.0, \"#0d0887\"], [0.1111111111111111, \"#46039f\"], [0.2222222222222222, \"#7201a8\"], [0.3333333333333333, \"#9c179e\"], [0.4444444444444444, \"#bd3786\"], [0.5555555555555556, \"#d8576b\"], [0.6666666666666666, \"#ed7953\"], [0.7777777777777778, \"#fb9f3a\"], [0.8888888888888888, \"#fdca26\"], [1.0, \"#f0f921\"]], \"type\": \"histogram2d\"}], \"histogram2dcontour\": [{\"colorbar\": {\"outlinewidth\": 0, \"ticks\": \"\"}, \"colorscale\": [[0.0, \"#0d0887\"], [0.1111111111111111, \"#46039f\"], [0.2222222222222222, \"#7201a8\"], [0.3333333333333333, \"#9c179e\"], [0.4444444444444444, \"#bd3786\"], [0.5555555555555556, \"#d8576b\"], [0.6666666666666666, \"#ed7953\"], [0.7777777777777778, \"#fb9f3a\"], [0.8888888888888888, \"#fdca26\"], [1.0, \"#f0f921\"]], \"type\": \"histogram2dcontour\"}], \"mesh3d\": [{\"colorbar\": {\"outlinewidth\": 0, \"ticks\": \"\"}, \"type\": \"mesh3d\"}], \"parcoords\": [{\"line\": {\"colorbar\": {\"outlinewidth\": 0, \"ticks\": \"\"}}, \"type\": \"parcoords\"}], \"pie\": [{\"automargin\": true, \"type\": \"pie\"}], \"scatter\": [{\"marker\": {\"colorbar\": {\"outlinewidth\": 0, \"ticks\": \"\"}}, \"type\": \"scatter\"}], \"scatter3d\": [{\"line\": {\"colorbar\": {\"outlinewidth\": 0, \"ticks\": \"\"}}, \"marker\": {\"colorbar\": {\"outlinewidth\": 0, \"ticks\": \"\"}}, \"type\": \"scatter3d\"}], \"scattercarpet\": [{\"marker\": {\"colorbar\": {\"outlinewidth\": 0, \"ticks\": \"\"}}, \"type\": \"scattercarpet\"}], \"scattergeo\": [{\"marker\": {\"colorbar\": {\"outlinewidth\": 0, \"ticks\": \"\"}}, \"type\": \"scattergeo\"}], \"scattergl\": [{\"marker\": {\"colorbar\": {\"outlinewidth\": 0, \"ticks\": \"\"}}, \"type\": \"scattergl\"}], \"scattermapbox\": [{\"marker\": {\"colorbar\": {\"outlinewidth\": 0, \"ticks\": \"\"}}, \"type\": \"scattermapbox\"}], \"scatterpolar\": [{\"marker\": {\"colorbar\": {\"outlinewidth\": 0, \"ticks\": \"\"}}, \"type\": \"scatterpolar\"}], \"scatterpolargl\": [{\"marker\": {\"colorbar\": {\"outlinewidth\": 0, \"ticks\": \"\"}}, \"type\": \"scatterpolargl\"}], \"scatterternary\": [{\"marker\": {\"colorbar\": {\"outlinewidth\": 0, \"ticks\": \"\"}}, \"type\": \"scatterternary\"}], \"surface\": [{\"colorbar\": {\"outlinewidth\": 0, \"ticks\": \"\"}, \"colorscale\": [[0.0, \"#0d0887\"], [0.1111111111111111, \"#46039f\"], [0.2222222222222222, \"#7201a8\"], [0.3333333333333333, \"#9c179e\"], [0.4444444444444444, \"#bd3786\"], [0.5555555555555556, \"#d8576b\"], [0.6666666666666666, \"#ed7953\"], [0.7777777777777778, \"#fb9f3a\"], [0.8888888888888888, \"#fdca26\"], [1.0, \"#f0f921\"]], \"type\": \"surface\"}], \"table\": [{\"cells\": {\"fill\": {\"color\": \"#EBF0F8\"}, \"line\": {\"color\": \"white\"}}, \"header\": {\"fill\": {\"color\": \"#C8D4E3\"}, \"line\": {\"color\": \"white\"}}, \"type\": \"table\"}]}, \"layout\": {\"annotationdefaults\": {\"arrowcolor\": \"#2a3f5f\", \"arrowhead\": 0, \"arrowwidth\": 1}, \"autotypenumbers\": \"strict\", \"coloraxis\": {\"colorbar\": {\"outlinewidth\": 0, \"ticks\": \"\"}}, \"colorscale\": {\"diverging\": [[0, \"#8e0152\"], [0.1, \"#c51b7d\"], [0.2, \"#de77ae\"], [0.3, \"#f1b6da\"], [0.4, \"#fde0ef\"], [0.5, \"#f7f7f7\"], [0.6, \"#e6f5d0\"], [0.7, \"#b8e186\"], [0.8, \"#7fbc41\"], [0.9, \"#4d9221\"], [1, \"#276419\"]], \"sequential\": [[0.0, \"#0d0887\"], [0.1111111111111111, \"#46039f\"], [0.2222222222222222, \"#7201a8\"], [0.3333333333333333, \"#9c179e\"], [0.4444444444444444, \"#bd3786\"], [0.5555555555555556, \"#d8576b\"], [0.6666666666666666, \"#ed7953\"], [0.7777777777777778, \"#fb9f3a\"], [0.8888888888888888, \"#fdca26\"], [1.0, \"#f0f921\"]], \"sequentialminus\": [[0.0, \"#0d0887\"], [0.1111111111111111, \"#46039f\"], [0.2222222222222222, \"#7201a8\"], [0.3333333333333333, \"#9c179e\"], [0.4444444444444444, \"#bd3786\"], [0.5555555555555556, \"#d8576b\"], [0.6666666666666666, \"#ed7953\"], [0.7777777777777778, \"#fb9f3a\"], [0.8888888888888888, \"#fdca26\"], [1.0, \"#f0f921\"]]}, \"colorway\": [\"#636efa\", \"#EF553B\", \"#00cc96\", \"#ab63fa\", \"#FFA15A\", \"#19d3f3\", \"#FF6692\", \"#B6E880\", \"#FF97FF\", \"#FECB52\"], \"font\": {\"color\": \"#2a3f5f\"}, \"geo\": {\"bgcolor\": \"white\", \"lakecolor\": \"white\", \"landcolor\": \"#E5ECF6\", \"showlakes\": true, \"showland\": true, \"subunitcolor\": \"white\"}, \"hoverlabel\": {\"align\": \"left\"}, \"hovermode\": \"closest\", \"mapbox\": {\"style\": \"light\"}, \"paper_bgcolor\": \"white\", \"plot_bgcolor\": \"#E5ECF6\", \"polar\": {\"angularaxis\": {\"gridcolor\": \"white\", \"linecolor\": \"white\", \"ticks\": \"\"}, \"bgcolor\": \"#E5ECF6\", \"radialaxis\": {\"gridcolor\": \"white\", \"linecolor\": \"white\", \"ticks\": \"\"}}, \"scene\": {\"xaxis\": {\"backgroundcolor\": \"#E5ECF6\", \"gridcolor\": \"white\", \"gridwidth\": 2, \"linecolor\": \"white\", \"showbackground\": true, \"ticks\": \"\", \"zerolinecolor\": \"white\"}, \"yaxis\": {\"backgroundcolor\": \"#E5ECF6\", \"gridcolor\": \"white\", \"gridwidth\": 2, \"linecolor\": \"white\", \"showbackground\": true, \"ticks\": \"\", \"zerolinecolor\": \"white\"}, \"zaxis\": {\"backgroundcolor\": \"#E5ECF6\", \"gridcolor\": \"white\", \"gridwidth\": 2, \"linecolor\": \"white\", \"showbackground\": true, \"ticks\": \"\", \"zerolinecolor\": \"white\"}}, \"shapedefaults\": {\"line\": {\"color\": \"#2a3f5f\"}}, \"ternary\": {\"aaxis\": {\"gridcolor\": \"white\", \"linecolor\": \"white\", \"ticks\": \"\"}, \"baxis\": {\"gridcolor\": \"white\", \"linecolor\": \"white\", \"ticks\": \"\"}, \"bgcolor\": \"#E5ECF6\", \"caxis\": {\"gridcolor\": \"white\", \"linecolor\": \"white\", \"ticks\": \"\"}}, \"title\": {\"x\": 0.05}, \"xaxis\": {\"automargin\": true, \"gridcolor\": \"white\", \"linecolor\": \"white\", \"ticks\": \"\", \"title\": {\"standoff\": 15}, \"zerolinecolor\": \"white\", \"zerolinewidth\": 2}, \"yaxis\": {\"automargin\": true, \"gridcolor\": \"white\", \"linecolor\": \"white\", \"ticks\": \"\", \"title\": {\"standoff\": 15}, \"zerolinecolor\": \"white\", \"zerolinewidth\": 2}}}, \"title\": {\"text\": \"Accurate examples discarded\"}, \"width\": 1100, \"xaxis\": {\"anchor\": \"y\", \"domain\": [0.0, 0.192], \"type\": \"category\"}, \"xaxis2\": {\"anchor\": \"y2\", \"domain\": [0.202, 0.394], \"type\": \"category\"}, \"xaxis3\": {\"anchor\": \"y3\", \"domain\": [0.404, 0.5960000000000001], \"type\": \"category\"}, \"xaxis4\": {\"anchor\": \"y4\", \"domain\": [0.6060000000000001, 0.798], \"type\": \"category\"}, \"xaxis5\": {\"anchor\": \"y5\", \"domain\": [0.808, 1.0], \"type\": \"category\"}, \"yaxis\": {\"anchor\": \"x\", \"domain\": [0.0, 1.0]}, \"yaxis2\": {\"anchor\": \"x2\", \"domain\": [0.0, 1.0], \"matches\": \"y\", \"showticklabels\": false}, \"yaxis3\": {\"anchor\": \"x3\", \"domain\": [0.0, 1.0], \"matches\": \"y\", \"showticklabels\": false}, \"yaxis4\": {\"anchor\": \"x4\", \"domain\": [0.0, 1.0], \"matches\": \"y\", \"showticklabels\": false}, \"yaxis5\": {\"anchor\": \"x5\", \"domain\": [0.0, 1.0], \"matches\": \"y\", \"showticklabels\": false}},                        {\"responsive\": true}                    ).then(function(){\n",
              "                            \n",
              "var gd = document.getElementById('49385b11-909e-4e7a-b8e3-b4c1ee4a0fbe');\n",
              "var x = new MutationObserver(function (mutations, observer) {{\n",
              "        var display = window.getComputedStyle(gd).display;\n",
              "        if (!display || display === 'none') {{\n",
              "            console.log([gd, 'removed!']);\n",
              "            Plotly.purge(gd);\n",
              "            observer.disconnect();\n",
              "        }}\n",
              "}});\n",
              "\n",
              "// Listen for the removal of the full notebook cells\n",
              "var notebookContainer = gd.closest('#notebook-container');\n",
              "if (notebookContainer) {{\n",
              "    x.observe(notebookContainer, {childList: true});\n",
              "}}\n",
              "\n",
              "// Listen for the clearing of the current output cell\n",
              "var outputEl = gd.closest('.output');\n",
              "if (outputEl) {{\n",
              "    x.observe(outputEl, {childList: true});\n",
              "}}\n",
              "\n",
              "                        })                };                            </script>        </div>\n",
              "</body>\n",
              "</html>"
            ]
          },
          "metadata": {
            "tags": []
          }
        },
        {
          "output_type": "display_data",
          "data": {
            "text/html": [
              "<html>\n",
              "<head><meta charset=\"utf-8\" /></head>\n",
              "<body>\n",
              "    <div>            <script src=\"https://cdnjs.cloudflare.com/ajax/libs/mathjax/2.7.5/MathJax.js?config=TeX-AMS-MML_SVG\"></script><script type=\"text/javascript\">if (window.MathJax) {MathJax.Hub.Config({SVG: {font: \"STIX-Web\"}});}</script>                <script type=\"text/javascript\">window.PlotlyConfig = {MathJaxConfig: 'local'};</script>\n",
              "        <script src=\"https://cdn.plot.ly/plotly-latest.min.js\"></script>                <div id=\"4b8235fb-5499-4860-89c5-17f82a48de11\" class=\"plotly-graph-div\" style=\"height:400px; width:1100px;\"></div>            <script type=\"text/javascript\">                                    window.PLOTLYENV=window.PLOTLYENV || {};                                    if (document.getElementById(\"4b8235fb-5499-4860-89c5-17f82a48de11\")) {                    Plotly.newPlot(                        \"4b8235fb-5499-4860-89c5-17f82a48de11\",                        [{\"line\": {\"color\": \"#1f77b4\"}, \"name\": \"mnist\", \"showlegend\": true, \"type\": \"scatter\", \"x\": [1], \"xaxis\": \"x\", \"y\": [10.0], \"yaxis\": \"y\"}, {\"line\": {\"color\": \"#ff7f0e\"}, \"name\": \"fashion_mnist\", \"showlegend\": true, \"type\": \"scatter\", \"x\": [1], \"xaxis\": \"x\", \"y\": [100.0], \"yaxis\": \"y\"}, {\"line\": {\"color\": \"#2ca02c\"}, \"name\": \"cifar10\", \"showlegend\": true, \"type\": \"scatter\", \"x\": [1], \"xaxis\": \"x\", \"y\": [271.0], \"yaxis\": \"y\"}, {\"line\": {\"color\": \"#d62728\"}, \"name\": \"cifar100\", \"showlegend\": true, \"type\": \"scatter\", \"x\": [1], \"xaxis\": \"x\", \"y\": [60.0], \"yaxis\": \"y\"}, {\"line\": {\"color\": \"#1f77b4\"}, \"name\": \"mnist\", \"showlegend\": false, \"type\": \"scatter\", \"x\": [1, 2, 3], \"xaxis\": \"x2\", \"y\": [15.0, 9.0, 5.0], \"yaxis\": \"y2\"}, {\"line\": {\"color\": \"#ff7f0e\"}, \"name\": \"fashion_mnist\", \"showlegend\": false, \"type\": \"scatter\", \"x\": [1, 2, 3], \"xaxis\": \"x2\", \"y\": [148.0, 89.0, 53.0], \"yaxis\": \"y2\"}, {\"line\": {\"color\": \"#2ca02c\"}, \"name\": \"cifar10\", \"showlegend\": false, \"type\": \"scatter\", \"x\": [1, 2, 3], \"xaxis\": \"x2\", \"y\": [501.0, 191.0, 54.0], \"yaxis\": \"y2\"}, {\"line\": {\"color\": \"#d62728\"}, \"name\": \"cifar100\", \"showlegend\": false, \"type\": \"scatter\", \"x\": [1, 2, 3], \"xaxis\": \"x2\", \"y\": [144.0, 20.0, 7.0], \"yaxis\": \"y2\"}, {\"line\": {\"color\": \"#1f77b4\"}, \"name\": \"mnist\", \"showlegend\": false, \"type\": \"scatter\", \"x\": [1, 2, 3, 4, 5], \"xaxis\": \"x3\", \"y\": [20.0, 11.0, 8.0, 5.0, 3.0], \"yaxis\": \"y3\"}, {\"line\": {\"color\": \"#ff7f0e\"}, \"name\": \"fashion_mnist\", \"showlegend\": false, \"type\": \"scatter\", \"x\": [1, 2, 3, 4, 5], \"xaxis\": \"x3\", \"y\": [169.0, 123.0, 86.0, 65.0, 44.0], \"yaxis\": \"y3\"}, {\"line\": {\"color\": \"#2ca02c\"}, \"name\": \"cifar10\", \"showlegend\": false, \"type\": \"scatter\", \"x\": [1, 2, 3, 4, 5], \"xaxis\": \"x3\", \"y\": [601.0, 310.0, 171.0, 101.0, 49.0], \"yaxis\": \"y3\"}, {\"line\": {\"color\": \"#d62728\"}, \"name\": \"cifar100\", \"showlegend\": false, \"type\": \"scatter\", \"x\": [1, 2, 3, 4, 5], \"xaxis\": \"x3\", \"y\": [196.0, 61.0, 25.0, 4.0, 1.0], \"yaxis\": \"y3\"}, {\"line\": {\"color\": \"#1f77b4\"}, \"name\": \"mnist\", \"showlegend\": false, \"type\": \"scatter\", \"x\": [1, 2, 3, 4, 5, 6, 7], \"xaxis\": \"x4\", \"y\": [22.0, 14.0, 13.0, 9.0, 6.0, 5.0, 3.0], \"yaxis\": \"y4\"}, {\"line\": {\"color\": \"#ff7f0e\"}, \"name\": \"fashion_mnist\", \"showlegend\": false, \"type\": \"scatter\", \"x\": [1, 2, 3, 4, 5, 6, 7], \"xaxis\": \"x4\", \"y\": [186.0, 139.0, 111.0, 90.0, 72.0, 49.0, 41.0], \"yaxis\": \"y4\"}, {\"line\": {\"color\": \"#2ca02c\"}, \"name\": \"cifar10\", \"showlegend\": false, \"type\": \"scatter\", \"x\": [1, 2, 3, 4, 5, 6, 7], \"xaxis\": \"x4\", \"y\": [718.0, 401.0, 245.0, 160.0, 106.0, 72.0, 34.0], \"yaxis\": \"y4\"}, {\"line\": {\"color\": \"#d62728\"}, \"name\": \"cifar100\", \"showlegend\": false, \"type\": \"scatter\", \"x\": [1, 2, 3, 4, 5, 6, 7], \"xaxis\": \"x4\", \"y\": [275.0, 98.0, 46.0, 20.0, 10.0, 5.0, 2.0], \"yaxis\": \"y4\"}, {\"line\": {\"color\": \"#1f77b4\"}, \"name\": \"mnist\", \"showlegend\": false, \"type\": \"scatter\", \"x\": [1, 2, 3, 4, 5, 6, 7, 8, 9], \"xaxis\": \"x5\", \"y\": [22.0, 17.0, 12.0, 8.0, 5.0, 4.0, 3.0, 3.0, 3.0], \"yaxis\": \"y5\"}, {\"line\": {\"color\": \"#ff7f0e\"}, \"name\": \"fashion_mnist\", \"showlegend\": false, \"type\": \"scatter\", \"x\": [1, 2, 3, 4, 5, 6, 7, 8, 9], \"xaxis\": \"x5\", \"y\": [210.0, 153.0, 128.0, 112.0, 94.0, 74.0, 56.0, 48.0, 33.0], \"yaxis\": \"y5\"}, {\"line\": {\"color\": \"#2ca02c\"}, \"name\": \"cifar10\", \"showlegend\": false, \"type\": \"scatter\", \"x\": [1, 2, 3, 4, 5, 6, 7, 8, 9], \"xaxis\": \"x5\", \"y\": [848.0, 459.0, 323.0, 228.0, 155.0, 111.0, 82.0, 53.0, 23.0], \"yaxis\": \"y5\"}, {\"line\": {\"color\": \"#d62728\"}, \"name\": \"cifar100\", \"showlegend\": false, \"type\": \"scatter\", \"x\": [1, 2, 3, 4, 5, 6, 7, 8, 9], \"xaxis\": \"x5\", \"y\": [282.0, 111.0, 57.0, 28.0, 13.0, 8.0, 5.0, 2.0, 1.0], \"yaxis\": \"y5\"}],                        {\"height\": 400, \"template\": {\"data\": {\"bar\": [{\"error_x\": {\"color\": \"#2a3f5f\"}, \"error_y\": {\"color\": \"#2a3f5f\"}, \"marker\": {\"line\": {\"color\": \"#E5ECF6\", \"width\": 0.5}}, \"type\": \"bar\"}], \"barpolar\": [{\"marker\": {\"line\": {\"color\": \"#E5ECF6\", \"width\": 0.5}}, \"type\": \"barpolar\"}], \"carpet\": [{\"aaxis\": {\"endlinecolor\": \"#2a3f5f\", \"gridcolor\": \"white\", \"linecolor\": \"white\", \"minorgridcolor\": \"white\", \"startlinecolor\": \"#2a3f5f\"}, \"baxis\": {\"endlinecolor\": \"#2a3f5f\", \"gridcolor\": \"white\", \"linecolor\": \"white\", \"minorgridcolor\": \"white\", \"startlinecolor\": \"#2a3f5f\"}, \"type\": \"carpet\"}], \"choropleth\": [{\"colorbar\": {\"outlinewidth\": 0, \"ticks\": \"\"}, \"type\": \"choropleth\"}], \"contour\": [{\"colorbar\": {\"outlinewidth\": 0, \"ticks\": \"\"}, \"colorscale\": [[0.0, \"#0d0887\"], [0.1111111111111111, \"#46039f\"], [0.2222222222222222, \"#7201a8\"], [0.3333333333333333, \"#9c179e\"], [0.4444444444444444, \"#bd3786\"], [0.5555555555555556, \"#d8576b\"], [0.6666666666666666, \"#ed7953\"], [0.7777777777777778, \"#fb9f3a\"], [0.8888888888888888, \"#fdca26\"], [1.0, \"#f0f921\"]], \"type\": \"contour\"}], \"contourcarpet\": [{\"colorbar\": {\"outlinewidth\": 0, \"ticks\": \"\"}, \"type\": \"contourcarpet\"}], \"heatmap\": [{\"colorbar\": {\"outlinewidth\": 0, \"ticks\": \"\"}, \"colorscale\": [[0.0, \"#0d0887\"], [0.1111111111111111, \"#46039f\"], [0.2222222222222222, \"#7201a8\"], [0.3333333333333333, \"#9c179e\"], [0.4444444444444444, \"#bd3786\"], [0.5555555555555556, \"#d8576b\"], [0.6666666666666666, \"#ed7953\"], [0.7777777777777778, \"#fb9f3a\"], [0.8888888888888888, \"#fdca26\"], [1.0, \"#f0f921\"]], \"type\": \"heatmap\"}], \"heatmapgl\": [{\"colorbar\": {\"outlinewidth\": 0, \"ticks\": \"\"}, \"colorscale\": [[0.0, \"#0d0887\"], [0.1111111111111111, \"#46039f\"], [0.2222222222222222, \"#7201a8\"], [0.3333333333333333, \"#9c179e\"], [0.4444444444444444, \"#bd3786\"], [0.5555555555555556, \"#d8576b\"], [0.6666666666666666, \"#ed7953\"], [0.7777777777777778, \"#fb9f3a\"], [0.8888888888888888, \"#fdca26\"], [1.0, \"#f0f921\"]], \"type\": \"heatmapgl\"}], \"histogram\": [{\"marker\": {\"colorbar\": {\"outlinewidth\": 0, \"ticks\": \"\"}}, \"type\": \"histogram\"}], \"histogram2d\": [{\"colorbar\": {\"outlinewidth\": 0, \"ticks\": \"\"}, \"colorscale\": [[0.0, \"#0d0887\"], [0.1111111111111111, \"#46039f\"], [0.2222222222222222, \"#7201a8\"], [0.3333333333333333, \"#9c179e\"], [0.4444444444444444, \"#bd3786\"], [0.5555555555555556, \"#d8576b\"], [0.6666666666666666, \"#ed7953\"], [0.7777777777777778, \"#fb9f3a\"], [0.8888888888888888, \"#fdca26\"], [1.0, \"#f0f921\"]], \"type\": \"histogram2d\"}], \"histogram2dcontour\": [{\"colorbar\": {\"outlinewidth\": 0, \"ticks\": \"\"}, \"colorscale\": [[0.0, \"#0d0887\"], [0.1111111111111111, \"#46039f\"], [0.2222222222222222, \"#7201a8\"], [0.3333333333333333, \"#9c179e\"], [0.4444444444444444, \"#bd3786\"], [0.5555555555555556, \"#d8576b\"], [0.6666666666666666, \"#ed7953\"], [0.7777777777777778, \"#fb9f3a\"], [0.8888888888888888, \"#fdca26\"], [1.0, \"#f0f921\"]], \"type\": \"histogram2dcontour\"}], \"mesh3d\": [{\"colorbar\": {\"outlinewidth\": 0, \"ticks\": \"\"}, \"type\": \"mesh3d\"}], \"parcoords\": [{\"line\": {\"colorbar\": {\"outlinewidth\": 0, \"ticks\": \"\"}}, \"type\": \"parcoords\"}], \"pie\": [{\"automargin\": true, \"type\": \"pie\"}], \"scatter\": [{\"marker\": {\"colorbar\": {\"outlinewidth\": 0, \"ticks\": \"\"}}, \"type\": \"scatter\"}], \"scatter3d\": [{\"line\": {\"colorbar\": {\"outlinewidth\": 0, \"ticks\": \"\"}}, \"marker\": {\"colorbar\": {\"outlinewidth\": 0, \"ticks\": \"\"}}, \"type\": \"scatter3d\"}], \"scattercarpet\": [{\"marker\": {\"colorbar\": {\"outlinewidth\": 0, \"ticks\": \"\"}}, \"type\": \"scattercarpet\"}], \"scattergeo\": [{\"marker\": {\"colorbar\": {\"outlinewidth\": 0, \"ticks\": \"\"}}, \"type\": \"scattergeo\"}], \"scattergl\": [{\"marker\": {\"colorbar\": {\"outlinewidth\": 0, \"ticks\": \"\"}}, \"type\": \"scattergl\"}], \"scattermapbox\": [{\"marker\": {\"colorbar\": {\"outlinewidth\": 0, \"ticks\": \"\"}}, \"type\": \"scattermapbox\"}], \"scatterpolar\": [{\"marker\": {\"colorbar\": {\"outlinewidth\": 0, \"ticks\": \"\"}}, \"type\": \"scatterpolar\"}], \"scatterpolargl\": [{\"marker\": {\"colorbar\": {\"outlinewidth\": 0, \"ticks\": \"\"}}, \"type\": \"scatterpolargl\"}], \"scatterternary\": [{\"marker\": {\"colorbar\": {\"outlinewidth\": 0, \"ticks\": \"\"}}, \"type\": \"scatterternary\"}], \"surface\": [{\"colorbar\": {\"outlinewidth\": 0, \"ticks\": \"\"}, \"colorscale\": [[0.0, \"#0d0887\"], [0.1111111111111111, \"#46039f\"], [0.2222222222222222, \"#7201a8\"], [0.3333333333333333, \"#9c179e\"], [0.4444444444444444, \"#bd3786\"], [0.5555555555555556, \"#d8576b\"], [0.6666666666666666, \"#ed7953\"], [0.7777777777777778, \"#fb9f3a\"], [0.8888888888888888, \"#fdca26\"], [1.0, \"#f0f921\"]], \"type\": \"surface\"}], \"table\": [{\"cells\": {\"fill\": {\"color\": \"#EBF0F8\"}, \"line\": {\"color\": \"white\"}}, \"header\": {\"fill\": {\"color\": \"#C8D4E3\"}, \"line\": {\"color\": \"white\"}}, \"type\": \"table\"}]}, \"layout\": {\"annotationdefaults\": {\"arrowcolor\": \"#2a3f5f\", \"arrowhead\": 0, \"arrowwidth\": 1}, \"autotypenumbers\": \"strict\", \"coloraxis\": {\"colorbar\": {\"outlinewidth\": 0, \"ticks\": \"\"}}, \"colorscale\": {\"diverging\": [[0, \"#8e0152\"], [0.1, \"#c51b7d\"], [0.2, \"#de77ae\"], [0.3, \"#f1b6da\"], [0.4, \"#fde0ef\"], [0.5, \"#f7f7f7\"], [0.6, \"#e6f5d0\"], [0.7, \"#b8e186\"], [0.8, \"#7fbc41\"], [0.9, \"#4d9221\"], [1, \"#276419\"]], \"sequential\": [[0.0, \"#0d0887\"], [0.1111111111111111, \"#46039f\"], [0.2222222222222222, \"#7201a8\"], [0.3333333333333333, \"#9c179e\"], [0.4444444444444444, \"#bd3786\"], [0.5555555555555556, \"#d8576b\"], [0.6666666666666666, \"#ed7953\"], [0.7777777777777778, \"#fb9f3a\"], [0.8888888888888888, \"#fdca26\"], [1.0, \"#f0f921\"]], \"sequentialminus\": [[0.0, \"#0d0887\"], [0.1111111111111111, \"#46039f\"], [0.2222222222222222, \"#7201a8\"], [0.3333333333333333, \"#9c179e\"], [0.4444444444444444, \"#bd3786\"], [0.5555555555555556, \"#d8576b\"], [0.6666666666666666, \"#ed7953\"], [0.7777777777777778, \"#fb9f3a\"], [0.8888888888888888, \"#fdca26\"], [1.0, \"#f0f921\"]]}, \"colorway\": [\"#636efa\", \"#EF553B\", \"#00cc96\", \"#ab63fa\", \"#FFA15A\", \"#19d3f3\", \"#FF6692\", \"#B6E880\", \"#FF97FF\", \"#FECB52\"], \"font\": {\"color\": \"#2a3f5f\"}, \"geo\": {\"bgcolor\": \"white\", \"lakecolor\": \"white\", \"landcolor\": \"#E5ECF6\", \"showlakes\": true, \"showland\": true, \"subunitcolor\": \"white\"}, \"hoverlabel\": {\"align\": \"left\"}, \"hovermode\": \"closest\", \"mapbox\": {\"style\": \"light\"}, \"paper_bgcolor\": \"white\", \"plot_bgcolor\": \"#E5ECF6\", \"polar\": {\"angularaxis\": {\"gridcolor\": \"white\", \"linecolor\": \"white\", \"ticks\": \"\"}, \"bgcolor\": \"#E5ECF6\", \"radialaxis\": {\"gridcolor\": \"white\", \"linecolor\": \"white\", \"ticks\": \"\"}}, \"scene\": {\"xaxis\": {\"backgroundcolor\": \"#E5ECF6\", \"gridcolor\": \"white\", \"gridwidth\": 2, \"linecolor\": \"white\", \"showbackground\": true, \"ticks\": \"\", \"zerolinecolor\": \"white\"}, \"yaxis\": {\"backgroundcolor\": \"#E5ECF6\", \"gridcolor\": \"white\", \"gridwidth\": 2, \"linecolor\": \"white\", \"showbackground\": true, \"ticks\": \"\", \"zerolinecolor\": \"white\"}, \"zaxis\": {\"backgroundcolor\": \"#E5ECF6\", \"gridcolor\": \"white\", \"gridwidth\": 2, \"linecolor\": \"white\", \"showbackground\": true, \"ticks\": \"\", \"zerolinecolor\": \"white\"}}, \"shapedefaults\": {\"line\": {\"color\": \"#2a3f5f\"}}, \"ternary\": {\"aaxis\": {\"gridcolor\": \"white\", \"linecolor\": \"white\", \"ticks\": \"\"}, \"baxis\": {\"gridcolor\": \"white\", \"linecolor\": \"white\", \"ticks\": \"\"}, \"bgcolor\": \"#E5ECF6\", \"caxis\": {\"gridcolor\": \"white\", \"linecolor\": \"white\", \"ticks\": \"\"}}, \"title\": {\"x\": 0.05}, \"xaxis\": {\"automargin\": true, \"gridcolor\": \"white\", \"linecolor\": \"white\", \"ticks\": \"\", \"title\": {\"standoff\": 15}, \"zerolinecolor\": \"white\", \"zerolinewidth\": 2}, \"yaxis\": {\"automargin\": true, \"gridcolor\": \"white\", \"linecolor\": \"white\", \"ticks\": \"\", \"title\": {\"standoff\": 15}, \"zerolinecolor\": \"white\", \"zerolinewidth\": 2}}}, \"title\": {\"text\": \"Inaccurate examples accepted\"}, \"width\": 1100, \"xaxis\": {\"anchor\": \"y\", \"domain\": [0.0, 0.192], \"type\": \"category\"}, \"xaxis2\": {\"anchor\": \"y2\", \"domain\": [0.202, 0.394], \"type\": \"category\"}, \"xaxis3\": {\"anchor\": \"y3\", \"domain\": [0.404, 0.5960000000000001], \"type\": \"category\"}, \"xaxis4\": {\"anchor\": \"y4\", \"domain\": [0.6060000000000001, 0.798], \"type\": \"category\"}, \"xaxis5\": {\"anchor\": \"y5\", \"domain\": [0.808, 1.0], \"type\": \"category\"}, \"yaxis\": {\"anchor\": \"x\", \"domain\": [0.0, 1.0]}, \"yaxis2\": {\"anchor\": \"x2\", \"domain\": [0.0, 1.0], \"matches\": \"y\", \"showticklabels\": false}, \"yaxis3\": {\"anchor\": \"x3\", \"domain\": [0.0, 1.0], \"matches\": \"y\", \"showticklabels\": false}, \"yaxis4\": {\"anchor\": \"x4\", \"domain\": [0.0, 1.0], \"matches\": \"y\", \"showticklabels\": false}, \"yaxis5\": {\"anchor\": \"x5\", \"domain\": [0.0, 1.0], \"matches\": \"y\", \"showticklabels\": false}},                        {\"responsive\": true}                    ).then(function(){\n",
              "                            \n",
              "var gd = document.getElementById('4b8235fb-5499-4860-89c5-17f82a48de11');\n",
              "var x = new MutationObserver(function (mutations, observer) {{\n",
              "        var display = window.getComputedStyle(gd).display;\n",
              "        if (!display || display === 'none') {{\n",
              "            console.log([gd, 'removed!']);\n",
              "            Plotly.purge(gd);\n",
              "            observer.disconnect();\n",
              "        }}\n",
              "}});\n",
              "\n",
              "// Listen for the removal of the full notebook cells\n",
              "var notebookContainer = gd.closest('#notebook-container');\n",
              "if (notebookContainer) {{\n",
              "    x.observe(notebookContainer, {childList: true});\n",
              "}}\n",
              "\n",
              "// Listen for the clearing of the current output cell\n",
              "var outputEl = gd.closest('.output');\n",
              "if (outputEl) {{\n",
              "    x.observe(outputEl, {childList: true});\n",
              "}}\n",
              "\n",
              "                        })                };                            </script>        </div>\n",
              "</body>\n",
              "</html>"
            ]
          },
          "metadata": {
            "tags": []
          }
        },
        {
          "output_type": "display_data",
          "data": {
            "text/html": [
              "<html>\n",
              "<head><meta charset=\"utf-8\" /></head>\n",
              "<body>\n",
              "    <div>            <script src=\"https://cdnjs.cloudflare.com/ajax/libs/mathjax/2.7.5/MathJax.js?config=TeX-AMS-MML_SVG\"></script><script type=\"text/javascript\">if (window.MathJax) {MathJax.Hub.Config({SVG: {font: \"STIX-Web\"}});}</script>                <script type=\"text/javascript\">window.PlotlyConfig = {MathJaxConfig: 'local'};</script>\n",
              "        <script src=\"https://cdn.plot.ly/plotly-latest.min.js\"></script>                <div id=\"cb16a207-2493-4fd2-a7fe-9afbaa5f4c37\" class=\"plotly-graph-div\" style=\"height:400px; width:1100px;\"></div>            <script type=\"text/javascript\">                                    window.PLOTLYENV=window.PLOTLYENV || {};                                    if (document.getElementById(\"cb16a207-2493-4fd2-a7fe-9afbaa5f4c37\")) {                    Plotly.newPlot(                        \"cb16a207-2493-4fd2-a7fe-9afbaa5f4c37\",                        [{\"line\": {\"color\": \"#1f77b4\"}, \"name\": \"mnist\", \"showlegend\": true, \"type\": \"scatter\", \"x\": [1], \"xaxis\": \"x\", \"y\": [103.0], \"yaxis\": \"y\"}, {\"line\": {\"color\": \"#ff7f0e\"}, \"name\": \"fashion_mnist\", \"showlegend\": true, \"type\": \"scatter\", \"x\": [1], \"xaxis\": \"x\", \"y\": [1123.0], \"yaxis\": \"y\"}, {\"line\": {\"color\": \"#2ca02c\"}, \"name\": \"cifar10\", \"showlegend\": true, \"type\": \"scatter\", \"x\": [1], \"xaxis\": \"x\", \"y\": [2507.0], \"yaxis\": \"y\"}, {\"line\": {\"color\": \"#d62728\"}, \"name\": \"cifar100\", \"showlegend\": true, \"type\": \"scatter\", \"x\": [1], \"xaxis\": \"x\", \"y\": [5858.0], \"yaxis\": \"y\"}, {\"line\": {\"color\": \"#1f77b4\"}, \"name\": \"mnist\", \"showlegend\": false, \"type\": \"scatter\", \"x\": [1, 2, 3], \"xaxis\": \"x2\", \"y\": [64.0, 95.0, 146.0], \"yaxis\": \"y2\"}, {\"line\": {\"color\": \"#ff7f0e\"}, \"name\": \"fashion_mnist\", \"showlegend\": false, \"type\": \"scatter\", \"x\": [1, 2, 3], \"xaxis\": \"x2\", \"y\": [916.0, 1091.0, 1381.0], \"yaxis\": \"y2\"}, {\"line\": {\"color\": \"#2ca02c\"}, \"name\": \"cifar10\", \"showlegend\": false, \"type\": \"scatter\", \"x\": [1, 2, 3], \"xaxis\": \"x2\", \"y\": [1541.0, 2152.0, 3418.0], \"yaxis\": \"y2\"}, {\"line\": {\"color\": \"#d62728\"}, \"name\": \"cifar100\", \"showlegend\": false, \"type\": \"scatter\", \"x\": [1, 2, 3], \"xaxis\": \"x2\", \"y\": [4280.0, 5917.0, 7412.0], \"yaxis\": \"y2\"}, {\"line\": {\"color\": \"#1f77b4\"}, \"name\": \"mnist\", \"showlegend\": false, \"type\": \"scatter\", \"x\": [1, 2, 3, 4, 5], \"xaxis\": \"x3\", \"y\": [64.0, 76.0, 101.0, 115.0, 155.0], \"yaxis\": \"y3\"}, {\"line\": {\"color\": \"#ff7f0e\"}, \"name\": \"fashion_mnist\", \"showlegend\": false, \"type\": \"scatter\", \"x\": [1, 2, 3, 4, 5], \"xaxis\": \"x3\", \"y\": [796.0, 940.0, 1069.0, 1249.0, 1534.0], \"yaxis\": \"y3\"}, {\"line\": {\"color\": \"#2ca02c\"}, \"name\": \"cifar10\", \"showlegend\": false, \"type\": \"scatter\", \"x\": [1, 2, 3, 4, 5], \"xaxis\": \"x3\", \"y\": [1379.0, 1650.0, 2096.0, 2776.0, 3914.0], \"yaxis\": \"y3\"}, {\"line\": {\"color\": \"#d62728\"}, \"name\": \"cifar100\", \"showlegend\": false, \"type\": \"scatter\", \"x\": [1, 2, 3, 4, 5], \"xaxis\": \"x3\", \"y\": [3665.0, 4934.0, 5957.0, 6906.0, 7912.0], \"yaxis\": \"y3\"}, {\"line\": {\"color\": \"#1f77b4\"}, \"name\": \"mnist\", \"showlegend\": false, \"type\": \"scatter\", \"x\": [1, 2, 3, 4, 5, 6, 7], \"xaxis\": \"x4\", \"y\": [50.0, 54.0, 78.0, 96.0, 117.0, 137.0, 190.0], \"yaxis\": \"y4\"}, {\"line\": {\"color\": \"#ff7f0e\"}, \"name\": \"fashion_mnist\", \"showlegend\": false, \"type\": \"scatter\", \"x\": [1, 2, 3, 4, 5, 6, 7], \"xaxis\": \"x4\", \"y\": [797.0, 879.0, 981.0, 1081.0, 1203.0, 1339.0, 1589.0], \"yaxis\": \"y4\"}, {\"line\": {\"color\": \"#2ca02c\"}, \"name\": \"cifar10\", \"showlegend\": false, \"type\": \"scatter\", \"x\": [1, 2, 3, 4, 5, 6, 7], \"xaxis\": \"x4\", \"y\": [1303.0, 1442.0, 1676.0, 2011.0, 2466.0, 3100.0, 4164.0], \"yaxis\": \"y4\"}, {\"line\": {\"color\": \"#d62728\"}, \"name\": \"cifar100\", \"showlegend\": false, \"type\": \"scatter\", \"x\": [1, 2, 3, 4, 5, 6, 7], \"xaxis\": \"x4\", \"y\": [3232.0, 4353.0, 5248.0, 5993.0, 6689.0, 7404.0, 8280.0], \"yaxis\": \"y4\"}, {\"line\": {\"color\": \"#1f77b4\"}, \"name\": \"mnist\", \"showlegend\": false, \"type\": \"scatter\", \"x\": [1, 2, 3, 4, 5, 6, 7, 8, 9], \"xaxis\": \"x5\", \"y\": [46.0, 57.0, 68.0, 84.0, 96.0, 107.0, 120.0, 137.0, 184.0], \"yaxis\": \"y5\"}, {\"line\": {\"color\": \"#ff7f0e\"}, \"name\": \"fashion_mnist\", \"showlegend\": false, \"type\": \"scatter\", \"x\": [1, 2, 3, 4, 5, 6, 7, 8, 9], \"xaxis\": \"x5\", \"y\": [734.0, 847.0, 939.0, 1031.0, 1110.0, 1175.0, 1248.0, 1409.0, 1750.0], \"yaxis\": \"y5\"}, {\"line\": {\"color\": \"#2ca02c\"}, \"name\": \"cifar10\", \"showlegend\": false, \"type\": \"scatter\", \"x\": [1, 2, 3, 4, 5, 6, 7, 8, 9], \"xaxis\": \"x5\", \"y\": [1384.0, 1344.0, 1534.0, 1774.0, 2031.0, 2420.0, 2893.0, 3495.0, 4592.0], \"yaxis\": \"y5\"}, {\"line\": {\"color\": \"#d62728\"}, \"name\": \"cifar100\", \"showlegend\": false, \"type\": \"scatter\", \"x\": [1, 2, 3, 4, 5, 6, 7, 8, 9], \"xaxis\": \"x5\", \"y\": [3025.0, 3957.0, 4707.0, 5375.0, 5983.0, 6493.0, 7086.0, 7687.0, 8448.0], \"yaxis\": \"y5\"}],                        {\"height\": 400, \"template\": {\"data\": {\"bar\": [{\"error_x\": {\"color\": \"#2a3f5f\"}, \"error_y\": {\"color\": \"#2a3f5f\"}, \"marker\": {\"line\": {\"color\": \"#E5ECF6\", \"width\": 0.5}}, \"type\": \"bar\"}], \"barpolar\": [{\"marker\": {\"line\": {\"color\": \"#E5ECF6\", \"width\": 0.5}}, \"type\": \"barpolar\"}], \"carpet\": [{\"aaxis\": {\"endlinecolor\": \"#2a3f5f\", \"gridcolor\": \"white\", \"linecolor\": \"white\", \"minorgridcolor\": \"white\", \"startlinecolor\": \"#2a3f5f\"}, \"baxis\": {\"endlinecolor\": \"#2a3f5f\", \"gridcolor\": \"white\", \"linecolor\": \"white\", \"minorgridcolor\": \"white\", \"startlinecolor\": \"#2a3f5f\"}, \"type\": \"carpet\"}], \"choropleth\": [{\"colorbar\": {\"outlinewidth\": 0, \"ticks\": \"\"}, \"type\": \"choropleth\"}], \"contour\": [{\"colorbar\": {\"outlinewidth\": 0, \"ticks\": \"\"}, \"colorscale\": [[0.0, \"#0d0887\"], [0.1111111111111111, \"#46039f\"], [0.2222222222222222, \"#7201a8\"], [0.3333333333333333, \"#9c179e\"], [0.4444444444444444, \"#bd3786\"], [0.5555555555555556, \"#d8576b\"], [0.6666666666666666, \"#ed7953\"], [0.7777777777777778, \"#fb9f3a\"], [0.8888888888888888, \"#fdca26\"], [1.0, \"#f0f921\"]], \"type\": \"contour\"}], \"contourcarpet\": [{\"colorbar\": {\"outlinewidth\": 0, \"ticks\": \"\"}, \"type\": \"contourcarpet\"}], \"heatmap\": [{\"colorbar\": {\"outlinewidth\": 0, \"ticks\": \"\"}, \"colorscale\": [[0.0, \"#0d0887\"], [0.1111111111111111, \"#46039f\"], [0.2222222222222222, \"#7201a8\"], [0.3333333333333333, \"#9c179e\"], [0.4444444444444444, \"#bd3786\"], [0.5555555555555556, \"#d8576b\"], [0.6666666666666666, \"#ed7953\"], [0.7777777777777778, \"#fb9f3a\"], [0.8888888888888888, \"#fdca26\"], [1.0, \"#f0f921\"]], \"type\": \"heatmap\"}], \"heatmapgl\": [{\"colorbar\": {\"outlinewidth\": 0, \"ticks\": \"\"}, \"colorscale\": [[0.0, \"#0d0887\"], [0.1111111111111111, \"#46039f\"], [0.2222222222222222, \"#7201a8\"], [0.3333333333333333, \"#9c179e\"], [0.4444444444444444, \"#bd3786\"], [0.5555555555555556, \"#d8576b\"], [0.6666666666666666, \"#ed7953\"], [0.7777777777777778, \"#fb9f3a\"], [0.8888888888888888, \"#fdca26\"], [1.0, \"#f0f921\"]], \"type\": \"heatmapgl\"}], \"histogram\": [{\"marker\": {\"colorbar\": {\"outlinewidth\": 0, \"ticks\": \"\"}}, \"type\": \"histogram\"}], \"histogram2d\": [{\"colorbar\": {\"outlinewidth\": 0, \"ticks\": \"\"}, \"colorscale\": [[0.0, \"#0d0887\"], [0.1111111111111111, \"#46039f\"], [0.2222222222222222, \"#7201a8\"], [0.3333333333333333, \"#9c179e\"], [0.4444444444444444, \"#bd3786\"], [0.5555555555555556, \"#d8576b\"], [0.6666666666666666, \"#ed7953\"], [0.7777777777777778, \"#fb9f3a\"], [0.8888888888888888, \"#fdca26\"], [1.0, \"#f0f921\"]], \"type\": \"histogram2d\"}], \"histogram2dcontour\": [{\"colorbar\": {\"outlinewidth\": 0, \"ticks\": \"\"}, \"colorscale\": [[0.0, \"#0d0887\"], [0.1111111111111111, \"#46039f\"], [0.2222222222222222, \"#7201a8\"], [0.3333333333333333, \"#9c179e\"], [0.4444444444444444, \"#bd3786\"], [0.5555555555555556, \"#d8576b\"], [0.6666666666666666, \"#ed7953\"], [0.7777777777777778, \"#fb9f3a\"], [0.8888888888888888, \"#fdca26\"], [1.0, \"#f0f921\"]], \"type\": \"histogram2dcontour\"}], \"mesh3d\": [{\"colorbar\": {\"outlinewidth\": 0, \"ticks\": \"\"}, \"type\": \"mesh3d\"}], \"parcoords\": [{\"line\": {\"colorbar\": {\"outlinewidth\": 0, \"ticks\": \"\"}}, \"type\": \"parcoords\"}], \"pie\": [{\"automargin\": true, \"type\": \"pie\"}], \"scatter\": [{\"marker\": {\"colorbar\": {\"outlinewidth\": 0, \"ticks\": \"\"}}, \"type\": \"scatter\"}], \"scatter3d\": [{\"line\": {\"colorbar\": {\"outlinewidth\": 0, \"ticks\": \"\"}}, \"marker\": {\"colorbar\": {\"outlinewidth\": 0, \"ticks\": \"\"}}, \"type\": \"scatter3d\"}], \"scattercarpet\": [{\"marker\": {\"colorbar\": {\"outlinewidth\": 0, \"ticks\": \"\"}}, \"type\": \"scattercarpet\"}], \"scattergeo\": [{\"marker\": {\"colorbar\": {\"outlinewidth\": 0, \"ticks\": \"\"}}, \"type\": \"scattergeo\"}], \"scattergl\": [{\"marker\": {\"colorbar\": {\"outlinewidth\": 0, \"ticks\": \"\"}}, \"type\": \"scattergl\"}], \"scattermapbox\": [{\"marker\": {\"colorbar\": {\"outlinewidth\": 0, \"ticks\": \"\"}}, \"type\": \"scattermapbox\"}], \"scatterpolar\": [{\"marker\": {\"colorbar\": {\"outlinewidth\": 0, \"ticks\": \"\"}}, \"type\": \"scatterpolar\"}], \"scatterpolargl\": [{\"marker\": {\"colorbar\": {\"outlinewidth\": 0, \"ticks\": \"\"}}, \"type\": \"scatterpolargl\"}], \"scatterternary\": [{\"marker\": {\"colorbar\": {\"outlinewidth\": 0, \"ticks\": \"\"}}, \"type\": \"scatterternary\"}], \"surface\": [{\"colorbar\": {\"outlinewidth\": 0, \"ticks\": \"\"}, \"colorscale\": [[0.0, \"#0d0887\"], [0.1111111111111111, \"#46039f\"], [0.2222222222222222, \"#7201a8\"], [0.3333333333333333, \"#9c179e\"], [0.4444444444444444, \"#bd3786\"], [0.5555555555555556, \"#d8576b\"], [0.6666666666666666, \"#ed7953\"], [0.7777777777777778, \"#fb9f3a\"], [0.8888888888888888, \"#fdca26\"], [1.0, \"#f0f921\"]], \"type\": \"surface\"}], \"table\": [{\"cells\": {\"fill\": {\"color\": \"#EBF0F8\"}, \"line\": {\"color\": \"white\"}}, \"header\": {\"fill\": {\"color\": \"#C8D4E3\"}, \"line\": {\"color\": \"white\"}}, \"type\": \"table\"}]}, \"layout\": {\"annotationdefaults\": {\"arrowcolor\": \"#2a3f5f\", \"arrowhead\": 0, \"arrowwidth\": 1}, \"autotypenumbers\": \"strict\", \"coloraxis\": {\"colorbar\": {\"outlinewidth\": 0, \"ticks\": \"\"}}, \"colorscale\": {\"diverging\": [[0, \"#8e0152\"], [0.1, \"#c51b7d\"], [0.2, \"#de77ae\"], [0.3, \"#f1b6da\"], [0.4, \"#fde0ef\"], [0.5, \"#f7f7f7\"], [0.6, \"#e6f5d0\"], [0.7, \"#b8e186\"], [0.8, \"#7fbc41\"], [0.9, \"#4d9221\"], [1, \"#276419\"]], \"sequential\": [[0.0, \"#0d0887\"], [0.1111111111111111, \"#46039f\"], [0.2222222222222222, \"#7201a8\"], [0.3333333333333333, \"#9c179e\"], [0.4444444444444444, \"#bd3786\"], [0.5555555555555556, \"#d8576b\"], [0.6666666666666666, \"#ed7953\"], [0.7777777777777778, \"#fb9f3a\"], [0.8888888888888888, \"#fdca26\"], [1.0, \"#f0f921\"]], \"sequentialminus\": [[0.0, \"#0d0887\"], [0.1111111111111111, \"#46039f\"], [0.2222222222222222, \"#7201a8\"], [0.3333333333333333, \"#9c179e\"], [0.4444444444444444, \"#bd3786\"], [0.5555555555555556, \"#d8576b\"], [0.6666666666666666, \"#ed7953\"], [0.7777777777777778, \"#fb9f3a\"], [0.8888888888888888, \"#fdca26\"], [1.0, \"#f0f921\"]]}, \"colorway\": [\"#636efa\", \"#EF553B\", \"#00cc96\", \"#ab63fa\", \"#FFA15A\", \"#19d3f3\", \"#FF6692\", \"#B6E880\", \"#FF97FF\", \"#FECB52\"], \"font\": {\"color\": \"#2a3f5f\"}, \"geo\": {\"bgcolor\": \"white\", \"lakecolor\": \"white\", \"landcolor\": \"#E5ECF6\", \"showlakes\": true, \"showland\": true, \"subunitcolor\": \"white\"}, \"hoverlabel\": {\"align\": \"left\"}, \"hovermode\": \"closest\", \"mapbox\": {\"style\": \"light\"}, \"paper_bgcolor\": \"white\", \"plot_bgcolor\": \"#E5ECF6\", \"polar\": {\"angularaxis\": {\"gridcolor\": \"white\", \"linecolor\": \"white\", \"ticks\": \"\"}, \"bgcolor\": \"#E5ECF6\", \"radialaxis\": {\"gridcolor\": \"white\", \"linecolor\": \"white\", \"ticks\": \"\"}}, \"scene\": {\"xaxis\": {\"backgroundcolor\": \"#E5ECF6\", \"gridcolor\": \"white\", \"gridwidth\": 2, \"linecolor\": \"white\", \"showbackground\": true, \"ticks\": \"\", \"zerolinecolor\": \"white\"}, \"yaxis\": {\"backgroundcolor\": \"#E5ECF6\", \"gridcolor\": \"white\", \"gridwidth\": 2, \"linecolor\": \"white\", \"showbackground\": true, \"ticks\": \"\", \"zerolinecolor\": \"white\"}, \"zaxis\": {\"backgroundcolor\": \"#E5ECF6\", \"gridcolor\": \"white\", \"gridwidth\": 2, \"linecolor\": \"white\", \"showbackground\": true, \"ticks\": \"\", \"zerolinecolor\": \"white\"}}, \"shapedefaults\": {\"line\": {\"color\": \"#2a3f5f\"}}, \"ternary\": {\"aaxis\": {\"gridcolor\": \"white\", \"linecolor\": \"white\", \"ticks\": \"\"}, \"baxis\": {\"gridcolor\": \"white\", \"linecolor\": \"white\", \"ticks\": \"\"}, \"bgcolor\": \"#E5ECF6\", \"caxis\": {\"gridcolor\": \"white\", \"linecolor\": \"white\", \"ticks\": \"\"}}, \"title\": {\"x\": 0.05}, \"xaxis\": {\"automargin\": true, \"gridcolor\": \"white\", \"linecolor\": \"white\", \"ticks\": \"\", \"title\": {\"standoff\": 15}, \"zerolinecolor\": \"white\", \"zerolinewidth\": 2}, \"yaxis\": {\"automargin\": true, \"gridcolor\": \"white\", \"linecolor\": \"white\", \"ticks\": \"\", \"title\": {\"standoff\": 15}, \"zerolinecolor\": \"white\", \"zerolinewidth\": 2}}}, \"title\": {\"text\": \"Combined\"}, \"width\": 1100, \"xaxis\": {\"anchor\": \"y\", \"domain\": [0.0, 0.192], \"type\": \"category\"}, \"xaxis2\": {\"anchor\": \"y2\", \"domain\": [0.202, 0.394], \"type\": \"category\"}, \"xaxis3\": {\"anchor\": \"y3\", \"domain\": [0.404, 0.5960000000000001], \"type\": \"category\"}, \"xaxis4\": {\"anchor\": \"y4\", \"domain\": [0.6060000000000001, 0.798], \"type\": \"category\"}, \"xaxis5\": {\"anchor\": \"y5\", \"domain\": [0.808, 1.0], \"type\": \"category\"}, \"yaxis\": {\"anchor\": \"x\", \"domain\": [0.0, 1.0]}, \"yaxis2\": {\"anchor\": \"x2\", \"domain\": [0.0, 1.0], \"matches\": \"y\", \"showticklabels\": false}, \"yaxis3\": {\"anchor\": \"x3\", \"domain\": [0.0, 1.0], \"matches\": \"y\", \"showticklabels\": false}, \"yaxis4\": {\"anchor\": \"x4\", \"domain\": [0.0, 1.0], \"matches\": \"y\", \"showticklabels\": false}, \"yaxis5\": {\"anchor\": \"x5\", \"domain\": [0.0, 1.0], \"matches\": \"y\", \"showticklabels\": false}},                        {\"responsive\": true}                    ).then(function(){\n",
              "                            \n",
              "var gd = document.getElementById('cb16a207-2493-4fd2-a7fe-9afbaa5f4c37');\n",
              "var x = new MutationObserver(function (mutations, observer) {{\n",
              "        var display = window.getComputedStyle(gd).display;\n",
              "        if (!display || display === 'none') {{\n",
              "            console.log([gd, 'removed!']);\n",
              "            Plotly.purge(gd);\n",
              "            observer.disconnect();\n",
              "        }}\n",
              "}});\n",
              "\n",
              "// Listen for the removal of the full notebook cells\n",
              "var notebookContainer = gd.closest('#notebook-container');\n",
              "if (notebookContainer) {{\n",
              "    x.observe(notebookContainer, {childList: true});\n",
              "}}\n",
              "\n",
              "// Listen for the clearing of the current output cell\n",
              "var outputEl = gd.closest('.output');\n",
              "if (outputEl) {{\n",
              "    x.observe(outputEl, {childList: true});\n",
              "}}\n",
              "\n",
              "                        })                };                            </script>        </div>\n",
              "</body>\n",
              "</html>"
            ]
          },
          "metadata": {
            "tags": []
          }
        }
      ]
    },
    {
      "cell_type": "markdown",
      "metadata": {
        "id": "MyW313tcY13p"
      },
      "source": [
        "### Min points"
      ]
    },
    {
      "cell_type": "code",
      "metadata": {
        "id": "OK_cqKSv7wjy"
      },
      "source": [
        "# for each model find min `falsely_let_in + falsely_thrown_out`\r\n",
        "# `100000` is in place of `f32::MAX`\r\n",
        "mins = np.array([[100000 for j in range(4)] for i in range(len(datasets))])\r\n",
        "\r\n",
        "for i in range(len(datasets)):\r\n",
        "  for c in range(int(max_committee_size/2)+1):\r\n",
        "    for v in range(0,2*c+1):\r\n",
        "      #print(i,c,v)\r\n",
        "      if total_stats[c][i][0][v] + total_stats[c][i][1][v] < mins[i][2] + mins[i][3]:\r\n",
        "        mins[i][0] = v+1\r\n",
        "        mins[i][1] = 2*c+1\r\n",
        "        mins[i][2] = total_stats[c][i][0][v]\r\n",
        "        mins[i][3] = total_stats[c][i][1][v]\r\n",
        "        break;\r\n",
        "\r\n",
        "# print(crossing_points)"
      ],
      "execution_count": null,
      "outputs": []
    },
    {
      "cell_type": "code",
      "metadata": {
        "id": "53e-RWJM7yxE",
        "colab": {
          "base_uri": "https://localhost:8080/"
        },
        "outputId": "92203d8d-8a43-4f51-f01a-90b0c2e70ace"
      },
      "source": [
        "total = mins[:,2] + mins[:,3]\r\n",
        "\r\n",
        "lengths = np.array([len(datasets[i][0][1]) for t in range(len(datasets))])\r\n",
        "percent = 100 * total / (2 * lengths)\r\n",
        "\r\n",
        "fig = go.Figure(data=[go.Table(\r\n",
        "    header=dict(values=[\"Dataset\",\"Votes\",\"Committee\",\"Accepted\",\"Discarded\",\"Total\",\"Total %\"]),\r\n",
        "    cells=dict(values=[\r\n",
        "                       namelist,\r\n",
        "                       mins[:,0],\r\n",
        "                       mins[:,1],\r\n",
        "                       mins[:,2],\r\n",
        "                       mins[:,3],\r\n",
        "                       total,percent\r\n",
        "  ])\r\n",
        ")])\r\n",
        "fig.update_layout(height=300, width=800, title_text=\"Min points\")\r\n",
        "fig.show()"
      ],
      "execution_count": null,
      "outputs": [
        {
          "output_type": "display_data",
          "data": {
            "text/html": [
              "<html>\n",
              "<head><meta charset=\"utf-8\" /></head>\n",
              "<body>\n",
              "    <div>            <script src=\"https://cdnjs.cloudflare.com/ajax/libs/mathjax/2.7.5/MathJax.js?config=TeX-AMS-MML_SVG\"></script><script type=\"text/javascript\">if (window.MathJax) {MathJax.Hub.Config({SVG: {font: \"STIX-Web\"}});}</script>                <script type=\"text/javascript\">window.PlotlyConfig = {MathJaxConfig: 'local'};</script>\n",
              "        <script src=\"https://cdn.plot.ly/plotly-latest.min.js\"></script>                <div id=\"a233d6a6-17e4-49a5-a2da-c7da92ef1135\" class=\"plotly-graph-div\" style=\"height:300px; width:800px;\"></div>            <script type=\"text/javascript\">                                    window.PLOTLYENV=window.PLOTLYENV || {};                                    if (document.getElementById(\"a233d6a6-17e4-49a5-a2da-c7da92ef1135\")) {                    Plotly.newPlot(                        \"a233d6a6-17e4-49a5-a2da-c7da92ef1135\",                        [{\"cells\": {\"values\": [[\"mnist\", \"fashion_mnist\", \"cifar10\", \"cifar100\"], [1, 1, 1, 1], [9, 9, 7, 9], [24, 524, 585, 2743], [22, 210, 718, 282], [46, 734, 1303, 3025], [0.046, 0.734, 1.303, 3.025]]}, \"header\": {\"values\": [\"Dataset\", \"Votes\", \"Committee\", \"Accepted\", \"Discarded\", \"Total\", \"Total %\"]}, \"type\": \"table\"}],                        {\"height\": 300, \"template\": {\"data\": {\"bar\": [{\"error_x\": {\"color\": \"#2a3f5f\"}, \"error_y\": {\"color\": \"#2a3f5f\"}, \"marker\": {\"line\": {\"color\": \"#E5ECF6\", \"width\": 0.5}}, \"type\": \"bar\"}], \"barpolar\": [{\"marker\": {\"line\": {\"color\": \"#E5ECF6\", \"width\": 0.5}}, \"type\": \"barpolar\"}], \"carpet\": [{\"aaxis\": {\"endlinecolor\": \"#2a3f5f\", \"gridcolor\": \"white\", \"linecolor\": \"white\", \"minorgridcolor\": \"white\", \"startlinecolor\": \"#2a3f5f\"}, \"baxis\": {\"endlinecolor\": \"#2a3f5f\", \"gridcolor\": \"white\", \"linecolor\": \"white\", \"minorgridcolor\": \"white\", \"startlinecolor\": \"#2a3f5f\"}, \"type\": \"carpet\"}], \"choropleth\": [{\"colorbar\": {\"outlinewidth\": 0, \"ticks\": \"\"}, \"type\": \"choropleth\"}], \"contour\": [{\"colorbar\": {\"outlinewidth\": 0, \"ticks\": \"\"}, \"colorscale\": [[0.0, \"#0d0887\"], [0.1111111111111111, \"#46039f\"], [0.2222222222222222, \"#7201a8\"], [0.3333333333333333, \"#9c179e\"], [0.4444444444444444, \"#bd3786\"], [0.5555555555555556, \"#d8576b\"], [0.6666666666666666, \"#ed7953\"], [0.7777777777777778, \"#fb9f3a\"], [0.8888888888888888, \"#fdca26\"], [1.0, \"#f0f921\"]], \"type\": \"contour\"}], \"contourcarpet\": [{\"colorbar\": {\"outlinewidth\": 0, \"ticks\": \"\"}, \"type\": \"contourcarpet\"}], \"heatmap\": [{\"colorbar\": {\"outlinewidth\": 0, \"ticks\": \"\"}, \"colorscale\": [[0.0, \"#0d0887\"], [0.1111111111111111, \"#46039f\"], [0.2222222222222222, \"#7201a8\"], [0.3333333333333333, \"#9c179e\"], [0.4444444444444444, \"#bd3786\"], [0.5555555555555556, \"#d8576b\"], [0.6666666666666666, \"#ed7953\"], [0.7777777777777778, \"#fb9f3a\"], [0.8888888888888888, \"#fdca26\"], [1.0, \"#f0f921\"]], \"type\": \"heatmap\"}], \"heatmapgl\": [{\"colorbar\": {\"outlinewidth\": 0, \"ticks\": \"\"}, \"colorscale\": [[0.0, \"#0d0887\"], [0.1111111111111111, \"#46039f\"], [0.2222222222222222, \"#7201a8\"], [0.3333333333333333, \"#9c179e\"], [0.4444444444444444, \"#bd3786\"], [0.5555555555555556, \"#d8576b\"], [0.6666666666666666, \"#ed7953\"], [0.7777777777777778, \"#fb9f3a\"], [0.8888888888888888, \"#fdca26\"], [1.0, \"#f0f921\"]], \"type\": \"heatmapgl\"}], \"histogram\": [{\"marker\": {\"colorbar\": {\"outlinewidth\": 0, \"ticks\": \"\"}}, \"type\": \"histogram\"}], \"histogram2d\": [{\"colorbar\": {\"outlinewidth\": 0, \"ticks\": \"\"}, \"colorscale\": [[0.0, \"#0d0887\"], [0.1111111111111111, \"#46039f\"], [0.2222222222222222, \"#7201a8\"], [0.3333333333333333, \"#9c179e\"], [0.4444444444444444, \"#bd3786\"], [0.5555555555555556, \"#d8576b\"], [0.6666666666666666, \"#ed7953\"], [0.7777777777777778, \"#fb9f3a\"], [0.8888888888888888, \"#fdca26\"], [1.0, \"#f0f921\"]], \"type\": \"histogram2d\"}], \"histogram2dcontour\": [{\"colorbar\": {\"outlinewidth\": 0, \"ticks\": \"\"}, \"colorscale\": [[0.0, \"#0d0887\"], [0.1111111111111111, \"#46039f\"], [0.2222222222222222, \"#7201a8\"], [0.3333333333333333, \"#9c179e\"], [0.4444444444444444, \"#bd3786\"], [0.5555555555555556, \"#d8576b\"], [0.6666666666666666, \"#ed7953\"], [0.7777777777777778, \"#fb9f3a\"], [0.8888888888888888, \"#fdca26\"], [1.0, \"#f0f921\"]], \"type\": \"histogram2dcontour\"}], \"mesh3d\": [{\"colorbar\": {\"outlinewidth\": 0, \"ticks\": \"\"}, \"type\": \"mesh3d\"}], \"parcoords\": [{\"line\": {\"colorbar\": {\"outlinewidth\": 0, \"ticks\": \"\"}}, \"type\": \"parcoords\"}], \"pie\": [{\"automargin\": true, \"type\": \"pie\"}], \"scatter\": [{\"marker\": {\"colorbar\": {\"outlinewidth\": 0, \"ticks\": \"\"}}, \"type\": \"scatter\"}], \"scatter3d\": [{\"line\": {\"colorbar\": {\"outlinewidth\": 0, \"ticks\": \"\"}}, \"marker\": {\"colorbar\": {\"outlinewidth\": 0, \"ticks\": \"\"}}, \"type\": \"scatter3d\"}], \"scattercarpet\": [{\"marker\": {\"colorbar\": {\"outlinewidth\": 0, \"ticks\": \"\"}}, \"type\": \"scattercarpet\"}], \"scattergeo\": [{\"marker\": {\"colorbar\": {\"outlinewidth\": 0, \"ticks\": \"\"}}, \"type\": \"scattergeo\"}], \"scattergl\": [{\"marker\": {\"colorbar\": {\"outlinewidth\": 0, \"ticks\": \"\"}}, \"type\": \"scattergl\"}], \"scattermapbox\": [{\"marker\": {\"colorbar\": {\"outlinewidth\": 0, \"ticks\": \"\"}}, \"type\": \"scattermapbox\"}], \"scatterpolar\": [{\"marker\": {\"colorbar\": {\"outlinewidth\": 0, \"ticks\": \"\"}}, \"type\": \"scatterpolar\"}], \"scatterpolargl\": [{\"marker\": {\"colorbar\": {\"outlinewidth\": 0, \"ticks\": \"\"}}, \"type\": \"scatterpolargl\"}], \"scatterternary\": [{\"marker\": {\"colorbar\": {\"outlinewidth\": 0, \"ticks\": \"\"}}, \"type\": \"scatterternary\"}], \"surface\": [{\"colorbar\": {\"outlinewidth\": 0, \"ticks\": \"\"}, \"colorscale\": [[0.0, \"#0d0887\"], [0.1111111111111111, \"#46039f\"], [0.2222222222222222, \"#7201a8\"], [0.3333333333333333, \"#9c179e\"], [0.4444444444444444, \"#bd3786\"], [0.5555555555555556, \"#d8576b\"], [0.6666666666666666, \"#ed7953\"], [0.7777777777777778, \"#fb9f3a\"], [0.8888888888888888, \"#fdca26\"], [1.0, \"#f0f921\"]], \"type\": \"surface\"}], \"table\": [{\"cells\": {\"fill\": {\"color\": \"#EBF0F8\"}, \"line\": {\"color\": \"white\"}}, \"header\": {\"fill\": {\"color\": \"#C8D4E3\"}, \"line\": {\"color\": \"white\"}}, \"type\": \"table\"}]}, \"layout\": {\"annotationdefaults\": {\"arrowcolor\": \"#2a3f5f\", \"arrowhead\": 0, \"arrowwidth\": 1}, \"autotypenumbers\": \"strict\", \"coloraxis\": {\"colorbar\": {\"outlinewidth\": 0, \"ticks\": \"\"}}, \"colorscale\": {\"diverging\": [[0, \"#8e0152\"], [0.1, \"#c51b7d\"], [0.2, \"#de77ae\"], [0.3, \"#f1b6da\"], [0.4, \"#fde0ef\"], [0.5, \"#f7f7f7\"], [0.6, \"#e6f5d0\"], [0.7, \"#b8e186\"], [0.8, \"#7fbc41\"], [0.9, \"#4d9221\"], [1, \"#276419\"]], \"sequential\": [[0.0, \"#0d0887\"], [0.1111111111111111, \"#46039f\"], [0.2222222222222222, \"#7201a8\"], [0.3333333333333333, \"#9c179e\"], [0.4444444444444444, \"#bd3786\"], [0.5555555555555556, \"#d8576b\"], [0.6666666666666666, \"#ed7953\"], [0.7777777777777778, \"#fb9f3a\"], [0.8888888888888888, \"#fdca26\"], [1.0, \"#f0f921\"]], \"sequentialminus\": [[0.0, \"#0d0887\"], [0.1111111111111111, \"#46039f\"], [0.2222222222222222, \"#7201a8\"], [0.3333333333333333, \"#9c179e\"], [0.4444444444444444, \"#bd3786\"], [0.5555555555555556, \"#d8576b\"], [0.6666666666666666, \"#ed7953\"], [0.7777777777777778, \"#fb9f3a\"], [0.8888888888888888, \"#fdca26\"], [1.0, \"#f0f921\"]]}, \"colorway\": [\"#636efa\", \"#EF553B\", \"#00cc96\", \"#ab63fa\", \"#FFA15A\", \"#19d3f3\", \"#FF6692\", \"#B6E880\", \"#FF97FF\", \"#FECB52\"], \"font\": {\"color\": \"#2a3f5f\"}, \"geo\": {\"bgcolor\": \"white\", \"lakecolor\": \"white\", \"landcolor\": \"#E5ECF6\", \"showlakes\": true, \"showland\": true, \"subunitcolor\": \"white\"}, \"hoverlabel\": {\"align\": \"left\"}, \"hovermode\": \"closest\", \"mapbox\": {\"style\": \"light\"}, \"paper_bgcolor\": \"white\", \"plot_bgcolor\": \"#E5ECF6\", \"polar\": {\"angularaxis\": {\"gridcolor\": \"white\", \"linecolor\": \"white\", \"ticks\": \"\"}, \"bgcolor\": \"#E5ECF6\", \"radialaxis\": {\"gridcolor\": \"white\", \"linecolor\": \"white\", \"ticks\": \"\"}}, \"scene\": {\"xaxis\": {\"backgroundcolor\": \"#E5ECF6\", \"gridcolor\": \"white\", \"gridwidth\": 2, \"linecolor\": \"white\", \"showbackground\": true, \"ticks\": \"\", \"zerolinecolor\": \"white\"}, \"yaxis\": {\"backgroundcolor\": \"#E5ECF6\", \"gridcolor\": \"white\", \"gridwidth\": 2, \"linecolor\": \"white\", \"showbackground\": true, \"ticks\": \"\", \"zerolinecolor\": \"white\"}, \"zaxis\": {\"backgroundcolor\": \"#E5ECF6\", \"gridcolor\": \"white\", \"gridwidth\": 2, \"linecolor\": \"white\", \"showbackground\": true, \"ticks\": \"\", \"zerolinecolor\": \"white\"}}, \"shapedefaults\": {\"line\": {\"color\": \"#2a3f5f\"}}, \"ternary\": {\"aaxis\": {\"gridcolor\": \"white\", \"linecolor\": \"white\", \"ticks\": \"\"}, \"baxis\": {\"gridcolor\": \"white\", \"linecolor\": \"white\", \"ticks\": \"\"}, \"bgcolor\": \"#E5ECF6\", \"caxis\": {\"gridcolor\": \"white\", \"linecolor\": \"white\", \"ticks\": \"\"}}, \"title\": {\"x\": 0.05}, \"xaxis\": {\"automargin\": true, \"gridcolor\": \"white\", \"linecolor\": \"white\", \"ticks\": \"\", \"title\": {\"standoff\": 15}, \"zerolinecolor\": \"white\", \"zerolinewidth\": 2}, \"yaxis\": {\"automargin\": true, \"gridcolor\": \"white\", \"linecolor\": \"white\", \"ticks\": \"\", \"title\": {\"standoff\": 15}, \"zerolinecolor\": \"white\", \"zerolinewidth\": 2}}}, \"title\": {\"text\": \"Min points\"}, \"width\": 800},                        {\"responsive\": true}                    ).then(function(){\n",
              "                            \n",
              "var gd = document.getElementById('a233d6a6-17e4-49a5-a2da-c7da92ef1135');\n",
              "var x = new MutationObserver(function (mutations, observer) {{\n",
              "        var display = window.getComputedStyle(gd).display;\n",
              "        if (!display || display === 'none') {{\n",
              "            console.log([gd, 'removed!']);\n",
              "            Plotly.purge(gd);\n",
              "            observer.disconnect();\n",
              "        }}\n",
              "}});\n",
              "\n",
              "// Listen for the removal of the full notebook cells\n",
              "var notebookContainer = gd.closest('#notebook-container');\n",
              "if (notebookContainer) {{\n",
              "    x.observe(notebookContainer, {childList: true});\n",
              "}}\n",
              "\n",
              "// Listen for the clearing of the current output cell\n",
              "var outputEl = gd.closest('.output');\n",
              "if (outputEl) {{\n",
              "    x.observe(outputEl, {childList: true});\n",
              "}}\n",
              "\n",
              "                        })                };                            </script>        </div>\n",
              "</body>\n",
              "</html>"
            ]
          },
          "metadata": {
            "tags": []
          }
        }
      ]
    }
  ]
}